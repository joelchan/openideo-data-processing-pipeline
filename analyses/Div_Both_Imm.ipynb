{
 "metadata": {
  "name": ""
 },
 "nbformat": 3,
 "nbformat_minor": 0,
 "worksheets": [
  {
   "cells": [
    {
     "cell_type": "markdown",
     "metadata": {},
     "source": [
      "# About\n",
      "In this notebook I analyze the relationship between source diversity and shortlist outcomes for concepts. \n",
      "I am considering as sources **both** concepts and inspirations that are **immediately cited**.\n",
      "\n",
      "# TL;DR Summary\n",
      "\n"
     ]
    },
    {
     "cell_type": "markdown",
     "metadata": {},
     "source": [
      "# Preliminaries"
     ]
    },
    {
     "cell_type": "code",
     "collapsed": false,
     "input": [
      "%matplotlib inline\n",
      "import numpy as np\n",
      "import matplotlib.pyplot as plt\n",
      "import pandas as pd\n",
      "\n",
      "#tell pandas to display wide tables as pretty HTML tables\n",
      "pd.set_option('display.width',500)\n",
      "pd.set_option('display.max_columns',100)\n",
      "\n",
      "#import the data file\n",
      "datafile = \"/Users/joelc/Dropbox/Research/dissertation/OpenIDEO/Pipeline/Challenge_and_High-level_Data/iPython intermediate inputs and outputs/ConceptLevel_AfterDistanceAndControlsAndDiversity_n813.csv\"\n",
      "data = pd.read_csv(datafile)"
     ],
     "language": "python",
     "metadata": {},
     "outputs": [],
     "prompt_number": 1
    },
    {
     "cell_type": "code",
     "collapsed": false,
     "input": [
      "#check that we imported correctly\n",
      "data"
     ],
     "language": "python",
     "metadata": {},
     "outputs": [
      {
       "html": [
        "<pre>\n",
        "&lt;class 'pandas.core.frame.DataFrame'&gt;\n",
        "Int64Index: 813 entries, 0 to 812\n",
        "Data columns (total 57 columns):\n",
        "Unnamed: 0                     813  non-null values\n",
        "nodeID                         813  non-null values\n",
        "challenge                      813  non-null values\n",
        "authorURL                      813  non-null values\n",
        "submittedOn                    813  non-null values\n",
        "views                          813  non-null values\n",
        "comments                       813  non-null values\n",
        "votes                          813  non-null values\n",
        "shortlist                      813  non-null values\n",
        "win                            813  non-null values\n",
        "type                           813  non-null values\n",
        "distance_raw                   813  non-null values\n",
        "distance_z_all                 813  non-null values\n",
        "distance_z_insp                0  non-null values\n",
        "distance_z_concept             813  non-null values\n",
        "both_dist_count                813  non-null values\n",
        "both_dist_raw_max              813  non-null values\n",
        "both_dist_raw_mean             813  non-null values\n",
        "both_dist_raw_std              813  non-null values\n",
        "both_dist_z_all_max            813  non-null values\n",
        "both_dist_z_all_mean           813  non-null values\n",
        "both_dist_z_all_std            813  non-null values\n",
        "concept_dist_count             813  non-null values\n",
        "concept_dist_raw_max           660  non-null values\n",
        "concept_dist_raw_mean          660  non-null values\n",
        "concept_dist_raw_std           515  non-null values\n",
        "concept_dist_z_all_max         660  non-null values\n",
        "concept_dist_z_all_mean        660  non-null values\n",
        "concept_dist_z_all_std         515  non-null values\n",
        "concept_dist_z_concept_max     660  non-null values\n",
        "concept_dist_z_concept_mean    660  non-null values\n",
        "concept_dist_z_concept_std     515  non-null values\n",
        "insp_dist_count                813  non-null values\n",
        "insp_dist_raw_max              594  non-null values\n",
        "insp_dist_raw_mean             594  non-null values\n",
        "insp_dist_raw_std              456  non-null values\n",
        "insp_dist_z_all_max            594  non-null values\n",
        "insp_dist_z_all_mean           594  non-null values\n",
        "insp_dist_z_all_std            456  non-null values\n",
        "insp_dist_z_insp_max           594  non-null values\n",
        "insp_dist_z_insp_mean          594  non-null values\n",
        "insp_dist_z_insp_std           456  non-null values\n",
        "num_shortlisted_sources        813  non-null values\n",
        "any_shortlisted_sources        813  non-null values\n",
        "comments_preshortlist          813  non-null values\n",
        "both_div_max                   813  non-null values\n",
        "both_div_mean                  813  non-null values\n",
        "both_div_min                   813  non-null values\n",
        "both_div_sd                    813  non-null values\n",
        "concept_div_max                515  non-null values\n",
        "concept_div_mean               515  non-null values\n",
        "concept_div_min                515  non-null values\n",
        "concept_div_sd                 515  non-null values\n",
        "insp_div_max                   456  non-null values\n",
        "insp_div_mean                  456  non-null values\n",
        "insp_div_min                   456  non-null values\n",
        "insp_div_sd                    456  non-null values\n",
        "dtypes: float64(40), int64(12), object(5)\n",
        "</pre>"
       ],
       "metadata": {},
       "output_type": "pyout",
       "prompt_number": 2,
       "text": [
        "<class 'pandas.core.frame.DataFrame'>\n",
        "Int64Index: 813 entries, 0 to 812\n",
        "Data columns (total 57 columns):\n",
        "Unnamed: 0                     813  non-null values\n",
        "nodeID                         813  non-null values\n",
        "challenge                      813  non-null values\n",
        "authorURL                      813  non-null values\n",
        "submittedOn                    813  non-null values\n",
        "views                          813  non-null values\n",
        "comments                       813  non-null values\n",
        "votes                          813  non-null values\n",
        "shortlist                      813  non-null values\n",
        "win                            813  non-null values\n",
        "type                           813  non-null values\n",
        "distance_raw                   813  non-null values\n",
        "distance_z_all                 813  non-null values\n",
        "distance_z_insp                0  non-null values\n",
        "distance_z_concept             813  non-null values\n",
        "both_dist_count                813  non-null values\n",
        "both_dist_raw_max              813  non-null values\n",
        "both_dist_raw_mean             813  non-null values\n",
        "both_dist_raw_std              813  non-null values\n",
        "both_dist_z_all_max            813  non-null values\n",
        "both_dist_z_all_mean           813  non-null values\n",
        "both_dist_z_all_std            813  non-null values\n",
        "concept_dist_count             813  non-null values\n",
        "concept_dist_raw_max           660  non-null values\n",
        "concept_dist_raw_mean          660  non-null values\n",
        "concept_dist_raw_std           515  non-null values\n",
        "concept_dist_z_all_max         660  non-null values\n",
        "concept_dist_z_all_mean        660  non-null values\n",
        "concept_dist_z_all_std         515  non-null values\n",
        "concept_dist_z_concept_max     660  non-null values\n",
        "concept_dist_z_concept_mean    660  non-null values\n",
        "concept_dist_z_concept_std     515  non-null values\n",
        "insp_dist_count                813  non-null values\n",
        "insp_dist_raw_max              594  non-null values\n",
        "insp_dist_raw_mean             594  non-null values\n",
        "insp_dist_raw_std              456  non-null values\n",
        "insp_dist_z_all_max            594  non-null values\n",
        "insp_dist_z_all_mean           594  non-null values\n",
        "insp_dist_z_all_std            456  non-null values\n",
        "insp_dist_z_insp_max           594  non-null values\n",
        "insp_dist_z_insp_mean          594  non-null values\n",
        "insp_dist_z_insp_std           456  non-null values\n",
        "num_shortlisted_sources        813  non-null values\n",
        "any_shortlisted_sources        813  non-null values\n",
        "comments_preshortlist          813  non-null values\n",
        "both_div_max                   813  non-null values\n",
        "both_div_mean                  813  non-null values\n",
        "both_div_min                   813  non-null values\n",
        "both_div_sd                    813  non-null values\n",
        "concept_div_max                515  non-null values\n",
        "concept_div_mean               515  non-null values\n",
        "concept_div_min                515  non-null values\n",
        "concept_div_sd                 515  non-null values\n",
        "insp_div_max                   456  non-null values\n",
        "insp_div_mean                  456  non-null values\n",
        "insp_div_min                   456  non-null values\n",
        "insp_div_sd                    456  non-null values\n",
        "dtypes: float64(40), int64(12), object(5)"
       ]
      }
     ],
     "prompt_number": 2
    },
    {
     "cell_type": "markdown",
     "metadata": {},
     "source": [
      "# Descriptives\n",
      "Let's first get a sense of the distributions of the variables and their interrelationships."
     ]
    },
    {
     "cell_type": "markdown",
     "metadata": {},
     "source": [
      "## Univariate\n",
      "### Covariates descriptives"
     ]
    },
    {
     "cell_type": "code",
     "collapsed": false,
     "input": [
      "variables = ['shortlist',\n",
      "             'both_div_max',\n",
      "             'both_div_min',\n",
      "             'both_div_mean',\n",
      "             'both_div_sd',\n",
      "             'num_shortlisted_sources',\n",
      "             'comments_preshortlist']\n",
      "covariates = variables[1:]\n",
      "descriptives_dicts = []\n",
      "for variable in variables:\n",
      "    rowdict = {'variable':variable,\n",
      "               'N':data[variable].count(),\n",
      "               'min':data[variable].min(),\n",
      "               'max':data[variable].max(),\n",
      "               'mean':data[variable].mean(),\n",
      "               'median':data[variable].median(),\n",
      "               'sd':data[variable].std()}\n",
      "    descriptives_dicts.append(rowdict)\n",
      "descriptives = pd.DataFrame(descriptives_dicts,columns=['variable','N','min','max','mean','median','sd'])\n",
      "descriptives.head(6)"
     ],
     "language": "python",
     "metadata": {},
     "outputs": [
      {
       "html": [
        "<div style=\"max-height:1000px;max-width:1500px;overflow:auto;\">\n",
        "<table border=\"1\" class=\"dataframe\">\n",
        "  <thead>\n",
        "    <tr style=\"text-align: right;\">\n",
        "      <th></th>\n",
        "      <th>variable</th>\n",
        "      <th>N</th>\n",
        "      <th>min</th>\n",
        "      <th>max</th>\n",
        "      <th>mean</th>\n",
        "      <th>median</th>\n",
        "      <th>sd</th>\n",
        "    </tr>\n",
        "  </thead>\n",
        "  <tbody>\n",
        "    <tr>\n",
        "      <th>0</th>\n",
        "      <td>               shortlist</td>\n",
        "      <td> 813</td>\n",
        "      <td> 0.000000</td>\n",
        "      <td>  1.000000</td>\n",
        "      <td> 0.151292</td>\n",
        "      <td> 0.000000</td>\n",
        "      <td> 0.358553</td>\n",
        "    </tr>\n",
        "    <tr>\n",
        "      <th>1</th>\n",
        "      <td>            both_div_max</td>\n",
        "      <td> 813</td>\n",
        "      <td>-0.185498</td>\n",
        "      <td> -0.000429</td>\n",
        "      <td>-0.009262</td>\n",
        "      <td>-0.003558</td>\n",
        "      <td> 0.013706</td>\n",
        "    </tr>\n",
        "    <tr>\n",
        "      <th>2</th>\n",
        "      <td>            both_div_min</td>\n",
        "      <td> 813</td>\n",
        "      <td>-0.255643</td>\n",
        "      <td> -0.001025</td>\n",
        "      <td>-0.040000</td>\n",
        "      <td>-0.031738</td>\n",
        "      <td> 0.032986</td>\n",
        "    </tr>\n",
        "    <tr>\n",
        "      <th>3</th>\n",
        "      <td>           both_div_mean</td>\n",
        "      <td> 813</td>\n",
        "      <td>-0.185498</td>\n",
        "      <td> -0.001025</td>\n",
        "      <td>-0.017747</td>\n",
        "      <td>-0.013102</td>\n",
        "      <td> 0.015081</td>\n",
        "    </tr>\n",
        "    <tr>\n",
        "      <th>4</th>\n",
        "      <td>             both_div_sd</td>\n",
        "      <td> 813</td>\n",
        "      <td> 0.000000</td>\n",
        "      <td>  0.056143</td>\n",
        "      <td> 0.007846</td>\n",
        "      <td> 0.006639</td>\n",
        "      <td> 0.007593</td>\n",
        "    </tr>\n",
        "    <tr>\n",
        "      <th>5</th>\n",
        "      <td> num_shortlisted_sources</td>\n",
        "      <td> 813</td>\n",
        "      <td> 0.000000</td>\n",
        "      <td> 11.000000</td>\n",
        "      <td> 0.703567</td>\n",
        "      <td> 0.000000</td>\n",
        "      <td> 1.107275</td>\n",
        "    </tr>\n",
        "  </tbody>\n",
        "</table>\n",
        "</div>"
       ],
       "metadata": {},
       "output_type": "pyout",
       "prompt_number": 3,
       "text": [
        "                  variable    N       min        max      mean    median        sd\n",
        "0                shortlist  813  0.000000   1.000000  0.151292  0.000000  0.358553\n",
        "1             both_div_max  813 -0.185498  -0.000429 -0.009262 -0.003558  0.013706\n",
        "2             both_div_min  813 -0.255643  -0.001025 -0.040000 -0.031738  0.032986\n",
        "3            both_div_mean  813 -0.185498  -0.001025 -0.017747 -0.013102  0.015081\n",
        "4              both_div_sd  813  0.000000   0.056143  0.007846  0.006639  0.007593\n",
        "5  num_shortlisted_sources  813  0.000000  11.000000  0.703567  0.000000  1.107275"
       ]
      }
     ],
     "prompt_number": 3
    },
    {
     "cell_type": "code",
     "collapsed": false,
     "input": [
      "fig, axes = plt.subplots(nrows=2, ncols=3, figsize=(12,8))\n",
      "for ax, covariate in zip(axes.ravel(), covariates):\n",
      "    ax.hist(data[covariate].dropna())\n",
      "    ax.set_title(covariate)"
     ],
     "language": "python",
     "metadata": {},
     "outputs": [
      {
       "metadata": {},
       "output_type": "display_data",
       "png": "[encoded data removed]",
       "text": [
        "<matplotlib.figure.Figure at 0x10043cd10>"
       ]
      }
     ],
     "prompt_number": 4
    },
    {
     "cell_type": "markdown",
     "metadata": {},
     "source": [
      "The diversity measures are all super-skewed, almost like Poisson! Both_div_min seems like the cleanest, followed by both_div_sd. Now let's check out some bivariate correlations."
     ]
    },
    {
     "cell_type": "code",
     "collapsed": false,
     "input": [
      "%load_ext rmagic"
     ],
     "language": "python",
     "metadata": {},
     "outputs": [],
     "prompt_number": 5
    },
    {
     "cell_type": "code",
     "collapsed": false,
     "input": [
      "data_subset = data[['shortlist',\n",
      "                    'both_div_min',\n",
      "                    'both_div_max',\n",
      "                    'both_div_mean',\n",
      "                    'both_div_sd']]\n",
      "%Rpush data_subset\n",
      "correlations = %R as.matrix(cor(data_subset, use='pairwise.complete.obs'))\n",
      "correlations"
     ],
     "language": "python",
     "metadata": {},
     "outputs": [
      {
       "metadata": {},
       "output_type": "pyout",
       "prompt_number": 6,
       "text": [
        "array([[ 1.        , -0.09309249,  0.00257015, -0.04848187,  0.1028169 ],\n",
        "       [-0.09309249,  1.        ,  0.15738385,  0.52686822, -0.7428017 ],\n",
        "       [ 0.00257015,  0.15738385,  1.        ,  0.83465801,  0.18394632],\n",
        "       [-0.04848187,  0.52686822,  0.83465801,  1.        , -0.35360993],\n",
        "       [ 0.1028169 , -0.7428017 ,  0.18394632, -0.35360993,  1.        ]])"
       ]
      }
     ],
     "prompt_number": 6
    },
    {
     "cell_type": "code",
     "collapsed": false,
     "input": [
      "correlation_dict = {}\n",
      "for i in xrange(len(data_subset.columns)):\n",
      "    correlation_dict[data_subset.columns[i]] = correlations[i]\n",
      "correlation_df = pd.DataFrame(correlation_dict,columns=data_subset.columns,index=data_subset.columns)\n",
      "correlation_df.head(7)"
     ],
     "language": "python",
     "metadata": {},
     "outputs": [
      {
       "html": [
        "<div style=\"max-height:1000px;max-width:1500px;overflow:auto;\">\n",
        "<table border=\"1\" class=\"dataframe\">\n",
        "  <thead>\n",
        "    <tr style=\"text-align: right;\">\n",
        "      <th></th>\n",
        "      <th>shortlist</th>\n",
        "      <th>both_div_min</th>\n",
        "      <th>both_div_max</th>\n",
        "      <th>both_div_mean</th>\n",
        "      <th>both_div_sd</th>\n",
        "    </tr>\n",
        "  </thead>\n",
        "  <tbody>\n",
        "    <tr>\n",
        "      <th>shortlist</th>\n",
        "      <td> 1.000000</td>\n",
        "      <td>-0.093092</td>\n",
        "      <td> 0.002570</td>\n",
        "      <td>-0.048482</td>\n",
        "      <td> 0.102817</td>\n",
        "    </tr>\n",
        "    <tr>\n",
        "      <th>both_div_min</th>\n",
        "      <td>-0.093092</td>\n",
        "      <td> 1.000000</td>\n",
        "      <td> 0.157384</td>\n",
        "      <td> 0.526868</td>\n",
        "      <td>-0.742802</td>\n",
        "    </tr>\n",
        "    <tr>\n",
        "      <th>both_div_max</th>\n",
        "      <td> 0.002570</td>\n",
        "      <td> 0.157384</td>\n",
        "      <td> 1.000000</td>\n",
        "      <td> 0.834658</td>\n",
        "      <td> 0.183946</td>\n",
        "    </tr>\n",
        "    <tr>\n",
        "      <th>both_div_mean</th>\n",
        "      <td>-0.048482</td>\n",
        "      <td> 0.526868</td>\n",
        "      <td> 0.834658</td>\n",
        "      <td> 1.000000</td>\n",
        "      <td>-0.353610</td>\n",
        "    </tr>\n",
        "    <tr>\n",
        "      <th>both_div_sd</th>\n",
        "      <td> 0.102817</td>\n",
        "      <td>-0.742802</td>\n",
        "      <td> 0.183946</td>\n",
        "      <td>-0.353610</td>\n",
        "      <td> 1.000000</td>\n",
        "    </tr>\n",
        "  </tbody>\n",
        "</table>\n",
        "</div>"
       ],
       "metadata": {},
       "output_type": "pyout",
       "prompt_number": 7,
       "text": [
        "               shortlist  both_div_min  both_div_max  both_div_mean  both_div_sd\n",
        "shortlist       1.000000     -0.093092      0.002570      -0.048482     0.102817\n",
        "both_div_min   -0.093092      1.000000      0.157384       0.526868    -0.742802\n",
        "both_div_max    0.002570      0.157384      1.000000       0.834658     0.183946\n",
        "both_div_mean  -0.048482      0.526868      0.834658       1.000000    -0.353610\n",
        "both_div_sd     0.102817     -0.742802      0.183946      -0.353610     1.000000"
       ]
      }
     ],
     "prompt_number": 7
    },
    {
     "cell_type": "code",
     "collapsed": false,
     "input": [
      "%%R\n",
      "print(cor.test(data_subset$shortlist,data_subset$both_div_min))\n",
      "print(cor.test(data_subset$shortlist,data_subset$both_div_mean))\n",
      "print(cor.test(data_subset$shortlist,data_subset$both_div_sd))"
     ],
     "language": "python",
     "metadata": {},
     "outputs": [
      {
       "metadata": {},
       "output_type": "display_data",
       "text": [
        "\n",
        "\tPearson's product-moment correlation\n",
        "\n",
        "data:  data_subset$shortlist and data_subset$both_div_min\n",
        "t = -2.6627, df = 811, p-value = 0.007906\n",
        "alternative hypothesis: true correlation is not equal to 0\n",
        "95 percent confidence interval:\n",
        " -0.1608206 -0.0244918\n",
        "sample estimates:\n",
        "        cor \n",
        "-0.09309249 \n",
        "\n",
        "\n",
        "\tPearson's product-moment correlation\n",
        "\n",
        "data:  data_subset$shortlist and data_subset$both_div_mean\n",
        "t = -1.3823, df = 811, p-value = 0.1673\n",
        "alternative hypothesis: true correlation is not equal to 0\n",
        "95 percent confidence interval:\n",
        " -0.11684981  0.02034339\n",
        "sample estimates:\n",
        "        cor \n",
        "-0.04848187 \n",
        "\n",
        "\n",
        "\tPearson's product-moment correlation\n",
        "\n",
        "data:  data_subset$shortlist and data_subset$both_div_sd\n",
        "t = 2.9436, df = 811, p-value = 0.003336\n",
        "alternative hypothesis: true correlation is not equal to 0\n",
        "95 percent confidence interval:\n",
        " 0.03430194 0.17036994\n",
        "sample estimates:\n",
        "      cor \n",
        "0.1028169 \n",
        "\n"
       ]
      }
     ],
     "prompt_number": 8
    },
    {
     "cell_type": "markdown",
     "metadata": {},
     "source": [
      "Only min and sd have sig. bivariate correlations with shortlist. Mean is on the edge, so we'll try it anyway. Max doesn't look anywhere close to being a real correlation, so we'll ignore that one."
     ]
    },
    {
     "cell_type": "markdown",
     "metadata": {},
     "source": [
      "# Models\n",
      "\n",
      "Now it's time to estimate some models! Hooray!\n",
      "\n",
      "## Non-nested\n",
      "\n",
      "Let's first fit some non-nested models to see what happens."
     ]
    },
    {
     "cell_type": "code",
     "collapsed": false,
     "input": [
      "%Rpush data\n",
      "%R attach(data)\n",
      "%R library(arm)\n",
      "%R library(lme4)"
     ],
     "language": "python",
     "metadata": {},
     "outputs": [
      {
       "metadata": {},
       "output_type": "display_data",
       "text": [
        "Loading required package: MASS\n",
        "Loading required package: Matrix\n",
        "Loading required package: lme4\n",
        "Loading required package: lattice\n",
        "\n",
        "arm (Version 1.6-10, built: 2013-11-15)\n",
        "\n",
        "Working directory is /Users/joelc/Dropbox/Research/dissertation/openideo/Pipeline/openideo-data-processing-pipeline/analyses\n",
        "\n"
       ]
      },
      {
       "metadata": {},
       "output_type": "pyout",
       "prompt_number": 9,
       "text": [
        "array(['arm', 'lme4', 'lattice', 'Matrix', 'MASS', 'tools', 'stats',\n",
        "       'graphics', 'grDevices', 'utils', 'datasets', 'methods', 'base'], \n",
        "      dtype='|S9')"
       ]
      }
     ],
     "prompt_number": 9
    },
    {
     "cell_type": "markdown",
     "metadata": {},
     "source": [
      "### Controls first"
     ]
    },
    {
     "cell_type": "code",
     "collapsed": false,
     "input": [
      "%%R\n",
      "\n",
      "# null level-1 model\n",
      "fitLR.div.null = glm(shortlist ~ 1, data=data, family=binomial)\n",
      "print(summary(fitLR.div.null))\n",
      "\n",
      "# controls\n",
      "fitLR.div.controls = glm(shortlist ~ num_shortlisted_sources + comments_preshortlist, data=data, family=binomial)\n",
      "print(summary(fitLR.div.controls))\n",
      "print(anova(fitLR.div.null, fitLR.div.controls, test='LRT'))"
     ],
     "language": "python",
     "metadata": {},
     "outputs": [
      {
       "metadata": {},
       "output_type": "display_data",
       "text": [
        "\n",
        "Call:\n",
        "glm(formula = shortlist ~ 1, family = binomial, data = data)\n",
        "\n",
        "Deviance Residuals: \n",
        "    Min       1Q   Median       3Q      Max  \n",
        "-0.5728  -0.5728  -0.5728  -0.5728   1.9435  \n",
        "\n",
        "Coefficients:\n",
        "            Estimate Std. Error z value Pr(>|z|)    \n",
        "(Intercept) -1.72451    0.09787  -17.62   <2e-16 ***\n",
        "---\n",
        "Signif. codes:  0 \u2018***\u2019 0.001 \u2018**\u2019 0.01 \u2018*\u2019 0.05 \u2018.\u2019 0.1 \u2018 \u2019 1\n",
        "\n",
        "(Dispersion parameter for binomial family taken to be 1)\n",
        "\n",
        "    Null deviance: 690.96  on 812  degrees of freedom\n",
        "Residual deviance: 690.96  on 812  degrees of freedom\n",
        "AIC: 692.96\n",
        "\n",
        "Number of Fisher Scoring iterations: 4\n",
        "\n",
        "\n",
        "Call:\n",
        "glm(formula = shortlist ~ num_shortlisted_sources + comments_preshortlist, \n",
        "    family = binomial, data = data)\n",
        "\n",
        "Deviance Residuals: \n",
        "    Min       1Q   Median       3Q      Max  \n",
        "-2.3844  -0.5356  -0.4435  -0.3660   2.3714  \n",
        "\n",
        "Coefficients:\n",
        "                        Estimate Std. Error z value Pr(>|z|)    \n",
        "(Intercept)             -2.74991    0.17138 -16.046  < 2e-16 ***\n",
        "num_shortlisted_sources  0.24817    0.08255   3.006  0.00264 ** \n",
        "comments_preshortlist    0.08007    0.01032   7.761  8.4e-15 ***\n",
        "---\n",
        "Signif. codes:  0 \u2018***\u2019 0.001 \u2018**\u2019 0.01 \u2018*\u2019 0.05 \u2018.\u2019 0.1 \u2018 \u2019 1\n",
        "\n",
        "(Dispersion parameter for binomial family taken to be 1)\n",
        "\n",
        "    Null deviance: 690.96  on 812  degrees of freedom\n",
        "Residual deviance: 604.04  on 810  degrees of freedom\n",
        "AIC: 610.04\n",
        "\n",
        "Number of Fisher Scoring iterations: 5\n",
        "\n",
        "Analysis of Deviance Table\n",
        "\n",
        "Model 1: shortlist ~ 1\n",
        "Model 2: shortlist ~ num_shortlisted_sources + comments_preshortlist\n",
        "  Resid. Df Resid. Dev Df Deviance  Pr(>Chi)    \n",
        "1       812     690.96                          \n",
        "2       810     604.04  2    86.92 < 2.2e-16 ***\n",
        "---\n",
        "Signif. codes:  0 \u2018***\u2019 0.001 \u2018**\u2019 0.01 \u2018*\u2019 0.05 \u2018.\u2019 0.1 \u2018 \u2019 1\n"
       ]
      }
     ],
     "prompt_number": 13
    },
    {
     "cell_type": "heading",
     "level": 3,
     "metadata": {},
     "source": [
      "Min"
     ]
    },
    {
     "cell_type": "code",
     "collapsed": false,
     "input": [
      "%%R\n",
      "\n",
      "# both_div_min\n",
      "fitLR.div.min = glm(shortlist ~ both_div_min + num_shortlisted_sources + comments_preshortlist, data=data, family=binomial)\n",
      "print(summary(fitLR.div.min))\n",
      "print(anova(fitLR.div.null, fitLR.div.controls, fitLR.div.min, test='LRT'))"
     ],
     "language": "python",
     "metadata": {},
     "outputs": [
      {
       "metadata": {},
       "output_type": "display_data",
       "text": [
        "\n",
        "Call:\n",
        "glm(formula = shortlist ~ both_div_min + num_shortlisted_sources + \n",
        "    comments_preshortlist, family = binomial, data = data)\n",
        "\n",
        "Deviance Residuals: \n",
        "    Min       1Q   Median       3Q      Max  \n",
        "-2.3260  -0.5327  -0.4365  -0.3666   2.4061  \n",
        "\n",
        "Coefficients:\n",
        "                        Estimate Std. Error z value Pr(>|z|)    \n",
        "(Intercept)             -2.88066    0.20497 -14.054  < 2e-16 ***\n",
        "both_div_min            -3.73913    3.04283  -1.229  0.21913    \n",
        "num_shortlisted_sources  0.22038    0.08520   2.587  0.00969 ** \n",
        "comments_preshortlist    0.07964    0.01035   7.698 1.39e-14 ***\n",
        "---\n",
        "Signif. codes:  0 \u2018***\u2019 0.001 \u2018**\u2019 0.01 \u2018*\u2019 0.05 \u2018.\u2019 0.1 \u2018 \u2019 1\n",
        "\n",
        "(Dispersion parameter for binomial family taken to be 1)\n",
        "\n",
        "    Null deviance: 690.96  on 812  degrees of freedom\n",
        "Residual deviance: 602.56  on 809  degrees of freedom\n",
        "AIC: 610.56\n",
        "\n",
        "Number of Fisher Scoring iterations: 5\n",
        "\n",
        "Analysis of Deviance Table\n",
        "\n",
        "Model 1: shortlist ~ 1\n",
        "Model 2: shortlist ~ num_shortlisted_sources + comments_preshortlist\n",
        "Model 3: shortlist ~ both_div_min + num_shortlisted_sources + comments_preshortlist\n",
        "  Resid. Df Resid. Dev Df Deviance Pr(>Chi)    \n",
        "1       812     690.96                         \n",
        "2       810     604.04  2   86.920   <2e-16 ***\n",
        "3       809     602.56  1    1.475   0.2245    \n",
        "---\n",
        "Signif. codes:  0 \u2018***\u2019 0.001 \u2018**\u2019 0.01 \u2018*\u2019 0.05 \u2018.\u2019 0.1 \u2018 \u2019 1\n"
       ]
      }
     ],
     "prompt_number": 16
    },
    {
     "cell_type": "markdown",
     "metadata": {},
     "source": [
      "No effect.\n",
      "\n",
      "### Mean"
     ]
    },
    {
     "cell_type": "code",
     "collapsed": false,
     "input": [
      "%%R\n",
      "\n",
      "# both_div_mean\n",
      "fitLR.div.mean = glm(shortlist ~ both_div_mean + num_shortlisted_sources + comments_preshortlist, data=data, family=binomial)\n",
      "print(summary(fitLR.div.mean))\n",
      "print(anova(fitLR.div.null, fitLR.div.controls, fitLR.div.mean, test='LRT'))"
     ],
     "language": "python",
     "metadata": {},
     "outputs": [
      {
       "metadata": {},
       "output_type": "display_data",
       "text": [
        "\n",
        "Call:\n",
        "glm(formula = shortlist ~ both_div_mean + num_shortlisted_sources + \n",
        "    comments_preshortlist, family = binomial, data = data)\n",
        "\n",
        "Deviance Residuals: \n",
        "    Min       1Q   Median       3Q      Max  \n",
        "-2.3885  -0.5391  -0.4299  -0.3606   2.4507  \n",
        "\n",
        "Coefficients:\n",
        "                         Estimate Std. Error z value Pr(>|z|)    \n",
        "(Intercept)              -3.01106    0.21618 -13.928  < 2e-16 ***\n",
        "both_div_mean           -13.21732    6.11379  -2.162   0.0306 *  \n",
        "num_shortlisted_sources   0.22947    0.08157   2.813   0.0049 ** \n",
        "comments_preshortlist     0.08312    0.01053   7.894 2.94e-15 ***\n",
        "---\n",
        "Signif. codes:  0 \u2018***\u2019 0.001 \u2018**\u2019 0.01 \u2018*\u2019 0.05 \u2018.\u2019 0.1 \u2018 \u2019 1\n",
        "\n",
        "(Dispersion parameter for binomial family taken to be 1)\n",
        "\n",
        "    Null deviance: 690.96  on 812  degrees of freedom\n",
        "Residual deviance: 599.80  on 809  degrees of freedom\n",
        "AIC: 607.8\n",
        "\n",
        "Number of Fisher Scoring iterations: 5\n",
        "\n",
        "Analysis of Deviance Table\n",
        "\n",
        "Model 1: shortlist ~ 1\n",
        "Model 2: shortlist ~ num_shortlisted_sources + comments_preshortlist\n",
        "Model 3: shortlist ~ both_div_mean + num_shortlisted_sources + comments_preshortlist\n",
        "  Resid. Df Resid. Dev Df Deviance Pr(>Chi)    \n",
        "1       812     690.96                         \n",
        "2       810     604.04  2   86.920  < 2e-16 ***\n",
        "3       809     599.80  1    4.234  0.03962 *  \n",
        "---\n",
        "Signif. codes:  0 \u2018***\u2019 0.001 \u2018**\u2019 0.01 \u2018*\u2019 0.05 \u2018.\u2019 0.1 \u2018 \u2019 1\n"
       ]
      }
     ],
     "prompt_number": 17
    },
    {
     "cell_type": "markdown",
     "metadata": {},
     "source": [
      "Looks like there is an effect! Looks like more diversity = less creativity! Hmm. The coefficient is super-large because it's pretty much saying how much it matters to go from end to end on the scale, since our IV is between -1 and 0. We can scale it later by multiplying by 100 or something.\n",
      "\n",
      "### SD"
     ]
    },
    {
     "cell_type": "code",
     "collapsed": false,
     "input": [
      "%%R\n",
      "\n",
      "# both_div_sd\n",
      "fitLR.div.sd = glm(shortlist ~ both_div_sd + num_shortlisted_sources + comments_preshortlist, data=data, family=binomial)\n",
      "print(summary(fitLR.div.sd))\n",
      "print(anova(fitLR.div.null, fitLR.div.controls, fitLR.div.sd, test='LRT'))"
     ],
     "language": "python",
     "metadata": {},
     "outputs": [
      {
       "metadata": {},
       "output_type": "display_data",
       "text": [
        "\n",
        "Call:\n",
        "glm(formula = shortlist ~ both_div_sd + num_shortlisted_sources + \n",
        "    comments_preshortlist, family = binomial, data = data)\n",
        "\n",
        "Deviance Residuals: \n",
        "    Min       1Q   Median       3Q      Max  \n",
        "-2.3219  -0.5372  -0.4315  -0.3508   2.4243  \n",
        "\n",
        "Coefficients:\n",
        "                        Estimate Std. Error z value Pr(>|z|)    \n",
        "(Intercept)             -2.96912    0.20582 -14.426  < 2e-16 ***\n",
        "both_div_sd             28.44332   13.22837   2.150  0.03154 *  \n",
        "num_shortlisted_sources  0.21204    0.08219   2.580  0.00989 ** \n",
        "comments_preshortlist    0.08024    0.01032   7.772 7.74e-15 ***\n",
        "---\n",
        "Signif. codes:  0 \u2018***\u2019 0.001 \u2018**\u2019 0.01 \u2018*\u2019 0.05 \u2018.\u2019 0.1 \u2018 \u2019 1\n",
        "\n",
        "(Dispersion parameter for binomial family taken to be 1)\n",
        "\n",
        "    Null deviance: 690.96  on 812  degrees of freedom\n",
        "Residual deviance: 599.65  on 809  degrees of freedom\n",
        "AIC: 607.65\n",
        "\n",
        "Number of Fisher Scoring iterations: 5\n",
        "\n",
        "Analysis of Deviance Table\n",
        "\n",
        "Model 1: shortlist ~ 1\n",
        "Model 2: shortlist ~ num_shortlisted_sources + comments_preshortlist\n",
        "Model 3: shortlist ~ both_div_sd + num_shortlisted_sources + comments_preshortlist\n",
        "  Resid. Df Resid. Dev Df Deviance Pr(>Chi)    \n",
        "1       812     690.96                         \n",
        "2       810     604.04  2   86.920  < 2e-16 ***\n",
        "3       809     599.65  1    4.386  0.03623 *  \n",
        "---\n",
        "Signif. codes:  0 \u2018***\u2019 0.001 \u2018**\u2019 0.01 \u2018*\u2019 0.05 \u2018.\u2019 0.1 \u2018 \u2019 1\n"
       ]
      }
     ],
     "prompt_number": 18
    },
    {
     "cell_type": "markdown",
     "metadata": {},
     "source": [
      "Again, there is an effect, albeit also uncertain. Can't print out the confidence intervals here, but they're definitely very wide. Basically there seems to be a positive effect of having \"diversity of diversity\" - have some of your sources close together, some far apart, but not all either far or near **from each other**.\n",
      "\n",
      "## Multilevel models\n",
      "\n",
      "Now let's check out multilevel versions."
     ]
    },
    {
     "cell_type": "code",
     "collapsed": false,
     "input": [
      "%%R\n",
      "fitLRmax = glm(shortlist ~ insp_dist_z_insp_max + comments_preshortlist + num_shortlisted_sources, data=data, family=binomial)\n",
      "print(summary(fitLRmax))\n",
      "anova.glm(fitLRnull,fitLR,fitLRmax,test='LRT')"
     ],
     "language": "python",
     "metadata": {},
     "outputs": [
      {
       "output_type": "stream",
       "stream": "stdout",
       "text": [
        "\n",
        "Call:\n",
        "glm(formula = shortlist ~ insp_dist_z_insp_max + comments_preshortlist + \n",
        "    num_shortlisted_sources, family = binomial, data = data)\n",
        "\n",
        "Deviance Residuals: \n",
        "    Min       1Q   Median       3Q      Max  \n",
        "-2.5020  -0.5291  -0.4206  -0.3585   2.4126  \n",
        "\n",
        "Coefficients:\n",
        "                        Estimate Std. Error z value Pr(>|z|)    \n",
        "(Intercept)             -2.58616    0.17286 -14.961  < 2e-16 ***\n",
        "insp_dist_z_insp_max    -0.25010    0.13703  -1.825  0.06797 .  \n",
        "comments_preshortlist    0.08530    0.00973   8.767  < 2e-16 ***\n",
        "num_shortlisted_sources  0.26213    0.08231   3.185  0.00145 ** \n",
        "---\n",
        "Signif. codes:  0 \u2018***\u2019 0.001 \u2018**\u2019 0.01 \u2018*\u2019 0.05 \u2018.\u2019 0.1 \u2018 \u2019 1\n",
        "\n",
        "(Dispersion parameter for binomial family taken to be 1)\n",
        "\n",
        "    Null deviance: 863.89  on 1046  degrees of freedom\n",
        "Residual deviance: 754.79  on 1043  degrees of freedom\n",
        "  (1294 observations deleted due to missingness)\n",
        "AIC: 762.79\n",
        "\n",
        "Number of Fisher Scoring iterations: 5\n",
        "\n",
        "Error in anova.glmlist(c(list(object), dotargs), dispersion = dispersion,  : \n",
        "  models were not all fitted to the same size of dataset\n"
       ]
      }
     ],
     "prompt_number": 12
    },
    {
     "cell_type": "markdown",
     "metadata": {},
     "source": [
      "Still pretty consistent - a negative coefficient, but again with lots of uncertainty (marginally statistically significant).\n",
      "So, we're getting pretty confident that there's definitely not a positive relationship. \n",
      "\n",
      "## Max distance, non-nested, with added polynomial term aka \"is there a sweet spot\"?\n",
      "\n",
      "What if we added a squared term, though? That gets at the \"sweet spot\" idea."
     ]
    },
    {
     "cell_type": "code",
     "collapsed": false,
     "input": [
      "%%R\n",
      "insp_dist_z_insp_max_2 = insp_dist_z_insp_max^2\n",
      "fitLRmax2 = glm(shortlist ~ insp_dist_z_insp_max + insp_dist_z_insp_max_2 + comments_preshortlist + num_shortlisted_sources, data=data, family=binomial)\n",
      "print(summary(fitLRmax2))\n",
      "print(anova.glm(fitLRmax,fitLRmax2,test='LRT'))"
     ],
     "language": "python",
     "metadata": {},
     "outputs": [
      {
       "metadata": {},
       "output_type": "display_data",
       "text": [
        "\n",
        "Call:\n",
        "glm(formula = shortlist ~ insp_dist_z_insp_max + insp_dist_z_insp_max_2 + \n",
        "    comments_preshortlist + num_shortlisted_sources, family = binomial, \n",
        "    data = data)\n",
        "\n",
        "Deviance Residuals: \n",
        "    Min       1Q   Median       3Q      Max  \n",
        "-2.5000  -0.5266  -0.4168  -0.3553   2.4039  \n",
        "\n",
        "Coefficients:\n",
        "                         Estimate Std. Error z value Pr(>|z|)    \n",
        "(Intercept)             -2.707650   0.228441 -11.853  < 2e-16 ***\n",
        "insp_dist_z_insp_max    -0.191163   0.152582  -1.253  0.21026    \n",
        "insp_dist_z_insp_max_2   0.070040   0.082362   0.850  0.39511    \n",
        "comments_preshortlist    0.085613   0.009753   8.778  < 2e-16 ***\n",
        "num_shortlisted_sources  0.251504   0.082720   3.040  0.00236 ** \n",
        "---\n",
        "Signif. codes:  0 \u2018***\u2019 0.001 \u2018**\u2019 0.01 \u2018*\u2019 0.05 \u2018.\u2019 0.1 \u2018 \u2019 1\n",
        "\n",
        "(Dispersion parameter for binomial family taken to be 1)\n",
        "\n",
        "    Null deviance: 863.89  on 1046  degrees of freedom\n",
        "Residual deviance: 754.10  on 1042  degrees of freedom\n",
        "  (1294 observations deleted due to missingness)\n",
        "AIC: 764.1\n",
        "\n",
        "Number of Fisher Scoring iterations: 5\n",
        "\n",
        "Analysis of Deviance Table\n",
        "\n",
        "Model 1: shortlist ~ insp_dist_z_insp_max + comments_preshortlist + num_shortlisted_sources\n",
        "Model 2: shortlist ~ insp_dist_z_insp_max + insp_dist_z_insp_max_2 + comments_preshortlist + \n",
        "    num_shortlisted_sources\n",
        "  Resid. Df Resid. Dev Df Deviance Pr(>Chi)\n",
        "1      1043     754.79                     \n",
        "2      1042     754.10  1  0.69256   0.4053\n"
       ]
      }
     ],
     "prompt_number": 14
    },
    {
     "cell_type": "markdown",
     "metadata": {},
     "source": [
      "Nada. We didn't improve fit, and instead washed out the effects - coefficient for distance is still in the same direction, but we've got lots of uncertainty now. There is a positive coefficient, suggesting that it slows down the decline, but we really can't say since the uncertainty is so high! If it were sweet spot we might expect a positive coefficient for distance and negative (deceleration) for distance^2.\n",
      "\n",
      "## Mean distance, author-nested\n",
      "\n",
      "Let's check out the multilevel now."
     ]
    },
    {
     "cell_type": "code",
     "collapsed": false,
     "input": [
      "%R library(lme4)\n",
      "%R fitML = glmer(shortlist ~ 1 + (1|authorURL) + insp_dist_z_insp_mean + comments_preshortlist + num_shortlisted_sources, family=binomial)\n",
      "%R print(summary(fitML))"
     ],
     "language": "python",
     "metadata": {},
     "outputs": [
      {
       "metadata": {},
       "output_type": "display_data",
       "text": [
        "Generalized linear mixed model fit by maximum likelihood ['glmerMod']\n",
        " Family: binomial ( logit )\n",
        "Formula: shortlist ~ 1 + (1 | authorURL) + insp_dist_z_insp_mean + comments_preshortlist +      num_shortlisted_sources \n",
        "\n",
        "      AIC       BIC    logLik  deviance \n",
        " 759.1527  783.9212 -374.5764  749.1527 \n",
        "\n",
        "Random effects:\n",
        " Groups    Name        Variance Std.Dev.\n",
        " authorURL (Intercept) 0.4406   0.6638  \n",
        "Number of obs: 1047, groups: authorURL, 517\n",
        "\n",
        "Fixed effects:\n",
        "                        Estimate Std. Error z value Pr(>|z|)    \n",
        "(Intercept)             -3.02333    0.17441 -17.334  < 2e-16 ***\n",
        "insp_dist_z_insp_mean   -0.35945    0.18114  -1.984  0.04721 *  \n",
        "comments_preshortlist    0.09007    0.01052   8.560  < 2e-16 ***\n",
        "num_shortlisted_sources  0.26681    0.08498   3.140  0.00169 ** \n",
        "---\n",
        "Signif. codes:  0 \u2018***\u2019 0.001 \u2018**\u2019 0.01 \u2018*\u2019 0.05 \u2018.\u2019 0.1 \u2018 \u2019 1\n",
        "\n",
        "Correlation of Fixed Effects:\n",
        "            (Intr) in____ cmmnt_\n",
        "insp_dst___  0.312              \n",
        "cmmnts_prsh -0.650 -0.133       \n",
        "nm_shrtlst_ -0.314 -0.052 -0.077\n"
       ]
      }
     ],
     "prompt_number": 15
    },
    {
     "cell_type": "markdown",
     "metadata": {},
     "source": [
      "Ok, AIC goes down a hair, as does deviance, compared to the single-level model. There's a fair bit of author-level variance now. Coefficient for mean distance is still pretty much the same, just with a hair more uncertainty.\n",
      "\n",
      "## Mean distance, challenge-nested\n",
      "\n",
      "Let's check out multilevel for challenges."
     ]
    },
    {
     "cell_type": "code",
     "collapsed": false,
     "input": [
      "%%R \n",
      "fitMLchall = glmer(shortlist ~ 1 + (1|challenge) + insp_dist_z_insp_mean + (insp_dist_z_insp_mean|challenge) + comments_preshortlist + num_shortlisted_sources, family=binomial)\n",
      "print(summary(fitMLchall))"
     ],
     "language": "python",
     "metadata": {},
     "outputs": [
      {
       "metadata": {},
       "output_type": "display_data",
       "text": [
        "Generalized linear mixed model fit by maximum likelihood ['glmerMod']\n",
        " Family: binomial ( logit )\n",
        "Formula: shortlist ~ 1 + (1 | challenge) + insp_dist_z_insp_mean + (insp_dist_z_insp_mean |      challenge) + comments_preshortlist + num_shortlisted_sources \n",
        "\n",
        "      AIC       BIC    logLik  deviance \n",
        " 722.4413  762.0708 -353.2206  706.4413 \n",
        "\n",
        "Random effects:\n",
        " Groups      Name                  Variance  Std.Dev.  Corr\n",
        " challenge   (Intercept)           3.702e-11 6.084e-06     \n",
        " challenge.1 (Intercept)           6.616e-01 8.134e-01     \n",
        "             insp_dist_z_insp_mean 7.683e-02 2.772e-01 1.00\n",
        "Number of obs: 1047, groups: challenge, 12\n",
        "\n",
        "Fixed effects:\n",
        "                        Estimate Std. Error z value Pr(>|z|)    \n",
        "(Intercept)             -2.78405    0.28993  -9.602   <2e-16 ***\n",
        "insp_dist_z_insp_mean   -0.22663    0.19738  -1.148   0.2509    \n",
        "comments_preshortlist    0.10192    0.01086   9.384   <2e-16 ***\n",
        "num_shortlisted_sources  0.21290    0.08404   2.533   0.0113 *  \n",
        "---\n",
        "Signif. codes:  0 \u2018***\u2019 0.001 \u2018**\u2019 0.01 \u2018*\u2019 0.05 \u2018.\u2019 0.1 \u2018 \u2019 1\n",
        "\n",
        "Correlation of Fixed Effects:\n",
        "            (Intr) in____ cmmnt_\n",
        "insp_dst___  0.493              \n",
        "cmmnts_prsh -0.399 -0.092       \n",
        "nm_shrtlst_ -0.197 -0.037 -0.053\n"
       ]
      }
     ],
     "prompt_number": 16
    },
    {
     "cell_type": "markdown",
     "metadata": {},
     "source": [
      "Yikes, mean distance is now \"not significant\". The coefficient is very similar though, just smaller. I think this converges nicely with the other models to cast doubt on \"farther is better\". Importantly, we don't see very large challenge-level variance in the slope.\n",
      "\n",
      "AIC and deviance go down. This would probably be the most conservative model. Less sexy, to be sure, but still flies in the face of the positive prediction, especially combined with the other models.\n",
      "\n",
      "## Max distance, challenge-nested\n",
      "\n",
      "How about max distance now."
     ]
    },
    {
     "cell_type": "code",
     "collapsed": false,
     "input": [
      "%%R \n",
      "fitMLchallmax = glmer(shortlist ~ 1 + (1|challenge) + insp_dist_z_insp_max + (insp_dist_z_insp_max|challenge) + comments_preshortlist + num_shortlisted_sources, family=binomial)\n",
      "print(summary(fitMLchallmax))"
     ],
     "language": "python",
     "metadata": {},
     "outputs": [
      {
       "metadata": {},
       "output_type": "display_data",
       "text": [
        "Generalized linear mixed model fit by maximum likelihood ['glmerMod']\n",
        " Family: binomial ( logit )\n",
        "Formula: shortlist ~ 1 + (1 | challenge) + insp_dist_z_insp_max + (insp_dist_z_insp_max |      challenge) + comments_preshortlist + num_shortlisted_sources \n",
        "\n",
        "      AIC       BIC    logLik  deviance \n",
        " 721.4899  761.1194 -352.7450  705.4899 \n",
        "\n",
        "Random effects:\n",
        " Groups      Name                 Variance  Std.Dev.  Corr\n",
        " challenge   (Intercept)          3.204e-10 0.0000179     \n",
        " challenge.1 (Intercept)          5.025e-01 0.7088662     \n",
        "             insp_dist_z_insp_max 1.030e-02 0.1014867 1.00\n",
        "Number of obs: 1047, groups: challenge, 12\n",
        "\n",
        "Fixed effects:\n",
        "                        Estimate Std. Error z value Pr(>|z|)    \n",
        "(Intercept)             -2.52153    0.27570  -9.146  < 2e-16 ***\n",
        "insp_dist_z_insp_max    -0.31767    0.14327  -2.217  0.02660 *  \n",
        "comments_preshortlist    0.10265    0.01085   9.462  < 2e-16 ***\n",
        "num_shortlisted_sources  0.24234    0.08719   2.779  0.00545 ** \n",
        "---\n",
        "Signif. codes:  0 \u2018***\u2019 0.001 \u2018**\u2019 0.01 \u2018*\u2019 0.05 \u2018.\u2019 0.1 \u2018 \u2019 1\n",
        "\n",
        "Correlation of Fixed Effects:\n",
        "            (Intr) in____ cmmnt_\n",
        "insp_dst___ -0.155              \n",
        "cmmnts_prsh -0.379 -0.083       \n",
        "nm_shrtlst_ -0.135 -0.200 -0.037\n"
       ]
      }
     ],
     "prompt_number": 17
    },
    {
     "cell_type": "markdown",
     "metadata": {},
     "source": [
      "Interesting! Here the negative effect of max distance remains strong! Let's visualize it."
     ]
    },
    {
     "cell_type": "code",
     "collapsed": false,
     "input": [
      "%%R\n",
      "# Graph the logistic regression\n",
      "curve(invlogit(-2.52 + -.32*x + .10*mean(data$comments_preshortlist) + .24*mean(data$num_shortlisted_sources)), \n",
      "      -4, 2, ylim=c(-.01,.4),\n",
      "     xlim=c(-4,2), xaxt=\"n\", xaxs=\"i\", mgp=c(2,.5,0),\n",
      "     ylab=\"Pr (Shortlist vote)\", xlab=\"Max inspiration distance (normalized)\", lwd=1)\n",
      "axis(1, -4:2, mgp=c(2,.5,0))\n",
      "mtext(\"(low)\", 1, 1.5, at=-4, adj=.5)\n",
      "mtext(\"(high)\", 1, 1.5, at=2, adj=.5)"
     ],
     "language": "python",
     "metadata": {},
     "outputs": [
      {
       "metadata": {},
       "output_type": "display_data",
       "png": "[encoded data removed]"
      }
     ],
     "prompt_number": 20
    },
    {
     "cell_type": "markdown",
     "metadata": {},
     "source": [
      "Pretty cool! I don't quite trust the huge bump up on the left, partially because data is so sparse there, and partially because it seems intuitively wrong that staying *only* within the domain seems like a poor strategy. On the other hand, if we had more data, and the pattern still held, it might suggest an alternative mechanism to great ideas is staying close and iterating. We'd have to see if staying closer predicted particular ideation strategies, but we don't have data on that, so this will have to remain speculative. Anyway.\n",
      "\n",
      "## Simple logistic for sd\n",
      "\n",
      "Let's check out sd now. Should be the same as before, I reckon."
     ]
    },
    {
     "cell_type": "code",
     "collapsed": false,
     "input": [
      "%%R\n",
      "fitLRstd = glm(shortlist ~ insp_dist_z_insp_std + comments_preshortlist + num_shortlisted_sources, data=data, family = binomial)\n",
      "print(summary(fitLRstd))"
     ],
     "language": "python",
     "metadata": {},
     "outputs": [
      {
       "metadata": {},
       "output_type": "display_data",
       "text": [
        "\n",
        "Call:\n",
        "glm(formula = shortlist ~ insp_dist_z_insp_std + comments_preshortlist + \n",
        "    num_shortlisted_sources, family = binomial, data = data)\n",
        "\n",
        "Deviance Residuals: \n",
        "    Min       1Q   Median       3Q      Max  \n",
        "-2.2825  -0.5050  -0.4117  -0.3317   2.5623  \n",
        "\n",
        "Coefficients:\n",
        "                        Estimate Std. Error z value Pr(>|z|)    \n",
        "(Intercept)             -3.80241    0.43010  -8.841  < 2e-16 ***\n",
        "insp_dist_z_insp_std     0.94836    0.38732   2.448  0.01435 *  \n",
        "comments_preshortlist    0.08282    0.01031   8.031 9.64e-16 ***\n",
        "num_shortlisted_sources  0.27016    0.08335   3.241  0.00119 ** \n",
        "---\n",
        "Signif. codes:  0 \u2018***\u2019 0.001 \u2018**\u2019 0.01 \u2018*\u2019 0.05 \u2018.\u2019 0.1 \u2018 \u2019 1\n",
        "\n",
        "(Dispersion parameter for binomial family taken to be 1)\n",
        "\n",
        "    Null deviance: 746.68  on 934  degrees of freedom\n",
        "Residual deviance: 644.04  on 931  degrees of freedom\n",
        "  (1406 observations deleted due to missingness)\n",
        "AIC: 652.04\n",
        "\n",
        "Number of Fisher Scoring iterations: 5\n",
        "\n"
       ]
      }
     ],
     "prompt_number": 21
    },
    {
     "cell_type": "markdown",
     "metadata": {},
     "source": [
      "Interesting! The coefficient is *huge*! It seems really important to draw on near *and* far sources! The model AIC is better than the others. Not sure if I can compare, though, with different sample. Anyway, it looks like the effect of mean distance might be a combination of reduced sd (because of negative correlation between mean and sd), AND a negative effect of going too far out (max distance).\n",
      "\n",
      "## Multilevel for sd\n",
      "\n",
      "Should write this up. But first, quickly verify that it checks out with the multilevel models. No reason to suspect it won't."
     ]
    },
    {
     "cell_type": "code",
     "collapsed": false,
     "input": [
      "%%R \n",
      "fitMLsd = glmer(shortlist ~ 1 + (1|authorURL) + insp_dist_z_insp_std + comments_preshortlist + num_shortlisted_sources, family=binomial)\n",
      "fitMLchallsd = glmer(shortlist ~ 1 + (1|challenge) + insp_dist_z_insp_std + (insp_dist_z_insp_std|challenge) + comments_preshortlist + num_shortlisted_sources, family=binomial)\n",
      "print(summary(fitMLsd))\n",
      "print(summary(fitMLchallsd))"
     ],
     "language": "python",
     "metadata": {},
     "outputs": [
      {
       "metadata": {},
       "output_type": "display_data",
       "text": [
        "Generalized linear mixed model fit by maximum likelihood ['glmerMod']\n",
        " Family: binomial ( logit )\n",
        "Formula: shortlist ~ 1 + (1 | authorURL) + insp_dist_z_insp_std + comments_preshortlist +      num_shortlisted_sources \n",
        "\n",
        "      AIC       BIC    logLik  deviance \n",
        " 649.1215  673.3242 -319.5608  639.1215 \n",
        "\n",
        "Random effects:\n",
        " Groups    Name        Variance Std.Dev.\n",
        " authorURL (Intercept) 0.5307   0.7285  \n",
        "Number of obs: 935, groups: authorURL, 476\n",
        "\n",
        "Fixed effects:\n",
        "                        Estimate Std. Error z value Pr(>|z|)    \n",
        "(Intercept)             -4.10054    0.47278  -8.673  < 2e-16 ***\n",
        "insp_dist_z_insp_std     1.00934    0.42423   2.379 0.017350 *  \n",
        "comments_preshortlist    0.08740    0.01123   7.784 7.03e-15 ***\n",
        "num_shortlisted_sources  0.30837    0.09045   3.409 0.000652 ***\n",
        "---\n",
        "Signif. codes:  0 \u2018***\u2019 0.001 \u2018**\u2019 0.01 \u2018*\u2019 0.05 \u2018.\u2019 0.1 \u2018 \u2019 1\n",
        "\n",
        "Correlation of Fixed Effects:\n",
        "            (Intr) in____ cmmnt_\n",
        "insp_dst___ -0.920              \n",
        "cmmnts_prsh -0.307  0.065       \n",
        "nm_shrtlst_ -0.106 -0.036 -0.082\n",
        "Generalized linear mixed model fit by maximum likelihood ['glmerMod']\n",
        " Family: binomial ( logit )\n",
        "Formula: shortlist ~ 1 + (1 | challenge) + insp_dist_z_insp_std + (insp_dist_z_insp_std |      challenge) + comments_preshortlist + num_shortlisted_sources \n",
        "\n",
        "      AIC       BIC    logLik  deviance \n",
        " 625.3651  664.0894 -304.6825  609.3651 \n",
        "\n",
        "Random effects:\n",
        " Groups      Name                 Variance  Std.Dev. Corr\n",
        " challenge   (Intercept)          0.0000504 0.0071       \n",
        " challenge.1 (Intercept)          0.4614502 0.6793       \n",
        "             insp_dist_z_insp_std 0.0147092 0.1213   1.00\n",
        "Number of obs: 935, groups: challenge, 12\n",
        "\n",
        "Fixed effects:\n",
        "                        Estimate Std. Error z value Pr(>|z|)    \n",
        "(Intercept)             -3.59709    0.49372  -7.286  3.2e-13 ***\n",
        "insp_dist_z_insp_std     0.74665    0.42303   1.765  0.07757 .  \n",
        "comments_preshortlist    0.10034    0.01144   8.768  < 2e-16 ***\n",
        "num_shortlisted_sources  0.24231    0.08881   2.729  0.00636 ** \n",
        "---\n",
        "Signif. codes:  0 \u2018***\u2019 0.001 \u2018**\u2019 0.01 \u2018*\u2019 0.05 \u2018.\u2019 0.1 \u2018 \u2019 1\n",
        "\n",
        "Correlation of Fixed Effects:\n",
        "            (Intr) in____ cmmnt_\n",
        "insp_dst___ -0.806              \n",
        "cmmnts_prsh -0.267  0.025       \n",
        "nm_shrtlst_ -0.067 -0.084 -0.051\n"
       ]
      }
     ],
     "prompt_number": 22
    },
    {
     "cell_type": "markdown",
     "metadata": {},
     "source": [
      "So they do hold, and modeling the level-2 variance helps with fit. We get more uncertainty about the sd effect for the challenge-nesting model, but there is no variance across challenges, and the effect is still fairly large, in the same direction, and just on the edge of conventional statistical significance. Converging with the other models, we still have relatively strong evidence for the positive effect."
     ]
    }
   ],
   "metadata": {}
  }
 ]
}