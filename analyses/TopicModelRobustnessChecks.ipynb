{
 "metadata": {
  "name": ""
 },
 "nbformat": 3,
 "nbformat_minor": 0,
 "worksheets": [
  {
   "cells": [
    {
     "cell_type": "code",
     "collapsed": false,
     "input": [
      "#%matplotlib inline\n",
      "\n",
      "#import numpy as np\n",
      "#import matplotlib.pyplot as plt\n",
      "import pandas as pd\n",
      "import os, csv\n",
      "\n",
      "#tell pandas to display wide tables as pretty HTML tables\n",
      "pd.set_option('display.width',500)\n",
      "pd.set_option('display.max_columns',100)\n",
      "\n",
      "%load_ext rmagic\n",
      "%R library(lme4)\n",
      "%R library(arm)"
     ],
     "language": "python",
     "metadata": {},
     "outputs": [
      {
       "metadata": {},
       "output_type": "display_data",
       "text": [
        "Loading required package: lattice\n",
        "Loading required package: Matrix\n"
       ]
      },
      {
       "metadata": {},
       "output_type": "display_data",
       "text": [
        "Loading required package: MASS\n",
        "\n",
        "arm (Version 1.6-10, built: 2013-11-15)\n",
        "\n",
        "Working directory is /Users/joelc/Dropbox/Research/dissertation/OpenIDEO/Pipeline/openideo-data-processing-pipeline/analyses\n",
        "\n"
       ]
      }
     ],
     "prompt_number": 1
    },
    {
     "cell_type": "code",
     "collapsed": false,
     "input": [
      "srcDir = \"/Users/joelc/Desktop/Desktop_from_Joels_old_iMac/LDA_CF0_DF0_ASP_opt0/VarietyDataFilesCorrectedTI/\"\n",
      "outfile = open(\"/Users/joelc/Dropbox/Research/dissertation/OpenIDEO/Pipeline/Challenge_and_High-level_Data/CorrectedVarietyCoefficientsByModelsALL.csv\",'wb')\n",
      "writer = csv.writer(outfile, delimiter=',')\n",
      "writer.writerow(['TopicModel','K','T','Coef','Lower','Upper','CoefSq','LowerSq','UpperSq','Deviance','LR'])\n",
      "for dataFilename in os.listdir(srcDir):\n",
      "    if dataFilename.endswith(\".csv\"):\n",
      "        print \"Processing %s...\" %dataFilename\n",
      "        k = dataFilename.split('_')[2].split('-')[0]\n",
      "        t = dataFilename.split('_')[3].replace('.csv','')\n",
      "        path = srcDir + dataFilename\n",
      "        df = pd.read_csv(path)\n",
      "        %Rpush df\n",
      "        %R df$both_sourceVariety_sq = df$both_sourceVariety^2\n",
      "        %R fit = glmer(shortlist ~ 1 + (1|challenge_x) + (1|authorURL) + both_sourceVariety + both_sourceVariety_sq + num_shortlisted_sources + comments_preshortlist + both_numSources, data=df, family=binomial)\n",
      "        coef = %R fixef(fit)[2]\n",
      "        lower = %R confint.merMod(fit,method='Wald')[2]\n",
      "        upper = %R confint.merMod(fit,method='Wald')[8]\n",
      "        coefSq = %R fixef(fit)[3]\n",
      "        lowerSq = %R confint.merMod(fit,method='Wald')[3]\n",
      "        upperSq = %R confint.merMod(fit,method='Wald')[9]\n",
      "        deviance = %R deviance(fit)\n",
      "        LR = 757.8307-deviance\n",
      "        #print coef[0]\n",
      "        writer.writerow([dataFilename,k,t,coef[0],lower[0],upper[0],coefSq[0],lowerSq[0],upperSq[0],float(deviance),float(LR)])\n",
      "outfile.close()"
     ],
     "language": "python",
     "metadata": {},
     "outputs": [
      {
       "output_type": "stream",
       "stream": "stdout",
       "text": [
        "Processing ConceptLevel_AfterDistanceAndControlsAndDiversityAndCorrectedDiscreteVariety_K100-15_T20.csv...\n",
        "Processing ConceptLevel_AfterDistanceAndControlsAndDiversityAndCorrectedDiscreteVariety_K100-15_T30.csv..."
       ]
      },
      {
       "output_type": "stream",
       "stream": "stdout",
       "text": [
        "\n",
        "Processing ConceptLevel_AfterDistanceAndControlsAndDiversityAndCorrectedDiscreteVariety_K100-15_T40.csv..."
       ]
      },
      {
       "output_type": "stream",
       "stream": "stdout",
       "text": [
        "\n",
        "Processing ConceptLevel_AfterDistanceAndControlsAndDiversityAndCorrectedDiscreteVariety_K100-15_T50.csv..."
       ]
      },
      {
       "output_type": "stream",
       "stream": "stdout",
       "text": [
        "\n",
        "Processing ConceptLevel_AfterDistanceAndControlsAndDiversityAndCorrectedDiscreteVariety_K100-15_T60.csv..."
       ]
      },
      {
       "output_type": "stream",
       "stream": "stdout",
       "text": [
        "\n",
        "Processing ConceptLevel_AfterDistanceAndControlsAndDiversityAndCorrectedDiscreteVariety_K100-15_T70.csv..."
       ]
      },
      {
       "output_type": "stream",
       "stream": "stdout",
       "text": [
        "\n",
        "Processing ConceptLevel_AfterDistanceAndControlsAndDiversityAndCorrectedDiscreteVariety_K100-15_T80.csv..."
       ]
      },
      {
       "output_type": "stream",
       "stream": "stdout",
       "text": [
        "\n",
        "Processing ConceptLevel_AfterDistanceAndControlsAndDiversityAndCorrectedDiscreteVariety_K100-15_T90.csv..."
       ]
      },
      {
       "output_type": "stream",
       "stream": "stdout",
       "text": [
        "\n",
        "Processing ConceptLevel_AfterDistanceAndControlsAndDiversityAndCorrectedDiscreteVariety_K100-16_T20.csv..."
       ]
      },
      {
       "output_type": "stream",
       "stream": "stdout",
       "text": [
        "\n",
        "Processing ConceptLevel_AfterDistanceAndControlsAndDiversityAndCorrectedDiscreteVariety_K100-16_T30.csv..."
       ]
      },
      {
       "output_type": "stream",
       "stream": "stdout",
       "text": [
        "\n",
        "Processing ConceptLevel_AfterDistanceAndControlsAndDiversityAndCorrectedDiscreteVariety_K100-16_T40.csv..."
       ]
      },
      {
       "output_type": "stream",
       "stream": "stdout",
       "text": [
        "\n",
        "Processing ConceptLevel_AfterDistanceAndControlsAndDiversityAndCorrectedDiscreteVariety_K100-16_T50.csv..."
       ]
      },
      {
       "output_type": "stream",
       "stream": "stdout",
       "text": [
        "\n",
        "Processing ConceptLevel_AfterDistanceAndControlsAndDiversityAndCorrectedDiscreteVariety_K100-16_T60.csv..."
       ]
      },
      {
       "output_type": "stream",
       "stream": "stdout",
       "text": [
        "\n",
        "Processing ConceptLevel_AfterDistanceAndControlsAndDiversityAndCorrectedDiscreteVariety_K100-16_T70.csv..."
       ]
      },
      {
       "output_type": "stream",
       "stream": "stdout",
       "text": [
        "\n",
        "Processing ConceptLevel_AfterDistanceAndControlsAndDiversityAndCorrectedDiscreteVariety_K100-16_T80.csv..."
       ]
      },
      {
       "output_type": "stream",
       "stream": "stdout",
       "text": [
        "\n",
        "Processing ConceptLevel_AfterDistanceAndControlsAndDiversityAndCorrectedDiscreteVariety_K100-16_T90.csv..."
       ]
      },
      {
       "output_type": "stream",
       "stream": "stdout",
       "text": [
        "\n",
        "Processing ConceptLevel_AfterDistanceAndControlsAndDiversityAndCorrectedDiscreteVariety_K100-18_T20.csv..."
       ]
      },
      {
       "output_type": "stream",
       "stream": "stdout",
       "text": [
        "\n",
        "Processing ConceptLevel_AfterDistanceAndControlsAndDiversityAndCorrectedDiscreteVariety_K100-18_T30.csv..."
       ]
      },
      {
       "output_type": "stream",
       "stream": "stdout",
       "text": [
        "\n",
        "Processing ConceptLevel_AfterDistanceAndControlsAndDiversityAndCorrectedDiscreteVariety_K100-18_T40.csv..."
       ]
      },
      {
       "output_type": "stream",
       "stream": "stdout",
       "text": [
        "\n",
        "Processing ConceptLevel_AfterDistanceAndControlsAndDiversityAndCorrectedDiscreteVariety_K100-18_T50.csv..."
       ]
      },
      {
       "output_type": "stream",
       "stream": "stdout",
       "text": [
        "\n",
        "Processing ConceptLevel_AfterDistanceAndControlsAndDiversityAndCorrectedDiscreteVariety_K100-18_T60.csv..."
       ]
      },
      {
       "output_type": "stream",
       "stream": "stdout",
       "text": [
        "\n",
        "Processing ConceptLevel_AfterDistanceAndControlsAndDiversityAndCorrectedDiscreteVariety_K100-18_T70.csv..."
       ]
      },
      {
       "output_type": "stream",
       "stream": "stdout",
       "text": [
        "\n",
        "Processing ConceptLevel_AfterDistanceAndControlsAndDiversityAndCorrectedDiscreteVariety_K100-18_T80.csv..."
       ]
      },
      {
       "output_type": "stream",
       "stream": "stdout",
       "text": [
        "\n",
        "Processing ConceptLevel_AfterDistanceAndControlsAndDiversityAndCorrectedDiscreteVariety_K100-18_T90.csv..."
       ]
      },
      {
       "output_type": "stream",
       "stream": "stdout",
       "text": [
        "\n",
        "Processing ConceptLevel_AfterDistanceAndControlsAndDiversityAndCorrectedDiscreteVariety_K100-22_T20.csv..."
       ]
      },
      {
       "output_type": "stream",
       "stream": "stdout",
       "text": [
        "\n",
        "Processing ConceptLevel_AfterDistanceAndControlsAndDiversityAndCorrectedDiscreteVariety_K100-22_T30.csv..."
       ]
      },
      {
       "output_type": "stream",
       "stream": "stdout",
       "text": [
        "\n",
        "Processing ConceptLevel_AfterDistanceAndControlsAndDiversityAndCorrectedDiscreteVariety_K100-22_T40.csv..."
       ]
      },
      {
       "output_type": "stream",
       "stream": "stdout",
       "text": [
        "\n",
        "Processing ConceptLevel_AfterDistanceAndControlsAndDiversityAndCorrectedDiscreteVariety_K100-22_T50.csv..."
       ]
      },
      {
       "output_type": "stream",
       "stream": "stdout",
       "text": [
        "\n",
        "Processing ConceptLevel_AfterDistanceAndControlsAndDiversityAndCorrectedDiscreteVariety_K100-22_T60.csv..."
       ]
      },
      {
       "output_type": "stream",
       "stream": "stdout",
       "text": [
        "\n",
        "Processing ConceptLevel_AfterDistanceAndControlsAndDiversityAndCorrectedDiscreteVariety_K100-22_T70.csv..."
       ]
      },
      {
       "output_type": "stream",
       "stream": "stdout",
       "text": [
        "\n",
        "Processing ConceptLevel_AfterDistanceAndControlsAndDiversityAndCorrectedDiscreteVariety_K100-22_T80.csv..."
       ]
      },
      {
       "output_type": "stream",
       "stream": "stdout",
       "text": [
        "\n",
        "Processing ConceptLevel_AfterDistanceAndControlsAndDiversityAndCorrectedDiscreteVariety_K100-22_T90.csv..."
       ]
      },
      {
       "output_type": "stream",
       "stream": "stdout",
       "text": [
        "\n",
        "Processing ConceptLevel_AfterDistanceAndControlsAndDiversityAndCorrectedDiscreteVariety_K100-25_T20.csv..."
       ]
      },
      {
       "output_type": "stream",
       "stream": "stdout",
       "text": [
        "\n",
        "Processing ConceptLevel_AfterDistanceAndControlsAndDiversityAndCorrectedDiscreteVariety_K100-25_T30.csv..."
       ]
      },
      {
       "output_type": "stream",
       "stream": "stdout",
       "text": [
        "\n",
        "Processing ConceptLevel_AfterDistanceAndControlsAndDiversityAndCorrectedDiscreteVariety_K100-25_T40.csv..."
       ]
      },
      {
       "output_type": "stream",
       "stream": "stdout",
       "text": [
        "\n",
        "Processing ConceptLevel_AfterDistanceAndControlsAndDiversityAndCorrectedDiscreteVariety_K100-25_T50.csv..."
       ]
      },
      {
       "output_type": "stream",
       "stream": "stdout",
       "text": [
        "\n",
        "Processing ConceptLevel_AfterDistanceAndControlsAndDiversityAndCorrectedDiscreteVariety_K100-25_T60.csv..."
       ]
      },
      {
       "output_type": "stream",
       "stream": "stdout",
       "text": [
        "\n",
        "Processing ConceptLevel_AfterDistanceAndControlsAndDiversityAndCorrectedDiscreteVariety_K100-25_T70.csv..."
       ]
      },
      {
       "output_type": "stream",
       "stream": "stdout",
       "text": [
        "\n",
        "Processing ConceptLevel_AfterDistanceAndControlsAndDiversityAndCorrectedDiscreteVariety_K100-25_T80.csv..."
       ]
      },
      {
       "output_type": "stream",
       "stream": "stdout",
       "text": [
        "\n",
        "Processing ConceptLevel_AfterDistanceAndControlsAndDiversityAndCorrectedDiscreteVariety_K100-25_T90.csv..."
       ]
      },
      {
       "output_type": "stream",
       "stream": "stdout",
       "text": [
        "\n",
        "Processing ConceptLevel_AfterDistanceAndControlsAndDiversityAndCorrectedDiscreteVariety_K100-27_T20.csv..."
       ]
      },
      {
       "output_type": "stream",
       "stream": "stdout",
       "text": [
        "\n",
        "Processing ConceptLevel_AfterDistanceAndControlsAndDiversityAndCorrectedDiscreteVariety_K100-27_T30.csv..."
       ]
      },
      {
       "output_type": "stream",
       "stream": "stdout",
       "text": [
        "\n",
        "Processing ConceptLevel_AfterDistanceAndControlsAndDiversityAndCorrectedDiscreteVariety_K100-27_T40.csv..."
       ]
      },
      {
       "output_type": "stream",
       "stream": "stdout",
       "text": [
        "\n",
        "Processing ConceptLevel_AfterDistanceAndControlsAndDiversityAndCorrectedDiscreteVariety_K100-27_T50.csv..."
       ]
      },
      {
       "output_type": "stream",
       "stream": "stdout",
       "text": [
        "\n",
        "Processing ConceptLevel_AfterDistanceAndControlsAndDiversityAndCorrectedDiscreteVariety_K100-27_T60.csv..."
       ]
      },
      {
       "output_type": "stream",
       "stream": "stdout",
       "text": [
        "\n",
        "Processing ConceptLevel_AfterDistanceAndControlsAndDiversityAndCorrectedDiscreteVariety_K100-27_T70.csv..."
       ]
      },
      {
       "output_type": "stream",
       "stream": "stdout",
       "text": [
        "\n",
        "Processing ConceptLevel_AfterDistanceAndControlsAndDiversityAndCorrectedDiscreteVariety_K100-27_T80.csv..."
       ]
      },
      {
       "output_type": "stream",
       "stream": "stdout",
       "text": [
        "\n",
        "Processing ConceptLevel_AfterDistanceAndControlsAndDiversityAndCorrectedDiscreteVariety_K100-27_T90.csv..."
       ]
      },
      {
       "output_type": "stream",
       "stream": "stdout",
       "text": [
        "\n",
        "Processing ConceptLevel_AfterDistanceAndControlsAndDiversityAndCorrectedDiscreteVariety_K100-29_T20.csv..."
       ]
      },
      {
       "output_type": "stream",
       "stream": "stdout",
       "text": [
        "\n",
        "Processing ConceptLevel_AfterDistanceAndControlsAndDiversityAndCorrectedDiscreteVariety_K100-29_T30.csv..."
       ]
      },
      {
       "output_type": "stream",
       "stream": "stdout",
       "text": [
        "\n",
        "Processing ConceptLevel_AfterDistanceAndControlsAndDiversityAndCorrectedDiscreteVariety_K100-29_T40.csv..."
       ]
      },
      {
       "output_type": "stream",
       "stream": "stdout",
       "text": [
        "\n",
        "Processing ConceptLevel_AfterDistanceAndControlsAndDiversityAndCorrectedDiscreteVariety_K100-29_T50.csv..."
       ]
      },
      {
       "output_type": "stream",
       "stream": "stdout",
       "text": [
        "\n",
        "Processing ConceptLevel_AfterDistanceAndControlsAndDiversityAndCorrectedDiscreteVariety_K100-29_T60.csv..."
       ]
      },
      {
       "output_type": "stream",
       "stream": "stdout",
       "text": [
        "\n",
        "Processing ConceptLevel_AfterDistanceAndControlsAndDiversityAndCorrectedDiscreteVariety_K100-29_T70.csv..."
       ]
      },
      {
       "output_type": "stream",
       "stream": "stdout",
       "text": [
        "\n",
        "Processing ConceptLevel_AfterDistanceAndControlsAndDiversityAndCorrectedDiscreteVariety_K100-29_T80.csv..."
       ]
      },
      {
       "output_type": "stream",
       "stream": "stdout",
       "text": [
        "\n",
        "Processing ConceptLevel_AfterDistanceAndControlsAndDiversityAndCorrectedDiscreteVariety_K100-29_T90.csv..."
       ]
      },
      {
       "output_type": "stream",
       "stream": "stdout",
       "text": [
        "\n",
        "Processing ConceptLevel_AfterDistanceAndControlsAndDiversityAndCorrectedDiscreteVariety_K100-31_T20.csv..."
       ]
      },
      {
       "output_type": "stream",
       "stream": "stdout",
       "text": [
        "\n",
        "Processing ConceptLevel_AfterDistanceAndControlsAndDiversityAndCorrectedDiscreteVariety_K100-31_T30.csv..."
       ]
      },
      {
       "output_type": "stream",
       "stream": "stdout",
       "text": [
        "\n",
        "Processing ConceptLevel_AfterDistanceAndControlsAndDiversityAndCorrectedDiscreteVariety_K100-31_T40.csv..."
       ]
      },
      {
       "output_type": "stream",
       "stream": "stdout",
       "text": [
        "\n",
        "Processing ConceptLevel_AfterDistanceAndControlsAndDiversityAndCorrectedDiscreteVariety_K100-31_T50.csv..."
       ]
      },
      {
       "output_type": "stream",
       "stream": "stdout",
       "text": [
        "\n",
        "Processing ConceptLevel_AfterDistanceAndControlsAndDiversityAndCorrectedDiscreteVariety_K100-31_T60.csv..."
       ]
      },
      {
       "output_type": "stream",
       "stream": "stdout",
       "text": [
        "\n",
        "Processing ConceptLevel_AfterDistanceAndControlsAndDiversityAndCorrectedDiscreteVariety_K100-31_T70.csv..."
       ]
      },
      {
       "output_type": "stream",
       "stream": "stdout",
       "text": [
        "\n",
        "Processing ConceptLevel_AfterDistanceAndControlsAndDiversityAndCorrectedDiscreteVariety_K100-31_T80.csv..."
       ]
      },
      {
       "output_type": "stream",
       "stream": "stdout",
       "text": [
        "\n",
        "Processing ConceptLevel_AfterDistanceAndControlsAndDiversityAndCorrectedDiscreteVariety_K100-31_T90.csv..."
       ]
      },
      {
       "output_type": "stream",
       "stream": "stdout",
       "text": [
        "\n",
        "Processing ConceptLevel_AfterDistanceAndControlsAndDiversityAndCorrectedDiscreteVariety_K100-32_T20.csv..."
       ]
      },
      {
       "output_type": "stream",
       "stream": "stdout",
       "text": [
        "\n",
        "Processing ConceptLevel_AfterDistanceAndControlsAndDiversityAndCorrectedDiscreteVariety_K100-32_T30.csv..."
       ]
      },
      {
       "output_type": "stream",
       "stream": "stdout",
       "text": [
        "\n",
        "Processing ConceptLevel_AfterDistanceAndControlsAndDiversityAndCorrectedDiscreteVariety_K100-32_T40.csv..."
       ]
      },
      {
       "output_type": "stream",
       "stream": "stdout",
       "text": [
        "\n",
        "Processing ConceptLevel_AfterDistanceAndControlsAndDiversityAndCorrectedDiscreteVariety_K100-32_T50.csv..."
       ]
      },
      {
       "output_type": "stream",
       "stream": "stdout",
       "text": [
        "\n",
        "Processing ConceptLevel_AfterDistanceAndControlsAndDiversityAndCorrectedDiscreteVariety_K100-32_T60.csv..."
       ]
      },
      {
       "output_type": "stream",
       "stream": "stdout",
       "text": [
        "\n",
        "Processing ConceptLevel_AfterDistanceAndControlsAndDiversityAndCorrectedDiscreteVariety_K100-32_T70.csv..."
       ]
      },
      {
       "output_type": "stream",
       "stream": "stdout",
       "text": [
        "\n",
        "Processing ConceptLevel_AfterDistanceAndControlsAndDiversityAndCorrectedDiscreteVariety_K100-32_T80.csv..."
       ]
      },
      {
       "output_type": "stream",
       "stream": "stdout",
       "text": [
        "\n",
        "Processing ConceptLevel_AfterDistanceAndControlsAndDiversityAndCorrectedDiscreteVariety_K100-32_T90.csv..."
       ]
      },
      {
       "output_type": "stream",
       "stream": "stdout",
       "text": [
        "\n",
        "Processing ConceptLevel_AfterDistanceAndControlsAndDiversityAndCorrectedDiscreteVariety_K100-35_T20.csv..."
       ]
      },
      {
       "output_type": "stream",
       "stream": "stdout",
       "text": [
        "\n",
        "Processing ConceptLevel_AfterDistanceAndControlsAndDiversityAndCorrectedDiscreteVariety_K100-35_T30.csv..."
       ]
      },
      {
       "output_type": "stream",
       "stream": "stdout",
       "text": [
        "\n",
        "Processing ConceptLevel_AfterDistanceAndControlsAndDiversityAndCorrectedDiscreteVariety_K100-35_T40.csv..."
       ]
      },
      {
       "output_type": "stream",
       "stream": "stdout",
       "text": [
        "\n",
        "Processing ConceptLevel_AfterDistanceAndControlsAndDiversityAndCorrectedDiscreteVariety_K100-35_T50.csv..."
       ]
      },
      {
       "output_type": "stream",
       "stream": "stdout",
       "text": [
        "\n",
        "Processing ConceptLevel_AfterDistanceAndControlsAndDiversityAndCorrectedDiscreteVariety_K100-35_T60.csv..."
       ]
      },
      {
       "output_type": "stream",
       "stream": "stdout",
       "text": [
        "\n",
        "Processing ConceptLevel_AfterDistanceAndControlsAndDiversityAndCorrectedDiscreteVariety_K100-35_T70.csv..."
       ]
      },
      {
       "output_type": "stream",
       "stream": "stdout",
       "text": [
        "\n",
        "Processing ConceptLevel_AfterDistanceAndControlsAndDiversityAndCorrectedDiscreteVariety_K100-35_T80.csv..."
       ]
      },
      {
       "output_type": "stream",
       "stream": "stdout",
       "text": [
        "\n",
        "Processing ConceptLevel_AfterDistanceAndControlsAndDiversityAndCorrectedDiscreteVariety_K100-35_T90.csv..."
       ]
      },
      {
       "output_type": "stream",
       "stream": "stdout",
       "text": [
        "\n",
        "Processing ConceptLevel_AfterDistanceAndControlsAndDiversityAndCorrectedDiscreteVariety_K100-36_T20.csv..."
       ]
      },
      {
       "output_type": "stream",
       "stream": "stdout",
       "text": [
        "\n",
        "Processing ConceptLevel_AfterDistanceAndControlsAndDiversityAndCorrectedDiscreteVariety_K100-36_T30.csv..."
       ]
      },
      {
       "output_type": "stream",
       "stream": "stdout",
       "text": [
        "\n",
        "Processing ConceptLevel_AfterDistanceAndControlsAndDiversityAndCorrectedDiscreteVariety_K100-36_T40.csv..."
       ]
      },
      {
       "output_type": "stream",
       "stream": "stdout",
       "text": [
        "\n",
        "Processing ConceptLevel_AfterDistanceAndControlsAndDiversityAndCorrectedDiscreteVariety_K100-36_T50.csv..."
       ]
      },
      {
       "output_type": "stream",
       "stream": "stdout",
       "text": [
        "\n",
        "Processing ConceptLevel_AfterDistanceAndControlsAndDiversityAndCorrectedDiscreteVariety_K100-36_T60.csv..."
       ]
      },
      {
       "output_type": "stream",
       "stream": "stdout",
       "text": [
        "\n",
        "Processing ConceptLevel_AfterDistanceAndControlsAndDiversityAndCorrectedDiscreteVariety_K100-36_T70.csv..."
       ]
      },
      {
       "output_type": "stream",
       "stream": "stdout",
       "text": [
        "\n",
        "Processing ConceptLevel_AfterDistanceAndControlsAndDiversityAndCorrectedDiscreteVariety_K100-36_T80.csv..."
       ]
      },
      {
       "output_type": "stream",
       "stream": "stdout",
       "text": [
        "\n",
        "Processing ConceptLevel_AfterDistanceAndControlsAndDiversityAndCorrectedDiscreteVariety_K100-36_T90.csv..."
       ]
      },
      {
       "output_type": "stream",
       "stream": "stdout",
       "text": [
        "\n",
        "Processing ConceptLevel_AfterDistanceAndControlsAndDiversityAndCorrectedDiscreteVariety_K100-37_T20.csv..."
       ]
      },
      {
       "output_type": "stream",
       "stream": "stdout",
       "text": [
        "\n",
        "Processing ConceptLevel_AfterDistanceAndControlsAndDiversityAndCorrectedDiscreteVariety_K100-37_T30.csv..."
       ]
      },
      {
       "output_type": "stream",
       "stream": "stdout",
       "text": [
        "\n",
        "Processing ConceptLevel_AfterDistanceAndControlsAndDiversityAndCorrectedDiscreteVariety_K100-37_T40.csv..."
       ]
      },
      {
       "output_type": "stream",
       "stream": "stdout",
       "text": [
        "\n",
        "Processing ConceptLevel_AfterDistanceAndControlsAndDiversityAndCorrectedDiscreteVariety_K100-37_T50.csv..."
       ]
      },
      {
       "output_type": "stream",
       "stream": "stdout",
       "text": [
        "\n",
        "Processing ConceptLevel_AfterDistanceAndControlsAndDiversityAndCorrectedDiscreteVariety_K100-37_T60.csv..."
       ]
      },
      {
       "output_type": "stream",
       "stream": "stdout",
       "text": [
        "\n",
        "Processing ConceptLevel_AfterDistanceAndControlsAndDiversityAndCorrectedDiscreteVariety_K100-37_T70.csv..."
       ]
      },
      {
       "output_type": "stream",
       "stream": "stdout",
       "text": [
        "\n",
        "Processing ConceptLevel_AfterDistanceAndControlsAndDiversityAndCorrectedDiscreteVariety_K100-37_T80.csv..."
       ]
      },
      {
       "output_type": "stream",
       "stream": "stdout",
       "text": [
        "\n",
        "Processing ConceptLevel_AfterDistanceAndControlsAndDiversityAndCorrectedDiscreteVariety_K100-37_T90.csv..."
       ]
      },
      {
       "output_type": "stream",
       "stream": "stdout",
       "text": [
        "\n",
        "Processing ConceptLevel_AfterDistanceAndControlsAndDiversityAndCorrectedDiscreteVariety_K100-40_T20.csv..."
       ]
      },
      {
       "output_type": "stream",
       "stream": "stdout",
       "text": [
        "\n",
        "Processing ConceptLevel_AfterDistanceAndControlsAndDiversityAndCorrectedDiscreteVariety_K100-40_T30.csv..."
       ]
      },
      {
       "output_type": "stream",
       "stream": "stdout",
       "text": [
        "\n",
        "Processing ConceptLevel_AfterDistanceAndControlsAndDiversityAndCorrectedDiscreteVariety_K100-40_T40.csv..."
       ]
      },
      {
       "output_type": "stream",
       "stream": "stdout",
       "text": [
        "\n",
        "Processing ConceptLevel_AfterDistanceAndControlsAndDiversityAndCorrectedDiscreteVariety_K100-40_T50.csv..."
       ]
      },
      {
       "output_type": "stream",
       "stream": "stdout",
       "text": [
        "\n",
        "Processing ConceptLevel_AfterDistanceAndControlsAndDiversityAndCorrectedDiscreteVariety_K100-40_T60.csv..."
       ]
      },
      {
       "output_type": "stream",
       "stream": "stdout",
       "text": [
        "\n",
        "Processing ConceptLevel_AfterDistanceAndControlsAndDiversityAndCorrectedDiscreteVariety_K100-40_T70.csv..."
       ]
      },
      {
       "output_type": "stream",
       "stream": "stdout",
       "text": [
        "\n",
        "Processing ConceptLevel_AfterDistanceAndControlsAndDiversityAndCorrectedDiscreteVariety_K100-40_T80.csv..."
       ]
      },
      {
       "output_type": "stream",
       "stream": "stdout",
       "text": [
        "\n",
        "Processing ConceptLevel_AfterDistanceAndControlsAndDiversityAndCorrectedDiscreteVariety_K100-40_T90.csv..."
       ]
      },
      {
       "output_type": "stream",
       "stream": "stdout",
       "text": [
        "\n",
        "Processing ConceptLevel_AfterDistanceAndControlsAndDiversityAndCorrectedDiscreteVariety_K100-41_T20.csv..."
       ]
      },
      {
       "output_type": "stream",
       "stream": "stdout",
       "text": [
        "\n",
        "Processing ConceptLevel_AfterDistanceAndControlsAndDiversityAndCorrectedDiscreteVariety_K100-41_T30.csv..."
       ]
      },
      {
       "output_type": "stream",
       "stream": "stdout",
       "text": [
        "\n",
        "Processing ConceptLevel_AfterDistanceAndControlsAndDiversityAndCorrectedDiscreteVariety_K100-41_T40.csv..."
       ]
      },
      {
       "output_type": "stream",
       "stream": "stdout",
       "text": [
        "\n",
        "Processing ConceptLevel_AfterDistanceAndControlsAndDiversityAndCorrectedDiscreteVariety_K100-41_T50.csv..."
       ]
      },
      {
       "output_type": "stream",
       "stream": "stdout",
       "text": [
        "\n",
        "Processing ConceptLevel_AfterDistanceAndControlsAndDiversityAndCorrectedDiscreteVariety_K100-41_T60.csv..."
       ]
      },
      {
       "output_type": "stream",
       "stream": "stdout",
       "text": [
        "\n",
        "Processing ConceptLevel_AfterDistanceAndControlsAndDiversityAndCorrectedDiscreteVariety_K100-41_T70.csv..."
       ]
      },
      {
       "output_type": "stream",
       "stream": "stdout",
       "text": [
        "\n",
        "Processing ConceptLevel_AfterDistanceAndControlsAndDiversityAndCorrectedDiscreteVariety_K100-41_T80.csv..."
       ]
      },
      {
       "output_type": "stream",
       "stream": "stdout",
       "text": [
        "\n",
        "Processing ConceptLevel_AfterDistanceAndControlsAndDiversityAndCorrectedDiscreteVariety_K100-41_T90.csv..."
       ]
      },
      {
       "output_type": "stream",
       "stream": "stdout",
       "text": [
        "\n",
        "Processing ConceptLevel_AfterDistanceAndControlsAndDiversityAndCorrectedDiscreteVariety_K100-42_T20.csv..."
       ]
      },
      {
       "output_type": "stream",
       "stream": "stdout",
       "text": [
        "\n",
        "Processing ConceptLevel_AfterDistanceAndControlsAndDiversityAndCorrectedDiscreteVariety_K100-42_T30.csv..."
       ]
      },
      {
       "output_type": "stream",
       "stream": "stdout",
       "text": [
        "\n",
        "Processing ConceptLevel_AfterDistanceAndControlsAndDiversityAndCorrectedDiscreteVariety_K100-42_T40.csv..."
       ]
      },
      {
       "output_type": "stream",
       "stream": "stdout",
       "text": [
        "\n",
        "Processing ConceptLevel_AfterDistanceAndControlsAndDiversityAndCorrectedDiscreteVariety_K100-42_T50.csv..."
       ]
      },
      {
       "output_type": "stream",
       "stream": "stdout",
       "text": [
        "\n",
        "Processing ConceptLevel_AfterDistanceAndControlsAndDiversityAndCorrectedDiscreteVariety_K100-42_T60.csv..."
       ]
      },
      {
       "output_type": "stream",
       "stream": "stdout",
       "text": [
        "\n",
        "Processing ConceptLevel_AfterDistanceAndControlsAndDiversityAndCorrectedDiscreteVariety_K100-42_T70.csv..."
       ]
      },
      {
       "output_type": "stream",
       "stream": "stdout",
       "text": [
        "\n",
        "Processing ConceptLevel_AfterDistanceAndControlsAndDiversityAndCorrectedDiscreteVariety_K100-42_T80.csv..."
       ]
      },
      {
       "output_type": "stream",
       "stream": "stdout",
       "text": [
        "\n",
        "Processing ConceptLevel_AfterDistanceAndControlsAndDiversityAndCorrectedDiscreteVariety_K100-42_T90.csv..."
       ]
      },
      {
       "output_type": "stream",
       "stream": "stdout",
       "text": [
        "\n",
        "Processing ConceptLevel_AfterDistanceAndControlsAndDiversityAndCorrectedDiscreteVariety_K100-43_T20.csv..."
       ]
      },
      {
       "output_type": "stream",
       "stream": "stdout",
       "text": [
        "\n",
        "Processing ConceptLevel_AfterDistanceAndControlsAndDiversityAndCorrectedDiscreteVariety_K100-43_T30.csv..."
       ]
      },
      {
       "output_type": "stream",
       "stream": "stdout",
       "text": [
        "\n",
        "Processing ConceptLevel_AfterDistanceAndControlsAndDiversityAndCorrectedDiscreteVariety_K100-43_T40.csv..."
       ]
      },
      {
       "output_type": "stream",
       "stream": "stdout",
       "text": [
        "\n",
        "Processing ConceptLevel_AfterDistanceAndControlsAndDiversityAndCorrectedDiscreteVariety_K100-43_T50.csv..."
       ]
      },
      {
       "output_type": "stream",
       "stream": "stdout",
       "text": [
        "\n",
        "Processing ConceptLevel_AfterDistanceAndControlsAndDiversityAndCorrectedDiscreteVariety_K100-43_T60.csv..."
       ]
      },
      {
       "output_type": "stream",
       "stream": "stdout",
       "text": [
        "\n",
        "Processing ConceptLevel_AfterDistanceAndControlsAndDiversityAndCorrectedDiscreteVariety_K100-43_T70.csv..."
       ]
      },
      {
       "output_type": "stream",
       "stream": "stdout",
       "text": [
        "\n",
        "Processing ConceptLevel_AfterDistanceAndControlsAndDiversityAndCorrectedDiscreteVariety_K100-43_T80.csv..."
       ]
      },
      {
       "output_type": "stream",
       "stream": "stdout",
       "text": [
        "\n",
        "Processing ConceptLevel_AfterDistanceAndControlsAndDiversityAndCorrectedDiscreteVariety_K100-43_T90.csv..."
       ]
      },
      {
       "output_type": "stream",
       "stream": "stdout",
       "text": [
        "\n",
        "Processing ConceptLevel_AfterDistanceAndControlsAndDiversityAndCorrectedDiscreteVariety_K100-44_T20.csv..."
       ]
      },
      {
       "output_type": "stream",
       "stream": "stdout",
       "text": [
        "\n",
        "Processing ConceptLevel_AfterDistanceAndControlsAndDiversityAndCorrectedDiscreteVariety_K100-44_T30.csv..."
       ]
      },
      {
       "output_type": "stream",
       "stream": "stdout",
       "text": [
        "\n",
        "Processing ConceptLevel_AfterDistanceAndControlsAndDiversityAndCorrectedDiscreteVariety_K100-44_T40.csv..."
       ]
      },
      {
       "output_type": "stream",
       "stream": "stdout",
       "text": [
        "\n",
        "Processing ConceptLevel_AfterDistanceAndControlsAndDiversityAndCorrectedDiscreteVariety_K100-44_T50.csv..."
       ]
      },
      {
       "output_type": "stream",
       "stream": "stdout",
       "text": [
        "\n",
        "Processing ConceptLevel_AfterDistanceAndControlsAndDiversityAndCorrectedDiscreteVariety_K100-44_T60.csv..."
       ]
      },
      {
       "output_type": "stream",
       "stream": "stdout",
       "text": [
        "\n",
        "Processing ConceptLevel_AfterDistanceAndControlsAndDiversityAndCorrectedDiscreteVariety_K100-44_T70.csv..."
       ]
      },
      {
       "output_type": "stream",
       "stream": "stdout",
       "text": [
        "\n",
        "Processing ConceptLevel_AfterDistanceAndControlsAndDiversityAndCorrectedDiscreteVariety_K100-44_T80.csv..."
       ]
      },
      {
       "output_type": "stream",
       "stream": "stdout",
       "text": [
        "\n",
        "Processing ConceptLevel_AfterDistanceAndControlsAndDiversityAndCorrectedDiscreteVariety_K100-44_T90.csv..."
       ]
      },
      {
       "output_type": "stream",
       "stream": "stdout",
       "text": [
        "\n",
        "Processing ConceptLevel_AfterDistanceAndControlsAndDiversityAndCorrectedDiscreteVariety_K100-4_T20.csv..."
       ]
      },
      {
       "output_type": "stream",
       "stream": "stdout",
       "text": [
        "\n",
        "Processing ConceptLevel_AfterDistanceAndControlsAndDiversityAndCorrectedDiscreteVariety_K100-4_T30.csv..."
       ]
      },
      {
       "output_type": "stream",
       "stream": "stdout",
       "text": [
        "\n",
        "Processing ConceptLevel_AfterDistanceAndControlsAndDiversityAndCorrectedDiscreteVariety_K100-4_T40.csv..."
       ]
      },
      {
       "output_type": "stream",
       "stream": "stdout",
       "text": [
        "\n",
        "Processing ConceptLevel_AfterDistanceAndControlsAndDiversityAndCorrectedDiscreteVariety_K100-4_T50.csv..."
       ]
      },
      {
       "output_type": "stream",
       "stream": "stdout",
       "text": [
        "\n",
        "Processing ConceptLevel_AfterDistanceAndControlsAndDiversityAndCorrectedDiscreteVariety_K100-4_T60.csv..."
       ]
      },
      {
       "output_type": "stream",
       "stream": "stdout",
       "text": [
        "\n",
        "Processing ConceptLevel_AfterDistanceAndControlsAndDiversityAndCorrectedDiscreteVariety_K100-4_T70.csv..."
       ]
      },
      {
       "output_type": "stream",
       "stream": "stdout",
       "text": [
        "\n",
        "Processing ConceptLevel_AfterDistanceAndControlsAndDiversityAndCorrectedDiscreteVariety_K100-4_T80.csv..."
       ]
      },
      {
       "output_type": "stream",
       "stream": "stdout",
       "text": [
        "\n",
        "Processing ConceptLevel_AfterDistanceAndControlsAndDiversityAndCorrectedDiscreteVariety_K100-4_T90.csv..."
       ]
      },
      {
       "output_type": "stream",
       "stream": "stdout",
       "text": [
        "\n",
        "Processing ConceptLevel_AfterDistanceAndControlsAndDiversityAndCorrectedDiscreteVariety_K100-50_T20.csv..."
       ]
      },
      {
       "output_type": "stream",
       "stream": "stdout",
       "text": [
        "\n",
        "Processing ConceptLevel_AfterDistanceAndControlsAndDiversityAndCorrectedDiscreteVariety_K100-50_T30.csv..."
       ]
      },
      {
       "output_type": "stream",
       "stream": "stdout",
       "text": [
        "\n",
        "Processing ConceptLevel_AfterDistanceAndControlsAndDiversityAndCorrectedDiscreteVariety_K100-50_T40.csv..."
       ]
      },
      {
       "output_type": "stream",
       "stream": "stdout",
       "text": [
        "\n",
        "Processing ConceptLevel_AfterDistanceAndControlsAndDiversityAndCorrectedDiscreteVariety_K100-50_T50.csv..."
       ]
      },
      {
       "output_type": "stream",
       "stream": "stdout",
       "text": [
        "\n",
        "Processing ConceptLevel_AfterDistanceAndControlsAndDiversityAndCorrectedDiscreteVariety_K100-50_T60.csv..."
       ]
      },
      {
       "output_type": "stream",
       "stream": "stdout",
       "text": [
        "\n",
        "Processing ConceptLevel_AfterDistanceAndControlsAndDiversityAndCorrectedDiscreteVariety_K100-50_T70.csv..."
       ]
      },
      {
       "output_type": "stream",
       "stream": "stdout",
       "text": [
        "\n",
        "Processing ConceptLevel_AfterDistanceAndControlsAndDiversityAndCorrectedDiscreteVariety_K100-50_T80.csv..."
       ]
      },
      {
       "output_type": "stream",
       "stream": "stdout",
       "text": [
        "\n",
        "Processing ConceptLevel_AfterDistanceAndControlsAndDiversityAndCorrectedDiscreteVariety_K100-50_T90.csv..."
       ]
      },
      {
       "output_type": "stream",
       "stream": "stdout",
       "text": [
        "\n",
        "Processing ConceptLevel_AfterDistanceAndControlsAndDiversityAndCorrectedDiscreteVariety_K100-6_T20.csv..."
       ]
      },
      {
       "output_type": "stream",
       "stream": "stdout",
       "text": [
        "\n",
        "Processing ConceptLevel_AfterDistanceAndControlsAndDiversityAndCorrectedDiscreteVariety_K100-6_T30.csv..."
       ]
      },
      {
       "output_type": "stream",
       "stream": "stdout",
       "text": [
        "\n",
        "Processing ConceptLevel_AfterDistanceAndControlsAndDiversityAndCorrectedDiscreteVariety_K100-6_T40.csv..."
       ]
      },
      {
       "output_type": "stream",
       "stream": "stdout",
       "text": [
        "\n",
        "Processing ConceptLevel_AfterDistanceAndControlsAndDiversityAndCorrectedDiscreteVariety_K100-6_T50.csv..."
       ]
      },
      {
       "output_type": "stream",
       "stream": "stdout",
       "text": [
        "\n",
        "Processing ConceptLevel_AfterDistanceAndControlsAndDiversityAndCorrectedDiscreteVariety_K100-6_T60.csv..."
       ]
      },
      {
       "output_type": "stream",
       "stream": "stdout",
       "text": [
        "\n",
        "Processing ConceptLevel_AfterDistanceAndControlsAndDiversityAndCorrectedDiscreteVariety_K100-6_T70.csv..."
       ]
      },
      {
       "output_type": "stream",
       "stream": "stdout",
       "text": [
        "\n",
        "Processing ConceptLevel_AfterDistanceAndControlsAndDiversityAndCorrectedDiscreteVariety_K100-6_T80.csv..."
       ]
      },
      {
       "output_type": "stream",
       "stream": "stdout",
       "text": [
        "\n",
        "Processing ConceptLevel_AfterDistanceAndControlsAndDiversityAndCorrectedDiscreteVariety_K100-6_T90.csv..."
       ]
      },
      {
       "output_type": "stream",
       "stream": "stdout",
       "text": [
        "\n",
        "Processing ConceptLevel_AfterDistanceAndControlsAndDiversityAndCorrectedDiscreteVariety_K200-14_T20.csv..."
       ]
      },
      {
       "output_type": "stream",
       "stream": "stdout",
       "text": [
        "\n",
        "Processing ConceptLevel_AfterDistanceAndControlsAndDiversityAndCorrectedDiscreteVariety_K200-14_T30.csv..."
       ]
      },
      {
       "output_type": "stream",
       "stream": "stdout",
       "text": [
        "\n",
        "Processing ConceptLevel_AfterDistanceAndControlsAndDiversityAndCorrectedDiscreteVariety_K200-14_T40.csv..."
       ]
      },
      {
       "output_type": "stream",
       "stream": "stdout",
       "text": [
        "\n",
        "Processing ConceptLevel_AfterDistanceAndControlsAndDiversityAndCorrectedDiscreteVariety_K200-14_T50.csv..."
       ]
      },
      {
       "output_type": "stream",
       "stream": "stdout",
       "text": [
        "\n",
        "Processing ConceptLevel_AfterDistanceAndControlsAndDiversityAndCorrectedDiscreteVariety_K200-14_T60.csv..."
       ]
      },
      {
       "output_type": "stream",
       "stream": "stdout",
       "text": [
        "\n",
        "Processing ConceptLevel_AfterDistanceAndControlsAndDiversityAndCorrectedDiscreteVariety_K200-14_T70.csv..."
       ]
      },
      {
       "output_type": "stream",
       "stream": "stdout",
       "text": [
        "\n",
        "Processing ConceptLevel_AfterDistanceAndControlsAndDiversityAndCorrectedDiscreteVariety_K200-14_T80.csv..."
       ]
      },
      {
       "output_type": "stream",
       "stream": "stdout",
       "text": [
        "\n",
        "Processing ConceptLevel_AfterDistanceAndControlsAndDiversityAndCorrectedDiscreteVariety_K200-14_T90.csv..."
       ]
      },
      {
       "output_type": "stream",
       "stream": "stdout",
       "text": [
        "\n",
        "Processing ConceptLevel_AfterDistanceAndControlsAndDiversityAndCorrectedDiscreteVariety_K200-16_T20.csv..."
       ]
      },
      {
       "output_type": "stream",
       "stream": "stdout",
       "text": [
        "\n",
        "Processing ConceptLevel_AfterDistanceAndControlsAndDiversityAndCorrectedDiscreteVariety_K200-16_T30.csv..."
       ]
      },
      {
       "output_type": "stream",
       "stream": "stdout",
       "text": [
        "\n",
        "Processing ConceptLevel_AfterDistanceAndControlsAndDiversityAndCorrectedDiscreteVariety_K200-16_T40.csv..."
       ]
      },
      {
       "output_type": "stream",
       "stream": "stdout",
       "text": [
        "\n",
        "Processing ConceptLevel_AfterDistanceAndControlsAndDiversityAndCorrectedDiscreteVariety_K200-16_T50.csv..."
       ]
      },
      {
       "output_type": "stream",
       "stream": "stdout",
       "text": [
        "\n",
        "Processing ConceptLevel_AfterDistanceAndControlsAndDiversityAndCorrectedDiscreteVariety_K200-16_T60.csv..."
       ]
      },
      {
       "output_type": "stream",
       "stream": "stdout",
       "text": [
        "\n",
        "Processing ConceptLevel_AfterDistanceAndControlsAndDiversityAndCorrectedDiscreteVariety_K200-16_T70.csv..."
       ]
      },
      {
       "output_type": "stream",
       "stream": "stdout",
       "text": [
        "\n",
        "Processing ConceptLevel_AfterDistanceAndControlsAndDiversityAndCorrectedDiscreteVariety_K200-16_T80.csv..."
       ]
      },
      {
       "output_type": "stream",
       "stream": "stdout",
       "text": [
        "\n",
        "Processing ConceptLevel_AfterDistanceAndControlsAndDiversityAndCorrectedDiscreteVariety_K200-16_T90.csv..."
       ]
      },
      {
       "output_type": "stream",
       "stream": "stdout",
       "text": [
        "\n",
        "Processing ConceptLevel_AfterDistanceAndControlsAndDiversityAndCorrectedDiscreteVariety_K200-17_T20.csv..."
       ]
      },
      {
       "output_type": "stream",
       "stream": "stdout",
       "text": [
        "\n",
        "Processing ConceptLevel_AfterDistanceAndControlsAndDiversityAndCorrectedDiscreteVariety_K200-17_T30.csv..."
       ]
      },
      {
       "output_type": "stream",
       "stream": "stdout",
       "text": [
        "\n",
        "Processing ConceptLevel_AfterDistanceAndControlsAndDiversityAndCorrectedDiscreteVariety_K200-17_T40.csv..."
       ]
      },
      {
       "output_type": "stream",
       "stream": "stdout",
       "text": [
        "\n",
        "Processing ConceptLevel_AfterDistanceAndControlsAndDiversityAndCorrectedDiscreteVariety_K200-17_T50.csv..."
       ]
      },
      {
       "output_type": "stream",
       "stream": "stdout",
       "text": [
        "\n",
        "Processing ConceptLevel_AfterDistanceAndControlsAndDiversityAndCorrectedDiscreteVariety_K200-17_T60.csv..."
       ]
      },
      {
       "output_type": "stream",
       "stream": "stdout",
       "text": [
        "\n",
        "Processing ConceptLevel_AfterDistanceAndControlsAndDiversityAndCorrectedDiscreteVariety_K200-17_T70.csv..."
       ]
      },
      {
       "output_type": "stream",
       "stream": "stdout",
       "text": [
        "\n",
        "Processing ConceptLevel_AfterDistanceAndControlsAndDiversityAndCorrectedDiscreteVariety_K200-17_T80.csv..."
       ]
      },
      {
       "output_type": "stream",
       "stream": "stdout",
       "text": [
        "\n",
        "Processing ConceptLevel_AfterDistanceAndControlsAndDiversityAndCorrectedDiscreteVariety_K200-17_T90.csv..."
       ]
      },
      {
       "output_type": "stream",
       "stream": "stdout",
       "text": [
        "\n",
        "Processing ConceptLevel_AfterDistanceAndControlsAndDiversityAndCorrectedDiscreteVariety_K200-18_T20.csv..."
       ]
      },
      {
       "output_type": "stream",
       "stream": "stdout",
       "text": [
        "\n",
        "Processing ConceptLevel_AfterDistanceAndControlsAndDiversityAndCorrectedDiscreteVariety_K200-18_T30.csv..."
       ]
      },
      {
       "output_type": "stream",
       "stream": "stdout",
       "text": [
        "\n",
        "Processing ConceptLevel_AfterDistanceAndControlsAndDiversityAndCorrectedDiscreteVariety_K200-18_T40.csv..."
       ]
      },
      {
       "output_type": "stream",
       "stream": "stdout",
       "text": [
        "\n",
        "Processing ConceptLevel_AfterDistanceAndControlsAndDiversityAndCorrectedDiscreteVariety_K200-18_T50.csv..."
       ]
      },
      {
       "output_type": "stream",
       "stream": "stdout",
       "text": [
        "\n",
        "Processing ConceptLevel_AfterDistanceAndControlsAndDiversityAndCorrectedDiscreteVariety_K200-18_T60.csv..."
       ]
      },
      {
       "output_type": "stream",
       "stream": "stdout",
       "text": [
        "\n",
        "Processing ConceptLevel_AfterDistanceAndControlsAndDiversityAndCorrectedDiscreteVariety_K200-18_T70.csv..."
       ]
      },
      {
       "output_type": "stream",
       "stream": "stdout",
       "text": [
        "\n",
        "Processing ConceptLevel_AfterDistanceAndControlsAndDiversityAndCorrectedDiscreteVariety_K200-18_T80.csv..."
       ]
      },
      {
       "output_type": "stream",
       "stream": "stdout",
       "text": [
        "\n",
        "Processing ConceptLevel_AfterDistanceAndControlsAndDiversityAndCorrectedDiscreteVariety_K200-18_T90.csv..."
       ]
      },
      {
       "output_type": "stream",
       "stream": "stdout",
       "text": [
        "\n",
        "Processing ConceptLevel_AfterDistanceAndControlsAndDiversityAndCorrectedDiscreteVariety_K200-1_T20.csv..."
       ]
      },
      {
       "output_type": "stream",
       "stream": "stdout",
       "text": [
        "\n",
        "Processing ConceptLevel_AfterDistanceAndControlsAndDiversityAndCorrectedDiscreteVariety_K200-1_T30.csv..."
       ]
      },
      {
       "output_type": "stream",
       "stream": "stdout",
       "text": [
        "\n",
        "Processing ConceptLevel_AfterDistanceAndControlsAndDiversityAndCorrectedDiscreteVariety_K200-1_T40.csv..."
       ]
      },
      {
       "output_type": "stream",
       "stream": "stdout",
       "text": [
        "\n",
        "Processing ConceptLevel_AfterDistanceAndControlsAndDiversityAndCorrectedDiscreteVariety_K200-1_T50.csv..."
       ]
      },
      {
       "output_type": "stream",
       "stream": "stdout",
       "text": [
        "\n",
        "Processing ConceptLevel_AfterDistanceAndControlsAndDiversityAndCorrectedDiscreteVariety_K200-1_T60.csv..."
       ]
      },
      {
       "output_type": "stream",
       "stream": "stdout",
       "text": [
        "\n",
        "Processing ConceptLevel_AfterDistanceAndControlsAndDiversityAndCorrectedDiscreteVariety_K200-1_T70.csv..."
       ]
      },
      {
       "output_type": "stream",
       "stream": "stdout",
       "text": [
        "\n",
        "Processing ConceptLevel_AfterDistanceAndControlsAndDiversityAndCorrectedDiscreteVariety_K200-1_T80.csv..."
       ]
      },
      {
       "output_type": "stream",
       "stream": "stdout",
       "text": [
        "\n",
        "Processing ConceptLevel_AfterDistanceAndControlsAndDiversityAndCorrectedDiscreteVariety_K200-1_T90.csv..."
       ]
      },
      {
       "output_type": "stream",
       "stream": "stdout",
       "text": [
        "\n",
        "Processing ConceptLevel_AfterDistanceAndControlsAndDiversityAndCorrectedDiscreteVariety_K200-20_T20.csv..."
       ]
      },
      {
       "output_type": "stream",
       "stream": "stdout",
       "text": [
        "\n",
        "Processing ConceptLevel_AfterDistanceAndControlsAndDiversityAndCorrectedDiscreteVariety_K200-20_T30.csv..."
       ]
      },
      {
       "output_type": "stream",
       "stream": "stdout",
       "text": [
        "\n",
        "Processing ConceptLevel_AfterDistanceAndControlsAndDiversityAndCorrectedDiscreteVariety_K200-20_T40.csv..."
       ]
      },
      {
       "output_type": "stream",
       "stream": "stdout",
       "text": [
        "\n",
        "Processing ConceptLevel_AfterDistanceAndControlsAndDiversityAndCorrectedDiscreteVariety_K200-20_T50.csv..."
       ]
      },
      {
       "output_type": "stream",
       "stream": "stdout",
       "text": [
        "\n",
        "Processing ConceptLevel_AfterDistanceAndControlsAndDiversityAndCorrectedDiscreteVariety_K200-20_T60.csv..."
       ]
      },
      {
       "output_type": "stream",
       "stream": "stdout",
       "text": [
        "\n",
        "Processing ConceptLevel_AfterDistanceAndControlsAndDiversityAndCorrectedDiscreteVariety_K200-20_T70.csv..."
       ]
      },
      {
       "output_type": "stream",
       "stream": "stdout",
       "text": [
        "\n",
        "Processing ConceptLevel_AfterDistanceAndControlsAndDiversityAndCorrectedDiscreteVariety_K200-20_T80.csv..."
       ]
      },
      {
       "output_type": "stream",
       "stream": "stdout",
       "text": [
        "\n",
        "Processing ConceptLevel_AfterDistanceAndControlsAndDiversityAndCorrectedDiscreteVariety_K200-20_T90.csv..."
       ]
      },
      {
       "output_type": "stream",
       "stream": "stdout",
       "text": [
        "\n",
        "Processing ConceptLevel_AfterDistanceAndControlsAndDiversityAndCorrectedDiscreteVariety_K200-22_T20.csv..."
       ]
      },
      {
       "output_type": "stream",
       "stream": "stdout",
       "text": [
        "\n",
        "Processing ConceptLevel_AfterDistanceAndControlsAndDiversityAndCorrectedDiscreteVariety_K200-22_T30.csv..."
       ]
      },
      {
       "output_type": "stream",
       "stream": "stdout",
       "text": [
        "\n",
        "Processing ConceptLevel_AfterDistanceAndControlsAndDiversityAndCorrectedDiscreteVariety_K200-22_T40.csv..."
       ]
      },
      {
       "output_type": "stream",
       "stream": "stdout",
       "text": [
        "\n",
        "Processing ConceptLevel_AfterDistanceAndControlsAndDiversityAndCorrectedDiscreteVariety_K200-22_T50.csv..."
       ]
      },
      {
       "output_type": "stream",
       "stream": "stdout",
       "text": [
        "\n",
        "Processing ConceptLevel_AfterDistanceAndControlsAndDiversityAndCorrectedDiscreteVariety_K200-22_T60.csv..."
       ]
      },
      {
       "output_type": "stream",
       "stream": "stdout",
       "text": [
        "\n",
        "Processing ConceptLevel_AfterDistanceAndControlsAndDiversityAndCorrectedDiscreteVariety_K200-22_T70.csv..."
       ]
      },
      {
       "output_type": "stream",
       "stream": "stdout",
       "text": [
        "\n",
        "Processing ConceptLevel_AfterDistanceAndControlsAndDiversityAndCorrectedDiscreteVariety_K200-22_T80.csv..."
       ]
      },
      {
       "output_type": "stream",
       "stream": "stdout",
       "text": [
        "\n",
        "Processing ConceptLevel_AfterDistanceAndControlsAndDiversityAndCorrectedDiscreteVariety_K200-22_T90.csv..."
       ]
      },
      {
       "output_type": "stream",
       "stream": "stdout",
       "text": [
        "\n",
        "Processing ConceptLevel_AfterDistanceAndControlsAndDiversityAndCorrectedDiscreteVariety_K200-24_T20.csv..."
       ]
      },
      {
       "output_type": "stream",
       "stream": "stdout",
       "text": [
        "\n",
        "Processing ConceptLevel_AfterDistanceAndControlsAndDiversityAndCorrectedDiscreteVariety_K200-24_T30.csv..."
       ]
      },
      {
       "output_type": "stream",
       "stream": "stdout",
       "text": [
        "\n",
        "Processing ConceptLevel_AfterDistanceAndControlsAndDiversityAndCorrectedDiscreteVariety_K200-24_T40.csv..."
       ]
      },
      {
       "output_type": "stream",
       "stream": "stdout",
       "text": [
        "\n",
        "Processing ConceptLevel_AfterDistanceAndControlsAndDiversityAndCorrectedDiscreteVariety_K200-24_T50.csv..."
       ]
      },
      {
       "output_type": "stream",
       "stream": "stdout",
       "text": [
        "\n",
        "Processing ConceptLevel_AfterDistanceAndControlsAndDiversityAndCorrectedDiscreteVariety_K200-24_T60.csv..."
       ]
      },
      {
       "output_type": "stream",
       "stream": "stdout",
       "text": [
        "\n",
        "Processing ConceptLevel_AfterDistanceAndControlsAndDiversityAndCorrectedDiscreteVariety_K200-24_T70.csv..."
       ]
      },
      {
       "output_type": "stream",
       "stream": "stdout",
       "text": [
        "\n",
        "Processing ConceptLevel_AfterDistanceAndControlsAndDiversityAndCorrectedDiscreteVariety_K200-24_T80.csv..."
       ]
      },
      {
       "output_type": "stream",
       "stream": "stdout",
       "text": [
        "\n",
        "Processing ConceptLevel_AfterDistanceAndControlsAndDiversityAndCorrectedDiscreteVariety_K200-24_T90.csv..."
       ]
      },
      {
       "output_type": "stream",
       "stream": "stdout",
       "text": [
        "\n",
        "Processing ConceptLevel_AfterDistanceAndControlsAndDiversityAndCorrectedDiscreteVariety_K200-29_T20.csv..."
       ]
      },
      {
       "output_type": "stream",
       "stream": "stdout",
       "text": [
        "\n",
        "Processing ConceptLevel_AfterDistanceAndControlsAndDiversityAndCorrectedDiscreteVariety_K200-29_T30.csv..."
       ]
      },
      {
       "output_type": "stream",
       "stream": "stdout",
       "text": [
        "\n",
        "Processing ConceptLevel_AfterDistanceAndControlsAndDiversityAndCorrectedDiscreteVariety_K200-29_T40.csv..."
       ]
      },
      {
       "output_type": "stream",
       "stream": "stdout",
       "text": [
        "\n",
        "Processing ConceptLevel_AfterDistanceAndControlsAndDiversityAndCorrectedDiscreteVariety_K200-29_T50.csv..."
       ]
      },
      {
       "output_type": "stream",
       "stream": "stdout",
       "text": [
        "\n",
        "Processing ConceptLevel_AfterDistanceAndControlsAndDiversityAndCorrectedDiscreteVariety_K200-29_T60.csv..."
       ]
      },
      {
       "output_type": "stream",
       "stream": "stdout",
       "text": [
        "\n",
        "Processing ConceptLevel_AfterDistanceAndControlsAndDiversityAndCorrectedDiscreteVariety_K200-29_T70.csv..."
       ]
      },
      {
       "output_type": "stream",
       "stream": "stdout",
       "text": [
        "\n",
        "Processing ConceptLevel_AfterDistanceAndControlsAndDiversityAndCorrectedDiscreteVariety_K200-29_T80.csv..."
       ]
      },
      {
       "output_type": "stream",
       "stream": "stdout",
       "text": [
        "\n",
        "Processing ConceptLevel_AfterDistanceAndControlsAndDiversityAndCorrectedDiscreteVariety_K200-29_T90.csv..."
       ]
      },
      {
       "output_type": "stream",
       "stream": "stdout",
       "text": [
        "\n",
        "Processing ConceptLevel_AfterDistanceAndControlsAndDiversityAndCorrectedDiscreteVariety_K200-2_T20.csv..."
       ]
      },
      {
       "output_type": "stream",
       "stream": "stdout",
       "text": [
        "\n",
        "Processing ConceptLevel_AfterDistanceAndControlsAndDiversityAndCorrectedDiscreteVariety_K200-2_T30.csv..."
       ]
      },
      {
       "output_type": "stream",
       "stream": "stdout",
       "text": [
        "\n",
        "Processing ConceptLevel_AfterDistanceAndControlsAndDiversityAndCorrectedDiscreteVariety_K200-2_T40.csv..."
       ]
      },
      {
       "output_type": "stream",
       "stream": "stdout",
       "text": [
        "\n",
        "Processing ConceptLevel_AfterDistanceAndControlsAndDiversityAndCorrectedDiscreteVariety_K200-2_T50.csv..."
       ]
      },
      {
       "output_type": "stream",
       "stream": "stdout",
       "text": [
        "\n",
        "Processing ConceptLevel_AfterDistanceAndControlsAndDiversityAndCorrectedDiscreteVariety_K200-2_T60.csv..."
       ]
      },
      {
       "output_type": "stream",
       "stream": "stdout",
       "text": [
        "\n",
        "Processing ConceptLevel_AfterDistanceAndControlsAndDiversityAndCorrectedDiscreteVariety_K200-2_T70.csv..."
       ]
      },
      {
       "output_type": "stream",
       "stream": "stdout",
       "text": [
        "\n",
        "Processing ConceptLevel_AfterDistanceAndControlsAndDiversityAndCorrectedDiscreteVariety_K200-2_T80.csv..."
       ]
      },
      {
       "output_type": "stream",
       "stream": "stdout",
       "text": [
        "\n",
        "Processing ConceptLevel_AfterDistanceAndControlsAndDiversityAndCorrectedDiscreteVariety_K200-2_T90.csv..."
       ]
      },
      {
       "output_type": "stream",
       "stream": "stdout",
       "text": [
        "\n",
        "Processing ConceptLevel_AfterDistanceAndControlsAndDiversityAndCorrectedDiscreteVariety_K200-35_T20.csv..."
       ]
      },
      {
       "output_type": "stream",
       "stream": "stdout",
       "text": [
        "\n",
        "Processing ConceptLevel_AfterDistanceAndControlsAndDiversityAndCorrectedDiscreteVariety_K200-35_T30.csv..."
       ]
      },
      {
       "output_type": "stream",
       "stream": "stdout",
       "text": [
        "\n",
        "Processing ConceptLevel_AfterDistanceAndControlsAndDiversityAndCorrectedDiscreteVariety_K200-35_T40.csv..."
       ]
      },
      {
       "output_type": "stream",
       "stream": "stdout",
       "text": [
        "\n",
        "Processing ConceptLevel_AfterDistanceAndControlsAndDiversityAndCorrectedDiscreteVariety_K200-35_T50.csv..."
       ]
      },
      {
       "output_type": "stream",
       "stream": "stdout",
       "text": [
        "\n",
        "Processing ConceptLevel_AfterDistanceAndControlsAndDiversityAndCorrectedDiscreteVariety_K200-35_T60.csv..."
       ]
      },
      {
       "output_type": "stream",
       "stream": "stdout",
       "text": [
        "\n",
        "Processing ConceptLevel_AfterDistanceAndControlsAndDiversityAndCorrectedDiscreteVariety_K200-35_T70.csv..."
       ]
      },
      {
       "output_type": "stream",
       "stream": "stdout",
       "text": [
        "\n",
        "Processing ConceptLevel_AfterDistanceAndControlsAndDiversityAndCorrectedDiscreteVariety_K200-35_T80.csv..."
       ]
      },
      {
       "output_type": "stream",
       "stream": "stdout",
       "text": [
        "\n",
        "Processing ConceptLevel_AfterDistanceAndControlsAndDiversityAndCorrectedDiscreteVariety_K200-35_T90.csv..."
       ]
      },
      {
       "output_type": "stream",
       "stream": "stdout",
       "text": [
        "\n",
        "Processing ConceptLevel_AfterDistanceAndControlsAndDiversityAndCorrectedDiscreteVariety_K200-38_T20.csv..."
       ]
      },
      {
       "output_type": "stream",
       "stream": "stdout",
       "text": [
        "\n",
        "Processing ConceptLevel_AfterDistanceAndControlsAndDiversityAndCorrectedDiscreteVariety_K200-38_T30.csv..."
       ]
      },
      {
       "output_type": "stream",
       "stream": "stdout",
       "text": [
        "\n",
        "Processing ConceptLevel_AfterDistanceAndControlsAndDiversityAndCorrectedDiscreteVariety_K200-38_T40.csv..."
       ]
      },
      {
       "output_type": "stream",
       "stream": "stdout",
       "text": [
        "\n",
        "Processing ConceptLevel_AfterDistanceAndControlsAndDiversityAndCorrectedDiscreteVariety_K200-38_T50.csv..."
       ]
      },
      {
       "output_type": "stream",
       "stream": "stdout",
       "text": [
        "\n",
        "Processing ConceptLevel_AfterDistanceAndControlsAndDiversityAndCorrectedDiscreteVariety_K200-38_T60.csv..."
       ]
      },
      {
       "output_type": "stream",
       "stream": "stdout",
       "text": [
        "\n",
        "Processing ConceptLevel_AfterDistanceAndControlsAndDiversityAndCorrectedDiscreteVariety_K200-38_T70.csv..."
       ]
      },
      {
       "output_type": "stream",
       "stream": "stdout",
       "text": [
        "\n",
        "Processing ConceptLevel_AfterDistanceAndControlsAndDiversityAndCorrectedDiscreteVariety_K200-38_T80.csv..."
       ]
      },
      {
       "output_type": "stream",
       "stream": "stdout",
       "text": [
        "\n",
        "Processing ConceptLevel_AfterDistanceAndControlsAndDiversityAndCorrectedDiscreteVariety_K200-38_T90.csv..."
       ]
      },
      {
       "output_type": "stream",
       "stream": "stdout",
       "text": [
        "\n",
        "Processing ConceptLevel_AfterDistanceAndControlsAndDiversityAndCorrectedDiscreteVariety_K200-41_T20.csv..."
       ]
      },
      {
       "output_type": "stream",
       "stream": "stdout",
       "text": [
        "\n",
        "Processing ConceptLevel_AfterDistanceAndControlsAndDiversityAndCorrectedDiscreteVariety_K200-41_T30.csv..."
       ]
      },
      {
       "output_type": "stream",
       "stream": "stdout",
       "text": [
        "\n",
        "Processing ConceptLevel_AfterDistanceAndControlsAndDiversityAndCorrectedDiscreteVariety_K200-41_T40.csv..."
       ]
      },
      {
       "output_type": "stream",
       "stream": "stdout",
       "text": [
        "\n",
        "Processing ConceptLevel_AfterDistanceAndControlsAndDiversityAndCorrectedDiscreteVariety_K200-41_T50.csv..."
       ]
      },
      {
       "output_type": "stream",
       "stream": "stdout",
       "text": [
        "\n",
        "Processing ConceptLevel_AfterDistanceAndControlsAndDiversityAndCorrectedDiscreteVariety_K200-41_T60.csv..."
       ]
      },
      {
       "output_type": "stream",
       "stream": "stdout",
       "text": [
        "\n",
        "Processing ConceptLevel_AfterDistanceAndControlsAndDiversityAndCorrectedDiscreteVariety_K200-41_T70.csv..."
       ]
      },
      {
       "output_type": "stream",
       "stream": "stdout",
       "text": [
        "\n",
        "Processing ConceptLevel_AfterDistanceAndControlsAndDiversityAndCorrectedDiscreteVariety_K200-41_T80.csv..."
       ]
      },
      {
       "output_type": "stream",
       "stream": "stdout",
       "text": [
        "\n",
        "Processing ConceptLevel_AfterDistanceAndControlsAndDiversityAndCorrectedDiscreteVariety_K200-41_T90.csv..."
       ]
      },
      {
       "output_type": "stream",
       "stream": "stdout",
       "text": [
        "\n",
        "Processing ConceptLevel_AfterDistanceAndControlsAndDiversityAndCorrectedDiscreteVariety_K200-43_T20.csv..."
       ]
      },
      {
       "output_type": "stream",
       "stream": "stdout",
       "text": [
        "\n",
        "Processing ConceptLevel_AfterDistanceAndControlsAndDiversityAndCorrectedDiscreteVariety_K200-43_T30.csv..."
       ]
      },
      {
       "output_type": "stream",
       "stream": "stdout",
       "text": [
        "\n",
        "Processing ConceptLevel_AfterDistanceAndControlsAndDiversityAndCorrectedDiscreteVariety_K200-43_T40.csv..."
       ]
      },
      {
       "output_type": "stream",
       "stream": "stdout",
       "text": [
        "\n",
        "Processing ConceptLevel_AfterDistanceAndControlsAndDiversityAndCorrectedDiscreteVariety_K200-43_T50.csv..."
       ]
      },
      {
       "output_type": "stream",
       "stream": "stdout",
       "text": [
        "\n",
        "Processing ConceptLevel_AfterDistanceAndControlsAndDiversityAndCorrectedDiscreteVariety_K200-43_T60.csv..."
       ]
      },
      {
       "output_type": "stream",
       "stream": "stdout",
       "text": [
        "\n",
        "Processing ConceptLevel_AfterDistanceAndControlsAndDiversityAndCorrectedDiscreteVariety_K200-43_T70.csv..."
       ]
      },
      {
       "output_type": "stream",
       "stream": "stdout",
       "text": [
        "\n",
        "Processing ConceptLevel_AfterDistanceAndControlsAndDiversityAndCorrectedDiscreteVariety_K200-43_T80.csv..."
       ]
      },
      {
       "output_type": "stream",
       "stream": "stdout",
       "text": [
        "\n",
        "Processing ConceptLevel_AfterDistanceAndControlsAndDiversityAndCorrectedDiscreteVariety_K200-43_T90.csv..."
       ]
      },
      {
       "output_type": "stream",
       "stream": "stdout",
       "text": [
        "\n",
        "Processing ConceptLevel_AfterDistanceAndControlsAndDiversityAndCorrectedDiscreteVariety_K200-46_T20.csv..."
       ]
      },
      {
       "output_type": "stream",
       "stream": "stdout",
       "text": [
        "\n",
        "Processing ConceptLevel_AfterDistanceAndControlsAndDiversityAndCorrectedDiscreteVariety_K200-46_T30.csv..."
       ]
      },
      {
       "output_type": "stream",
       "stream": "stdout",
       "text": [
        "\n",
        "Processing ConceptLevel_AfterDistanceAndControlsAndDiversityAndCorrectedDiscreteVariety_K200-46_T40.csv..."
       ]
      },
      {
       "output_type": "stream",
       "stream": "stdout",
       "text": [
        "\n",
        "Processing ConceptLevel_AfterDistanceAndControlsAndDiversityAndCorrectedDiscreteVariety_K200-46_T50.csv..."
       ]
      },
      {
       "output_type": "stream",
       "stream": "stdout",
       "text": [
        "\n",
        "Processing ConceptLevel_AfterDistanceAndControlsAndDiversityAndCorrectedDiscreteVariety_K200-46_T60.csv..."
       ]
      },
      {
       "output_type": "stream",
       "stream": "stdout",
       "text": [
        "\n",
        "Processing ConceptLevel_AfterDistanceAndControlsAndDiversityAndCorrectedDiscreteVariety_K200-46_T70.csv..."
       ]
      },
      {
       "output_type": "stream",
       "stream": "stdout",
       "text": [
        "\n",
        "Processing ConceptLevel_AfterDistanceAndControlsAndDiversityAndCorrectedDiscreteVariety_K200-46_T80.csv..."
       ]
      },
      {
       "output_type": "stream",
       "stream": "stdout",
       "text": [
        "\n",
        "Processing ConceptLevel_AfterDistanceAndControlsAndDiversityAndCorrectedDiscreteVariety_K200-46_T90.csv..."
       ]
      },
      {
       "output_type": "stream",
       "stream": "stdout",
       "text": [
        "\n",
        "Processing ConceptLevel_AfterDistanceAndControlsAndDiversityAndCorrectedDiscreteVariety_K200-47_T20.csv..."
       ]
      },
      {
       "output_type": "stream",
       "stream": "stdout",
       "text": [
        "\n",
        "Processing ConceptLevel_AfterDistanceAndControlsAndDiversityAndCorrectedDiscreteVariety_K200-47_T30.csv..."
       ]
      },
      {
       "output_type": "stream",
       "stream": "stdout",
       "text": [
        "\n",
        "Processing ConceptLevel_AfterDistanceAndControlsAndDiversityAndCorrectedDiscreteVariety_K200-47_T40.csv..."
       ]
      },
      {
       "output_type": "stream",
       "stream": "stdout",
       "text": [
        "\n",
        "Processing ConceptLevel_AfterDistanceAndControlsAndDiversityAndCorrectedDiscreteVariety_K200-47_T50.csv..."
       ]
      },
      {
       "output_type": "stream",
       "stream": "stdout",
       "text": [
        "\n",
        "Processing ConceptLevel_AfterDistanceAndControlsAndDiversityAndCorrectedDiscreteVariety_K200-47_T60.csv..."
       ]
      },
      {
       "output_type": "stream",
       "stream": "stdout",
       "text": [
        "\n",
        "Processing ConceptLevel_AfterDistanceAndControlsAndDiversityAndCorrectedDiscreteVariety_K200-47_T70.csv..."
       ]
      },
      {
       "output_type": "stream",
       "stream": "stdout",
       "text": [
        "\n",
        "Processing ConceptLevel_AfterDistanceAndControlsAndDiversityAndCorrectedDiscreteVariety_K200-47_T80.csv..."
       ]
      },
      {
       "output_type": "stream",
       "stream": "stdout",
       "text": [
        "\n",
        "Processing ConceptLevel_AfterDistanceAndControlsAndDiversityAndCorrectedDiscreteVariety_K200-47_T90.csv..."
       ]
      },
      {
       "output_type": "stream",
       "stream": "stdout",
       "text": [
        "\n",
        "Processing ConceptLevel_AfterDistanceAndControlsAndDiversityAndCorrectedDiscreteVariety_K200-49_T20.csv..."
       ]
      },
      {
       "output_type": "stream",
       "stream": "stdout",
       "text": [
        "\n",
        "Processing ConceptLevel_AfterDistanceAndControlsAndDiversityAndCorrectedDiscreteVariety_K200-49_T30.csv..."
       ]
      },
      {
       "output_type": "stream",
       "stream": "stdout",
       "text": [
        "\n",
        "Processing ConceptLevel_AfterDistanceAndControlsAndDiversityAndCorrectedDiscreteVariety_K200-49_T40.csv..."
       ]
      },
      {
       "output_type": "stream",
       "stream": "stdout",
       "text": [
        "\n",
        "Processing ConceptLevel_AfterDistanceAndControlsAndDiversityAndCorrectedDiscreteVariety_K200-49_T50.csv..."
       ]
      },
      {
       "output_type": "stream",
       "stream": "stdout",
       "text": [
        "\n",
        "Processing ConceptLevel_AfterDistanceAndControlsAndDiversityAndCorrectedDiscreteVariety_K200-49_T60.csv..."
       ]
      },
      {
       "output_type": "stream",
       "stream": "stdout",
       "text": [
        "\n",
        "Processing ConceptLevel_AfterDistanceAndControlsAndDiversityAndCorrectedDiscreteVariety_K200-49_T70.csv..."
       ]
      },
      {
       "output_type": "stream",
       "stream": "stdout",
       "text": [
        "\n",
        "Processing ConceptLevel_AfterDistanceAndControlsAndDiversityAndCorrectedDiscreteVariety_K200-49_T80.csv..."
       ]
      },
      {
       "output_type": "stream",
       "stream": "stdout",
       "text": [
        "\n",
        "Processing ConceptLevel_AfterDistanceAndControlsAndDiversityAndCorrectedDiscreteVariety_K200-49_T90.csv..."
       ]
      },
      {
       "output_type": "stream",
       "stream": "stdout",
       "text": [
        "\n",
        "Processing ConceptLevel_AfterDistanceAndControlsAndDiversityAndCorrectedDiscreteVariety_K200-50_T20.csv..."
       ]
      },
      {
       "output_type": "stream",
       "stream": "stdout",
       "text": [
        "\n",
        "Processing ConceptLevel_AfterDistanceAndControlsAndDiversityAndCorrectedDiscreteVariety_K200-50_T30.csv..."
       ]
      },
      {
       "output_type": "stream",
       "stream": "stdout",
       "text": [
        "\n",
        "Processing ConceptLevel_AfterDistanceAndControlsAndDiversityAndCorrectedDiscreteVariety_K200-50_T40.csv..."
       ]
      },
      {
       "output_type": "stream",
       "stream": "stdout",
       "text": [
        "\n",
        "Processing ConceptLevel_AfterDistanceAndControlsAndDiversityAndCorrectedDiscreteVariety_K200-50_T50.csv..."
       ]
      },
      {
       "output_type": "stream",
       "stream": "stdout",
       "text": [
        "\n",
        "Processing ConceptLevel_AfterDistanceAndControlsAndDiversityAndCorrectedDiscreteVariety_K200-50_T60.csv..."
       ]
      },
      {
       "output_type": "stream",
       "stream": "stdout",
       "text": [
        "\n",
        "Processing ConceptLevel_AfterDistanceAndControlsAndDiversityAndCorrectedDiscreteVariety_K200-50_T70.csv..."
       ]
      },
      {
       "output_type": "stream",
       "stream": "stdout",
       "text": [
        "\n",
        "Processing ConceptLevel_AfterDistanceAndControlsAndDiversityAndCorrectedDiscreteVariety_K200-50_T80.csv..."
       ]
      },
      {
       "output_type": "stream",
       "stream": "stdout",
       "text": [
        "\n",
        "Processing ConceptLevel_AfterDistanceAndControlsAndDiversityAndCorrectedDiscreteVariety_K200-50_T90.csv..."
       ]
      },
      {
       "output_type": "stream",
       "stream": "stdout",
       "text": [
        "\n",
        "Processing ConceptLevel_AfterDistanceAndControlsAndDiversityAndCorrectedDiscreteVariety_K200-6_T20.csv..."
       ]
      },
      {
       "output_type": "stream",
       "stream": "stdout",
       "text": [
        "\n",
        "Processing ConceptLevel_AfterDistanceAndControlsAndDiversityAndCorrectedDiscreteVariety_K200-6_T30.csv..."
       ]
      },
      {
       "output_type": "stream",
       "stream": "stdout",
       "text": [
        "\n",
        "Processing ConceptLevel_AfterDistanceAndControlsAndDiversityAndCorrectedDiscreteVariety_K200-6_T40.csv..."
       ]
      },
      {
       "output_type": "stream",
       "stream": "stdout",
       "text": [
        "\n",
        "Processing ConceptLevel_AfterDistanceAndControlsAndDiversityAndCorrectedDiscreteVariety_K200-6_T50.csv..."
       ]
      },
      {
       "output_type": "stream",
       "stream": "stdout",
       "text": [
        "\n",
        "Processing ConceptLevel_AfterDistanceAndControlsAndDiversityAndCorrectedDiscreteVariety_K200-6_T60.csv..."
       ]
      },
      {
       "output_type": "stream",
       "stream": "stdout",
       "text": [
        "\n",
        "Processing ConceptLevel_AfterDistanceAndControlsAndDiversityAndCorrectedDiscreteVariety_K200-6_T70.csv..."
       ]
      },
      {
       "output_type": "stream",
       "stream": "stdout",
       "text": [
        "\n",
        "Processing ConceptLevel_AfterDistanceAndControlsAndDiversityAndCorrectedDiscreteVariety_K200-6_T80.csv..."
       ]
      },
      {
       "output_type": "stream",
       "stream": "stdout",
       "text": [
        "\n",
        "Processing ConceptLevel_AfterDistanceAndControlsAndDiversityAndCorrectedDiscreteVariety_K200-6_T90.csv..."
       ]
      },
      {
       "output_type": "stream",
       "stream": "stdout",
       "text": [
        "\n",
        "Processing ConceptLevel_AfterDistanceAndControlsAndDiversityAndCorrectedDiscreteVariety_K200-9_T20.csv..."
       ]
      },
      {
       "output_type": "stream",
       "stream": "stdout",
       "text": [
        "\n",
        "Processing ConceptLevel_AfterDistanceAndControlsAndDiversityAndCorrectedDiscreteVariety_K200-9_T30.csv..."
       ]
      },
      {
       "output_type": "stream",
       "stream": "stdout",
       "text": [
        "\n",
        "Processing ConceptLevel_AfterDistanceAndControlsAndDiversityAndCorrectedDiscreteVariety_K200-9_T40.csv..."
       ]
      },
      {
       "output_type": "stream",
       "stream": "stdout",
       "text": [
        "\n",
        "Processing ConceptLevel_AfterDistanceAndControlsAndDiversityAndCorrectedDiscreteVariety_K200-9_T50.csv..."
       ]
      },
      {
       "output_type": "stream",
       "stream": "stdout",
       "text": [
        "\n",
        "Processing ConceptLevel_AfterDistanceAndControlsAndDiversityAndCorrectedDiscreteVariety_K200-9_T60.csv..."
       ]
      },
      {
       "output_type": "stream",
       "stream": "stdout",
       "text": [
        "\n",
        "Processing ConceptLevel_AfterDistanceAndControlsAndDiversityAndCorrectedDiscreteVariety_K200-9_T70.csv..."
       ]
      },
      {
       "output_type": "stream",
       "stream": "stdout",
       "text": [
        "\n",
        "Processing ConceptLevel_AfterDistanceAndControlsAndDiversityAndCorrectedDiscreteVariety_K200-9_T80.csv..."
       ]
      },
      {
       "output_type": "stream",
       "stream": "stdout",
       "text": [
        "\n",
        "Processing ConceptLevel_AfterDistanceAndControlsAndDiversityAndCorrectedDiscreteVariety_K200-9_T90.csv..."
       ]
      },
      {
       "output_type": "stream",
       "stream": "stdout",
       "text": [
        "\n",
        "Processing ConceptLevel_AfterDistanceAndControlsAndDiversityAndCorrectedDiscreteVariety_K300-10_T20.csv..."
       ]
      },
      {
       "output_type": "stream",
       "stream": "stdout",
       "text": [
        "\n",
        "Processing ConceptLevel_AfterDistanceAndControlsAndDiversityAndCorrectedDiscreteVariety_K300-10_T30.csv..."
       ]
      },
      {
       "output_type": "stream",
       "stream": "stdout",
       "text": [
        "\n",
        "Processing ConceptLevel_AfterDistanceAndControlsAndDiversityAndCorrectedDiscreteVariety_K300-10_T40.csv..."
       ]
      },
      {
       "output_type": "stream",
       "stream": "stdout",
       "text": [
        "\n",
        "Processing ConceptLevel_AfterDistanceAndControlsAndDiversityAndCorrectedDiscreteVariety_K300-10_T50.csv..."
       ]
      },
      {
       "output_type": "stream",
       "stream": "stdout",
       "text": [
        "\n",
        "Processing ConceptLevel_AfterDistanceAndControlsAndDiversityAndCorrectedDiscreteVariety_K300-10_T60.csv..."
       ]
      },
      {
       "output_type": "stream",
       "stream": "stdout",
       "text": [
        "\n",
        "Processing ConceptLevel_AfterDistanceAndControlsAndDiversityAndCorrectedDiscreteVariety_K300-10_T70.csv..."
       ]
      },
      {
       "output_type": "stream",
       "stream": "stdout",
       "text": [
        "\n",
        "Processing ConceptLevel_AfterDistanceAndControlsAndDiversityAndCorrectedDiscreteVariety_K300-10_T80.csv..."
       ]
      },
      {
       "output_type": "stream",
       "stream": "stdout",
       "text": [
        "\n",
        "Processing ConceptLevel_AfterDistanceAndControlsAndDiversityAndCorrectedDiscreteVariety_K300-10_T90.csv..."
       ]
      },
      {
       "output_type": "stream",
       "stream": "stdout",
       "text": [
        "\n",
        "Processing ConceptLevel_AfterDistanceAndControlsAndDiversityAndCorrectedDiscreteVariety_K300-12_T20.csv..."
       ]
      },
      {
       "output_type": "stream",
       "stream": "stdout",
       "text": [
        "\n",
        "Processing ConceptLevel_AfterDistanceAndControlsAndDiversityAndCorrectedDiscreteVariety_K300-12_T30.csv..."
       ]
      },
      {
       "output_type": "stream",
       "stream": "stdout",
       "text": [
        "\n",
        "Processing ConceptLevel_AfterDistanceAndControlsAndDiversityAndCorrectedDiscreteVariety_K300-12_T40.csv..."
       ]
      },
      {
       "output_type": "stream",
       "stream": "stdout",
       "text": [
        "\n",
        "Processing ConceptLevel_AfterDistanceAndControlsAndDiversityAndCorrectedDiscreteVariety_K300-12_T50.csv..."
       ]
      },
      {
       "output_type": "stream",
       "stream": "stdout",
       "text": [
        "\n",
        "Processing ConceptLevel_AfterDistanceAndControlsAndDiversityAndCorrectedDiscreteVariety_K300-12_T60.csv..."
       ]
      },
      {
       "output_type": "stream",
       "stream": "stdout",
       "text": [
        "\n",
        "Processing ConceptLevel_AfterDistanceAndControlsAndDiversityAndCorrectedDiscreteVariety_K300-12_T70.csv..."
       ]
      },
      {
       "output_type": "stream",
       "stream": "stdout",
       "text": [
        "\n",
        "Processing ConceptLevel_AfterDistanceAndControlsAndDiversityAndCorrectedDiscreteVariety_K300-12_T80.csv..."
       ]
      },
      {
       "output_type": "stream",
       "stream": "stdout",
       "text": [
        "\n",
        "Processing ConceptLevel_AfterDistanceAndControlsAndDiversityAndCorrectedDiscreteVariety_K300-12_T90.csv..."
       ]
      },
      {
       "output_type": "stream",
       "stream": "stdout",
       "text": [
        "\n",
        "Processing ConceptLevel_AfterDistanceAndControlsAndDiversityAndCorrectedDiscreteVariety_K300-16_T20.csv..."
       ]
      },
      {
       "output_type": "stream",
       "stream": "stdout",
       "text": [
        "\n",
        "Processing ConceptLevel_AfterDistanceAndControlsAndDiversityAndCorrectedDiscreteVariety_K300-16_T30.csv..."
       ]
      },
      {
       "output_type": "stream",
       "stream": "stdout",
       "text": [
        "\n",
        "Processing ConceptLevel_AfterDistanceAndControlsAndDiversityAndCorrectedDiscreteVariety_K300-16_T40.csv..."
       ]
      },
      {
       "output_type": "stream",
       "stream": "stdout",
       "text": [
        "\n",
        "Processing ConceptLevel_AfterDistanceAndControlsAndDiversityAndCorrectedDiscreteVariety_K300-16_T50.csv..."
       ]
      },
      {
       "output_type": "stream",
       "stream": "stdout",
       "text": [
        "\n",
        "Processing ConceptLevel_AfterDistanceAndControlsAndDiversityAndCorrectedDiscreteVariety_K300-16_T60.csv..."
       ]
      },
      {
       "output_type": "stream",
       "stream": "stdout",
       "text": [
        "\n",
        "Processing ConceptLevel_AfterDistanceAndControlsAndDiversityAndCorrectedDiscreteVariety_K300-16_T70.csv..."
       ]
      },
      {
       "output_type": "stream",
       "stream": "stdout",
       "text": [
        "\n",
        "Processing ConceptLevel_AfterDistanceAndControlsAndDiversityAndCorrectedDiscreteVariety_K300-16_T80.csv..."
       ]
      },
      {
       "output_type": "stream",
       "stream": "stdout",
       "text": [
        "\n",
        "Processing ConceptLevel_AfterDistanceAndControlsAndDiversityAndCorrectedDiscreteVariety_K300-16_T90.csv..."
       ]
      },
      {
       "output_type": "stream",
       "stream": "stdout",
       "text": [
        "\n",
        "Processing ConceptLevel_AfterDistanceAndControlsAndDiversityAndCorrectedDiscreteVariety_K300-19_T20.csv..."
       ]
      },
      {
       "output_type": "stream",
       "stream": "stdout",
       "text": [
        "\n",
        "Processing ConceptLevel_AfterDistanceAndControlsAndDiversityAndCorrectedDiscreteVariety_K300-19_T30.csv..."
       ]
      },
      {
       "output_type": "stream",
       "stream": "stdout",
       "text": [
        "\n",
        "Processing ConceptLevel_AfterDistanceAndControlsAndDiversityAndCorrectedDiscreteVariety_K300-19_T40.csv..."
       ]
      },
      {
       "output_type": "stream",
       "stream": "stdout",
       "text": [
        "\n",
        "Processing ConceptLevel_AfterDistanceAndControlsAndDiversityAndCorrectedDiscreteVariety_K300-19_T50.csv..."
       ]
      },
      {
       "output_type": "stream",
       "stream": "stdout",
       "text": [
        "\n",
        "Processing ConceptLevel_AfterDistanceAndControlsAndDiversityAndCorrectedDiscreteVariety_K300-19_T60.csv..."
       ]
      },
      {
       "output_type": "stream",
       "stream": "stdout",
       "text": [
        "\n",
        "Processing ConceptLevel_AfterDistanceAndControlsAndDiversityAndCorrectedDiscreteVariety_K300-19_T70.csv..."
       ]
      },
      {
       "output_type": "stream",
       "stream": "stdout",
       "text": [
        "\n",
        "Processing ConceptLevel_AfterDistanceAndControlsAndDiversityAndCorrectedDiscreteVariety_K300-19_T80.csv..."
       ]
      },
      {
       "output_type": "stream",
       "stream": "stdout",
       "text": [
        "\n",
        "Processing ConceptLevel_AfterDistanceAndControlsAndDiversityAndCorrectedDiscreteVariety_K300-19_T90.csv..."
       ]
      },
      {
       "output_type": "stream",
       "stream": "stdout",
       "text": [
        "\n",
        "Processing ConceptLevel_AfterDistanceAndControlsAndDiversityAndCorrectedDiscreteVariety_K300-1_T20.csv..."
       ]
      },
      {
       "output_type": "stream",
       "stream": "stdout",
       "text": [
        "\n",
        "Processing ConceptLevel_AfterDistanceAndControlsAndDiversityAndCorrectedDiscreteVariety_K300-1_T30.csv..."
       ]
      },
      {
       "output_type": "stream",
       "stream": "stdout",
       "text": [
        "\n",
        "Processing ConceptLevel_AfterDistanceAndControlsAndDiversityAndCorrectedDiscreteVariety_K300-1_T40.csv..."
       ]
      },
      {
       "output_type": "stream",
       "stream": "stdout",
       "text": [
        "\n",
        "Processing ConceptLevel_AfterDistanceAndControlsAndDiversityAndCorrectedDiscreteVariety_K300-1_T50.csv..."
       ]
      },
      {
       "output_type": "stream",
       "stream": "stdout",
       "text": [
        "\n",
        "Processing ConceptLevel_AfterDistanceAndControlsAndDiversityAndCorrectedDiscreteVariety_K300-1_T60.csv..."
       ]
      },
      {
       "output_type": "stream",
       "stream": "stdout",
       "text": [
        "\n",
        "Processing ConceptLevel_AfterDistanceAndControlsAndDiversityAndCorrectedDiscreteVariety_K300-1_T70.csv..."
       ]
      },
      {
       "output_type": "stream",
       "stream": "stdout",
       "text": [
        "\n",
        "Processing ConceptLevel_AfterDistanceAndControlsAndDiversityAndCorrectedDiscreteVariety_K300-1_T80.csv..."
       ]
      },
      {
       "output_type": "stream",
       "stream": "stdout",
       "text": [
        "\n",
        "Processing ConceptLevel_AfterDistanceAndControlsAndDiversityAndCorrectedDiscreteVariety_K300-1_T90.csv..."
       ]
      },
      {
       "output_type": "stream",
       "stream": "stdout",
       "text": [
        "\n",
        "Processing ConceptLevel_AfterDistanceAndControlsAndDiversityAndCorrectedDiscreteVariety_K300-23_T20.csv..."
       ]
      },
      {
       "output_type": "stream",
       "stream": "stdout",
       "text": [
        "\n",
        "Processing ConceptLevel_AfterDistanceAndControlsAndDiversityAndCorrectedDiscreteVariety_K300-23_T30.csv..."
       ]
      },
      {
       "output_type": "stream",
       "stream": "stdout",
       "text": [
        "\n",
        "Processing ConceptLevel_AfterDistanceAndControlsAndDiversityAndCorrectedDiscreteVariety_K300-23_T40.csv..."
       ]
      },
      {
       "output_type": "stream",
       "stream": "stdout",
       "text": [
        "\n",
        "Processing ConceptLevel_AfterDistanceAndControlsAndDiversityAndCorrectedDiscreteVariety_K300-23_T50.csv..."
       ]
      },
      {
       "output_type": "stream",
       "stream": "stdout",
       "text": [
        "\n",
        "Processing ConceptLevel_AfterDistanceAndControlsAndDiversityAndCorrectedDiscreteVariety_K300-23_T60.csv..."
       ]
      },
      {
       "output_type": "stream",
       "stream": "stdout",
       "text": [
        "\n",
        "Processing ConceptLevel_AfterDistanceAndControlsAndDiversityAndCorrectedDiscreteVariety_K300-23_T70.csv..."
       ]
      },
      {
       "output_type": "stream",
       "stream": "stdout",
       "text": [
        "\n",
        "Processing ConceptLevel_AfterDistanceAndControlsAndDiversityAndCorrectedDiscreteVariety_K300-23_T80.csv..."
       ]
      },
      {
       "output_type": "stream",
       "stream": "stdout",
       "text": [
        "\n",
        "Processing ConceptLevel_AfterDistanceAndControlsAndDiversityAndCorrectedDiscreteVariety_K300-23_T90.csv..."
       ]
      },
      {
       "output_type": "stream",
       "stream": "stdout",
       "text": [
        "\n",
        "Processing ConceptLevel_AfterDistanceAndControlsAndDiversityAndCorrectedDiscreteVariety_K300-25_T20.csv..."
       ]
      },
      {
       "output_type": "stream",
       "stream": "stdout",
       "text": [
        "\n",
        "Processing ConceptLevel_AfterDistanceAndControlsAndDiversityAndCorrectedDiscreteVariety_K300-25_T30.csv..."
       ]
      },
      {
       "output_type": "stream",
       "stream": "stdout",
       "text": [
        "\n",
        "Processing ConceptLevel_AfterDistanceAndControlsAndDiversityAndCorrectedDiscreteVariety_K300-25_T40.csv..."
       ]
      },
      {
       "output_type": "stream",
       "stream": "stdout",
       "text": [
        "\n",
        "Processing ConceptLevel_AfterDistanceAndControlsAndDiversityAndCorrectedDiscreteVariety_K300-25_T50.csv..."
       ]
      },
      {
       "output_type": "stream",
       "stream": "stdout",
       "text": [
        "\n",
        "Processing ConceptLevel_AfterDistanceAndControlsAndDiversityAndCorrectedDiscreteVariety_K300-25_T60.csv..."
       ]
      },
      {
       "output_type": "stream",
       "stream": "stdout",
       "text": [
        "\n",
        "Processing ConceptLevel_AfterDistanceAndControlsAndDiversityAndCorrectedDiscreteVariety_K300-25_T70.csv..."
       ]
      },
      {
       "output_type": "stream",
       "stream": "stdout",
       "text": [
        "\n",
        "Processing ConceptLevel_AfterDistanceAndControlsAndDiversityAndCorrectedDiscreteVariety_K300-25_T80.csv..."
       ]
      },
      {
       "output_type": "stream",
       "stream": "stdout",
       "text": [
        "\n",
        "Processing ConceptLevel_AfterDistanceAndControlsAndDiversityAndCorrectedDiscreteVariety_K300-25_T90.csv..."
       ]
      },
      {
       "output_type": "stream",
       "stream": "stdout",
       "text": [
        "\n",
        "Processing ConceptLevel_AfterDistanceAndControlsAndDiversityAndCorrectedDiscreteVariety_K300-26_T20.csv..."
       ]
      },
      {
       "output_type": "stream",
       "stream": "stdout",
       "text": [
        "\n",
        "Processing ConceptLevel_AfterDistanceAndControlsAndDiversityAndCorrectedDiscreteVariety_K300-26_T30.csv..."
       ]
      },
      {
       "output_type": "stream",
       "stream": "stdout",
       "text": [
        "\n",
        "Processing ConceptLevel_AfterDistanceAndControlsAndDiversityAndCorrectedDiscreteVariety_K300-26_T40.csv..."
       ]
      },
      {
       "output_type": "stream",
       "stream": "stdout",
       "text": [
        "\n",
        "Processing ConceptLevel_AfterDistanceAndControlsAndDiversityAndCorrectedDiscreteVariety_K300-26_T50.csv..."
       ]
      },
      {
       "output_type": "stream",
       "stream": "stdout",
       "text": [
        "\n",
        "Processing ConceptLevel_AfterDistanceAndControlsAndDiversityAndCorrectedDiscreteVariety_K300-26_T60.csv..."
       ]
      },
      {
       "output_type": "stream",
       "stream": "stdout",
       "text": [
        "\n",
        "Processing ConceptLevel_AfterDistanceAndControlsAndDiversityAndCorrectedDiscreteVariety_K300-26_T70.csv..."
       ]
      },
      {
       "output_type": "stream",
       "stream": "stdout",
       "text": [
        "\n",
        "Processing ConceptLevel_AfterDistanceAndControlsAndDiversityAndCorrectedDiscreteVariety_K300-26_T80.csv..."
       ]
      },
      {
       "output_type": "stream",
       "stream": "stdout",
       "text": [
        "\n",
        "Processing ConceptLevel_AfterDistanceAndControlsAndDiversityAndCorrectedDiscreteVariety_K300-26_T90.csv..."
       ]
      },
      {
       "output_type": "stream",
       "stream": "stdout",
       "text": [
        "\n",
        "Processing ConceptLevel_AfterDistanceAndControlsAndDiversityAndCorrectedDiscreteVariety_K300-2_T20.csv..."
       ]
      },
      {
       "output_type": "stream",
       "stream": "stdout",
       "text": [
        "\n",
        "Processing ConceptLevel_AfterDistanceAndControlsAndDiversityAndCorrectedDiscreteVariety_K300-2_T30.csv..."
       ]
      },
      {
       "output_type": "stream",
       "stream": "stdout",
       "text": [
        "\n",
        "Processing ConceptLevel_AfterDistanceAndControlsAndDiversityAndCorrectedDiscreteVariety_K300-2_T40.csv..."
       ]
      },
      {
       "output_type": "stream",
       "stream": "stdout",
       "text": [
        "\n",
        "Processing ConceptLevel_AfterDistanceAndControlsAndDiversityAndCorrectedDiscreteVariety_K300-2_T50.csv..."
       ]
      },
      {
       "output_type": "stream",
       "stream": "stdout",
       "text": [
        "\n",
        "Processing ConceptLevel_AfterDistanceAndControlsAndDiversityAndCorrectedDiscreteVariety_K300-2_T60.csv..."
       ]
      },
      {
       "output_type": "stream",
       "stream": "stdout",
       "text": [
        "\n",
        "Processing ConceptLevel_AfterDistanceAndControlsAndDiversityAndCorrectedDiscreteVariety_K300-2_T70.csv..."
       ]
      },
      {
       "output_type": "stream",
       "stream": "stdout",
       "text": [
        "\n",
        "Processing ConceptLevel_AfterDistanceAndControlsAndDiversityAndCorrectedDiscreteVariety_K300-2_T80.csv..."
       ]
      },
      {
       "output_type": "stream",
       "stream": "stdout",
       "text": [
        "\n",
        "Processing ConceptLevel_AfterDistanceAndControlsAndDiversityAndCorrectedDiscreteVariety_K300-2_T90.csv..."
       ]
      },
      {
       "output_type": "stream",
       "stream": "stdout",
       "text": [
        "\n",
        "Processing ConceptLevel_AfterDistanceAndControlsAndDiversityAndCorrectedDiscreteVariety_K300-30_T20.csv..."
       ]
      },
      {
       "output_type": "stream",
       "stream": "stdout",
       "text": [
        "\n",
        "Processing ConceptLevel_AfterDistanceAndControlsAndDiversityAndCorrectedDiscreteVariety_K300-30_T30.csv..."
       ]
      },
      {
       "output_type": "stream",
       "stream": "stdout",
       "text": [
        "\n",
        "Processing ConceptLevel_AfterDistanceAndControlsAndDiversityAndCorrectedDiscreteVariety_K300-30_T40.csv..."
       ]
      },
      {
       "output_type": "stream",
       "stream": "stdout",
       "text": [
        "\n",
        "Processing ConceptLevel_AfterDistanceAndControlsAndDiversityAndCorrectedDiscreteVariety_K300-30_T50.csv..."
       ]
      },
      {
       "output_type": "stream",
       "stream": "stdout",
       "text": [
        "\n",
        "Processing ConceptLevel_AfterDistanceAndControlsAndDiversityAndCorrectedDiscreteVariety_K300-30_T60.csv..."
       ]
      },
      {
       "output_type": "stream",
       "stream": "stdout",
       "text": [
        "\n",
        "Processing ConceptLevel_AfterDistanceAndControlsAndDiversityAndCorrectedDiscreteVariety_K300-30_T70.csv..."
       ]
      },
      {
       "output_type": "stream",
       "stream": "stdout",
       "text": [
        "\n",
        "Processing ConceptLevel_AfterDistanceAndControlsAndDiversityAndCorrectedDiscreteVariety_K300-30_T80.csv..."
       ]
      },
      {
       "output_type": "stream",
       "stream": "stdout",
       "text": [
        "\n",
        "Processing ConceptLevel_AfterDistanceAndControlsAndDiversityAndCorrectedDiscreteVariety_K300-30_T90.csv..."
       ]
      },
      {
       "output_type": "stream",
       "stream": "stdout",
       "text": [
        "\n",
        "Processing ConceptLevel_AfterDistanceAndControlsAndDiversityAndCorrectedDiscreteVariety_K300-32_T20.csv..."
       ]
      },
      {
       "output_type": "stream",
       "stream": "stdout",
       "text": [
        "\n",
        "Processing ConceptLevel_AfterDistanceAndControlsAndDiversityAndCorrectedDiscreteVariety_K300-32_T30.csv..."
       ]
      },
      {
       "output_type": "stream",
       "stream": "stdout",
       "text": [
        "\n",
        "Processing ConceptLevel_AfterDistanceAndControlsAndDiversityAndCorrectedDiscreteVariety_K300-32_T40.csv..."
       ]
      },
      {
       "output_type": "stream",
       "stream": "stdout",
       "text": [
        "\n",
        "Processing ConceptLevel_AfterDistanceAndControlsAndDiversityAndCorrectedDiscreteVariety_K300-32_T50.csv..."
       ]
      },
      {
       "output_type": "stream",
       "stream": "stdout",
       "text": [
        "\n",
        "Processing ConceptLevel_AfterDistanceAndControlsAndDiversityAndCorrectedDiscreteVariety_K300-32_T60.csv..."
       ]
      },
      {
       "output_type": "stream",
       "stream": "stdout",
       "text": [
        "\n",
        "Processing ConceptLevel_AfterDistanceAndControlsAndDiversityAndCorrectedDiscreteVariety_K300-32_T70.csv..."
       ]
      },
      {
       "output_type": "stream",
       "stream": "stdout",
       "text": [
        "\n",
        "Processing ConceptLevel_AfterDistanceAndControlsAndDiversityAndCorrectedDiscreteVariety_K300-32_T80.csv..."
       ]
      },
      {
       "output_type": "stream",
       "stream": "stdout",
       "text": [
        "\n",
        "Processing ConceptLevel_AfterDistanceAndControlsAndDiversityAndCorrectedDiscreteVariety_K300-32_T90.csv..."
       ]
      },
      {
       "output_type": "stream",
       "stream": "stdout",
       "text": [
        "\n",
        "Processing ConceptLevel_AfterDistanceAndControlsAndDiversityAndCorrectedDiscreteVariety_K300-37_T20.csv..."
       ]
      },
      {
       "output_type": "stream",
       "stream": "stdout",
       "text": [
        "\n",
        "Processing ConceptLevel_AfterDistanceAndControlsAndDiversityAndCorrectedDiscreteVariety_K300-37_T30.csv..."
       ]
      },
      {
       "output_type": "stream",
       "stream": "stdout",
       "text": [
        "\n",
        "Processing ConceptLevel_AfterDistanceAndControlsAndDiversityAndCorrectedDiscreteVariety_K300-37_T40.csv..."
       ]
      },
      {
       "output_type": "stream",
       "stream": "stdout",
       "text": [
        "\n",
        "Processing ConceptLevel_AfterDistanceAndControlsAndDiversityAndCorrectedDiscreteVariety_K300-37_T50.csv..."
       ]
      },
      {
       "output_type": "stream",
       "stream": "stdout",
       "text": [
        "\n",
        "Processing ConceptLevel_AfterDistanceAndControlsAndDiversityAndCorrectedDiscreteVariety_K300-37_T60.csv..."
       ]
      },
      {
       "output_type": "stream",
       "stream": "stdout",
       "text": [
        "\n",
        "Processing ConceptLevel_AfterDistanceAndControlsAndDiversityAndCorrectedDiscreteVariety_K300-37_T70.csv..."
       ]
      },
      {
       "output_type": "stream",
       "stream": "stdout",
       "text": [
        "\n",
        "Processing ConceptLevel_AfterDistanceAndControlsAndDiversityAndCorrectedDiscreteVariety_K300-37_T80.csv..."
       ]
      },
      {
       "output_type": "stream",
       "stream": "stdout",
       "text": [
        "\n",
        "Processing ConceptLevel_AfterDistanceAndControlsAndDiversityAndCorrectedDiscreteVariety_K300-37_T90.csv..."
       ]
      },
      {
       "output_type": "stream",
       "stream": "stdout",
       "text": [
        "\n",
        "Processing ConceptLevel_AfterDistanceAndControlsAndDiversityAndCorrectedDiscreteVariety_K300-38_T20.csv..."
       ]
      },
      {
       "output_type": "stream",
       "stream": "stdout",
       "text": [
        "\n",
        "Processing ConceptLevel_AfterDistanceAndControlsAndDiversityAndCorrectedDiscreteVariety_K300-38_T30.csv..."
       ]
      },
      {
       "output_type": "stream",
       "stream": "stdout",
       "text": [
        "\n",
        "Processing ConceptLevel_AfterDistanceAndControlsAndDiversityAndCorrectedDiscreteVariety_K300-38_T40.csv..."
       ]
      },
      {
       "output_type": "stream",
       "stream": "stdout",
       "text": [
        "\n",
        "Processing ConceptLevel_AfterDistanceAndControlsAndDiversityAndCorrectedDiscreteVariety_K300-38_T50.csv..."
       ]
      },
      {
       "output_type": "stream",
       "stream": "stdout",
       "text": [
        "\n",
        "Processing ConceptLevel_AfterDistanceAndControlsAndDiversityAndCorrectedDiscreteVariety_K300-38_T60.csv..."
       ]
      },
      {
       "output_type": "stream",
       "stream": "stdout",
       "text": [
        "\n",
        "Processing ConceptLevel_AfterDistanceAndControlsAndDiversityAndCorrectedDiscreteVariety_K300-38_T70.csv..."
       ]
      },
      {
       "output_type": "stream",
       "stream": "stdout",
       "text": [
        "\n",
        "Processing ConceptLevel_AfterDistanceAndControlsAndDiversityAndCorrectedDiscreteVariety_K300-38_T80.csv..."
       ]
      },
      {
       "output_type": "stream",
       "stream": "stdout",
       "text": [
        "\n",
        "Processing ConceptLevel_AfterDistanceAndControlsAndDiversityAndCorrectedDiscreteVariety_K300-38_T90.csv..."
       ]
      },
      {
       "output_type": "stream",
       "stream": "stdout",
       "text": [
        "\n",
        "Processing ConceptLevel_AfterDistanceAndControlsAndDiversityAndCorrectedDiscreteVariety_K300-39_T20.csv..."
       ]
      },
      {
       "output_type": "stream",
       "stream": "stdout",
       "text": [
        "\n",
        "Processing ConceptLevel_AfterDistanceAndControlsAndDiversityAndCorrectedDiscreteVariety_K300-39_T30.csv..."
       ]
      },
      {
       "output_type": "stream",
       "stream": "stdout",
       "text": [
        "\n",
        "Processing ConceptLevel_AfterDistanceAndControlsAndDiversityAndCorrectedDiscreteVariety_K300-39_T40.csv..."
       ]
      },
      {
       "output_type": "stream",
       "stream": "stdout",
       "text": [
        "\n",
        "Processing ConceptLevel_AfterDistanceAndControlsAndDiversityAndCorrectedDiscreteVariety_K300-39_T50.csv..."
       ]
      },
      {
       "output_type": "stream",
       "stream": "stdout",
       "text": [
        "\n",
        "Processing ConceptLevel_AfterDistanceAndControlsAndDiversityAndCorrectedDiscreteVariety_K300-39_T60.csv..."
       ]
      },
      {
       "output_type": "stream",
       "stream": "stdout",
       "text": [
        "\n",
        "Processing ConceptLevel_AfterDistanceAndControlsAndDiversityAndCorrectedDiscreteVariety_K300-39_T70.csv..."
       ]
      },
      {
       "output_type": "stream",
       "stream": "stdout",
       "text": [
        "\n",
        "Processing ConceptLevel_AfterDistanceAndControlsAndDiversityAndCorrectedDiscreteVariety_K300-39_T80.csv..."
       ]
      },
      {
       "output_type": "stream",
       "stream": "stdout",
       "text": [
        "\n",
        "Processing ConceptLevel_AfterDistanceAndControlsAndDiversityAndCorrectedDiscreteVariety_K300-39_T90.csv..."
       ]
      },
      {
       "output_type": "stream",
       "stream": "stdout",
       "text": [
        "\n",
        "Processing ConceptLevel_AfterDistanceAndControlsAndDiversityAndCorrectedDiscreteVariety_K300-3_T20.csv..."
       ]
      },
      {
       "output_type": "stream",
       "stream": "stdout",
       "text": [
        "\n",
        "Processing ConceptLevel_AfterDistanceAndControlsAndDiversityAndCorrectedDiscreteVariety_K300-3_T30.csv..."
       ]
      },
      {
       "output_type": "stream",
       "stream": "stdout",
       "text": [
        "\n",
        "Processing ConceptLevel_AfterDistanceAndControlsAndDiversityAndCorrectedDiscreteVariety_K300-3_T40.csv..."
       ]
      },
      {
       "output_type": "stream",
       "stream": "stdout",
       "text": [
        "\n",
        "Processing ConceptLevel_AfterDistanceAndControlsAndDiversityAndCorrectedDiscreteVariety_K300-3_T50.csv..."
       ]
      },
      {
       "output_type": "stream",
       "stream": "stdout",
       "text": [
        "\n",
        "Processing ConceptLevel_AfterDistanceAndControlsAndDiversityAndCorrectedDiscreteVariety_K300-3_T60.csv..."
       ]
      },
      {
       "output_type": "stream",
       "stream": "stdout",
       "text": [
        "\n",
        "Processing ConceptLevel_AfterDistanceAndControlsAndDiversityAndCorrectedDiscreteVariety_K300-3_T70.csv..."
       ]
      },
      {
       "output_type": "stream",
       "stream": "stdout",
       "text": [
        "\n",
        "Processing ConceptLevel_AfterDistanceAndControlsAndDiversityAndCorrectedDiscreteVariety_K300-3_T80.csv..."
       ]
      },
      {
       "output_type": "stream",
       "stream": "stdout",
       "text": [
        "\n",
        "Processing ConceptLevel_AfterDistanceAndControlsAndDiversityAndCorrectedDiscreteVariety_K300-3_T90.csv..."
       ]
      },
      {
       "output_type": "stream",
       "stream": "stdout",
       "text": [
        "\n",
        "Processing ConceptLevel_AfterDistanceAndControlsAndDiversityAndCorrectedDiscreteVariety_K300-44_T20.csv..."
       ]
      },
      {
       "output_type": "stream",
       "stream": "stdout",
       "text": [
        "\n",
        "Processing ConceptLevel_AfterDistanceAndControlsAndDiversityAndCorrectedDiscreteVariety_K300-44_T30.csv..."
       ]
      },
      {
       "output_type": "stream",
       "stream": "stdout",
       "text": [
        "\n",
        "Processing ConceptLevel_AfterDistanceAndControlsAndDiversityAndCorrectedDiscreteVariety_K300-44_T40.csv..."
       ]
      },
      {
       "output_type": "stream",
       "stream": "stdout",
       "text": [
        "\n",
        "Processing ConceptLevel_AfterDistanceAndControlsAndDiversityAndCorrectedDiscreteVariety_K300-44_T50.csv..."
       ]
      },
      {
       "output_type": "stream",
       "stream": "stdout",
       "text": [
        "\n",
        "Processing ConceptLevel_AfterDistanceAndControlsAndDiversityAndCorrectedDiscreteVariety_K300-44_T60.csv..."
       ]
      },
      {
       "output_type": "stream",
       "stream": "stdout",
       "text": [
        "\n",
        "Processing ConceptLevel_AfterDistanceAndControlsAndDiversityAndCorrectedDiscreteVariety_K300-44_T70.csv..."
       ]
      },
      {
       "output_type": "stream",
       "stream": "stdout",
       "text": [
        "\n",
        "Processing ConceptLevel_AfterDistanceAndControlsAndDiversityAndCorrectedDiscreteVariety_K300-44_T80.csv..."
       ]
      },
      {
       "output_type": "stream",
       "stream": "stdout",
       "text": [
        "\n",
        "Processing ConceptLevel_AfterDistanceAndControlsAndDiversityAndCorrectedDiscreteVariety_K300-44_T90.csv..."
       ]
      },
      {
       "output_type": "stream",
       "stream": "stdout",
       "text": [
        "\n",
        "Processing ConceptLevel_AfterDistanceAndControlsAndDiversityAndCorrectedDiscreteVariety_K300-46_T20.csv..."
       ]
      },
      {
       "output_type": "stream",
       "stream": "stdout",
       "text": [
        "\n",
        "Processing ConceptLevel_AfterDistanceAndControlsAndDiversityAndCorrectedDiscreteVariety_K300-46_T30.csv..."
       ]
      },
      {
       "output_type": "stream",
       "stream": "stdout",
       "text": [
        "\n",
        "Processing ConceptLevel_AfterDistanceAndControlsAndDiversityAndCorrectedDiscreteVariety_K300-46_T40.csv..."
       ]
      },
      {
       "output_type": "stream",
       "stream": "stdout",
       "text": [
        "\n",
        "Processing ConceptLevel_AfterDistanceAndControlsAndDiversityAndCorrectedDiscreteVariety_K300-46_T50.csv..."
       ]
      },
      {
       "output_type": "stream",
       "stream": "stdout",
       "text": [
        "\n",
        "Processing ConceptLevel_AfterDistanceAndControlsAndDiversityAndCorrectedDiscreteVariety_K300-46_T60.csv..."
       ]
      },
      {
       "output_type": "stream",
       "stream": "stdout",
       "text": [
        "\n",
        "Processing ConceptLevel_AfterDistanceAndControlsAndDiversityAndCorrectedDiscreteVariety_K300-46_T70.csv..."
       ]
      },
      {
       "output_type": "stream",
       "stream": "stdout",
       "text": [
        "\n",
        "Processing ConceptLevel_AfterDistanceAndControlsAndDiversityAndCorrectedDiscreteVariety_K300-46_T80.csv..."
       ]
      },
      {
       "output_type": "stream",
       "stream": "stdout",
       "text": [
        "\n",
        "Processing ConceptLevel_AfterDistanceAndControlsAndDiversityAndCorrectedDiscreteVariety_K300-46_T90.csv..."
       ]
      },
      {
       "output_type": "stream",
       "stream": "stdout",
       "text": [
        "\n",
        "Processing ConceptLevel_AfterDistanceAndControlsAndDiversityAndCorrectedDiscreteVariety_K300-47_T20.csv..."
       ]
      },
      {
       "output_type": "stream",
       "stream": "stdout",
       "text": [
        "\n",
        "Processing ConceptLevel_AfterDistanceAndControlsAndDiversityAndCorrectedDiscreteVariety_K300-47_T30.csv..."
       ]
      },
      {
       "output_type": "stream",
       "stream": "stdout",
       "text": [
        "\n",
        "Processing ConceptLevel_AfterDistanceAndControlsAndDiversityAndCorrectedDiscreteVariety_K300-47_T40.csv..."
       ]
      },
      {
       "output_type": "stream",
       "stream": "stdout",
       "text": [
        "\n",
        "Processing ConceptLevel_AfterDistanceAndControlsAndDiversityAndCorrectedDiscreteVariety_K300-47_T50.csv..."
       ]
      },
      {
       "output_type": "stream",
       "stream": "stdout",
       "text": [
        "\n",
        "Processing ConceptLevel_AfterDistanceAndControlsAndDiversityAndCorrectedDiscreteVariety_K300-47_T60.csv..."
       ]
      },
      {
       "output_type": "stream",
       "stream": "stdout",
       "text": [
        "\n",
        "Processing ConceptLevel_AfterDistanceAndControlsAndDiversityAndCorrectedDiscreteVariety_K300-47_T70.csv..."
       ]
      },
      {
       "output_type": "stream",
       "stream": "stdout",
       "text": [
        "\n",
        "Processing ConceptLevel_AfterDistanceAndControlsAndDiversityAndCorrectedDiscreteVariety_K300-47_T80.csv..."
       ]
      },
      {
       "output_type": "stream",
       "stream": "stdout",
       "text": [
        "\n",
        "Processing ConceptLevel_AfterDistanceAndControlsAndDiversityAndCorrectedDiscreteVariety_K300-47_T90.csv..."
       ]
      },
      {
       "output_type": "stream",
       "stream": "stdout",
       "text": [
        "\n",
        "Processing ConceptLevel_AfterDistanceAndControlsAndDiversityAndCorrectedDiscreteVariety_K300-6_T20.csv..."
       ]
      },
      {
       "output_type": "stream",
       "stream": "stdout",
       "text": [
        "\n",
        "Processing ConceptLevel_AfterDistanceAndControlsAndDiversityAndCorrectedDiscreteVariety_K300-6_T30.csv..."
       ]
      },
      {
       "output_type": "stream",
       "stream": "stdout",
       "text": [
        "\n",
        "Processing ConceptLevel_AfterDistanceAndControlsAndDiversityAndCorrectedDiscreteVariety_K300-6_T40.csv..."
       ]
      },
      {
       "output_type": "stream",
       "stream": "stdout",
       "text": [
        "\n",
        "Processing ConceptLevel_AfterDistanceAndControlsAndDiversityAndCorrectedDiscreteVariety_K300-6_T50.csv..."
       ]
      },
      {
       "output_type": "stream",
       "stream": "stdout",
       "text": [
        "\n",
        "Processing ConceptLevel_AfterDistanceAndControlsAndDiversityAndCorrectedDiscreteVariety_K300-6_T60.csv..."
       ]
      },
      {
       "output_type": "stream",
       "stream": "stdout",
       "text": [
        "\n",
        "Processing ConceptLevel_AfterDistanceAndControlsAndDiversityAndCorrectedDiscreteVariety_K300-6_T70.csv..."
       ]
      },
      {
       "output_type": "stream",
       "stream": "stdout",
       "text": [
        "\n",
        "Processing ConceptLevel_AfterDistanceAndControlsAndDiversityAndCorrectedDiscreteVariety_K300-6_T80.csv..."
       ]
      },
      {
       "output_type": "stream",
       "stream": "stdout",
       "text": [
        "\n",
        "Processing ConceptLevel_AfterDistanceAndControlsAndDiversityAndCorrectedDiscreteVariety_K300-6_T90.csv..."
       ]
      },
      {
       "output_type": "stream",
       "stream": "stdout",
       "text": [
        "\n",
        "Processing ConceptLevel_AfterDistanceAndControlsAndDiversityAndCorrectedDiscreteVariety_K300-9_T20.csv..."
       ]
      },
      {
       "output_type": "stream",
       "stream": "stdout",
       "text": [
        "\n",
        "Processing ConceptLevel_AfterDistanceAndControlsAndDiversityAndCorrectedDiscreteVariety_K300-9_T30.csv..."
       ]
      },
      {
       "output_type": "stream",
       "stream": "stdout",
       "text": [
        "\n",
        "Processing ConceptLevel_AfterDistanceAndControlsAndDiversityAndCorrectedDiscreteVariety_K300-9_T40.csv..."
       ]
      },
      {
       "output_type": "stream",
       "stream": "stdout",
       "text": [
        "\n",
        "Processing ConceptLevel_AfterDistanceAndControlsAndDiversityAndCorrectedDiscreteVariety_K300-9_T50.csv..."
       ]
      },
      {
       "output_type": "stream",
       "stream": "stdout",
       "text": [
        "\n",
        "Processing ConceptLevel_AfterDistanceAndControlsAndDiversityAndCorrectedDiscreteVariety_K300-9_T60.csv..."
       ]
      },
      {
       "output_type": "stream",
       "stream": "stdout",
       "text": [
        "\n",
        "Processing ConceptLevel_AfterDistanceAndControlsAndDiversityAndCorrectedDiscreteVariety_K300-9_T70.csv..."
       ]
      },
      {
       "output_type": "stream",
       "stream": "stdout",
       "text": [
        "\n",
        "Processing ConceptLevel_AfterDistanceAndControlsAndDiversityAndCorrectedDiscreteVariety_K300-9_T80.csv..."
       ]
      },
      {
       "output_type": "stream",
       "stream": "stdout",
       "text": [
        "\n",
        "Processing ConceptLevel_AfterDistanceAndControlsAndDiversityAndCorrectedDiscreteVariety_K300-9_T90.csv..."
       ]
      },
      {
       "output_type": "stream",
       "stream": "stdout",
       "text": [
        "\n",
        "Processing ConceptLevel_AfterDistanceAndControlsAndDiversityAndCorrectedDiscreteVariety_K400-10_T20.csv..."
       ]
      },
      {
       "output_type": "stream",
       "stream": "stdout",
       "text": [
        "\n",
        "Processing ConceptLevel_AfterDistanceAndControlsAndDiversityAndCorrectedDiscreteVariety_K400-10_T30.csv..."
       ]
      },
      {
       "output_type": "stream",
       "stream": "stdout",
       "text": [
        "\n",
        "Processing ConceptLevel_AfterDistanceAndControlsAndDiversityAndCorrectedDiscreteVariety_K400-10_T40.csv..."
       ]
      },
      {
       "output_type": "stream",
       "stream": "stdout",
       "text": [
        "\n",
        "Processing ConceptLevel_AfterDistanceAndControlsAndDiversityAndCorrectedDiscreteVariety_K400-10_T50.csv..."
       ]
      },
      {
       "output_type": "stream",
       "stream": "stdout",
       "text": [
        "\n",
        "Processing ConceptLevel_AfterDistanceAndControlsAndDiversityAndCorrectedDiscreteVariety_K400-10_T60.csv..."
       ]
      },
      {
       "output_type": "stream",
       "stream": "stdout",
       "text": [
        "\n",
        "Processing ConceptLevel_AfterDistanceAndControlsAndDiversityAndCorrectedDiscreteVariety_K400-10_T70.csv..."
       ]
      },
      {
       "output_type": "stream",
       "stream": "stdout",
       "text": [
        "\n",
        "Processing ConceptLevel_AfterDistanceAndControlsAndDiversityAndCorrectedDiscreteVariety_K400-10_T80.csv..."
       ]
      },
      {
       "output_type": "stream",
       "stream": "stdout",
       "text": [
        "\n",
        "Processing ConceptLevel_AfterDistanceAndControlsAndDiversityAndCorrectedDiscreteVariety_K400-10_T90.csv..."
       ]
      },
      {
       "output_type": "stream",
       "stream": "stdout",
       "text": [
        "\n",
        "Processing ConceptLevel_AfterDistanceAndControlsAndDiversityAndCorrectedDiscreteVariety_K400-11_T20.csv..."
       ]
      },
      {
       "output_type": "stream",
       "stream": "stdout",
       "text": [
        "\n",
        "Processing ConceptLevel_AfterDistanceAndControlsAndDiversityAndCorrectedDiscreteVariety_K400-11_T30.csv..."
       ]
      },
      {
       "output_type": "stream",
       "stream": "stdout",
       "text": [
        "\n",
        "Processing ConceptLevel_AfterDistanceAndControlsAndDiversityAndCorrectedDiscreteVariety_K400-11_T40.csv..."
       ]
      },
      {
       "output_type": "stream",
       "stream": "stdout",
       "text": [
        "\n",
        "Processing ConceptLevel_AfterDistanceAndControlsAndDiversityAndCorrectedDiscreteVariety_K400-11_T50.csv..."
       ]
      },
      {
       "output_type": "stream",
       "stream": "stdout",
       "text": [
        "\n",
        "Processing ConceptLevel_AfterDistanceAndControlsAndDiversityAndCorrectedDiscreteVariety_K400-11_T60.csv..."
       ]
      },
      {
       "output_type": "stream",
       "stream": "stdout",
       "text": [
        "\n",
        "Processing ConceptLevel_AfterDistanceAndControlsAndDiversityAndCorrectedDiscreteVariety_K400-11_T70.csv..."
       ]
      },
      {
       "output_type": "stream",
       "stream": "stdout",
       "text": [
        "\n",
        "Processing ConceptLevel_AfterDistanceAndControlsAndDiversityAndCorrectedDiscreteVariety_K400-11_T80.csv..."
       ]
      },
      {
       "output_type": "stream",
       "stream": "stdout",
       "text": [
        "\n",
        "Processing ConceptLevel_AfterDistanceAndControlsAndDiversityAndCorrectedDiscreteVariety_K400-11_T90.csv..."
       ]
      },
      {
       "output_type": "stream",
       "stream": "stdout",
       "text": [
        "\n",
        "Processing ConceptLevel_AfterDistanceAndControlsAndDiversityAndCorrectedDiscreteVariety_K400-13_T20.csv..."
       ]
      },
      {
       "output_type": "stream",
       "stream": "stdout",
       "text": [
        "\n",
        "Processing ConceptLevel_AfterDistanceAndControlsAndDiversityAndCorrectedDiscreteVariety_K400-13_T30.csv..."
       ]
      },
      {
       "output_type": "stream",
       "stream": "stdout",
       "text": [
        "\n",
        "Processing ConceptLevel_AfterDistanceAndControlsAndDiversityAndCorrectedDiscreteVariety_K400-13_T40.csv..."
       ]
      },
      {
       "output_type": "stream",
       "stream": "stdout",
       "text": [
        "\n",
        "Processing ConceptLevel_AfterDistanceAndControlsAndDiversityAndCorrectedDiscreteVariety_K400-13_T50.csv..."
       ]
      },
      {
       "output_type": "stream",
       "stream": "stdout",
       "text": [
        "\n",
        "Processing ConceptLevel_AfterDistanceAndControlsAndDiversityAndCorrectedDiscreteVariety_K400-13_T60.csv..."
       ]
      },
      {
       "output_type": "stream",
       "stream": "stdout",
       "text": [
        "\n",
        "Processing ConceptLevel_AfterDistanceAndControlsAndDiversityAndCorrectedDiscreteVariety_K400-13_T70.csv..."
       ]
      },
      {
       "output_type": "stream",
       "stream": "stdout",
       "text": [
        "\n",
        "Processing ConceptLevel_AfterDistanceAndControlsAndDiversityAndCorrectedDiscreteVariety_K400-13_T80.csv..."
       ]
      },
      {
       "output_type": "stream",
       "stream": "stdout",
       "text": [
        "\n",
        "Processing ConceptLevel_AfterDistanceAndControlsAndDiversityAndCorrectedDiscreteVariety_K400-13_T90.csv..."
       ]
      },
      {
       "output_type": "stream",
       "stream": "stdout",
       "text": [
        "\n",
        "Processing ConceptLevel_AfterDistanceAndControlsAndDiversityAndCorrectedDiscreteVariety_K400-14_T20.csv..."
       ]
      },
      {
       "output_type": "stream",
       "stream": "stdout",
       "text": [
        "\n",
        "Processing ConceptLevel_AfterDistanceAndControlsAndDiversityAndCorrectedDiscreteVariety_K400-14_T30.csv..."
       ]
      },
      {
       "output_type": "stream",
       "stream": "stdout",
       "text": [
        "\n",
        "Processing ConceptLevel_AfterDistanceAndControlsAndDiversityAndCorrectedDiscreteVariety_K400-14_T40.csv..."
       ]
      },
      {
       "output_type": "stream",
       "stream": "stdout",
       "text": [
        "\n",
        "Processing ConceptLevel_AfterDistanceAndControlsAndDiversityAndCorrectedDiscreteVariety_K400-14_T50.csv..."
       ]
      },
      {
       "output_type": "stream",
       "stream": "stdout",
       "text": [
        "\n",
        "Processing ConceptLevel_AfterDistanceAndControlsAndDiversityAndCorrectedDiscreteVariety_K400-14_T60.csv..."
       ]
      },
      {
       "output_type": "stream",
       "stream": "stdout",
       "text": [
        "\n",
        "Processing ConceptLevel_AfterDistanceAndControlsAndDiversityAndCorrectedDiscreteVariety_K400-14_T70.csv..."
       ]
      },
      {
       "output_type": "stream",
       "stream": "stdout",
       "text": [
        "\n",
        "Processing ConceptLevel_AfterDistanceAndControlsAndDiversityAndCorrectedDiscreteVariety_K400-14_T80.csv..."
       ]
      },
      {
       "output_type": "stream",
       "stream": "stdout",
       "text": [
        "\n",
        "Processing ConceptLevel_AfterDistanceAndControlsAndDiversityAndCorrectedDiscreteVariety_K400-14_T90.csv..."
       ]
      },
      {
       "output_type": "stream",
       "stream": "stdout",
       "text": [
        "\n",
        "Processing ConceptLevel_AfterDistanceAndControlsAndDiversityAndCorrectedDiscreteVariety_K400-16_T20.csv..."
       ]
      },
      {
       "output_type": "stream",
       "stream": "stdout",
       "text": [
        "\n",
        "Processing ConceptLevel_AfterDistanceAndControlsAndDiversityAndCorrectedDiscreteVariety_K400-16_T30.csv..."
       ]
      },
      {
       "output_type": "stream",
       "stream": "stdout",
       "text": [
        "\n",
        "Processing ConceptLevel_AfterDistanceAndControlsAndDiversityAndCorrectedDiscreteVariety_K400-16_T40.csv..."
       ]
      },
      {
       "output_type": "stream",
       "stream": "stdout",
       "text": [
        "\n",
        "Processing ConceptLevel_AfterDistanceAndControlsAndDiversityAndCorrectedDiscreteVariety_K400-16_T50.csv..."
       ]
      },
      {
       "output_type": "stream",
       "stream": "stdout",
       "text": [
        "\n",
        "Processing ConceptLevel_AfterDistanceAndControlsAndDiversityAndCorrectedDiscreteVariety_K400-16_T60.csv..."
       ]
      },
      {
       "output_type": "stream",
       "stream": "stdout",
       "text": [
        "\n",
        "Processing ConceptLevel_AfterDistanceAndControlsAndDiversityAndCorrectedDiscreteVariety_K400-16_T70.csv..."
       ]
      },
      {
       "output_type": "stream",
       "stream": "stdout",
       "text": [
        "\n",
        "Processing ConceptLevel_AfterDistanceAndControlsAndDiversityAndCorrectedDiscreteVariety_K400-16_T80.csv..."
       ]
      },
      {
       "output_type": "stream",
       "stream": "stdout",
       "text": [
        "\n",
        "Processing ConceptLevel_AfterDistanceAndControlsAndDiversityAndCorrectedDiscreteVariety_K400-16_T90.csv..."
       ]
      },
      {
       "output_type": "stream",
       "stream": "stdout",
       "text": [
        "\n",
        "Processing ConceptLevel_AfterDistanceAndControlsAndDiversityAndCorrectedDiscreteVariety_K400-17_T20.csv..."
       ]
      },
      {
       "output_type": "stream",
       "stream": "stdout",
       "text": [
        "\n",
        "Processing ConceptLevel_AfterDistanceAndControlsAndDiversityAndCorrectedDiscreteVariety_K400-17_T30.csv..."
       ]
      },
      {
       "output_type": "stream",
       "stream": "stdout",
       "text": [
        "\n",
        "Processing ConceptLevel_AfterDistanceAndControlsAndDiversityAndCorrectedDiscreteVariety_K400-17_T40.csv..."
       ]
      },
      {
       "output_type": "stream",
       "stream": "stdout",
       "text": [
        "\n",
        "Processing ConceptLevel_AfterDistanceAndControlsAndDiversityAndCorrectedDiscreteVariety_K400-17_T50.csv..."
       ]
      },
      {
       "output_type": "stream",
       "stream": "stdout",
       "text": [
        "\n",
        "Processing ConceptLevel_AfterDistanceAndControlsAndDiversityAndCorrectedDiscreteVariety_K400-17_T60.csv..."
       ]
      },
      {
       "output_type": "stream",
       "stream": "stdout",
       "text": [
        "\n",
        "Processing ConceptLevel_AfterDistanceAndControlsAndDiversityAndCorrectedDiscreteVariety_K400-17_T70.csv..."
       ]
      },
      {
       "output_type": "stream",
       "stream": "stdout",
       "text": [
        "\n",
        "Processing ConceptLevel_AfterDistanceAndControlsAndDiversityAndCorrectedDiscreteVariety_K400-17_T80.csv..."
       ]
      },
      {
       "output_type": "stream",
       "stream": "stdout",
       "text": [
        "\n",
        "Processing ConceptLevel_AfterDistanceAndControlsAndDiversityAndCorrectedDiscreteVariety_K400-17_T90.csv..."
       ]
      },
      {
       "output_type": "stream",
       "stream": "stdout",
       "text": [
        "\n",
        "Processing ConceptLevel_AfterDistanceAndControlsAndDiversityAndCorrectedDiscreteVariety_K400-1_T20.csv..."
       ]
      },
      {
       "output_type": "stream",
       "stream": "stdout",
       "text": [
        "\n",
        "Processing ConceptLevel_AfterDistanceAndControlsAndDiversityAndCorrectedDiscreteVariety_K400-1_T30.csv..."
       ]
      },
      {
       "output_type": "stream",
       "stream": "stdout",
       "text": [
        "\n",
        "Processing ConceptLevel_AfterDistanceAndControlsAndDiversityAndCorrectedDiscreteVariety_K400-1_T40.csv..."
       ]
      },
      {
       "output_type": "stream",
       "stream": "stdout",
       "text": [
        "\n",
        "Processing ConceptLevel_AfterDistanceAndControlsAndDiversityAndCorrectedDiscreteVariety_K400-1_T50.csv..."
       ]
      },
      {
       "output_type": "stream",
       "stream": "stdout",
       "text": [
        "\n",
        "Processing ConceptLevel_AfterDistanceAndControlsAndDiversityAndCorrectedDiscreteVariety_K400-1_T60.csv..."
       ]
      },
      {
       "output_type": "stream",
       "stream": "stdout",
       "text": [
        "\n",
        "Processing ConceptLevel_AfterDistanceAndControlsAndDiversityAndCorrectedDiscreteVariety_K400-1_T70.csv..."
       ]
      },
      {
       "output_type": "stream",
       "stream": "stdout",
       "text": [
        "\n",
        "Processing ConceptLevel_AfterDistanceAndControlsAndDiversityAndCorrectedDiscreteVariety_K400-1_T80.csv..."
       ]
      },
      {
       "output_type": "stream",
       "stream": "stdout",
       "text": [
        "\n",
        "Processing ConceptLevel_AfterDistanceAndControlsAndDiversityAndCorrectedDiscreteVariety_K400-1_T90.csv..."
       ]
      },
      {
       "output_type": "stream",
       "stream": "stdout",
       "text": [
        "\n",
        "Processing ConceptLevel_AfterDistanceAndControlsAndDiversityAndCorrectedDiscreteVariety_K400-20_T20.csv..."
       ]
      },
      {
       "output_type": "stream",
       "stream": "stdout",
       "text": [
        "\n",
        "Processing ConceptLevel_AfterDistanceAndControlsAndDiversityAndCorrectedDiscreteVariety_K400-20_T30.csv..."
       ]
      },
      {
       "output_type": "stream",
       "stream": "stdout",
       "text": [
        "\n",
        "Processing ConceptLevel_AfterDistanceAndControlsAndDiversityAndCorrectedDiscreteVariety_K400-20_T40.csv..."
       ]
      },
      {
       "output_type": "stream",
       "stream": "stdout",
       "text": [
        "\n",
        "Processing ConceptLevel_AfterDistanceAndControlsAndDiversityAndCorrectedDiscreteVariety_K400-20_T50.csv..."
       ]
      },
      {
       "output_type": "stream",
       "stream": "stdout",
       "text": [
        "\n",
        "Processing ConceptLevel_AfterDistanceAndControlsAndDiversityAndCorrectedDiscreteVariety_K400-20_T60.csv..."
       ]
      },
      {
       "output_type": "stream",
       "stream": "stdout",
       "text": [
        "\n",
        "Processing ConceptLevel_AfterDistanceAndControlsAndDiversityAndCorrectedDiscreteVariety_K400-20_T70.csv..."
       ]
      },
      {
       "output_type": "stream",
       "stream": "stdout",
       "text": [
        "\n",
        "Processing ConceptLevel_AfterDistanceAndControlsAndDiversityAndCorrectedDiscreteVariety_K400-20_T80.csv..."
       ]
      },
      {
       "output_type": "stream",
       "stream": "stdout",
       "text": [
        "\n",
        "Processing ConceptLevel_AfterDistanceAndControlsAndDiversityAndCorrectedDiscreteVariety_K400-20_T90.csv..."
       ]
      },
      {
       "output_type": "stream",
       "stream": "stdout",
       "text": [
        "\n",
        "Processing ConceptLevel_AfterDistanceAndControlsAndDiversityAndCorrectedDiscreteVariety_K400-26_T20.csv..."
       ]
      },
      {
       "output_type": "stream",
       "stream": "stdout",
       "text": [
        "\n",
        "Processing ConceptLevel_AfterDistanceAndControlsAndDiversityAndCorrectedDiscreteVariety_K400-26_T30.csv..."
       ]
      },
      {
       "output_type": "stream",
       "stream": "stdout",
       "text": [
        "\n",
        "Processing ConceptLevel_AfterDistanceAndControlsAndDiversityAndCorrectedDiscreteVariety_K400-26_T40.csv..."
       ]
      },
      {
       "output_type": "stream",
       "stream": "stdout",
       "text": [
        "\n",
        "Processing ConceptLevel_AfterDistanceAndControlsAndDiversityAndCorrectedDiscreteVariety_K400-26_T50.csv..."
       ]
      },
      {
       "output_type": "stream",
       "stream": "stdout",
       "text": [
        "\n",
        "Processing ConceptLevel_AfterDistanceAndControlsAndDiversityAndCorrectedDiscreteVariety_K400-26_T60.csv..."
       ]
      },
      {
       "output_type": "stream",
       "stream": "stdout",
       "text": [
        "\n",
        "Processing ConceptLevel_AfterDistanceAndControlsAndDiversityAndCorrectedDiscreteVariety_K400-26_T70.csv..."
       ]
      },
      {
       "output_type": "stream",
       "stream": "stdout",
       "text": [
        "\n",
        "Processing ConceptLevel_AfterDistanceAndControlsAndDiversityAndCorrectedDiscreteVariety_K400-26_T80.csv..."
       ]
      },
      {
       "output_type": "stream",
       "stream": "stdout",
       "text": [
        "\n",
        "Processing ConceptLevel_AfterDistanceAndControlsAndDiversityAndCorrectedDiscreteVariety_K400-26_T90.csv..."
       ]
      },
      {
       "output_type": "stream",
       "stream": "stdout",
       "text": [
        "\n",
        "Processing ConceptLevel_AfterDistanceAndControlsAndDiversityAndCorrectedDiscreteVariety_K400-29_T20.csv..."
       ]
      },
      {
       "output_type": "stream",
       "stream": "stdout",
       "text": [
        "\n",
        "Processing ConceptLevel_AfterDistanceAndControlsAndDiversityAndCorrectedDiscreteVariety_K400-29_T30.csv..."
       ]
      },
      {
       "output_type": "stream",
       "stream": "stdout",
       "text": [
        "\n",
        "Processing ConceptLevel_AfterDistanceAndControlsAndDiversityAndCorrectedDiscreteVariety_K400-29_T40.csv..."
       ]
      },
      {
       "output_type": "stream",
       "stream": "stdout",
       "text": [
        "\n",
        "Processing ConceptLevel_AfterDistanceAndControlsAndDiversityAndCorrectedDiscreteVariety_K400-29_T50.csv..."
       ]
      },
      {
       "output_type": "stream",
       "stream": "stdout",
       "text": [
        "\n",
        "Processing ConceptLevel_AfterDistanceAndControlsAndDiversityAndCorrectedDiscreteVariety_K400-29_T60.csv..."
       ]
      },
      {
       "output_type": "stream",
       "stream": "stdout",
       "text": [
        "\n",
        "Processing ConceptLevel_AfterDistanceAndControlsAndDiversityAndCorrectedDiscreteVariety_K400-29_T70.csv..."
       ]
      },
      {
       "output_type": "stream",
       "stream": "stdout",
       "text": [
        "\n",
        "Processing ConceptLevel_AfterDistanceAndControlsAndDiversityAndCorrectedDiscreteVariety_K400-29_T80.csv..."
       ]
      },
      {
       "output_type": "stream",
       "stream": "stdout",
       "text": [
        "\n",
        "Processing ConceptLevel_AfterDistanceAndControlsAndDiversityAndCorrectedDiscreteVariety_K400-29_T90.csv..."
       ]
      },
      {
       "output_type": "stream",
       "stream": "stdout",
       "text": [
        "\n",
        "Processing ConceptLevel_AfterDistanceAndControlsAndDiversityAndCorrectedDiscreteVariety_K400-31_T20.csv..."
       ]
      },
      {
       "output_type": "stream",
       "stream": "stdout",
       "text": [
        "\n",
        "Processing ConceptLevel_AfterDistanceAndControlsAndDiversityAndCorrectedDiscreteVariety_K400-31_T30.csv..."
       ]
      },
      {
       "output_type": "stream",
       "stream": "stdout",
       "text": [
        "\n",
        "Processing ConceptLevel_AfterDistanceAndControlsAndDiversityAndCorrectedDiscreteVariety_K400-31_T40.csv..."
       ]
      },
      {
       "output_type": "stream",
       "stream": "stdout",
       "text": [
        "\n",
        "Processing ConceptLevel_AfterDistanceAndControlsAndDiversityAndCorrectedDiscreteVariety_K400-31_T50.csv..."
       ]
      },
      {
       "output_type": "stream",
       "stream": "stdout",
       "text": [
        "\n",
        "Processing ConceptLevel_AfterDistanceAndControlsAndDiversityAndCorrectedDiscreteVariety_K400-31_T60.csv..."
       ]
      },
      {
       "output_type": "stream",
       "stream": "stdout",
       "text": [
        "\n",
        "Processing ConceptLevel_AfterDistanceAndControlsAndDiversityAndCorrectedDiscreteVariety_K400-31_T70.csv..."
       ]
      },
      {
       "output_type": "stream",
       "stream": "stdout",
       "text": [
        "\n",
        "Processing ConceptLevel_AfterDistanceAndControlsAndDiversityAndCorrectedDiscreteVariety_K400-31_T80.csv..."
       ]
      },
      {
       "output_type": "stream",
       "stream": "stdout",
       "text": [
        "\n",
        "Processing ConceptLevel_AfterDistanceAndControlsAndDiversityAndCorrectedDiscreteVariety_K400-31_T90.csv..."
       ]
      },
      {
       "output_type": "stream",
       "stream": "stdout",
       "text": [
        "\n",
        "Processing ConceptLevel_AfterDistanceAndControlsAndDiversityAndCorrectedDiscreteVariety_K400-34_T20.csv..."
       ]
      },
      {
       "output_type": "stream",
       "stream": "stdout",
       "text": [
        "\n",
        "Processing ConceptLevel_AfterDistanceAndControlsAndDiversityAndCorrectedDiscreteVariety_K400-34_T30.csv..."
       ]
      },
      {
       "output_type": "stream",
       "stream": "stdout",
       "text": [
        "\n",
        "Processing ConceptLevel_AfterDistanceAndControlsAndDiversityAndCorrectedDiscreteVariety_K400-34_T40.csv..."
       ]
      },
      {
       "output_type": "stream",
       "stream": "stdout",
       "text": [
        "\n",
        "Processing ConceptLevel_AfterDistanceAndControlsAndDiversityAndCorrectedDiscreteVariety_K400-34_T50.csv..."
       ]
      },
      {
       "output_type": "stream",
       "stream": "stdout",
       "text": [
        "\n",
        "Processing ConceptLevel_AfterDistanceAndControlsAndDiversityAndCorrectedDiscreteVariety_K400-34_T60.csv..."
       ]
      },
      {
       "output_type": "stream",
       "stream": "stdout",
       "text": [
        "\n",
        "Processing ConceptLevel_AfterDistanceAndControlsAndDiversityAndCorrectedDiscreteVariety_K400-34_T70.csv..."
       ]
      },
      {
       "output_type": "stream",
       "stream": "stdout",
       "text": [
        "\n",
        "Processing ConceptLevel_AfterDistanceAndControlsAndDiversityAndCorrectedDiscreteVariety_K400-34_T80.csv..."
       ]
      },
      {
       "output_type": "stream",
       "stream": "stdout",
       "text": [
        "\n",
        "Processing ConceptLevel_AfterDistanceAndControlsAndDiversityAndCorrectedDiscreteVariety_K400-34_T90.csv..."
       ]
      },
      {
       "output_type": "stream",
       "stream": "stdout",
       "text": [
        "\n",
        "Processing ConceptLevel_AfterDistanceAndControlsAndDiversityAndCorrectedDiscreteVariety_K400-44_T20.csv..."
       ]
      },
      {
       "output_type": "stream",
       "stream": "stdout",
       "text": [
        "\n",
        "Processing ConceptLevel_AfterDistanceAndControlsAndDiversityAndCorrectedDiscreteVariety_K400-44_T30.csv..."
       ]
      },
      {
       "output_type": "stream",
       "stream": "stdout",
       "text": [
        "\n",
        "Processing ConceptLevel_AfterDistanceAndControlsAndDiversityAndCorrectedDiscreteVariety_K400-44_T40.csv..."
       ]
      },
      {
       "output_type": "stream",
       "stream": "stdout",
       "text": [
        "\n",
        "Processing ConceptLevel_AfterDistanceAndControlsAndDiversityAndCorrectedDiscreteVariety_K400-44_T50.csv..."
       ]
      },
      {
       "output_type": "stream",
       "stream": "stdout",
       "text": [
        "\n",
        "Processing ConceptLevel_AfterDistanceAndControlsAndDiversityAndCorrectedDiscreteVariety_K400-44_T60.csv..."
       ]
      },
      {
       "output_type": "stream",
       "stream": "stdout",
       "text": [
        "\n",
        "Processing ConceptLevel_AfterDistanceAndControlsAndDiversityAndCorrectedDiscreteVariety_K400-44_T70.csv..."
       ]
      },
      {
       "output_type": "stream",
       "stream": "stdout",
       "text": [
        "\n",
        "Processing ConceptLevel_AfterDistanceAndControlsAndDiversityAndCorrectedDiscreteVariety_K400-44_T80.csv..."
       ]
      },
      {
       "output_type": "stream",
       "stream": "stdout",
       "text": [
        "\n",
        "Processing ConceptLevel_AfterDistanceAndControlsAndDiversityAndCorrectedDiscreteVariety_K400-44_T90.csv..."
       ]
      },
      {
       "output_type": "stream",
       "stream": "stdout",
       "text": [
        "\n",
        "Processing ConceptLevel_AfterDistanceAndControlsAndDiversityAndCorrectedDiscreteVariety_K400-45_T20.csv..."
       ]
      },
      {
       "output_type": "stream",
       "stream": "stdout",
       "text": [
        "\n",
        "Processing ConceptLevel_AfterDistanceAndControlsAndDiversityAndCorrectedDiscreteVariety_K400-45_T30.csv..."
       ]
      },
      {
       "output_type": "stream",
       "stream": "stdout",
       "text": [
        "\n",
        "Processing ConceptLevel_AfterDistanceAndControlsAndDiversityAndCorrectedDiscreteVariety_K400-45_T40.csv..."
       ]
      },
      {
       "output_type": "stream",
       "stream": "stdout",
       "text": [
        "\n",
        "Processing ConceptLevel_AfterDistanceAndControlsAndDiversityAndCorrectedDiscreteVariety_K400-45_T50.csv..."
       ]
      },
      {
       "output_type": "stream",
       "stream": "stdout",
       "text": [
        "\n",
        "Processing ConceptLevel_AfterDistanceAndControlsAndDiversityAndCorrectedDiscreteVariety_K400-45_T60.csv..."
       ]
      },
      {
       "output_type": "stream",
       "stream": "stdout",
       "text": [
        "\n",
        "Processing ConceptLevel_AfterDistanceAndControlsAndDiversityAndCorrectedDiscreteVariety_K400-45_T70.csv..."
       ]
      },
      {
       "output_type": "stream",
       "stream": "stdout",
       "text": [
        "\n",
        "Processing ConceptLevel_AfterDistanceAndControlsAndDiversityAndCorrectedDiscreteVariety_K400-45_T80.csv..."
       ]
      },
      {
       "output_type": "stream",
       "stream": "stdout",
       "text": [
        "\n",
        "Processing ConceptLevel_AfterDistanceAndControlsAndDiversityAndCorrectedDiscreteVariety_K400-45_T90.csv..."
       ]
      },
      {
       "output_type": "stream",
       "stream": "stdout",
       "text": [
        "\n",
        "Processing ConceptLevel_AfterDistanceAndControlsAndDiversityAndCorrectedDiscreteVariety_K400-46_T20.csv..."
       ]
      },
      {
       "output_type": "stream",
       "stream": "stdout",
       "text": [
        "\n",
        "Processing ConceptLevel_AfterDistanceAndControlsAndDiversityAndCorrectedDiscreteVariety_K400-46_T30.csv..."
       ]
      },
      {
       "output_type": "stream",
       "stream": "stdout",
       "text": [
        "\n",
        "Processing ConceptLevel_AfterDistanceAndControlsAndDiversityAndCorrectedDiscreteVariety_K400-46_T40.csv..."
       ]
      },
      {
       "output_type": "stream",
       "stream": "stdout",
       "text": [
        "\n",
        "Processing ConceptLevel_AfterDistanceAndControlsAndDiversityAndCorrectedDiscreteVariety_K400-46_T50.csv..."
       ]
      },
      {
       "output_type": "stream",
       "stream": "stdout",
       "text": [
        "\n",
        "Processing ConceptLevel_AfterDistanceAndControlsAndDiversityAndCorrectedDiscreteVariety_K400-46_T60.csv..."
       ]
      },
      {
       "output_type": "stream",
       "stream": "stdout",
       "text": [
        "\n",
        "Processing ConceptLevel_AfterDistanceAndControlsAndDiversityAndCorrectedDiscreteVariety_K400-46_T70.csv..."
       ]
      },
      {
       "output_type": "stream",
       "stream": "stdout",
       "text": [
        "\n",
        "Processing ConceptLevel_AfterDistanceAndControlsAndDiversityAndCorrectedDiscreteVariety_K400-46_T80.csv..."
       ]
      },
      {
       "output_type": "stream",
       "stream": "stdout",
       "text": [
        "\n",
        "Processing ConceptLevel_AfterDistanceAndControlsAndDiversityAndCorrectedDiscreteVariety_K400-46_T90.csv..."
       ]
      },
      {
       "output_type": "stream",
       "stream": "stdout",
       "text": [
        "\n",
        "Processing ConceptLevel_AfterDistanceAndControlsAndDiversityAndCorrectedDiscreteVariety_K400-49_T20.csv..."
       ]
      },
      {
       "output_type": "stream",
       "stream": "stdout",
       "text": [
        "\n",
        "Processing ConceptLevel_AfterDistanceAndControlsAndDiversityAndCorrectedDiscreteVariety_K400-49_T30.csv..."
       ]
      },
      {
       "output_type": "stream",
       "stream": "stdout",
       "text": [
        "\n",
        "Processing ConceptLevel_AfterDistanceAndControlsAndDiversityAndCorrectedDiscreteVariety_K400-49_T40.csv..."
       ]
      },
      {
       "output_type": "stream",
       "stream": "stdout",
       "text": [
        "\n",
        "Processing ConceptLevel_AfterDistanceAndControlsAndDiversityAndCorrectedDiscreteVariety_K400-49_T50.csv..."
       ]
      },
      {
       "output_type": "stream",
       "stream": "stdout",
       "text": [
        "\n",
        "Processing ConceptLevel_AfterDistanceAndControlsAndDiversityAndCorrectedDiscreteVariety_K400-49_T60.csv..."
       ]
      },
      {
       "output_type": "stream",
       "stream": "stdout",
       "text": [
        "\n",
        "Processing ConceptLevel_AfterDistanceAndControlsAndDiversityAndCorrectedDiscreteVariety_K400-49_T70.csv..."
       ]
      },
      {
       "output_type": "stream",
       "stream": "stdout",
       "text": [
        "\n",
        "Processing ConceptLevel_AfterDistanceAndControlsAndDiversityAndCorrectedDiscreteVariety_K400-49_T80.csv..."
       ]
      },
      {
       "output_type": "stream",
       "stream": "stdout",
       "text": [
        "\n",
        "Processing ConceptLevel_AfterDistanceAndControlsAndDiversityAndCorrectedDiscreteVariety_K400-49_T90.csv..."
       ]
      },
      {
       "output_type": "stream",
       "stream": "stdout",
       "text": [
        "\n",
        "Processing ConceptLevel_AfterDistanceAndControlsAndDiversityAndCorrectedDiscreteVariety_K400-50_T20.csv..."
       ]
      },
      {
       "output_type": "stream",
       "stream": "stdout",
       "text": [
        "\n",
        "Processing ConceptLevel_AfterDistanceAndControlsAndDiversityAndCorrectedDiscreteVariety_K400-50_T30.csv..."
       ]
      },
      {
       "output_type": "stream",
       "stream": "stdout",
       "text": [
        "\n",
        "Processing ConceptLevel_AfterDistanceAndControlsAndDiversityAndCorrectedDiscreteVariety_K400-50_T40.csv..."
       ]
      },
      {
       "output_type": "stream",
       "stream": "stdout",
       "text": [
        "\n",
        "Processing ConceptLevel_AfterDistanceAndControlsAndDiversityAndCorrectedDiscreteVariety_K400-50_T50.csv..."
       ]
      },
      {
       "output_type": "stream",
       "stream": "stdout",
       "text": [
        "\n",
        "Processing ConceptLevel_AfterDistanceAndControlsAndDiversityAndCorrectedDiscreteVariety_K400-50_T60.csv..."
       ]
      },
      {
       "output_type": "stream",
       "stream": "stdout",
       "text": [
        "\n",
        "Processing ConceptLevel_AfterDistanceAndControlsAndDiversityAndCorrectedDiscreteVariety_K400-50_T70.csv..."
       ]
      },
      {
       "output_type": "stream",
       "stream": "stdout",
       "text": [
        "\n",
        "Processing ConceptLevel_AfterDistanceAndControlsAndDiversityAndCorrectedDiscreteVariety_K400-50_T80.csv..."
       ]
      },
      {
       "output_type": "stream",
       "stream": "stdout",
       "text": [
        "\n",
        "Processing ConceptLevel_AfterDistanceAndControlsAndDiversityAndCorrectedDiscreteVariety_K400-50_T90.csv..."
       ]
      },
      {
       "output_type": "stream",
       "stream": "stdout",
       "text": [
        "\n",
        "Processing ConceptLevel_AfterDistanceAndControlsAndDiversityAndCorrectedDiscreteVariety_K400-6_T20.csv..."
       ]
      },
      {
       "output_type": "stream",
       "stream": "stdout",
       "text": [
        "\n",
        "Processing ConceptLevel_AfterDistanceAndControlsAndDiversityAndCorrectedDiscreteVariety_K400-6_T30.csv..."
       ]
      },
      {
       "output_type": "stream",
       "stream": "stdout",
       "text": [
        "\n",
        "Processing ConceptLevel_AfterDistanceAndControlsAndDiversityAndCorrectedDiscreteVariety_K400-6_T40.csv..."
       ]
      },
      {
       "output_type": "stream",
       "stream": "stdout",
       "text": [
        "\n",
        "Processing ConceptLevel_AfterDistanceAndControlsAndDiversityAndCorrectedDiscreteVariety_K400-6_T50.csv..."
       ]
      },
      {
       "output_type": "stream",
       "stream": "stdout",
       "text": [
        "\n",
        "Processing ConceptLevel_AfterDistanceAndControlsAndDiversityAndCorrectedDiscreteVariety_K400-6_T60.csv..."
       ]
      },
      {
       "output_type": "stream",
       "stream": "stdout",
       "text": [
        "\n",
        "Processing ConceptLevel_AfterDistanceAndControlsAndDiversityAndCorrectedDiscreteVariety_K400-6_T70.csv..."
       ]
      },
      {
       "output_type": "stream",
       "stream": "stdout",
       "text": [
        "\n",
        "Processing ConceptLevel_AfterDistanceAndControlsAndDiversityAndCorrectedDiscreteVariety_K400-6_T80.csv..."
       ]
      },
      {
       "output_type": "stream",
       "stream": "stdout",
       "text": [
        "\n",
        "Processing ConceptLevel_AfterDistanceAndControlsAndDiversityAndCorrectedDiscreteVariety_K400-6_T90.csv..."
       ]
      },
      {
       "output_type": "stream",
       "stream": "stdout",
       "text": [
        "\n",
        "Processing ConceptLevel_AfterDistanceAndControlsAndDiversityAndCorrectedDiscreteVariety_K400-8_T20.csv..."
       ]
      },
      {
       "output_type": "stream",
       "stream": "stdout",
       "text": [
        "\n",
        "Processing ConceptLevel_AfterDistanceAndControlsAndDiversityAndCorrectedDiscreteVariety_K400-8_T30.csv..."
       ]
      },
      {
       "output_type": "stream",
       "stream": "stdout",
       "text": [
        "\n",
        "Processing ConceptLevel_AfterDistanceAndControlsAndDiversityAndCorrectedDiscreteVariety_K400-8_T40.csv..."
       ]
      },
      {
       "output_type": "stream",
       "stream": "stdout",
       "text": [
        "\n",
        "Processing ConceptLevel_AfterDistanceAndControlsAndDiversityAndCorrectedDiscreteVariety_K400-8_T50.csv..."
       ]
      },
      {
       "output_type": "stream",
       "stream": "stdout",
       "text": [
        "\n",
        "Processing ConceptLevel_AfterDistanceAndControlsAndDiversityAndCorrectedDiscreteVariety_K400-8_T60.csv..."
       ]
      },
      {
       "output_type": "stream",
       "stream": "stdout",
       "text": [
        "\n",
        "Processing ConceptLevel_AfterDistanceAndControlsAndDiversityAndCorrectedDiscreteVariety_K400-8_T70.csv..."
       ]
      },
      {
       "output_type": "stream",
       "stream": "stdout",
       "text": [
        "\n",
        "Processing ConceptLevel_AfterDistanceAndControlsAndDiversityAndCorrectedDiscreteVariety_K400-8_T80.csv..."
       ]
      },
      {
       "output_type": "stream",
       "stream": "stdout",
       "text": [
        "\n",
        "Processing ConceptLevel_AfterDistanceAndControlsAndDiversityAndCorrectedDiscreteVariety_K400-8_T90.csv..."
       ]
      },
      {
       "output_type": "stream",
       "stream": "stdout",
       "text": [
        "\n",
        "Processing ConceptLevel_AfterDistanceAndControlsAndDiversityAndCorrectedDiscreteVariety_K400-9_T20.csv..."
       ]
      },
      {
       "output_type": "stream",
       "stream": "stdout",
       "text": [
        "\n",
        "Processing ConceptLevel_AfterDistanceAndControlsAndDiversityAndCorrectedDiscreteVariety_K400-9_T30.csv..."
       ]
      },
      {
       "output_type": "stream",
       "stream": "stdout",
       "text": [
        "\n",
        "Processing ConceptLevel_AfterDistanceAndControlsAndDiversityAndCorrectedDiscreteVariety_K400-9_T40.csv..."
       ]
      },
      {
       "output_type": "stream",
       "stream": "stdout",
       "text": [
        "\n",
        "Processing ConceptLevel_AfterDistanceAndControlsAndDiversityAndCorrectedDiscreteVariety_K400-9_T50.csv..."
       ]
      },
      {
       "output_type": "stream",
       "stream": "stdout",
       "text": [
        "\n",
        "Processing ConceptLevel_AfterDistanceAndControlsAndDiversityAndCorrectedDiscreteVariety_K400-9_T60.csv..."
       ]
      },
      {
       "output_type": "stream",
       "stream": "stdout",
       "text": [
        "\n",
        "Processing ConceptLevel_AfterDistanceAndControlsAndDiversityAndCorrectedDiscreteVariety_K400-9_T70.csv..."
       ]
      },
      {
       "output_type": "stream",
       "stream": "stdout",
       "text": [
        "\n",
        "Processing ConceptLevel_AfterDistanceAndControlsAndDiversityAndCorrectedDiscreteVariety_K400-9_T80.csv..."
       ]
      },
      {
       "output_type": "stream",
       "stream": "stdout",
       "text": [
        "\n",
        "Processing ConceptLevel_AfterDistanceAndControlsAndDiversityAndCorrectedDiscreteVariety_K400-9_T90.csv..."
       ]
      },
      {
       "output_type": "stream",
       "stream": "stdout",
       "text": [
        "\n",
        "Processing ConceptLevel_AfterDistanceAndControlsAndDiversityAndCorrectedDiscreteVariety_K50-10_T20.csv..."
       ]
      },
      {
       "output_type": "stream",
       "stream": "stdout",
       "text": [
        "\n",
        "Processing ConceptLevel_AfterDistanceAndControlsAndDiversityAndCorrectedDiscreteVariety_K50-10_T30.csv..."
       ]
      },
      {
       "output_type": "stream",
       "stream": "stdout",
       "text": [
        "\n",
        "Processing ConceptLevel_AfterDistanceAndControlsAndDiversityAndCorrectedDiscreteVariety_K50-10_T40.csv..."
       ]
      },
      {
       "output_type": "stream",
       "stream": "stdout",
       "text": [
        "\n",
        "Processing ConceptLevel_AfterDistanceAndControlsAndDiversityAndCorrectedDiscreteVariety_K50-10_T50.csv..."
       ]
      },
      {
       "output_type": "stream",
       "stream": "stdout",
       "text": [
        "\n",
        "Processing ConceptLevel_AfterDistanceAndControlsAndDiversityAndCorrectedDiscreteVariety_K50-10_T60.csv..."
       ]
      },
      {
       "output_type": "stream",
       "stream": "stdout",
       "text": [
        "\n",
        "Processing ConceptLevel_AfterDistanceAndControlsAndDiversityAndCorrectedDiscreteVariety_K50-10_T70.csv..."
       ]
      },
      {
       "output_type": "stream",
       "stream": "stdout",
       "text": [
        "\n",
        "Processing ConceptLevel_AfterDistanceAndControlsAndDiversityAndCorrectedDiscreteVariety_K50-10_T80.csv..."
       ]
      },
      {
       "output_type": "stream",
       "stream": "stdout",
       "text": [
        "\n",
        "Processing ConceptLevel_AfterDistanceAndControlsAndDiversityAndCorrectedDiscreteVariety_K50-10_T90.csv..."
       ]
      },
      {
       "output_type": "stream",
       "stream": "stdout",
       "text": [
        "\n",
        "Processing ConceptLevel_AfterDistanceAndControlsAndDiversityAndCorrectedDiscreteVariety_K50-11_T20.csv..."
       ]
      },
      {
       "output_type": "stream",
       "stream": "stdout",
       "text": [
        "\n",
        "Processing ConceptLevel_AfterDistanceAndControlsAndDiversityAndCorrectedDiscreteVariety_K50-11_T30.csv..."
       ]
      },
      {
       "output_type": "stream",
       "stream": "stdout",
       "text": [
        "\n",
        "Processing ConceptLevel_AfterDistanceAndControlsAndDiversityAndCorrectedDiscreteVariety_K50-11_T40.csv..."
       ]
      },
      {
       "output_type": "stream",
       "stream": "stdout",
       "text": [
        "\n",
        "Processing ConceptLevel_AfterDistanceAndControlsAndDiversityAndCorrectedDiscreteVariety_K50-11_T50.csv..."
       ]
      },
      {
       "output_type": "stream",
       "stream": "stdout",
       "text": [
        "\n",
        "Processing ConceptLevel_AfterDistanceAndControlsAndDiversityAndCorrectedDiscreteVariety_K50-11_T60.csv..."
       ]
      },
      {
       "output_type": "stream",
       "stream": "stdout",
       "text": [
        "\n",
        "Processing ConceptLevel_AfterDistanceAndControlsAndDiversityAndCorrectedDiscreteVariety_K50-11_T70.csv..."
       ]
      },
      {
       "output_type": "stream",
       "stream": "stdout",
       "text": [
        "\n",
        "Processing ConceptLevel_AfterDistanceAndControlsAndDiversityAndCorrectedDiscreteVariety_K50-11_T80.csv..."
       ]
      },
      {
       "output_type": "stream",
       "stream": "stdout",
       "text": [
        "\n",
        "Processing ConceptLevel_AfterDistanceAndControlsAndDiversityAndCorrectedDiscreteVariety_K50-11_T90.csv..."
       ]
      },
      {
       "output_type": "stream",
       "stream": "stdout",
       "text": [
        "\n",
        "Processing ConceptLevel_AfterDistanceAndControlsAndDiversityAndCorrectedDiscreteVariety_K50-14_T20.csv..."
       ]
      },
      {
       "output_type": "stream",
       "stream": "stdout",
       "text": [
        "\n",
        "Processing ConceptLevel_AfterDistanceAndControlsAndDiversityAndCorrectedDiscreteVariety_K50-14_T30.csv..."
       ]
      },
      {
       "output_type": "stream",
       "stream": "stdout",
       "text": [
        "\n",
        "Processing ConceptLevel_AfterDistanceAndControlsAndDiversityAndCorrectedDiscreteVariety_K50-14_T40.csv..."
       ]
      },
      {
       "output_type": "stream",
       "stream": "stdout",
       "text": [
        "\n",
        "Processing ConceptLevel_AfterDistanceAndControlsAndDiversityAndCorrectedDiscreteVariety_K50-14_T50.csv..."
       ]
      },
      {
       "output_type": "stream",
       "stream": "stdout",
       "text": [
        "\n",
        "Processing ConceptLevel_AfterDistanceAndControlsAndDiversityAndCorrectedDiscreteVariety_K50-14_T60.csv..."
       ]
      },
      {
       "output_type": "stream",
       "stream": "stdout",
       "text": [
        "\n",
        "Processing ConceptLevel_AfterDistanceAndControlsAndDiversityAndCorrectedDiscreteVariety_K50-14_T70.csv..."
       ]
      },
      {
       "output_type": "stream",
       "stream": "stdout",
       "text": [
        "\n",
        "Processing ConceptLevel_AfterDistanceAndControlsAndDiversityAndCorrectedDiscreteVariety_K50-14_T80.csv..."
       ]
      },
      {
       "output_type": "stream",
       "stream": "stdout",
       "text": [
        "\n",
        "Processing ConceptLevel_AfterDistanceAndControlsAndDiversityAndCorrectedDiscreteVariety_K50-14_T90.csv..."
       ]
      },
      {
       "output_type": "stream",
       "stream": "stdout",
       "text": [
        "\n",
        "Processing ConceptLevel_AfterDistanceAndControlsAndDiversityAndCorrectedDiscreteVariety_K50-15_T20.csv..."
       ]
      },
      {
       "output_type": "stream",
       "stream": "stdout",
       "text": [
        "\n",
        "Processing ConceptLevel_AfterDistanceAndControlsAndDiversityAndCorrectedDiscreteVariety_K50-15_T30.csv..."
       ]
      },
      {
       "output_type": "stream",
       "stream": "stdout",
       "text": [
        "\n",
        "Processing ConceptLevel_AfterDistanceAndControlsAndDiversityAndCorrectedDiscreteVariety_K50-15_T40.csv..."
       ]
      },
      {
       "output_type": "stream",
       "stream": "stdout",
       "text": [
        "\n",
        "Processing ConceptLevel_AfterDistanceAndControlsAndDiversityAndCorrectedDiscreteVariety_K50-15_T50.csv..."
       ]
      },
      {
       "output_type": "stream",
       "stream": "stdout",
       "text": [
        "\n",
        "Processing ConceptLevel_AfterDistanceAndControlsAndDiversityAndCorrectedDiscreteVariety_K50-15_T60.csv..."
       ]
      },
      {
       "output_type": "stream",
       "stream": "stdout",
       "text": [
        "\n",
        "Processing ConceptLevel_AfterDistanceAndControlsAndDiversityAndCorrectedDiscreteVariety_K50-15_T70.csv..."
       ]
      },
      {
       "output_type": "stream",
       "stream": "stdout",
       "text": [
        "\n",
        "Processing ConceptLevel_AfterDistanceAndControlsAndDiversityAndCorrectedDiscreteVariety_K50-15_T80.csv..."
       ]
      },
      {
       "output_type": "stream",
       "stream": "stdout",
       "text": [
        "\n",
        "Processing ConceptLevel_AfterDistanceAndControlsAndDiversityAndCorrectedDiscreteVariety_K50-15_T90.csv..."
       ]
      },
      {
       "output_type": "stream",
       "stream": "stdout",
       "text": [
        "\n",
        "Processing ConceptLevel_AfterDistanceAndControlsAndDiversityAndCorrectedDiscreteVariety_K50-16_T20.csv..."
       ]
      },
      {
       "output_type": "stream",
       "stream": "stdout",
       "text": [
        "\n",
        "Processing ConceptLevel_AfterDistanceAndControlsAndDiversityAndCorrectedDiscreteVariety_K50-16_T30.csv..."
       ]
      },
      {
       "output_type": "stream",
       "stream": "stdout",
       "text": [
        "\n",
        "Processing ConceptLevel_AfterDistanceAndControlsAndDiversityAndCorrectedDiscreteVariety_K50-16_T40.csv..."
       ]
      },
      {
       "output_type": "stream",
       "stream": "stdout",
       "text": [
        "\n",
        "Processing ConceptLevel_AfterDistanceAndControlsAndDiversityAndCorrectedDiscreteVariety_K50-16_T50.csv..."
       ]
      },
      {
       "output_type": "stream",
       "stream": "stdout",
       "text": [
        "\n",
        "Processing ConceptLevel_AfterDistanceAndControlsAndDiversityAndCorrectedDiscreteVariety_K50-16_T60.csv..."
       ]
      },
      {
       "output_type": "stream",
       "stream": "stdout",
       "text": [
        "\n",
        "Processing ConceptLevel_AfterDistanceAndControlsAndDiversityAndCorrectedDiscreteVariety_K50-16_T70.csv..."
       ]
      },
      {
       "output_type": "stream",
       "stream": "stdout",
       "text": [
        "\n",
        "Processing ConceptLevel_AfterDistanceAndControlsAndDiversityAndCorrectedDiscreteVariety_K50-16_T80.csv..."
       ]
      },
      {
       "output_type": "stream",
       "stream": "stdout",
       "text": [
        "\n",
        "Processing ConceptLevel_AfterDistanceAndControlsAndDiversityAndCorrectedDiscreteVariety_K50-16_T90.csv..."
       ]
      },
      {
       "output_type": "stream",
       "stream": "stdout",
       "text": [
        "\n",
        "Processing ConceptLevel_AfterDistanceAndControlsAndDiversityAndCorrectedDiscreteVariety_K50-21_T20.csv..."
       ]
      },
      {
       "output_type": "stream",
       "stream": "stdout",
       "text": [
        "\n",
        "Processing ConceptLevel_AfterDistanceAndControlsAndDiversityAndCorrectedDiscreteVariety_K50-21_T30.csv..."
       ]
      },
      {
       "output_type": "stream",
       "stream": "stdout",
       "text": [
        "\n",
        "Processing ConceptLevel_AfterDistanceAndControlsAndDiversityAndCorrectedDiscreteVariety_K50-21_T40.csv..."
       ]
      },
      {
       "output_type": "stream",
       "stream": "stdout",
       "text": [
        "\n",
        "Processing ConceptLevel_AfterDistanceAndControlsAndDiversityAndCorrectedDiscreteVariety_K50-21_T50.csv..."
       ]
      },
      {
       "output_type": "stream",
       "stream": "stdout",
       "text": [
        "\n",
        "Processing ConceptLevel_AfterDistanceAndControlsAndDiversityAndCorrectedDiscreteVariety_K50-21_T60.csv..."
       ]
      },
      {
       "output_type": "stream",
       "stream": "stdout",
       "text": [
        "\n",
        "Processing ConceptLevel_AfterDistanceAndControlsAndDiversityAndCorrectedDiscreteVariety_K50-21_T70.csv..."
       ]
      },
      {
       "output_type": "stream",
       "stream": "stdout",
       "text": [
        "\n",
        "Processing ConceptLevel_AfterDistanceAndControlsAndDiversityAndCorrectedDiscreteVariety_K50-21_T80.csv..."
       ]
      },
      {
       "output_type": "stream",
       "stream": "stdout",
       "text": [
        "\n",
        "Processing ConceptLevel_AfterDistanceAndControlsAndDiversityAndCorrectedDiscreteVariety_K50-21_T90.csv..."
       ]
      },
      {
       "output_type": "stream",
       "stream": "stdout",
       "text": [
        "\n",
        "Processing ConceptLevel_AfterDistanceAndControlsAndDiversityAndCorrectedDiscreteVariety_K50-23_T20.csv..."
       ]
      },
      {
       "output_type": "stream",
       "stream": "stdout",
       "text": [
        "\n",
        "Processing ConceptLevel_AfterDistanceAndControlsAndDiversityAndCorrectedDiscreteVariety_K50-23_T30.csv..."
       ]
      },
      {
       "output_type": "stream",
       "stream": "stdout",
       "text": [
        "\n",
        "Processing ConceptLevel_AfterDistanceAndControlsAndDiversityAndCorrectedDiscreteVariety_K50-23_T40.csv..."
       ]
      },
      {
       "output_type": "stream",
       "stream": "stdout",
       "text": [
        "\n",
        "Processing ConceptLevel_AfterDistanceAndControlsAndDiversityAndCorrectedDiscreteVariety_K50-23_T50.csv..."
       ]
      },
      {
       "output_type": "stream",
       "stream": "stdout",
       "text": [
        "\n",
        "Processing ConceptLevel_AfterDistanceAndControlsAndDiversityAndCorrectedDiscreteVariety_K50-23_T60.csv..."
       ]
      },
      {
       "output_type": "stream",
       "stream": "stdout",
       "text": [
        "\n",
        "Processing ConceptLevel_AfterDistanceAndControlsAndDiversityAndCorrectedDiscreteVariety_K50-23_T70.csv..."
       ]
      },
      {
       "output_type": "stream",
       "stream": "stdout",
       "text": [
        "\n",
        "Processing ConceptLevel_AfterDistanceAndControlsAndDiversityAndCorrectedDiscreteVariety_K50-23_T80.csv..."
       ]
      },
      {
       "output_type": "stream",
       "stream": "stdout",
       "text": [
        "\n",
        "Processing ConceptLevel_AfterDistanceAndControlsAndDiversityAndCorrectedDiscreteVariety_K50-23_T90.csv..."
       ]
      },
      {
       "output_type": "stream",
       "stream": "stdout",
       "text": [
        "\n",
        "Processing ConceptLevel_AfterDistanceAndControlsAndDiversityAndCorrectedDiscreteVariety_K50-25_T20.csv..."
       ]
      },
      {
       "output_type": "stream",
       "stream": "stdout",
       "text": [
        "\n",
        "Processing ConceptLevel_AfterDistanceAndControlsAndDiversityAndCorrectedDiscreteVariety_K50-25_T30.csv..."
       ]
      },
      {
       "output_type": "stream",
       "stream": "stdout",
       "text": [
        "\n",
        "Processing ConceptLevel_AfterDistanceAndControlsAndDiversityAndCorrectedDiscreteVariety_K50-25_T40.csv..."
       ]
      },
      {
       "output_type": "stream",
       "stream": "stdout",
       "text": [
        "\n",
        "Processing ConceptLevel_AfterDistanceAndControlsAndDiversityAndCorrectedDiscreteVariety_K50-25_T50.csv..."
       ]
      },
      {
       "output_type": "stream",
       "stream": "stdout",
       "text": [
        "\n",
        "Processing ConceptLevel_AfterDistanceAndControlsAndDiversityAndCorrectedDiscreteVariety_K50-25_T60.csv..."
       ]
      },
      {
       "output_type": "stream",
       "stream": "stdout",
       "text": [
        "\n",
        "Processing ConceptLevel_AfterDistanceAndControlsAndDiversityAndCorrectedDiscreteVariety_K50-25_T70.csv..."
       ]
      },
      {
       "output_type": "stream",
       "stream": "stdout",
       "text": [
        "\n",
        "Processing ConceptLevel_AfterDistanceAndControlsAndDiversityAndCorrectedDiscreteVariety_K50-25_T80.csv..."
       ]
      },
      {
       "output_type": "stream",
       "stream": "stdout",
       "text": [
        "\n",
        "Processing ConceptLevel_AfterDistanceAndControlsAndDiversityAndCorrectedDiscreteVariety_K50-25_T90.csv..."
       ]
      },
      {
       "output_type": "stream",
       "stream": "stdout",
       "text": [
        "\n",
        "Processing ConceptLevel_AfterDistanceAndControlsAndDiversityAndCorrectedDiscreteVariety_K50-29_T20.csv..."
       ]
      },
      {
       "output_type": "stream",
       "stream": "stdout",
       "text": [
        "\n",
        "Processing ConceptLevel_AfterDistanceAndControlsAndDiversityAndCorrectedDiscreteVariety_K50-29_T30.csv..."
       ]
      },
      {
       "output_type": "stream",
       "stream": "stdout",
       "text": [
        "\n",
        "Processing ConceptLevel_AfterDistanceAndControlsAndDiversityAndCorrectedDiscreteVariety_K50-29_T40.csv..."
       ]
      },
      {
       "output_type": "stream",
       "stream": "stdout",
       "text": [
        "\n",
        "Processing ConceptLevel_AfterDistanceAndControlsAndDiversityAndCorrectedDiscreteVariety_K50-29_T50.csv..."
       ]
      },
      {
       "output_type": "stream",
       "stream": "stdout",
       "text": [
        "\n",
        "Processing ConceptLevel_AfterDistanceAndControlsAndDiversityAndCorrectedDiscreteVariety_K50-29_T60.csv..."
       ]
      },
      {
       "output_type": "stream",
       "stream": "stdout",
       "text": [
        "\n",
        "Processing ConceptLevel_AfterDistanceAndControlsAndDiversityAndCorrectedDiscreteVariety_K50-29_T70.csv..."
       ]
      },
      {
       "output_type": "stream",
       "stream": "stdout",
       "text": [
        "\n",
        "Processing ConceptLevel_AfterDistanceAndControlsAndDiversityAndCorrectedDiscreteVariety_K50-29_T80.csv..."
       ]
      },
      {
       "output_type": "stream",
       "stream": "stdout",
       "text": [
        "\n",
        "Processing ConceptLevel_AfterDistanceAndControlsAndDiversityAndCorrectedDiscreteVariety_K50-29_T90.csv..."
       ]
      },
      {
       "output_type": "stream",
       "stream": "stdout",
       "text": [
        "\n",
        "Processing ConceptLevel_AfterDistanceAndControlsAndDiversityAndCorrectedDiscreteVariety_K50-30_T20.csv..."
       ]
      },
      {
       "output_type": "stream",
       "stream": "stdout",
       "text": [
        "\n",
        "Processing ConceptLevel_AfterDistanceAndControlsAndDiversityAndCorrectedDiscreteVariety_K50-30_T30.csv..."
       ]
      },
      {
       "output_type": "stream",
       "stream": "stdout",
       "text": [
        "\n",
        "Processing ConceptLevel_AfterDistanceAndControlsAndDiversityAndCorrectedDiscreteVariety_K50-30_T40.csv..."
       ]
      },
      {
       "output_type": "stream",
       "stream": "stdout",
       "text": [
        "\n",
        "Processing ConceptLevel_AfterDistanceAndControlsAndDiversityAndCorrectedDiscreteVariety_K50-30_T50.csv..."
       ]
      },
      {
       "output_type": "stream",
       "stream": "stdout",
       "text": [
        "\n",
        "Processing ConceptLevel_AfterDistanceAndControlsAndDiversityAndCorrectedDiscreteVariety_K50-30_T60.csv..."
       ]
      },
      {
       "output_type": "stream",
       "stream": "stdout",
       "text": [
        "\n",
        "Processing ConceptLevel_AfterDistanceAndControlsAndDiversityAndCorrectedDiscreteVariety_K50-30_T70.csv..."
       ]
      },
      {
       "output_type": "stream",
       "stream": "stdout",
       "text": [
        "\n",
        "Processing ConceptLevel_AfterDistanceAndControlsAndDiversityAndCorrectedDiscreteVariety_K50-30_T80.csv..."
       ]
      },
      {
       "output_type": "stream",
       "stream": "stdout",
       "text": [
        "\n",
        "Processing ConceptLevel_AfterDistanceAndControlsAndDiversityAndCorrectedDiscreteVariety_K50-30_T90.csv..."
       ]
      },
      {
       "output_type": "stream",
       "stream": "stdout",
       "text": [
        "\n",
        "Processing ConceptLevel_AfterDistanceAndControlsAndDiversityAndCorrectedDiscreteVariety_K50-37_T20.csv..."
       ]
      },
      {
       "output_type": "stream",
       "stream": "stdout",
       "text": [
        "\n",
        "Processing ConceptLevel_AfterDistanceAndControlsAndDiversityAndCorrectedDiscreteVariety_K50-37_T30.csv..."
       ]
      },
      {
       "output_type": "stream",
       "stream": "stdout",
       "text": [
        "\n",
        "Processing ConceptLevel_AfterDistanceAndControlsAndDiversityAndCorrectedDiscreteVariety_K50-37_T40.csv..."
       ]
      },
      {
       "output_type": "stream",
       "stream": "stdout",
       "text": [
        "\n",
        "Processing ConceptLevel_AfterDistanceAndControlsAndDiversityAndCorrectedDiscreteVariety_K50-37_T50.csv..."
       ]
      },
      {
       "output_type": "stream",
       "stream": "stdout",
       "text": [
        "\n",
        "Processing ConceptLevel_AfterDistanceAndControlsAndDiversityAndCorrectedDiscreteVariety_K50-37_T60.csv..."
       ]
      },
      {
       "output_type": "stream",
       "stream": "stdout",
       "text": [
        "\n",
        "Processing ConceptLevel_AfterDistanceAndControlsAndDiversityAndCorrectedDiscreteVariety_K50-37_T70.csv..."
       ]
      },
      {
       "output_type": "stream",
       "stream": "stdout",
       "text": [
        "\n",
        "Processing ConceptLevel_AfterDistanceAndControlsAndDiversityAndCorrectedDiscreteVariety_K50-37_T80.csv..."
       ]
      },
      {
       "output_type": "stream",
       "stream": "stdout",
       "text": [
        "\n",
        "Processing ConceptLevel_AfterDistanceAndControlsAndDiversityAndCorrectedDiscreteVariety_K50-37_T90.csv..."
       ]
      },
      {
       "output_type": "stream",
       "stream": "stdout",
       "text": [
        "\n",
        "Processing ConceptLevel_AfterDistanceAndControlsAndDiversityAndCorrectedDiscreteVariety_K50-38_T20.csv..."
       ]
      },
      {
       "output_type": "stream",
       "stream": "stdout",
       "text": [
        "\n",
        "Processing ConceptLevel_AfterDistanceAndControlsAndDiversityAndCorrectedDiscreteVariety_K50-38_T30.csv..."
       ]
      },
      {
       "output_type": "stream",
       "stream": "stdout",
       "text": [
        "\n",
        "Processing ConceptLevel_AfterDistanceAndControlsAndDiversityAndCorrectedDiscreteVariety_K50-38_T40.csv..."
       ]
      },
      {
       "output_type": "stream",
       "stream": "stdout",
       "text": [
        "\n",
        "Processing ConceptLevel_AfterDistanceAndControlsAndDiversityAndCorrectedDiscreteVariety_K50-38_T50.csv..."
       ]
      },
      {
       "output_type": "stream",
       "stream": "stdout",
       "text": [
        "\n",
        "Processing ConceptLevel_AfterDistanceAndControlsAndDiversityAndCorrectedDiscreteVariety_K50-38_T60.csv..."
       ]
      },
      {
       "output_type": "stream",
       "stream": "stdout",
       "text": [
        "\n",
        "Processing ConceptLevel_AfterDistanceAndControlsAndDiversityAndCorrectedDiscreteVariety_K50-38_T70.csv..."
       ]
      },
      {
       "output_type": "stream",
       "stream": "stdout",
       "text": [
        "\n",
        "Processing ConceptLevel_AfterDistanceAndControlsAndDiversityAndCorrectedDiscreteVariety_K50-38_T80.csv..."
       ]
      },
      {
       "output_type": "stream",
       "stream": "stdout",
       "text": [
        "\n",
        "Processing ConceptLevel_AfterDistanceAndControlsAndDiversityAndCorrectedDiscreteVariety_K50-38_T90.csv..."
       ]
      },
      {
       "output_type": "stream",
       "stream": "stdout",
       "text": [
        "\n",
        "Processing ConceptLevel_AfterDistanceAndControlsAndDiversityAndCorrectedDiscreteVariety_K50-40_T20.csv..."
       ]
      },
      {
       "output_type": "stream",
       "stream": "stdout",
       "text": [
        "\n",
        "Processing ConceptLevel_AfterDistanceAndControlsAndDiversityAndCorrectedDiscreteVariety_K50-40_T30.csv..."
       ]
      },
      {
       "output_type": "stream",
       "stream": "stdout",
       "text": [
        "\n",
        "Processing ConceptLevel_AfterDistanceAndControlsAndDiversityAndCorrectedDiscreteVariety_K50-40_T40.csv..."
       ]
      },
      {
       "output_type": "stream",
       "stream": "stdout",
       "text": [
        "\n",
        "Processing ConceptLevel_AfterDistanceAndControlsAndDiversityAndCorrectedDiscreteVariety_K50-40_T50.csv..."
       ]
      },
      {
       "output_type": "stream",
       "stream": "stdout",
       "text": [
        "\n",
        "Processing ConceptLevel_AfterDistanceAndControlsAndDiversityAndCorrectedDiscreteVariety_K50-40_T60.csv..."
       ]
      },
      {
       "output_type": "stream",
       "stream": "stdout",
       "text": [
        "\n",
        "Processing ConceptLevel_AfterDistanceAndControlsAndDiversityAndCorrectedDiscreteVariety_K50-40_T70.csv..."
       ]
      },
      {
       "output_type": "stream",
       "stream": "stdout",
       "text": [
        "\n",
        "Processing ConceptLevel_AfterDistanceAndControlsAndDiversityAndCorrectedDiscreteVariety_K50-40_T80.csv..."
       ]
      },
      {
       "output_type": "stream",
       "stream": "stdout",
       "text": [
        "\n",
        "Processing ConceptLevel_AfterDistanceAndControlsAndDiversityAndCorrectedDiscreteVariety_K50-40_T90.csv..."
       ]
      },
      {
       "output_type": "stream",
       "stream": "stdout",
       "text": [
        "\n",
        "Processing ConceptLevel_AfterDistanceAndControlsAndDiversityAndCorrectedDiscreteVariety_K50-41_T20.csv..."
       ]
      },
      {
       "output_type": "stream",
       "stream": "stdout",
       "text": [
        "\n",
        "Processing ConceptLevel_AfterDistanceAndControlsAndDiversityAndCorrectedDiscreteVariety_K50-41_T30.csv..."
       ]
      },
      {
       "output_type": "stream",
       "stream": "stdout",
       "text": [
        "\n",
        "Processing ConceptLevel_AfterDistanceAndControlsAndDiversityAndCorrectedDiscreteVariety_K50-41_T40.csv..."
       ]
      },
      {
       "output_type": "stream",
       "stream": "stdout",
       "text": [
        "\n",
        "Processing ConceptLevel_AfterDistanceAndControlsAndDiversityAndCorrectedDiscreteVariety_K50-41_T50.csv..."
       ]
      },
      {
       "output_type": "stream",
       "stream": "stdout",
       "text": [
        "\n",
        "Processing ConceptLevel_AfterDistanceAndControlsAndDiversityAndCorrectedDiscreteVariety_K50-41_T60.csv..."
       ]
      },
      {
       "output_type": "stream",
       "stream": "stdout",
       "text": [
        "\n",
        "Processing ConceptLevel_AfterDistanceAndControlsAndDiversityAndCorrectedDiscreteVariety_K50-41_T70.csv..."
       ]
      },
      {
       "output_type": "stream",
       "stream": "stdout",
       "text": [
        "\n",
        "Processing ConceptLevel_AfterDistanceAndControlsAndDiversityAndCorrectedDiscreteVariety_K50-41_T80.csv..."
       ]
      },
      {
       "output_type": "stream",
       "stream": "stdout",
       "text": [
        "\n",
        "Processing ConceptLevel_AfterDistanceAndControlsAndDiversityAndCorrectedDiscreteVariety_K50-41_T90.csv..."
       ]
      },
      {
       "output_type": "stream",
       "stream": "stdout",
       "text": [
        "\n",
        "Processing ConceptLevel_AfterDistanceAndControlsAndDiversityAndCorrectedDiscreteVariety_K50-44_T20.csv..."
       ]
      },
      {
       "output_type": "stream",
       "stream": "stdout",
       "text": [
        "\n",
        "Processing ConceptLevel_AfterDistanceAndControlsAndDiversityAndCorrectedDiscreteVariety_K50-44_T30.csv..."
       ]
      },
      {
       "output_type": "stream",
       "stream": "stdout",
       "text": [
        "\n",
        "Processing ConceptLevel_AfterDistanceAndControlsAndDiversityAndCorrectedDiscreteVariety_K50-44_T40.csv..."
       ]
      },
      {
       "output_type": "stream",
       "stream": "stdout",
       "text": [
        "\n",
        "Processing ConceptLevel_AfterDistanceAndControlsAndDiversityAndCorrectedDiscreteVariety_K50-44_T50.csv..."
       ]
      },
      {
       "output_type": "stream",
       "stream": "stdout",
       "text": [
        "\n",
        "Processing ConceptLevel_AfterDistanceAndControlsAndDiversityAndCorrectedDiscreteVariety_K50-44_T60.csv..."
       ]
      },
      {
       "output_type": "stream",
       "stream": "stdout",
       "text": [
        "\n",
        "Processing ConceptLevel_AfterDistanceAndControlsAndDiversityAndCorrectedDiscreteVariety_K50-44_T70.csv..."
       ]
      },
      {
       "output_type": "stream",
       "stream": "stdout",
       "text": [
        "\n",
        "Processing ConceptLevel_AfterDistanceAndControlsAndDiversityAndCorrectedDiscreteVariety_K50-44_T80.csv..."
       ]
      },
      {
       "output_type": "stream",
       "stream": "stdout",
       "text": [
        "\n",
        "Processing ConceptLevel_AfterDistanceAndControlsAndDiversityAndCorrectedDiscreteVariety_K50-44_T90.csv..."
       ]
      },
      {
       "output_type": "stream",
       "stream": "stdout",
       "text": [
        "\n",
        "Processing ConceptLevel_AfterDistanceAndControlsAndDiversityAndCorrectedDiscreteVariety_K50-45_T20.csv..."
       ]
      },
      {
       "output_type": "stream",
       "stream": "stdout",
       "text": [
        "\n",
        "Processing ConceptLevel_AfterDistanceAndControlsAndDiversityAndCorrectedDiscreteVariety_K50-45_T30.csv..."
       ]
      },
      {
       "output_type": "stream",
       "stream": "stdout",
       "text": [
        "\n",
        "Processing ConceptLevel_AfterDistanceAndControlsAndDiversityAndCorrectedDiscreteVariety_K50-45_T40.csv..."
       ]
      },
      {
       "output_type": "stream",
       "stream": "stdout",
       "text": [
        "\n",
        "Processing ConceptLevel_AfterDistanceAndControlsAndDiversityAndCorrectedDiscreteVariety_K50-45_T50.csv..."
       ]
      },
      {
       "output_type": "stream",
       "stream": "stdout",
       "text": [
        "\n",
        "Processing ConceptLevel_AfterDistanceAndControlsAndDiversityAndCorrectedDiscreteVariety_K50-45_T60.csv..."
       ]
      },
      {
       "output_type": "stream",
       "stream": "stdout",
       "text": [
        "\n",
        "Processing ConceptLevel_AfterDistanceAndControlsAndDiversityAndCorrectedDiscreteVariety_K50-45_T70.csv..."
       ]
      },
      {
       "output_type": "stream",
       "stream": "stdout",
       "text": [
        "\n",
        "Processing ConceptLevel_AfterDistanceAndControlsAndDiversityAndCorrectedDiscreteVariety_K50-45_T80.csv..."
       ]
      },
      {
       "output_type": "stream",
       "stream": "stdout",
       "text": [
        "\n",
        "Processing ConceptLevel_AfterDistanceAndControlsAndDiversityAndCorrectedDiscreteVariety_K50-45_T90.csv..."
       ]
      },
      {
       "output_type": "stream",
       "stream": "stdout",
       "text": [
        "\n",
        "Processing ConceptLevel_AfterDistanceAndControlsAndDiversityAndCorrectedDiscreteVariety_K50-46_T20.csv..."
       ]
      },
      {
       "output_type": "stream",
       "stream": "stdout",
       "text": [
        "\n",
        "Processing ConceptLevel_AfterDistanceAndControlsAndDiversityAndCorrectedDiscreteVariety_K50-46_T30.csv..."
       ]
      },
      {
       "output_type": "stream",
       "stream": "stdout",
       "text": [
        "\n",
        "Processing ConceptLevel_AfterDistanceAndControlsAndDiversityAndCorrectedDiscreteVariety_K50-46_T40.csv..."
       ]
      },
      {
       "output_type": "stream",
       "stream": "stdout",
       "text": [
        "\n",
        "Processing ConceptLevel_AfterDistanceAndControlsAndDiversityAndCorrectedDiscreteVariety_K50-46_T50.csv..."
       ]
      },
      {
       "output_type": "stream",
       "stream": "stdout",
       "text": [
        "\n",
        "Processing ConceptLevel_AfterDistanceAndControlsAndDiversityAndCorrectedDiscreteVariety_K50-46_T60.csv..."
       ]
      },
      {
       "output_type": "stream",
       "stream": "stdout",
       "text": [
        "\n",
        "Processing ConceptLevel_AfterDistanceAndControlsAndDiversityAndCorrectedDiscreteVariety_K50-46_T70.csv..."
       ]
      },
      {
       "output_type": "stream",
       "stream": "stdout",
       "text": [
        "\n",
        "Processing ConceptLevel_AfterDistanceAndControlsAndDiversityAndCorrectedDiscreteVariety_K50-46_T80.csv..."
       ]
      },
      {
       "output_type": "stream",
       "stream": "stdout",
       "text": [
        "\n",
        "Processing ConceptLevel_AfterDistanceAndControlsAndDiversityAndCorrectedDiscreteVariety_K50-46_T90.csv..."
       ]
      },
      {
       "output_type": "stream",
       "stream": "stdout",
       "text": [
        "\n",
        "Processing ConceptLevel_AfterDistanceAndControlsAndDiversityAndCorrectedDiscreteVariety_K50-47_T20.csv..."
       ]
      },
      {
       "output_type": "stream",
       "stream": "stdout",
       "text": [
        "\n",
        "Processing ConceptLevel_AfterDistanceAndControlsAndDiversityAndCorrectedDiscreteVariety_K50-47_T30.csv..."
       ]
      },
      {
       "output_type": "stream",
       "stream": "stdout",
       "text": [
        "\n",
        "Processing ConceptLevel_AfterDistanceAndControlsAndDiversityAndCorrectedDiscreteVariety_K50-47_T40.csv..."
       ]
      },
      {
       "output_type": "stream",
       "stream": "stdout",
       "text": [
        "\n",
        "Processing ConceptLevel_AfterDistanceAndControlsAndDiversityAndCorrectedDiscreteVariety_K50-47_T50.csv..."
       ]
      },
      {
       "output_type": "stream",
       "stream": "stdout",
       "text": [
        "\n",
        "Processing ConceptLevel_AfterDistanceAndControlsAndDiversityAndCorrectedDiscreteVariety_K50-47_T60.csv..."
       ]
      },
      {
       "output_type": "stream",
       "stream": "stdout",
       "text": [
        "\n",
        "Processing ConceptLevel_AfterDistanceAndControlsAndDiversityAndCorrectedDiscreteVariety_K50-47_T70.csv..."
       ]
      },
      {
       "output_type": "stream",
       "stream": "stdout",
       "text": [
        "\n",
        "Processing ConceptLevel_AfterDistanceAndControlsAndDiversityAndCorrectedDiscreteVariety_K50-47_T80.csv..."
       ]
      },
      {
       "output_type": "stream",
       "stream": "stdout",
       "text": [
        "\n",
        "Processing ConceptLevel_AfterDistanceAndControlsAndDiversityAndCorrectedDiscreteVariety_K50-47_T90.csv..."
       ]
      },
      {
       "output_type": "stream",
       "stream": "stdout",
       "text": [
        "\n",
        "Processing ConceptLevel_AfterDistanceAndControlsAndDiversityAndCorrectedDiscreteVariety_K50-48_T20.csv..."
       ]
      },
      {
       "output_type": "stream",
       "stream": "stdout",
       "text": [
        "\n",
        "Processing ConceptLevel_AfterDistanceAndControlsAndDiversityAndCorrectedDiscreteVariety_K50-48_T30.csv..."
       ]
      },
      {
       "output_type": "stream",
       "stream": "stdout",
       "text": [
        "\n",
        "Processing ConceptLevel_AfterDistanceAndControlsAndDiversityAndCorrectedDiscreteVariety_K50-48_T40.csv..."
       ]
      },
      {
       "output_type": "stream",
       "stream": "stdout",
       "text": [
        "\n",
        "Processing ConceptLevel_AfterDistanceAndControlsAndDiversityAndCorrectedDiscreteVariety_K50-48_T50.csv..."
       ]
      },
      {
       "output_type": "stream",
       "stream": "stdout",
       "text": [
        "\n",
        "Processing ConceptLevel_AfterDistanceAndControlsAndDiversityAndCorrectedDiscreteVariety_K50-48_T60.csv..."
       ]
      },
      {
       "output_type": "stream",
       "stream": "stdout",
       "text": [
        "\n",
        "Processing ConceptLevel_AfterDistanceAndControlsAndDiversityAndCorrectedDiscreteVariety_K50-48_T70.csv..."
       ]
      },
      {
       "output_type": "stream",
       "stream": "stdout",
       "text": [
        "\n",
        "Processing ConceptLevel_AfterDistanceAndControlsAndDiversityAndCorrectedDiscreteVariety_K50-48_T80.csv..."
       ]
      },
      {
       "output_type": "stream",
       "stream": "stdout",
       "text": [
        "\n",
        "Processing ConceptLevel_AfterDistanceAndControlsAndDiversityAndCorrectedDiscreteVariety_K50-48_T90.csv..."
       ]
      },
      {
       "output_type": "stream",
       "stream": "stdout",
       "text": [
        "\n",
        "Processing ConceptLevel_AfterDistanceAndControlsAndDiversityAndCorrectedDiscreteVariety_K50-4_T20.csv..."
       ]
      },
      {
       "output_type": "stream",
       "stream": "stdout",
       "text": [
        "\n",
        "Processing ConceptLevel_AfterDistanceAndControlsAndDiversityAndCorrectedDiscreteVariety_K50-4_T30.csv..."
       ]
      },
      {
       "output_type": "stream",
       "stream": "stdout",
       "text": [
        "\n",
        "Processing ConceptLevel_AfterDistanceAndControlsAndDiversityAndCorrectedDiscreteVariety_K50-4_T40.csv..."
       ]
      },
      {
       "output_type": "stream",
       "stream": "stdout",
       "text": [
        "\n",
        "Processing ConceptLevel_AfterDistanceAndControlsAndDiversityAndCorrectedDiscreteVariety_K50-4_T50.csv..."
       ]
      },
      {
       "output_type": "stream",
       "stream": "stdout",
       "text": [
        "\n",
        "Processing ConceptLevel_AfterDistanceAndControlsAndDiversityAndCorrectedDiscreteVariety_K50-4_T60.csv..."
       ]
      },
      {
       "output_type": "stream",
       "stream": "stdout",
       "text": [
        "\n",
        "Processing ConceptLevel_AfterDistanceAndControlsAndDiversityAndCorrectedDiscreteVariety_K50-4_T70.csv..."
       ]
      },
      {
       "output_type": "stream",
       "stream": "stdout",
       "text": [
        "\n",
        "Processing ConceptLevel_AfterDistanceAndControlsAndDiversityAndCorrectedDiscreteVariety_K50-4_T80.csv..."
       ]
      },
      {
       "output_type": "stream",
       "stream": "stdout",
       "text": [
        "\n",
        "Processing ConceptLevel_AfterDistanceAndControlsAndDiversityAndCorrectedDiscreteVariety_K50-4_T90.csv..."
       ]
      },
      {
       "output_type": "stream",
       "stream": "stdout",
       "text": [
        "\n",
        "Processing ConceptLevel_AfterDistanceAndControlsAndDiversityAndCorrectedDiscreteVariety_K500-11_T20.csv..."
       ]
      },
      {
       "output_type": "stream",
       "stream": "stdout",
       "text": [
        "\n",
        "Processing ConceptLevel_AfterDistanceAndControlsAndDiversityAndCorrectedDiscreteVariety_K500-11_T30.csv..."
       ]
      },
      {
       "output_type": "stream",
       "stream": "stdout",
       "text": [
        "\n",
        "Processing ConceptLevel_AfterDistanceAndControlsAndDiversityAndCorrectedDiscreteVariety_K500-11_T40.csv..."
       ]
      },
      {
       "output_type": "stream",
       "stream": "stdout",
       "text": [
        "\n",
        "Processing ConceptLevel_AfterDistanceAndControlsAndDiversityAndCorrectedDiscreteVariety_K500-11_T50.csv..."
       ]
      },
      {
       "output_type": "stream",
       "stream": "stdout",
       "text": [
        "\n",
        "Processing ConceptLevel_AfterDistanceAndControlsAndDiversityAndCorrectedDiscreteVariety_K500-11_T60.csv..."
       ]
      },
      {
       "output_type": "stream",
       "stream": "stdout",
       "text": [
        "\n",
        "Processing ConceptLevel_AfterDistanceAndControlsAndDiversityAndCorrectedDiscreteVariety_K500-11_T70.csv..."
       ]
      },
      {
       "output_type": "stream",
       "stream": "stdout",
       "text": [
        "\n",
        "Processing ConceptLevel_AfterDistanceAndControlsAndDiversityAndCorrectedDiscreteVariety_K500-11_T80.csv..."
       ]
      },
      {
       "output_type": "stream",
       "stream": "stdout",
       "text": [
        "\n",
        "Processing ConceptLevel_AfterDistanceAndControlsAndDiversityAndCorrectedDiscreteVariety_K500-11_T90.csv..."
       ]
      },
      {
       "output_type": "stream",
       "stream": "stdout",
       "text": [
        "\n",
        "Processing ConceptLevel_AfterDistanceAndControlsAndDiversityAndCorrectedDiscreteVariety_K500-15_T20.csv..."
       ]
      },
      {
       "output_type": "stream",
       "stream": "stdout",
       "text": [
        "\n",
        "Processing ConceptLevel_AfterDistanceAndControlsAndDiversityAndCorrectedDiscreteVariety_K500-15_T30.csv..."
       ]
      },
      {
       "output_type": "stream",
       "stream": "stdout",
       "text": [
        "\n",
        "Processing ConceptLevel_AfterDistanceAndControlsAndDiversityAndCorrectedDiscreteVariety_K500-15_T40.csv..."
       ]
      },
      {
       "output_type": "stream",
       "stream": "stdout",
       "text": [
        "\n",
        "Processing ConceptLevel_AfterDistanceAndControlsAndDiversityAndCorrectedDiscreteVariety_K500-15_T50.csv..."
       ]
      },
      {
       "output_type": "stream",
       "stream": "stdout",
       "text": [
        "\n",
        "Processing ConceptLevel_AfterDistanceAndControlsAndDiversityAndCorrectedDiscreteVariety_K500-15_T60.csv..."
       ]
      },
      {
       "output_type": "stream",
       "stream": "stdout",
       "text": [
        "\n",
        "Processing ConceptLevel_AfterDistanceAndControlsAndDiversityAndCorrectedDiscreteVariety_K500-15_T70.csv..."
       ]
      },
      {
       "output_type": "stream",
       "stream": "stdout",
       "text": [
        "\n",
        "Processing ConceptLevel_AfterDistanceAndControlsAndDiversityAndCorrectedDiscreteVariety_K500-15_T80.csv..."
       ]
      },
      {
       "output_type": "stream",
       "stream": "stdout",
       "text": [
        "\n",
        "Processing ConceptLevel_AfterDistanceAndControlsAndDiversityAndCorrectedDiscreteVariety_K500-15_T90.csv..."
       ]
      },
      {
       "output_type": "stream",
       "stream": "stdout",
       "text": [
        "\n",
        "Processing ConceptLevel_AfterDistanceAndControlsAndDiversityAndCorrectedDiscreteVariety_K500-16_T20.csv..."
       ]
      },
      {
       "output_type": "stream",
       "stream": "stdout",
       "text": [
        "\n",
        "Processing ConceptLevel_AfterDistanceAndControlsAndDiversityAndCorrectedDiscreteVariety_K500-16_T30.csv..."
       ]
      },
      {
       "output_type": "stream",
       "stream": "stdout",
       "text": [
        "\n",
        "Processing ConceptLevel_AfterDistanceAndControlsAndDiversityAndCorrectedDiscreteVariety_K500-16_T40.csv..."
       ]
      },
      {
       "output_type": "stream",
       "stream": "stdout",
       "text": [
        "\n",
        "Processing ConceptLevel_AfterDistanceAndControlsAndDiversityAndCorrectedDiscreteVariety_K500-16_T50.csv..."
       ]
      },
      {
       "output_type": "stream",
       "stream": "stdout",
       "text": [
        "\n",
        "Processing ConceptLevel_AfterDistanceAndControlsAndDiversityAndCorrectedDiscreteVariety_K500-16_T60.csv..."
       ]
      },
      {
       "output_type": "stream",
       "stream": "stdout",
       "text": [
        "\n",
        "Processing ConceptLevel_AfterDistanceAndControlsAndDiversityAndCorrectedDiscreteVariety_K500-16_T70.csv..."
       ]
      },
      {
       "output_type": "stream",
       "stream": "stdout",
       "text": [
        "\n",
        "Processing ConceptLevel_AfterDistanceAndControlsAndDiversityAndCorrectedDiscreteVariety_K500-16_T80.csv..."
       ]
      },
      {
       "output_type": "stream",
       "stream": "stdout",
       "text": [
        "\n",
        "Processing ConceptLevel_AfterDistanceAndControlsAndDiversityAndCorrectedDiscreteVariety_K500-16_T90.csv..."
       ]
      },
      {
       "output_type": "stream",
       "stream": "stdout",
       "text": [
        "\n",
        "Processing ConceptLevel_AfterDistanceAndControlsAndDiversityAndCorrectedDiscreteVariety_K500-18_T20.csv..."
       ]
      },
      {
       "output_type": "stream",
       "stream": "stdout",
       "text": [
        "\n",
        "Processing ConceptLevel_AfterDistanceAndControlsAndDiversityAndCorrectedDiscreteVariety_K500-18_T30.csv..."
       ]
      },
      {
       "output_type": "stream",
       "stream": "stdout",
       "text": [
        "\n",
        "Processing ConceptLevel_AfterDistanceAndControlsAndDiversityAndCorrectedDiscreteVariety_K500-18_T40.csv..."
       ]
      },
      {
       "output_type": "stream",
       "stream": "stdout",
       "text": [
        "\n",
        "Processing ConceptLevel_AfterDistanceAndControlsAndDiversityAndCorrectedDiscreteVariety_K500-18_T50.csv..."
       ]
      },
      {
       "output_type": "stream",
       "stream": "stdout",
       "text": [
        "\n",
        "Processing ConceptLevel_AfterDistanceAndControlsAndDiversityAndCorrectedDiscreteVariety_K500-18_T60.csv..."
       ]
      },
      {
       "output_type": "stream",
       "stream": "stdout",
       "text": [
        "\n",
        "Processing ConceptLevel_AfterDistanceAndControlsAndDiversityAndCorrectedDiscreteVariety_K500-18_T70.csv..."
       ]
      },
      {
       "output_type": "stream",
       "stream": "stdout",
       "text": [
        "\n",
        "Processing ConceptLevel_AfterDistanceAndControlsAndDiversityAndCorrectedDiscreteVariety_K500-18_T80.csv..."
       ]
      },
      {
       "output_type": "stream",
       "stream": "stdout",
       "text": [
        "\n",
        "Processing ConceptLevel_AfterDistanceAndControlsAndDiversityAndCorrectedDiscreteVariety_K500-18_T90.csv..."
       ]
      },
      {
       "output_type": "stream",
       "stream": "stdout",
       "text": [
        "\n",
        "Processing ConceptLevel_AfterDistanceAndControlsAndDiversityAndCorrectedDiscreteVariety_K500-1_T20.csv..."
       ]
      },
      {
       "output_type": "stream",
       "stream": "stdout",
       "text": [
        "\n",
        "Processing ConceptLevel_AfterDistanceAndControlsAndDiversityAndCorrectedDiscreteVariety_K500-1_T30.csv..."
       ]
      },
      {
       "output_type": "stream",
       "stream": "stdout",
       "text": [
        "\n",
        "Processing ConceptLevel_AfterDistanceAndControlsAndDiversityAndCorrectedDiscreteVariety_K500-1_T40.csv..."
       ]
      },
      {
       "output_type": "stream",
       "stream": "stdout",
       "text": [
        "\n",
        "Processing ConceptLevel_AfterDistanceAndControlsAndDiversityAndCorrectedDiscreteVariety_K500-1_T50.csv..."
       ]
      },
      {
       "output_type": "stream",
       "stream": "stdout",
       "text": [
        "\n",
        "Processing ConceptLevel_AfterDistanceAndControlsAndDiversityAndCorrectedDiscreteVariety_K500-1_T60.csv..."
       ]
      },
      {
       "output_type": "stream",
       "stream": "stdout",
       "text": [
        "\n",
        "Processing ConceptLevel_AfterDistanceAndControlsAndDiversityAndCorrectedDiscreteVariety_K500-1_T70.csv..."
       ]
      },
      {
       "output_type": "stream",
       "stream": "stdout",
       "text": [
        "\n",
        "Processing ConceptLevel_AfterDistanceAndControlsAndDiversityAndCorrectedDiscreteVariety_K500-1_T80.csv..."
       ]
      },
      {
       "output_type": "stream",
       "stream": "stdout",
       "text": [
        "\n",
        "Processing ConceptLevel_AfterDistanceAndControlsAndDiversityAndCorrectedDiscreteVariety_K500-1_T90.csv..."
       ]
      },
      {
       "output_type": "stream",
       "stream": "stdout",
       "text": [
        "\n",
        "Processing ConceptLevel_AfterDistanceAndControlsAndDiversityAndCorrectedDiscreteVariety_K500-20_T20.csv..."
       ]
      },
      {
       "output_type": "stream",
       "stream": "stdout",
       "text": [
        "\n",
        "Processing ConceptLevel_AfterDistanceAndControlsAndDiversityAndCorrectedDiscreteVariety_K500-20_T30.csv..."
       ]
      },
      {
       "output_type": "stream",
       "stream": "stdout",
       "text": [
        "\n",
        "Processing ConceptLevel_AfterDistanceAndControlsAndDiversityAndCorrectedDiscreteVariety_K500-20_T40.csv..."
       ]
      },
      {
       "output_type": "stream",
       "stream": "stdout",
       "text": [
        "\n",
        "Processing ConceptLevel_AfterDistanceAndControlsAndDiversityAndCorrectedDiscreteVariety_K500-20_T50.csv..."
       ]
      },
      {
       "output_type": "stream",
       "stream": "stdout",
       "text": [
        "\n",
        "Processing ConceptLevel_AfterDistanceAndControlsAndDiversityAndCorrectedDiscreteVariety_K500-20_T60.csv..."
       ]
      },
      {
       "output_type": "stream",
       "stream": "stdout",
       "text": [
        "\n",
        "Processing ConceptLevel_AfterDistanceAndControlsAndDiversityAndCorrectedDiscreteVariety_K500-20_T70.csv..."
       ]
      },
      {
       "output_type": "stream",
       "stream": "stdout",
       "text": [
        "\n",
        "Processing ConceptLevel_AfterDistanceAndControlsAndDiversityAndCorrectedDiscreteVariety_K500-20_T80.csv..."
       ]
      },
      {
       "output_type": "stream",
       "stream": "stdout",
       "text": [
        "\n",
        "Processing ConceptLevel_AfterDistanceAndControlsAndDiversityAndCorrectedDiscreteVariety_K500-20_T90.csv..."
       ]
      },
      {
       "output_type": "stream",
       "stream": "stdout",
       "text": [
        "\n",
        "Processing ConceptLevel_AfterDistanceAndControlsAndDiversityAndCorrectedDiscreteVariety_K500-21_T20.csv..."
       ]
      },
      {
       "output_type": "stream",
       "stream": "stdout",
       "text": [
        "\n",
        "Processing ConceptLevel_AfterDistanceAndControlsAndDiversityAndCorrectedDiscreteVariety_K500-21_T30.csv..."
       ]
      },
      {
       "output_type": "stream",
       "stream": "stdout",
       "text": [
        "\n",
        "Processing ConceptLevel_AfterDistanceAndControlsAndDiversityAndCorrectedDiscreteVariety_K500-21_T40.csv..."
       ]
      },
      {
       "output_type": "stream",
       "stream": "stdout",
       "text": [
        "\n",
        "Processing ConceptLevel_AfterDistanceAndControlsAndDiversityAndCorrectedDiscreteVariety_K500-21_T50.csv..."
       ]
      },
      {
       "output_type": "stream",
       "stream": "stdout",
       "text": [
        "\n",
        "Processing ConceptLevel_AfterDistanceAndControlsAndDiversityAndCorrectedDiscreteVariety_K500-21_T60.csv..."
       ]
      },
      {
       "output_type": "stream",
       "stream": "stdout",
       "text": [
        "\n",
        "Processing ConceptLevel_AfterDistanceAndControlsAndDiversityAndCorrectedDiscreteVariety_K500-21_T70.csv..."
       ]
      },
      {
       "output_type": "stream",
       "stream": "stdout",
       "text": [
        "\n",
        "Processing ConceptLevel_AfterDistanceAndControlsAndDiversityAndCorrectedDiscreteVariety_K500-21_T80.csv..."
       ]
      },
      {
       "output_type": "stream",
       "stream": "stdout",
       "text": [
        "\n",
        "Processing ConceptLevel_AfterDistanceAndControlsAndDiversityAndCorrectedDiscreteVariety_K500-21_T90.csv..."
       ]
      },
      {
       "output_type": "stream",
       "stream": "stdout",
       "text": [
        "\n",
        "Processing ConceptLevel_AfterDistanceAndControlsAndDiversityAndCorrectedDiscreteVariety_K500-23_T20.csv..."
       ]
      },
      {
       "output_type": "stream",
       "stream": "stdout",
       "text": [
        "\n",
        "Processing ConceptLevel_AfterDistanceAndControlsAndDiversityAndCorrectedDiscreteVariety_K500-23_T30.csv..."
       ]
      },
      {
       "output_type": "stream",
       "stream": "stdout",
       "text": [
        "\n",
        "Processing ConceptLevel_AfterDistanceAndControlsAndDiversityAndCorrectedDiscreteVariety_K500-23_T40.csv..."
       ]
      },
      {
       "output_type": "stream",
       "stream": "stdout",
       "text": [
        "\n",
        "Processing ConceptLevel_AfterDistanceAndControlsAndDiversityAndCorrectedDiscreteVariety_K500-23_T50.csv..."
       ]
      },
      {
       "output_type": "stream",
       "stream": "stdout",
       "text": [
        "\n",
        "Processing ConceptLevel_AfterDistanceAndControlsAndDiversityAndCorrectedDiscreteVariety_K500-23_T60.csv..."
       ]
      },
      {
       "output_type": "stream",
       "stream": "stdout",
       "text": [
        "\n",
        "Processing ConceptLevel_AfterDistanceAndControlsAndDiversityAndCorrectedDiscreteVariety_K500-23_T70.csv..."
       ]
      },
      {
       "output_type": "stream",
       "stream": "stdout",
       "text": [
        "\n",
        "Processing ConceptLevel_AfterDistanceAndControlsAndDiversityAndCorrectedDiscreteVariety_K500-23_T80.csv..."
       ]
      },
      {
       "output_type": "stream",
       "stream": "stdout",
       "text": [
        "\n",
        "Processing ConceptLevel_AfterDistanceAndControlsAndDiversityAndCorrectedDiscreteVariety_K500-23_T90.csv..."
       ]
      },
      {
       "output_type": "stream",
       "stream": "stdout",
       "text": [
        "\n",
        "Processing ConceptLevel_AfterDistanceAndControlsAndDiversityAndCorrectedDiscreteVariety_K500-25_T20.csv..."
       ]
      },
      {
       "output_type": "stream",
       "stream": "stdout",
       "text": [
        "\n",
        "Processing ConceptLevel_AfterDistanceAndControlsAndDiversityAndCorrectedDiscreteVariety_K500-25_T30.csv..."
       ]
      },
      {
       "output_type": "stream",
       "stream": "stdout",
       "text": [
        "\n",
        "Processing ConceptLevel_AfterDistanceAndControlsAndDiversityAndCorrectedDiscreteVariety_K500-25_T40.csv..."
       ]
      },
      {
       "output_type": "stream",
       "stream": "stdout",
       "text": [
        "\n",
        "Processing ConceptLevel_AfterDistanceAndControlsAndDiversityAndCorrectedDiscreteVariety_K500-25_T50.csv..."
       ]
      },
      {
       "output_type": "stream",
       "stream": "stdout",
       "text": [
        "\n",
        "Processing ConceptLevel_AfterDistanceAndControlsAndDiversityAndCorrectedDiscreteVariety_K500-25_T60.csv..."
       ]
      },
      {
       "output_type": "stream",
       "stream": "stdout",
       "text": [
        "\n",
        "Processing ConceptLevel_AfterDistanceAndControlsAndDiversityAndCorrectedDiscreteVariety_K500-25_T70.csv..."
       ]
      },
      {
       "output_type": "stream",
       "stream": "stdout",
       "text": [
        "\n",
        "Processing ConceptLevel_AfterDistanceAndControlsAndDiversityAndCorrectedDiscreteVariety_K500-25_T80.csv..."
       ]
      },
      {
       "output_type": "stream",
       "stream": "stdout",
       "text": [
        "\n",
        "Processing ConceptLevel_AfterDistanceAndControlsAndDiversityAndCorrectedDiscreteVariety_K500-25_T90.csv..."
       ]
      },
      {
       "output_type": "stream",
       "stream": "stdout",
       "text": [
        "\n",
        "Processing ConceptLevel_AfterDistanceAndControlsAndDiversityAndCorrectedDiscreteVariety_K500-28_T20.csv..."
       ]
      },
      {
       "output_type": "stream",
       "stream": "stdout",
       "text": [
        "\n",
        "Processing ConceptLevel_AfterDistanceAndControlsAndDiversityAndCorrectedDiscreteVariety_K500-28_T30.csv..."
       ]
      },
      {
       "output_type": "stream",
       "stream": "stdout",
       "text": [
        "\n",
        "Processing ConceptLevel_AfterDistanceAndControlsAndDiversityAndCorrectedDiscreteVariety_K500-28_T40.csv..."
       ]
      },
      {
       "output_type": "stream",
       "stream": "stdout",
       "text": [
        "\n",
        "Processing ConceptLevel_AfterDistanceAndControlsAndDiversityAndCorrectedDiscreteVariety_K500-28_T50.csv..."
       ]
      },
      {
       "output_type": "stream",
       "stream": "stdout",
       "text": [
        "\n",
        "Processing ConceptLevel_AfterDistanceAndControlsAndDiversityAndCorrectedDiscreteVariety_K500-28_T60.csv..."
       ]
      },
      {
       "output_type": "stream",
       "stream": "stdout",
       "text": [
        "\n",
        "Processing ConceptLevel_AfterDistanceAndControlsAndDiversityAndCorrectedDiscreteVariety_K500-28_T70.csv..."
       ]
      },
      {
       "output_type": "stream",
       "stream": "stdout",
       "text": [
        "\n",
        "Processing ConceptLevel_AfterDistanceAndControlsAndDiversityAndCorrectedDiscreteVariety_K500-28_T80.csv..."
       ]
      },
      {
       "output_type": "stream",
       "stream": "stdout",
       "text": [
        "\n",
        "Processing ConceptLevel_AfterDistanceAndControlsAndDiversityAndCorrectedDiscreteVariety_K500-28_T90.csv..."
       ]
      },
      {
       "output_type": "stream",
       "stream": "stdout",
       "text": [
        "\n",
        "Processing ConceptLevel_AfterDistanceAndControlsAndDiversityAndCorrectedDiscreteVariety_K500-30_T20.csv..."
       ]
      },
      {
       "output_type": "stream",
       "stream": "stdout",
       "text": [
        "\n",
        "Processing ConceptLevel_AfterDistanceAndControlsAndDiversityAndCorrectedDiscreteVariety_K500-30_T30.csv..."
       ]
      },
      {
       "output_type": "stream",
       "stream": "stdout",
       "text": [
        "\n",
        "Processing ConceptLevel_AfterDistanceAndControlsAndDiversityAndCorrectedDiscreteVariety_K500-30_T40.csv..."
       ]
      },
      {
       "output_type": "stream",
       "stream": "stdout",
       "text": [
        "\n",
        "Processing ConceptLevel_AfterDistanceAndControlsAndDiversityAndCorrectedDiscreteVariety_K500-30_T50.csv..."
       ]
      },
      {
       "output_type": "stream",
       "stream": "stdout",
       "text": [
        "\n",
        "Processing ConceptLevel_AfterDistanceAndControlsAndDiversityAndCorrectedDiscreteVariety_K500-30_T60.csv..."
       ]
      },
      {
       "output_type": "stream",
       "stream": "stdout",
       "text": [
        "\n",
        "Processing ConceptLevel_AfterDistanceAndControlsAndDiversityAndCorrectedDiscreteVariety_K500-30_T70.csv..."
       ]
      },
      {
       "output_type": "stream",
       "stream": "stdout",
       "text": [
        "\n",
        "Processing ConceptLevel_AfterDistanceAndControlsAndDiversityAndCorrectedDiscreteVariety_K500-30_T80.csv..."
       ]
      },
      {
       "output_type": "stream",
       "stream": "stdout",
       "text": [
        "\n",
        "Processing ConceptLevel_AfterDistanceAndControlsAndDiversityAndCorrectedDiscreteVariety_K500-30_T90.csv..."
       ]
      },
      {
       "output_type": "stream",
       "stream": "stdout",
       "text": [
        "\n",
        "Processing ConceptLevel_AfterDistanceAndControlsAndDiversityAndCorrectedDiscreteVariety_K500-31_T20.csv..."
       ]
      },
      {
       "output_type": "stream",
       "stream": "stdout",
       "text": [
        "\n",
        "Processing ConceptLevel_AfterDistanceAndControlsAndDiversityAndCorrectedDiscreteVariety_K500-31_T30.csv..."
       ]
      },
      {
       "output_type": "stream",
       "stream": "stdout",
       "text": [
        "\n",
        "Processing ConceptLevel_AfterDistanceAndControlsAndDiversityAndCorrectedDiscreteVariety_K500-31_T40.csv..."
       ]
      },
      {
       "output_type": "stream",
       "stream": "stdout",
       "text": [
        "\n",
        "Processing ConceptLevel_AfterDistanceAndControlsAndDiversityAndCorrectedDiscreteVariety_K500-31_T50.csv..."
       ]
      },
      {
       "output_type": "stream",
       "stream": "stdout",
       "text": [
        "\n",
        "Processing ConceptLevel_AfterDistanceAndControlsAndDiversityAndCorrectedDiscreteVariety_K500-31_T60.csv..."
       ]
      },
      {
       "output_type": "stream",
       "stream": "stdout",
       "text": [
        "\n",
        "Processing ConceptLevel_AfterDistanceAndControlsAndDiversityAndCorrectedDiscreteVariety_K500-31_T70.csv..."
       ]
      },
      {
       "output_type": "stream",
       "stream": "stdout",
       "text": [
        "\n",
        "Processing ConceptLevel_AfterDistanceAndControlsAndDiversityAndCorrectedDiscreteVariety_K500-31_T80.csv..."
       ]
      },
      {
       "output_type": "stream",
       "stream": "stdout",
       "text": [
        "\n",
        "Processing ConceptLevel_AfterDistanceAndControlsAndDiversityAndCorrectedDiscreteVariety_K500-31_T90.csv..."
       ]
      },
      {
       "output_type": "stream",
       "stream": "stdout",
       "text": [
        "\n",
        "Processing ConceptLevel_AfterDistanceAndControlsAndDiversityAndCorrectedDiscreteVariety_K500-32_T20.csv..."
       ]
      },
      {
       "output_type": "stream",
       "stream": "stdout",
       "text": [
        "\n",
        "Processing ConceptLevel_AfterDistanceAndControlsAndDiversityAndCorrectedDiscreteVariety_K500-32_T30.csv..."
       ]
      },
      {
       "output_type": "stream",
       "stream": "stdout",
       "text": [
        "\n",
        "Processing ConceptLevel_AfterDistanceAndControlsAndDiversityAndCorrectedDiscreteVariety_K500-32_T40.csv..."
       ]
      },
      {
       "output_type": "stream",
       "stream": "stdout",
       "text": [
        "\n",
        "Processing ConceptLevel_AfterDistanceAndControlsAndDiversityAndCorrectedDiscreteVariety_K500-32_T50.csv..."
       ]
      },
      {
       "output_type": "stream",
       "stream": "stdout",
       "text": [
        "\n",
        "Processing ConceptLevel_AfterDistanceAndControlsAndDiversityAndCorrectedDiscreteVariety_K500-32_T60.csv..."
       ]
      },
      {
       "output_type": "stream",
       "stream": "stdout",
       "text": [
        "\n",
        "Processing ConceptLevel_AfterDistanceAndControlsAndDiversityAndCorrectedDiscreteVariety_K500-32_T70.csv..."
       ]
      },
      {
       "output_type": "stream",
       "stream": "stdout",
       "text": [
        "\n",
        "Processing ConceptLevel_AfterDistanceAndControlsAndDiversityAndCorrectedDiscreteVariety_K500-32_T80.csv..."
       ]
      },
      {
       "output_type": "stream",
       "stream": "stdout",
       "text": [
        "\n",
        "Processing ConceptLevel_AfterDistanceAndControlsAndDiversityAndCorrectedDiscreteVariety_K500-32_T90.csv..."
       ]
      },
      {
       "output_type": "stream",
       "stream": "stdout",
       "text": [
        "\n",
        "Processing ConceptLevel_AfterDistanceAndControlsAndDiversityAndCorrectedDiscreteVariety_K500-38_T20.csv..."
       ]
      },
      {
       "output_type": "stream",
       "stream": "stdout",
       "text": [
        "\n",
        "Processing ConceptLevel_AfterDistanceAndControlsAndDiversityAndCorrectedDiscreteVariety_K500-38_T30.csv..."
       ]
      },
      {
       "output_type": "stream",
       "stream": "stdout",
       "text": [
        "\n",
        "Processing ConceptLevel_AfterDistanceAndControlsAndDiversityAndCorrectedDiscreteVariety_K500-38_T40.csv..."
       ]
      },
      {
       "output_type": "stream",
       "stream": "stdout",
       "text": [
        "\n",
        "Processing ConceptLevel_AfterDistanceAndControlsAndDiversityAndCorrectedDiscreteVariety_K500-38_T50.csv..."
       ]
      },
      {
       "output_type": "stream",
       "stream": "stdout",
       "text": [
        "\n",
        "Processing ConceptLevel_AfterDistanceAndControlsAndDiversityAndCorrectedDiscreteVariety_K500-38_T60.csv..."
       ]
      },
      {
       "output_type": "stream",
       "stream": "stdout",
       "text": [
        "\n",
        "Processing ConceptLevel_AfterDistanceAndControlsAndDiversityAndCorrectedDiscreteVariety_K500-38_T70.csv..."
       ]
      },
      {
       "output_type": "stream",
       "stream": "stdout",
       "text": [
        "\n",
        "Processing ConceptLevel_AfterDistanceAndControlsAndDiversityAndCorrectedDiscreteVariety_K500-38_T80.csv..."
       ]
      },
      {
       "output_type": "stream",
       "stream": "stdout",
       "text": [
        "\n",
        "Processing ConceptLevel_AfterDistanceAndControlsAndDiversityAndCorrectedDiscreteVariety_K500-38_T90.csv..."
       ]
      },
      {
       "output_type": "stream",
       "stream": "stdout",
       "text": [
        "\n",
        "Processing ConceptLevel_AfterDistanceAndControlsAndDiversityAndCorrectedDiscreteVariety_K500-44_T20.csv..."
       ]
      },
      {
       "output_type": "stream",
       "stream": "stdout",
       "text": [
        "\n",
        "Processing ConceptLevel_AfterDistanceAndControlsAndDiversityAndCorrectedDiscreteVariety_K500-44_T30.csv..."
       ]
      },
      {
       "output_type": "stream",
       "stream": "stdout",
       "text": [
        "\n",
        "Processing ConceptLevel_AfterDistanceAndControlsAndDiversityAndCorrectedDiscreteVariety_K500-44_T40.csv..."
       ]
      },
      {
       "output_type": "stream",
       "stream": "stdout",
       "text": [
        "\n",
        "Processing ConceptLevel_AfterDistanceAndControlsAndDiversityAndCorrectedDiscreteVariety_K500-44_T50.csv..."
       ]
      },
      {
       "output_type": "stream",
       "stream": "stdout",
       "text": [
        "\n",
        "Processing ConceptLevel_AfterDistanceAndControlsAndDiversityAndCorrectedDiscreteVariety_K500-44_T60.csv..."
       ]
      },
      {
       "output_type": "stream",
       "stream": "stdout",
       "text": [
        "\n",
        "Processing ConceptLevel_AfterDistanceAndControlsAndDiversityAndCorrectedDiscreteVariety_K500-44_T70.csv..."
       ]
      },
      {
       "output_type": "stream",
       "stream": "stdout",
       "text": [
        "\n",
        "Processing ConceptLevel_AfterDistanceAndControlsAndDiversityAndCorrectedDiscreteVariety_K500-44_T80.csv..."
       ]
      },
      {
       "output_type": "stream",
       "stream": "stdout",
       "text": [
        "\n",
        "Processing ConceptLevel_AfterDistanceAndControlsAndDiversityAndCorrectedDiscreteVariety_K500-44_T90.csv..."
       ]
      },
      {
       "output_type": "stream",
       "stream": "stdout",
       "text": [
        "\n",
        "Processing ConceptLevel_AfterDistanceAndControlsAndDiversityAndCorrectedDiscreteVariety_K500-47_T20.csv..."
       ]
      },
      {
       "output_type": "stream",
       "stream": "stdout",
       "text": [
        "\n",
        "Processing ConceptLevel_AfterDistanceAndControlsAndDiversityAndCorrectedDiscreteVariety_K500-47_T30.csv..."
       ]
      },
      {
       "output_type": "stream",
       "stream": "stdout",
       "text": [
        "\n",
        "Processing ConceptLevel_AfterDistanceAndControlsAndDiversityAndCorrectedDiscreteVariety_K500-47_T40.csv..."
       ]
      },
      {
       "output_type": "stream",
       "stream": "stdout",
       "text": [
        "\n",
        "Processing ConceptLevel_AfterDistanceAndControlsAndDiversityAndCorrectedDiscreteVariety_K500-47_T50.csv..."
       ]
      },
      {
       "output_type": "stream",
       "stream": "stdout",
       "text": [
        "\n",
        "Processing ConceptLevel_AfterDistanceAndControlsAndDiversityAndCorrectedDiscreteVariety_K500-47_T60.csv..."
       ]
      },
      {
       "output_type": "stream",
       "stream": "stdout",
       "text": [
        "\n",
        "Processing ConceptLevel_AfterDistanceAndControlsAndDiversityAndCorrectedDiscreteVariety_K500-47_T70.csv..."
       ]
      },
      {
       "output_type": "stream",
       "stream": "stdout",
       "text": [
        "\n",
        "Processing ConceptLevel_AfterDistanceAndControlsAndDiversityAndCorrectedDiscreteVariety_K500-47_T80.csv..."
       ]
      },
      {
       "output_type": "stream",
       "stream": "stdout",
       "text": [
        "\n",
        "Processing ConceptLevel_AfterDistanceAndControlsAndDiversityAndCorrectedDiscreteVariety_K500-47_T90.csv..."
       ]
      },
      {
       "output_type": "stream",
       "stream": "stdout",
       "text": [
        "\n",
        "Processing ConceptLevel_AfterDistanceAndControlsAndDiversityAndCorrectedDiscreteVariety_K500-4_T20.csv..."
       ]
      },
      {
       "output_type": "stream",
       "stream": "stdout",
       "text": [
        "\n",
        "Processing ConceptLevel_AfterDistanceAndControlsAndDiversityAndCorrectedDiscreteVariety_K500-4_T30.csv..."
       ]
      },
      {
       "output_type": "stream",
       "stream": "stdout",
       "text": [
        "\n",
        "Processing ConceptLevel_AfterDistanceAndControlsAndDiversityAndCorrectedDiscreteVariety_K500-4_T40.csv..."
       ]
      },
      {
       "output_type": "stream",
       "stream": "stdout",
       "text": [
        "\n",
        "Processing ConceptLevel_AfterDistanceAndControlsAndDiversityAndCorrectedDiscreteVariety_K500-4_T50.csv..."
       ]
      },
      {
       "output_type": "stream",
       "stream": "stdout",
       "text": [
        "\n",
        "Processing ConceptLevel_AfterDistanceAndControlsAndDiversityAndCorrectedDiscreteVariety_K500-4_T60.csv..."
       ]
      },
      {
       "output_type": "stream",
       "stream": "stdout",
       "text": [
        "\n",
        "Processing ConceptLevel_AfterDistanceAndControlsAndDiversityAndCorrectedDiscreteVariety_K500-4_T70.csv..."
       ]
      },
      {
       "output_type": "stream",
       "stream": "stdout",
       "text": [
        "\n",
        "Processing ConceptLevel_AfterDistanceAndControlsAndDiversityAndCorrectedDiscreteVariety_K500-4_T80.csv..."
       ]
      },
      {
       "output_type": "stream",
       "stream": "stdout",
       "text": [
        "\n",
        "Processing ConceptLevel_AfterDistanceAndControlsAndDiversityAndCorrectedDiscreteVariety_K500-4_T90.csv..."
       ]
      },
      {
       "output_type": "stream",
       "stream": "stdout",
       "text": [
        "\n",
        "Processing ConceptLevel_AfterDistanceAndControlsAndDiversityAndCorrectedDiscreteVariety_K500-5_T20.csv..."
       ]
      },
      {
       "output_type": "stream",
       "stream": "stdout",
       "text": [
        "\n",
        "Processing ConceptLevel_AfterDistanceAndControlsAndDiversityAndCorrectedDiscreteVariety_K500-5_T30.csv..."
       ]
      },
      {
       "output_type": "stream",
       "stream": "stdout",
       "text": [
        "\n",
        "Processing ConceptLevel_AfterDistanceAndControlsAndDiversityAndCorrectedDiscreteVariety_K500-5_T40.csv..."
       ]
      },
      {
       "output_type": "stream",
       "stream": "stdout",
       "text": [
        "\n",
        "Processing ConceptLevel_AfterDistanceAndControlsAndDiversityAndCorrectedDiscreteVariety_K500-5_T50.csv..."
       ]
      },
      {
       "output_type": "stream",
       "stream": "stdout",
       "text": [
        "\n",
        "Processing ConceptLevel_AfterDistanceAndControlsAndDiversityAndCorrectedDiscreteVariety_K500-5_T60.csv..."
       ]
      },
      {
       "output_type": "stream",
       "stream": "stdout",
       "text": [
        "\n",
        "Processing ConceptLevel_AfterDistanceAndControlsAndDiversityAndCorrectedDiscreteVariety_K500-5_T70.csv..."
       ]
      },
      {
       "output_type": "stream",
       "stream": "stdout",
       "text": [
        "\n",
        "Processing ConceptLevel_AfterDistanceAndControlsAndDiversityAndCorrectedDiscreteVariety_K500-5_T80.csv..."
       ]
      },
      {
       "output_type": "stream",
       "stream": "stdout",
       "text": [
        "\n",
        "Processing ConceptLevel_AfterDistanceAndControlsAndDiversityAndCorrectedDiscreteVariety_K500-5_T90.csv..."
       ]
      },
      {
       "output_type": "stream",
       "stream": "stdout",
       "text": [
        "\n",
        "Processing ConceptLevel_AfterDistanceAndControlsAndDiversityAndCorrectedDiscreteVariety_K500-8_T20.csv..."
       ]
      },
      {
       "output_type": "stream",
       "stream": "stdout",
       "text": [
        "\n",
        "Processing ConceptLevel_AfterDistanceAndControlsAndDiversityAndCorrectedDiscreteVariety_K500-8_T30.csv..."
       ]
      },
      {
       "output_type": "stream",
       "stream": "stdout",
       "text": [
        "\n",
        "Processing ConceptLevel_AfterDistanceAndControlsAndDiversityAndCorrectedDiscreteVariety_K500-8_T40.csv..."
       ]
      },
      {
       "output_type": "stream",
       "stream": "stdout",
       "text": [
        "\n",
        "Processing ConceptLevel_AfterDistanceAndControlsAndDiversityAndCorrectedDiscreteVariety_K500-8_T50.csv..."
       ]
      },
      {
       "output_type": "stream",
       "stream": "stdout",
       "text": [
        "\n",
        "Processing ConceptLevel_AfterDistanceAndControlsAndDiversityAndCorrectedDiscreteVariety_K500-8_T60.csv..."
       ]
      },
      {
       "output_type": "stream",
       "stream": "stdout",
       "text": [
        "\n",
        "Processing ConceptLevel_AfterDistanceAndControlsAndDiversityAndCorrectedDiscreteVariety_K500-8_T70.csv..."
       ]
      },
      {
       "output_type": "stream",
       "stream": "stdout",
       "text": [
        "\n",
        "Processing ConceptLevel_AfterDistanceAndControlsAndDiversityAndCorrectedDiscreteVariety_K500-8_T80.csv..."
       ]
      },
      {
       "output_type": "stream",
       "stream": "stdout",
       "text": [
        "\n",
        "Processing ConceptLevel_AfterDistanceAndControlsAndDiversityAndCorrectedDiscreteVariety_K500-8_T90.csv..."
       ]
      },
      {
       "output_type": "stream",
       "stream": "stdout",
       "text": [
        "\n",
        "Processing ConceptLevel_AfterDistanceAndControlsAndDiversityAndCorrectedDiscreteVariety_K500-9_T20.csv..."
       ]
      },
      {
       "output_type": "stream",
       "stream": "stdout",
       "text": [
        "\n",
        "Processing ConceptLevel_AfterDistanceAndControlsAndDiversityAndCorrectedDiscreteVariety_K500-9_T30.csv..."
       ]
      },
      {
       "output_type": "stream",
       "stream": "stdout",
       "text": [
        "\n",
        "Processing ConceptLevel_AfterDistanceAndControlsAndDiversityAndCorrectedDiscreteVariety_K500-9_T40.csv..."
       ]
      },
      {
       "output_type": "stream",
       "stream": "stdout",
       "text": [
        "\n",
        "Processing ConceptLevel_AfterDistanceAndControlsAndDiversityAndCorrectedDiscreteVariety_K500-9_T50.csv..."
       ]
      },
      {
       "output_type": "stream",
       "stream": "stdout",
       "text": [
        "\n",
        "Processing ConceptLevel_AfterDistanceAndControlsAndDiversityAndCorrectedDiscreteVariety_K500-9_T60.csv..."
       ]
      },
      {
       "output_type": "stream",
       "stream": "stdout",
       "text": [
        "\n",
        "Processing ConceptLevel_AfterDistanceAndControlsAndDiversityAndCorrectedDiscreteVariety_K500-9_T70.csv..."
       ]
      },
      {
       "output_type": "stream",
       "stream": "stdout",
       "text": [
        "\n",
        "Processing ConceptLevel_AfterDistanceAndControlsAndDiversityAndCorrectedDiscreteVariety_K500-9_T80.csv..."
       ]
      },
      {
       "output_type": "stream",
       "stream": "stdout",
       "text": [
        "\n",
        "Processing ConceptLevel_AfterDistanceAndControlsAndDiversityAndCorrectedDiscreteVariety_K500-9_T90.csv..."
       ]
      },
      {
       "output_type": "stream",
       "stream": "stdout",
       "text": [
        "\n",
        "Processing ConceptLevel_AfterDistanceAndControlsAndDiversityAndCorrectedDiscreteVariety_K600-12_T20.csv..."
       ]
      },
      {
       "output_type": "stream",
       "stream": "stdout",
       "text": [
        "\n",
        "Processing ConceptLevel_AfterDistanceAndControlsAndDiversityAndCorrectedDiscreteVariety_K600-12_T30.csv..."
       ]
      },
      {
       "output_type": "stream",
       "stream": "stdout",
       "text": [
        "\n",
        "Processing ConceptLevel_AfterDistanceAndControlsAndDiversityAndCorrectedDiscreteVariety_K600-12_T40.csv..."
       ]
      },
      {
       "output_type": "stream",
       "stream": "stdout",
       "text": [
        "\n",
        "Processing ConceptLevel_AfterDistanceAndControlsAndDiversityAndCorrectedDiscreteVariety_K600-12_T50.csv..."
       ]
      },
      {
       "output_type": "stream",
       "stream": "stdout",
       "text": [
        "\n",
        "Processing ConceptLevel_AfterDistanceAndControlsAndDiversityAndCorrectedDiscreteVariety_K600-12_T60.csv..."
       ]
      },
      {
       "output_type": "stream",
       "stream": "stdout",
       "text": [
        "\n",
        "Processing ConceptLevel_AfterDistanceAndControlsAndDiversityAndCorrectedDiscreteVariety_K600-12_T70.csv..."
       ]
      },
      {
       "output_type": "stream",
       "stream": "stdout",
       "text": [
        "\n",
        "Processing ConceptLevel_AfterDistanceAndControlsAndDiversityAndCorrectedDiscreteVariety_K600-12_T80.csv..."
       ]
      },
      {
       "output_type": "stream",
       "stream": "stdout",
       "text": [
        "\n",
        "Processing ConceptLevel_AfterDistanceAndControlsAndDiversityAndCorrectedDiscreteVariety_K600-12_T90.csv..."
       ]
      },
      {
       "output_type": "stream",
       "stream": "stdout",
       "text": [
        "\n",
        "Processing ConceptLevel_AfterDistanceAndControlsAndDiversityAndCorrectedDiscreteVariety_K600-13_T20.csv..."
       ]
      },
      {
       "output_type": "stream",
       "stream": "stdout",
       "text": [
        "\n",
        "Processing ConceptLevel_AfterDistanceAndControlsAndDiversityAndCorrectedDiscreteVariety_K600-13_T30.csv..."
       ]
      },
      {
       "output_type": "stream",
       "stream": "stdout",
       "text": [
        "\n",
        "Processing ConceptLevel_AfterDistanceAndControlsAndDiversityAndCorrectedDiscreteVariety_K600-13_T40.csv..."
       ]
      },
      {
       "output_type": "stream",
       "stream": "stdout",
       "text": [
        "\n",
        "Processing ConceptLevel_AfterDistanceAndControlsAndDiversityAndCorrectedDiscreteVariety_K600-13_T50.csv..."
       ]
      },
      {
       "output_type": "stream",
       "stream": "stdout",
       "text": [
        "\n",
        "Processing ConceptLevel_AfterDistanceAndControlsAndDiversityAndCorrectedDiscreteVariety_K600-13_T60.csv..."
       ]
      },
      {
       "output_type": "stream",
       "stream": "stdout",
       "text": [
        "\n",
        "Processing ConceptLevel_AfterDistanceAndControlsAndDiversityAndCorrectedDiscreteVariety_K600-13_T70.csv..."
       ]
      },
      {
       "output_type": "stream",
       "stream": "stdout",
       "text": [
        "\n",
        "Processing ConceptLevel_AfterDistanceAndControlsAndDiversityAndCorrectedDiscreteVariety_K600-13_T80.csv..."
       ]
      },
      {
       "output_type": "stream",
       "stream": "stdout",
       "text": [
        "\n",
        "Processing ConceptLevel_AfterDistanceAndControlsAndDiversityAndCorrectedDiscreteVariety_K600-13_T90.csv..."
       ]
      },
      {
       "output_type": "stream",
       "stream": "stdout",
       "text": [
        "\n",
        "Processing ConceptLevel_AfterDistanceAndControlsAndDiversityAndCorrectedDiscreteVariety_K600-15_T20.csv..."
       ]
      },
      {
       "output_type": "stream",
       "stream": "stdout",
       "text": [
        "\n",
        "Processing ConceptLevel_AfterDistanceAndControlsAndDiversityAndCorrectedDiscreteVariety_K600-15_T30.csv..."
       ]
      },
      {
       "output_type": "stream",
       "stream": "stdout",
       "text": [
        "\n",
        "Processing ConceptLevel_AfterDistanceAndControlsAndDiversityAndCorrectedDiscreteVariety_K600-15_T40.csv..."
       ]
      },
      {
       "output_type": "stream",
       "stream": "stdout",
       "text": [
        "\n",
        "Processing ConceptLevel_AfterDistanceAndControlsAndDiversityAndCorrectedDiscreteVariety_K600-15_T50.csv..."
       ]
      },
      {
       "output_type": "stream",
       "stream": "stdout",
       "text": [
        "\n",
        "Processing ConceptLevel_AfterDistanceAndControlsAndDiversityAndCorrectedDiscreteVariety_K600-15_T60.csv..."
       ]
      },
      {
       "output_type": "stream",
       "stream": "stdout",
       "text": [
        "\n",
        "Processing ConceptLevel_AfterDistanceAndControlsAndDiversityAndCorrectedDiscreteVariety_K600-15_T70.csv..."
       ]
      },
      {
       "output_type": "stream",
       "stream": "stdout",
       "text": [
        "\n",
        "Processing ConceptLevel_AfterDistanceAndControlsAndDiversityAndCorrectedDiscreteVariety_K600-15_T80.csv..."
       ]
      },
      {
       "output_type": "stream",
       "stream": "stdout",
       "text": [
        "\n",
        "Processing ConceptLevel_AfterDistanceAndControlsAndDiversityAndCorrectedDiscreteVariety_K600-15_T90.csv..."
       ]
      },
      {
       "output_type": "stream",
       "stream": "stdout",
       "text": [
        "\n",
        "Processing ConceptLevel_AfterDistanceAndControlsAndDiversityAndCorrectedDiscreteVariety_K600-18_T20.csv..."
       ]
      },
      {
       "output_type": "stream",
       "stream": "stdout",
       "text": [
        "\n",
        "Processing ConceptLevel_AfterDistanceAndControlsAndDiversityAndCorrectedDiscreteVariety_K600-18_T30.csv..."
       ]
      },
      {
       "output_type": "stream",
       "stream": "stdout",
       "text": [
        "\n",
        "Processing ConceptLevel_AfterDistanceAndControlsAndDiversityAndCorrectedDiscreteVariety_K600-18_T40.csv..."
       ]
      },
      {
       "output_type": "stream",
       "stream": "stdout",
       "text": [
        "\n",
        "Processing ConceptLevel_AfterDistanceAndControlsAndDiversityAndCorrectedDiscreteVariety_K600-18_T50.csv..."
       ]
      },
      {
       "output_type": "stream",
       "stream": "stdout",
       "text": [
        "\n",
        "Processing ConceptLevel_AfterDistanceAndControlsAndDiversityAndCorrectedDiscreteVariety_K600-18_T60.csv..."
       ]
      },
      {
       "output_type": "stream",
       "stream": "stdout",
       "text": [
        "\n",
        "Processing ConceptLevel_AfterDistanceAndControlsAndDiversityAndCorrectedDiscreteVariety_K600-18_T70.csv..."
       ]
      },
      {
       "output_type": "stream",
       "stream": "stdout",
       "text": [
        "\n",
        "Processing ConceptLevel_AfterDistanceAndControlsAndDiversityAndCorrectedDiscreteVariety_K600-18_T80.csv..."
       ]
      },
      {
       "output_type": "stream",
       "stream": "stdout",
       "text": [
        "\n",
        "Processing ConceptLevel_AfterDistanceAndControlsAndDiversityAndCorrectedDiscreteVariety_K600-18_T90.csv..."
       ]
      },
      {
       "output_type": "stream",
       "stream": "stdout",
       "text": [
        "\n",
        "Processing ConceptLevel_AfterDistanceAndControlsAndDiversityAndCorrectedDiscreteVariety_K600-22_T20.csv..."
       ]
      },
      {
       "output_type": "stream",
       "stream": "stdout",
       "text": [
        "\n",
        "Processing ConceptLevel_AfterDistanceAndControlsAndDiversityAndCorrectedDiscreteVariety_K600-22_T30.csv..."
       ]
      },
      {
       "output_type": "stream",
       "stream": "stdout",
       "text": [
        "\n",
        "Processing ConceptLevel_AfterDistanceAndControlsAndDiversityAndCorrectedDiscreteVariety_K600-22_T40.csv..."
       ]
      },
      {
       "output_type": "stream",
       "stream": "stdout",
       "text": [
        "\n",
        "Processing ConceptLevel_AfterDistanceAndControlsAndDiversityAndCorrectedDiscreteVariety_K600-22_T50.csv..."
       ]
      },
      {
       "output_type": "stream",
       "stream": "stdout",
       "text": [
        "\n",
        "Processing ConceptLevel_AfterDistanceAndControlsAndDiversityAndCorrectedDiscreteVariety_K600-22_T60.csv..."
       ]
      },
      {
       "output_type": "stream",
       "stream": "stdout",
       "text": [
        "\n",
        "Processing ConceptLevel_AfterDistanceAndControlsAndDiversityAndCorrectedDiscreteVariety_K600-22_T70.csv..."
       ]
      },
      {
       "output_type": "stream",
       "stream": "stdout",
       "text": [
        "\n",
        "Processing ConceptLevel_AfterDistanceAndControlsAndDiversityAndCorrectedDiscreteVariety_K600-22_T80.csv..."
       ]
      },
      {
       "output_type": "stream",
       "stream": "stdout",
       "text": [
        "\n",
        "Processing ConceptLevel_AfterDistanceAndControlsAndDiversityAndCorrectedDiscreteVariety_K600-22_T90.csv..."
       ]
      },
      {
       "output_type": "stream",
       "stream": "stdout",
       "text": [
        "\n",
        "Processing ConceptLevel_AfterDistanceAndControlsAndDiversityAndCorrectedDiscreteVariety_K600-24_T20.csv..."
       ]
      },
      {
       "output_type": "stream",
       "stream": "stdout",
       "text": [
        "\n",
        "Processing ConceptLevel_AfterDistanceAndControlsAndDiversityAndCorrectedDiscreteVariety_K600-24_T30.csv..."
       ]
      },
      {
       "output_type": "stream",
       "stream": "stdout",
       "text": [
        "\n",
        "Processing ConceptLevel_AfterDistanceAndControlsAndDiversityAndCorrectedDiscreteVariety_K600-24_T40.csv..."
       ]
      },
      {
       "output_type": "stream",
       "stream": "stdout",
       "text": [
        "\n",
        "Processing ConceptLevel_AfterDistanceAndControlsAndDiversityAndCorrectedDiscreteVariety_K600-24_T50.csv..."
       ]
      },
      {
       "output_type": "stream",
       "stream": "stdout",
       "text": [
        "\n",
        "Processing ConceptLevel_AfterDistanceAndControlsAndDiversityAndCorrectedDiscreteVariety_K600-24_T60.csv..."
       ]
      },
      {
       "output_type": "stream",
       "stream": "stdout",
       "text": [
        "\n",
        "Processing ConceptLevel_AfterDistanceAndControlsAndDiversityAndCorrectedDiscreteVariety_K600-24_T70.csv..."
       ]
      },
      {
       "output_type": "stream",
       "stream": "stdout",
       "text": [
        "\n",
        "Processing ConceptLevel_AfterDistanceAndControlsAndDiversityAndCorrectedDiscreteVariety_K600-24_T80.csv..."
       ]
      },
      {
       "output_type": "stream",
       "stream": "stdout",
       "text": [
        "\n",
        "Processing ConceptLevel_AfterDistanceAndControlsAndDiversityAndCorrectedDiscreteVariety_K600-24_T90.csv..."
       ]
      },
      {
       "output_type": "stream",
       "stream": "stdout",
       "text": [
        "\n",
        "Processing ConceptLevel_AfterDistanceAndControlsAndDiversityAndCorrectedDiscreteVariety_K600-25_T20.csv..."
       ]
      },
      {
       "output_type": "stream",
       "stream": "stdout",
       "text": [
        "\n",
        "Processing ConceptLevel_AfterDistanceAndControlsAndDiversityAndCorrectedDiscreteVariety_K600-25_T30.csv..."
       ]
      },
      {
       "output_type": "stream",
       "stream": "stdout",
       "text": [
        "\n",
        "Processing ConceptLevel_AfterDistanceAndControlsAndDiversityAndCorrectedDiscreteVariety_K600-25_T40.csv..."
       ]
      },
      {
       "output_type": "stream",
       "stream": "stdout",
       "text": [
        "\n",
        "Processing ConceptLevel_AfterDistanceAndControlsAndDiversityAndCorrectedDiscreteVariety_K600-25_T50.csv..."
       ]
      },
      {
       "output_type": "stream",
       "stream": "stdout",
       "text": [
        "\n",
        "Processing ConceptLevel_AfterDistanceAndControlsAndDiversityAndCorrectedDiscreteVariety_K600-25_T60.csv..."
       ]
      },
      {
       "output_type": "stream",
       "stream": "stdout",
       "text": [
        "\n",
        "Processing ConceptLevel_AfterDistanceAndControlsAndDiversityAndCorrectedDiscreteVariety_K600-25_T70.csv..."
       ]
      },
      {
       "output_type": "stream",
       "stream": "stdout",
       "text": [
        "\n",
        "Processing ConceptLevel_AfterDistanceAndControlsAndDiversityAndCorrectedDiscreteVariety_K600-25_T80.csv..."
       ]
      },
      {
       "output_type": "stream",
       "stream": "stdout",
       "text": [
        "\n",
        "Processing ConceptLevel_AfterDistanceAndControlsAndDiversityAndCorrectedDiscreteVariety_K600-25_T90.csv..."
       ]
      },
      {
       "output_type": "stream",
       "stream": "stdout",
       "text": [
        "\n",
        "Processing ConceptLevel_AfterDistanceAndControlsAndDiversityAndCorrectedDiscreteVariety_K600-27_T20.csv..."
       ]
      },
      {
       "output_type": "stream",
       "stream": "stdout",
       "text": [
        "\n",
        "Processing ConceptLevel_AfterDistanceAndControlsAndDiversityAndCorrectedDiscreteVariety_K600-27_T30.csv..."
       ]
      },
      {
       "output_type": "stream",
       "stream": "stdout",
       "text": [
        "\n",
        "Processing ConceptLevel_AfterDistanceAndControlsAndDiversityAndCorrectedDiscreteVariety_K600-27_T40.csv..."
       ]
      },
      {
       "output_type": "stream",
       "stream": "stdout",
       "text": [
        "\n",
        "Processing ConceptLevel_AfterDistanceAndControlsAndDiversityAndCorrectedDiscreteVariety_K600-27_T50.csv..."
       ]
      },
      {
       "output_type": "stream",
       "stream": "stdout",
       "text": [
        "\n",
        "Processing ConceptLevel_AfterDistanceAndControlsAndDiversityAndCorrectedDiscreteVariety_K600-27_T60.csv..."
       ]
      },
      {
       "output_type": "stream",
       "stream": "stdout",
       "text": [
        "\n",
        "Processing ConceptLevel_AfterDistanceAndControlsAndDiversityAndCorrectedDiscreteVariety_K600-27_T70.csv..."
       ]
      },
      {
       "output_type": "stream",
       "stream": "stdout",
       "text": [
        "\n",
        "Processing ConceptLevel_AfterDistanceAndControlsAndDiversityAndCorrectedDiscreteVariety_K600-27_T80.csv..."
       ]
      },
      {
       "output_type": "stream",
       "stream": "stdout",
       "text": [
        "\n",
        "Processing ConceptLevel_AfterDistanceAndControlsAndDiversityAndCorrectedDiscreteVariety_K600-27_T90.csv..."
       ]
      },
      {
       "output_type": "stream",
       "stream": "stdout",
       "text": [
        "\n",
        "Processing ConceptLevel_AfterDistanceAndControlsAndDiversityAndCorrectedDiscreteVariety_K600-29_T20.csv..."
       ]
      },
      {
       "output_type": "stream",
       "stream": "stdout",
       "text": [
        "\n",
        "Processing ConceptLevel_AfterDistanceAndControlsAndDiversityAndCorrectedDiscreteVariety_K600-29_T30.csv..."
       ]
      },
      {
       "output_type": "stream",
       "stream": "stdout",
       "text": [
        "\n",
        "Processing ConceptLevel_AfterDistanceAndControlsAndDiversityAndCorrectedDiscreteVariety_K600-29_T40.csv..."
       ]
      },
      {
       "output_type": "stream",
       "stream": "stdout",
       "text": [
        "\n",
        "Processing ConceptLevel_AfterDistanceAndControlsAndDiversityAndCorrectedDiscreteVariety_K600-29_T50.csv..."
       ]
      },
      {
       "output_type": "stream",
       "stream": "stdout",
       "text": [
        "\n",
        "Processing ConceptLevel_AfterDistanceAndControlsAndDiversityAndCorrectedDiscreteVariety_K600-29_T60.csv..."
       ]
      },
      {
       "output_type": "stream",
       "stream": "stdout",
       "text": [
        "\n",
        "Processing ConceptLevel_AfterDistanceAndControlsAndDiversityAndCorrectedDiscreteVariety_K600-29_T70.csv..."
       ]
      },
      {
       "output_type": "stream",
       "stream": "stdout",
       "text": [
        "\n",
        "Processing ConceptLevel_AfterDistanceAndControlsAndDiversityAndCorrectedDiscreteVariety_K600-29_T80.csv..."
       ]
      },
      {
       "output_type": "stream",
       "stream": "stdout",
       "text": [
        "\n",
        "Processing ConceptLevel_AfterDistanceAndControlsAndDiversityAndCorrectedDiscreteVariety_K600-29_T90.csv..."
       ]
      },
      {
       "output_type": "stream",
       "stream": "stdout",
       "text": [
        "\n",
        "Processing ConceptLevel_AfterDistanceAndControlsAndDiversityAndCorrectedDiscreteVariety_K600-34_T20.csv..."
       ]
      },
      {
       "output_type": "stream",
       "stream": "stdout",
       "text": [
        "\n",
        "Processing ConceptLevel_AfterDistanceAndControlsAndDiversityAndCorrectedDiscreteVariety_K600-34_T30.csv..."
       ]
      },
      {
       "output_type": "stream",
       "stream": "stdout",
       "text": [
        "\n",
        "Processing ConceptLevel_AfterDistanceAndControlsAndDiversityAndCorrectedDiscreteVariety_K600-34_T40.csv..."
       ]
      },
      {
       "output_type": "stream",
       "stream": "stdout",
       "text": [
        "\n",
        "Processing ConceptLevel_AfterDistanceAndControlsAndDiversityAndCorrectedDiscreteVariety_K600-34_T50.csv..."
       ]
      },
      {
       "output_type": "stream",
       "stream": "stdout",
       "text": [
        "\n",
        "Processing ConceptLevel_AfterDistanceAndControlsAndDiversityAndCorrectedDiscreteVariety_K600-34_T60.csv..."
       ]
      },
      {
       "output_type": "stream",
       "stream": "stdout",
       "text": [
        "\n",
        "Processing ConceptLevel_AfterDistanceAndControlsAndDiversityAndCorrectedDiscreteVariety_K600-34_T70.csv..."
       ]
      },
      {
       "output_type": "stream",
       "stream": "stdout",
       "text": [
        "\n",
        "Processing ConceptLevel_AfterDistanceAndControlsAndDiversityAndCorrectedDiscreteVariety_K600-34_T80.csv..."
       ]
      },
      {
       "output_type": "stream",
       "stream": "stdout",
       "text": [
        "\n",
        "Processing ConceptLevel_AfterDistanceAndControlsAndDiversityAndCorrectedDiscreteVariety_K600-34_T90.csv..."
       ]
      },
      {
       "output_type": "stream",
       "stream": "stdout",
       "text": [
        "\n",
        "Processing ConceptLevel_AfterDistanceAndControlsAndDiversityAndCorrectedDiscreteVariety_K600-35_T20.csv..."
       ]
      },
      {
       "output_type": "stream",
       "stream": "stdout",
       "text": [
        "\n",
        "Processing ConceptLevel_AfterDistanceAndControlsAndDiversityAndCorrectedDiscreteVariety_K600-35_T30.csv..."
       ]
      },
      {
       "output_type": "stream",
       "stream": "stdout",
       "text": [
        "\n",
        "Processing ConceptLevel_AfterDistanceAndControlsAndDiversityAndCorrectedDiscreteVariety_K600-35_T40.csv..."
       ]
      },
      {
       "output_type": "stream",
       "stream": "stdout",
       "text": [
        "\n",
        "Processing ConceptLevel_AfterDistanceAndControlsAndDiversityAndCorrectedDiscreteVariety_K600-35_T50.csv..."
       ]
      },
      {
       "output_type": "stream",
       "stream": "stdout",
       "text": [
        "\n",
        "Processing ConceptLevel_AfterDistanceAndControlsAndDiversityAndCorrectedDiscreteVariety_K600-35_T60.csv..."
       ]
      },
      {
       "output_type": "stream",
       "stream": "stdout",
       "text": [
        "\n",
        "Processing ConceptLevel_AfterDistanceAndControlsAndDiversityAndCorrectedDiscreteVariety_K600-35_T70.csv..."
       ]
      },
      {
       "output_type": "stream",
       "stream": "stdout",
       "text": [
        "\n",
        "Processing ConceptLevel_AfterDistanceAndControlsAndDiversityAndCorrectedDiscreteVariety_K600-35_T80.csv..."
       ]
      },
      {
       "output_type": "stream",
       "stream": "stdout",
       "text": [
        "\n",
        "Processing ConceptLevel_AfterDistanceAndControlsAndDiversityAndCorrectedDiscreteVariety_K600-35_T90.csv..."
       ]
      },
      {
       "output_type": "stream",
       "stream": "stdout",
       "text": [
        "\n",
        "Processing ConceptLevel_AfterDistanceAndControlsAndDiversityAndCorrectedDiscreteVariety_K600-37_T20.csv..."
       ]
      },
      {
       "output_type": "stream",
       "stream": "stdout",
       "text": [
        "\n",
        "Processing ConceptLevel_AfterDistanceAndControlsAndDiversityAndCorrectedDiscreteVariety_K600-37_T30.csv..."
       ]
      },
      {
       "output_type": "stream",
       "stream": "stdout",
       "text": [
        "\n",
        "Processing ConceptLevel_AfterDistanceAndControlsAndDiversityAndCorrectedDiscreteVariety_K600-37_T40.csv..."
       ]
      },
      {
       "output_type": "stream",
       "stream": "stdout",
       "text": [
        "\n",
        "Processing ConceptLevel_AfterDistanceAndControlsAndDiversityAndCorrectedDiscreteVariety_K600-37_T50.csv..."
       ]
      },
      {
       "output_type": "stream",
       "stream": "stdout",
       "text": [
        "\n",
        "Processing ConceptLevel_AfterDistanceAndControlsAndDiversityAndCorrectedDiscreteVariety_K600-37_T60.csv..."
       ]
      },
      {
       "output_type": "stream",
       "stream": "stdout",
       "text": [
        "\n",
        "Processing ConceptLevel_AfterDistanceAndControlsAndDiversityAndCorrectedDiscreteVariety_K600-37_T70.csv..."
       ]
      },
      {
       "output_type": "stream",
       "stream": "stdout",
       "text": [
        "\n",
        "Processing ConceptLevel_AfterDistanceAndControlsAndDiversityAndCorrectedDiscreteVariety_K600-37_T80.csv..."
       ]
      },
      {
       "output_type": "stream",
       "stream": "stdout",
       "text": [
        "\n",
        "Processing ConceptLevel_AfterDistanceAndControlsAndDiversityAndCorrectedDiscreteVariety_K600-37_T90.csv..."
       ]
      },
      {
       "output_type": "stream",
       "stream": "stdout",
       "text": [
        "\n",
        "Processing ConceptLevel_AfterDistanceAndControlsAndDiversityAndCorrectedDiscreteVariety_K600-38_T20.csv..."
       ]
      },
      {
       "output_type": "stream",
       "stream": "stdout",
       "text": [
        "\n",
        "Processing ConceptLevel_AfterDistanceAndControlsAndDiversityAndCorrectedDiscreteVariety_K600-38_T30.csv..."
       ]
      },
      {
       "output_type": "stream",
       "stream": "stdout",
       "text": [
        "\n",
        "Processing ConceptLevel_AfterDistanceAndControlsAndDiversityAndCorrectedDiscreteVariety_K600-38_T40.csv..."
       ]
      },
      {
       "output_type": "stream",
       "stream": "stdout",
       "text": [
        "\n",
        "Processing ConceptLevel_AfterDistanceAndControlsAndDiversityAndCorrectedDiscreteVariety_K600-38_T50.csv..."
       ]
      },
      {
       "output_type": "stream",
       "stream": "stdout",
       "text": [
        "\n",
        "Processing ConceptLevel_AfterDistanceAndControlsAndDiversityAndCorrectedDiscreteVariety_K600-38_T60.csv..."
       ]
      },
      {
       "output_type": "stream",
       "stream": "stdout",
       "text": [
        "\n",
        "Processing ConceptLevel_AfterDistanceAndControlsAndDiversityAndCorrectedDiscreteVariety_K600-38_T70.csv..."
       ]
      },
      {
       "output_type": "stream",
       "stream": "stdout",
       "text": [
        "\n",
        "Processing ConceptLevel_AfterDistanceAndControlsAndDiversityAndCorrectedDiscreteVariety_K600-38_T80.csv..."
       ]
      },
      {
       "output_type": "stream",
       "stream": "stdout",
       "text": [
        "\n",
        "Processing ConceptLevel_AfterDistanceAndControlsAndDiversityAndCorrectedDiscreteVariety_K600-38_T90.csv..."
       ]
      },
      {
       "output_type": "stream",
       "stream": "stdout",
       "text": [
        "\n",
        "Processing ConceptLevel_AfterDistanceAndControlsAndDiversityAndCorrectedDiscreteVariety_K600-39_T20.csv..."
       ]
      },
      {
       "output_type": "stream",
       "stream": "stdout",
       "text": [
        "\n",
        "Processing ConceptLevel_AfterDistanceAndControlsAndDiversityAndCorrectedDiscreteVariety_K600-39_T30.csv..."
       ]
      },
      {
       "output_type": "stream",
       "stream": "stdout",
       "text": [
        "\n",
        "Processing ConceptLevel_AfterDistanceAndControlsAndDiversityAndCorrectedDiscreteVariety_K600-39_T40.csv..."
       ]
      },
      {
       "output_type": "stream",
       "stream": "stdout",
       "text": [
        "\n",
        "Processing ConceptLevel_AfterDistanceAndControlsAndDiversityAndCorrectedDiscreteVariety_K600-39_T50.csv..."
       ]
      },
      {
       "output_type": "stream",
       "stream": "stdout",
       "text": [
        "\n",
        "Processing ConceptLevel_AfterDistanceAndControlsAndDiversityAndCorrectedDiscreteVariety_K600-39_T60.csv..."
       ]
      },
      {
       "output_type": "stream",
       "stream": "stdout",
       "text": [
        "\n",
        "Processing ConceptLevel_AfterDistanceAndControlsAndDiversityAndCorrectedDiscreteVariety_K600-39_T70.csv..."
       ]
      },
      {
       "output_type": "stream",
       "stream": "stdout",
       "text": [
        "\n",
        "Processing ConceptLevel_AfterDistanceAndControlsAndDiversityAndCorrectedDiscreteVariety_K600-39_T80.csv..."
       ]
      },
      {
       "output_type": "stream",
       "stream": "stdout",
       "text": [
        "\n",
        "Processing ConceptLevel_AfterDistanceAndControlsAndDiversityAndCorrectedDiscreteVariety_K600-39_T90.csv..."
       ]
      },
      {
       "output_type": "stream",
       "stream": "stdout",
       "text": [
        "\n",
        "Processing ConceptLevel_AfterDistanceAndControlsAndDiversityAndCorrectedDiscreteVariety_K600-45_T20.csv..."
       ]
      },
      {
       "output_type": "stream",
       "stream": "stdout",
       "text": [
        "\n",
        "Processing ConceptLevel_AfterDistanceAndControlsAndDiversityAndCorrectedDiscreteVariety_K600-45_T30.csv..."
       ]
      },
      {
       "output_type": "stream",
       "stream": "stdout",
       "text": [
        "\n",
        "Processing ConceptLevel_AfterDistanceAndControlsAndDiversityAndCorrectedDiscreteVariety_K600-45_T40.csv..."
       ]
      },
      {
       "output_type": "stream",
       "stream": "stdout",
       "text": [
        "\n",
        "Processing ConceptLevel_AfterDistanceAndControlsAndDiversityAndCorrectedDiscreteVariety_K600-45_T50.csv..."
       ]
      },
      {
       "output_type": "stream",
       "stream": "stdout",
       "text": [
        "\n",
        "Processing ConceptLevel_AfterDistanceAndControlsAndDiversityAndCorrectedDiscreteVariety_K600-45_T60.csv..."
       ]
      },
      {
       "output_type": "stream",
       "stream": "stdout",
       "text": [
        "\n",
        "Processing ConceptLevel_AfterDistanceAndControlsAndDiversityAndCorrectedDiscreteVariety_K600-45_T70.csv..."
       ]
      },
      {
       "output_type": "stream",
       "stream": "stdout",
       "text": [
        "\n",
        "Processing ConceptLevel_AfterDistanceAndControlsAndDiversityAndCorrectedDiscreteVariety_K600-45_T80.csv..."
       ]
      },
      {
       "output_type": "stream",
       "stream": "stdout",
       "text": [
        "\n",
        "Processing ConceptLevel_AfterDistanceAndControlsAndDiversityAndCorrectedDiscreteVariety_K600-45_T90.csv..."
       ]
      },
      {
       "output_type": "stream",
       "stream": "stdout",
       "text": [
        "\n",
        "Processing ConceptLevel_AfterDistanceAndControlsAndDiversityAndCorrectedDiscreteVariety_K600-46_T20.csv..."
       ]
      },
      {
       "output_type": "stream",
       "stream": "stdout",
       "text": [
        "\n",
        "Processing ConceptLevel_AfterDistanceAndControlsAndDiversityAndCorrectedDiscreteVariety_K600-46_T30.csv..."
       ]
      },
      {
       "output_type": "stream",
       "stream": "stdout",
       "text": [
        "\n",
        "Processing ConceptLevel_AfterDistanceAndControlsAndDiversityAndCorrectedDiscreteVariety_K600-46_T40.csv..."
       ]
      },
      {
       "output_type": "stream",
       "stream": "stdout",
       "text": [
        "\n",
        "Processing ConceptLevel_AfterDistanceAndControlsAndDiversityAndCorrectedDiscreteVariety_K600-46_T50.csv..."
       ]
      },
      {
       "output_type": "stream",
       "stream": "stdout",
       "text": [
        "\n",
        "Processing ConceptLevel_AfterDistanceAndControlsAndDiversityAndCorrectedDiscreteVariety_K600-46_T60.csv..."
       ]
      },
      {
       "output_type": "stream",
       "stream": "stdout",
       "text": [
        "\n",
        "Processing ConceptLevel_AfterDistanceAndControlsAndDiversityAndCorrectedDiscreteVariety_K600-46_T70.csv..."
       ]
      },
      {
       "output_type": "stream",
       "stream": "stdout",
       "text": [
        "\n",
        "Processing ConceptLevel_AfterDistanceAndControlsAndDiversityAndCorrectedDiscreteVariety_K600-46_T80.csv..."
       ]
      },
      {
       "output_type": "stream",
       "stream": "stdout",
       "text": [
        "\n",
        "Processing ConceptLevel_AfterDistanceAndControlsAndDiversityAndCorrectedDiscreteVariety_K600-46_T90.csv..."
       ]
      },
      {
       "output_type": "stream",
       "stream": "stdout",
       "text": [
        "\n",
        "Processing ConceptLevel_AfterDistanceAndControlsAndDiversityAndCorrectedDiscreteVariety_K600-48_T20.csv..."
       ]
      },
      {
       "output_type": "stream",
       "stream": "stdout",
       "text": [
        "\n",
        "Processing ConceptLevel_AfterDistanceAndControlsAndDiversityAndCorrectedDiscreteVariety_K600-48_T30.csv..."
       ]
      },
      {
       "output_type": "stream",
       "stream": "stdout",
       "text": [
        "\n",
        "Processing ConceptLevel_AfterDistanceAndControlsAndDiversityAndCorrectedDiscreteVariety_K600-48_T40.csv..."
       ]
      },
      {
       "output_type": "stream",
       "stream": "stdout",
       "text": [
        "\n",
        "Processing ConceptLevel_AfterDistanceAndControlsAndDiversityAndCorrectedDiscreteVariety_K600-48_T50.csv..."
       ]
      },
      {
       "output_type": "stream",
       "stream": "stdout",
       "text": [
        "\n",
        "Processing ConceptLevel_AfterDistanceAndControlsAndDiversityAndCorrectedDiscreteVariety_K600-48_T60.csv..."
       ]
      },
      {
       "output_type": "stream",
       "stream": "stdout",
       "text": [
        "\n",
        "Processing ConceptLevel_AfterDistanceAndControlsAndDiversityAndCorrectedDiscreteVariety_K600-48_T70.csv..."
       ]
      },
      {
       "output_type": "stream",
       "stream": "stdout",
       "text": [
        "\n",
        "Processing ConceptLevel_AfterDistanceAndControlsAndDiversityAndCorrectedDiscreteVariety_K600-48_T80.csv..."
       ]
      },
      {
       "output_type": "stream",
       "stream": "stdout",
       "text": [
        "\n",
        "Processing ConceptLevel_AfterDistanceAndControlsAndDiversityAndCorrectedDiscreteVariety_K600-48_T90.csv..."
       ]
      },
      {
       "output_type": "stream",
       "stream": "stdout",
       "text": [
        "\n",
        "Processing ConceptLevel_AfterDistanceAndControlsAndDiversityAndCorrectedDiscreteVariety_K600-5_T20.csv..."
       ]
      },
      {
       "output_type": "stream",
       "stream": "stdout",
       "text": [
        "\n",
        "Processing ConceptLevel_AfterDistanceAndControlsAndDiversityAndCorrectedDiscreteVariety_K600-5_T30.csv..."
       ]
      },
      {
       "output_type": "stream",
       "stream": "stdout",
       "text": [
        "\n",
        "Processing ConceptLevel_AfterDistanceAndControlsAndDiversityAndCorrectedDiscreteVariety_K600-5_T40.csv..."
       ]
      },
      {
       "output_type": "stream",
       "stream": "stdout",
       "text": [
        "\n",
        "Processing ConceptLevel_AfterDistanceAndControlsAndDiversityAndCorrectedDiscreteVariety_K600-5_T50.csv..."
       ]
      },
      {
       "output_type": "stream",
       "stream": "stdout",
       "text": [
        "\n",
        "Processing ConceptLevel_AfterDistanceAndControlsAndDiversityAndCorrectedDiscreteVariety_K600-5_T60.csv..."
       ]
      },
      {
       "output_type": "stream",
       "stream": "stdout",
       "text": [
        "\n",
        "Processing ConceptLevel_AfterDistanceAndControlsAndDiversityAndCorrectedDiscreteVariety_K600-5_T70.csv..."
       ]
      },
      {
       "output_type": "stream",
       "stream": "stdout",
       "text": [
        "\n",
        "Processing ConceptLevel_AfterDistanceAndControlsAndDiversityAndCorrectedDiscreteVariety_K600-5_T80.csv..."
       ]
      },
      {
       "output_type": "stream",
       "stream": "stdout",
       "text": [
        "\n",
        "Processing ConceptLevel_AfterDistanceAndControlsAndDiversityAndCorrectedDiscreteVariety_K600-5_T90.csv..."
       ]
      },
      {
       "output_type": "stream",
       "stream": "stdout",
       "text": [
        "\n",
        "Processing ConceptLevel_AfterDistanceAndControlsAndDiversityAndCorrectedDiscreteVariety_K600-7_T20.csv..."
       ]
      },
      {
       "output_type": "stream",
       "stream": "stdout",
       "text": [
        "\n",
        "Processing ConceptLevel_AfterDistanceAndControlsAndDiversityAndCorrectedDiscreteVariety_K600-7_T30.csv..."
       ]
      },
      {
       "output_type": "stream",
       "stream": "stdout",
       "text": [
        "\n",
        "Processing ConceptLevel_AfterDistanceAndControlsAndDiversityAndCorrectedDiscreteVariety_K600-7_T40.csv..."
       ]
      },
      {
       "output_type": "stream",
       "stream": "stdout",
       "text": [
        "\n",
        "Processing ConceptLevel_AfterDistanceAndControlsAndDiversityAndCorrectedDiscreteVariety_K600-7_T50.csv..."
       ]
      },
      {
       "output_type": "stream",
       "stream": "stdout",
       "text": [
        "\n",
        "Processing ConceptLevel_AfterDistanceAndControlsAndDiversityAndCorrectedDiscreteVariety_K600-7_T60.csv..."
       ]
      },
      {
       "output_type": "stream",
       "stream": "stdout",
       "text": [
        "\n",
        "Processing ConceptLevel_AfterDistanceAndControlsAndDiversityAndCorrectedDiscreteVariety_K600-7_T70.csv..."
       ]
      },
      {
       "output_type": "stream",
       "stream": "stdout",
       "text": [
        "\n",
        "Processing ConceptLevel_AfterDistanceAndControlsAndDiversityAndCorrectedDiscreteVariety_K600-7_T80.csv..."
       ]
      },
      {
       "output_type": "stream",
       "stream": "stdout",
       "text": [
        "\n",
        "Processing ConceptLevel_AfterDistanceAndControlsAndDiversityAndCorrectedDiscreteVariety_K600-7_T90.csv..."
       ]
      },
      {
       "output_type": "stream",
       "stream": "stdout",
       "text": [
        "\n",
        "Processing ConceptLevel_AfterDistanceAndControlsAndDiversityAndCorrectedDiscreteVariety_K600-9_T20.csv..."
       ]
      },
      {
       "output_type": "stream",
       "stream": "stdout",
       "text": [
        "\n",
        "Processing ConceptLevel_AfterDistanceAndControlsAndDiversityAndCorrectedDiscreteVariety_K600-9_T30.csv..."
       ]
      },
      {
       "output_type": "stream",
       "stream": "stdout",
       "text": [
        "\n",
        "Processing ConceptLevel_AfterDistanceAndControlsAndDiversityAndCorrectedDiscreteVariety_K600-9_T40.csv..."
       ]
      },
      {
       "output_type": "stream",
       "stream": "stdout",
       "text": [
        "\n",
        "Processing ConceptLevel_AfterDistanceAndControlsAndDiversityAndCorrectedDiscreteVariety_K600-9_T50.csv..."
       ]
      },
      {
       "output_type": "stream",
       "stream": "stdout",
       "text": [
        "\n",
        "Processing ConceptLevel_AfterDistanceAndControlsAndDiversityAndCorrectedDiscreteVariety_K600-9_T60.csv..."
       ]
      },
      {
       "output_type": "stream",
       "stream": "stdout",
       "text": [
        "\n",
        "Processing ConceptLevel_AfterDistanceAndControlsAndDiversityAndCorrectedDiscreteVariety_K600-9_T70.csv..."
       ]
      },
      {
       "output_type": "stream",
       "stream": "stdout",
       "text": [
        "\n",
        "Processing ConceptLevel_AfterDistanceAndControlsAndDiversityAndCorrectedDiscreteVariety_K600-9_T80.csv..."
       ]
      },
      {
       "output_type": "stream",
       "stream": "stdout",
       "text": [
        "\n",
        "Processing ConceptLevel_AfterDistanceAndControlsAndDiversityAndCorrectedDiscreteVariety_K600-9_T90.csv..."
       ]
      },
      {
       "output_type": "stream",
       "stream": "stdout",
       "text": [
        "\n",
        "Processing ConceptLevel_AfterDistanceAndControlsAndDiversityAndCorrectedDiscreteVariety_K700-14_T20.csv..."
       ]
      },
      {
       "output_type": "stream",
       "stream": "stdout",
       "text": [
        "\n",
        "Processing ConceptLevel_AfterDistanceAndControlsAndDiversityAndCorrectedDiscreteVariety_K700-14_T30.csv..."
       ]
      },
      {
       "output_type": "stream",
       "stream": "stdout",
       "text": [
        "\n",
        "Processing ConceptLevel_AfterDistanceAndControlsAndDiversityAndCorrectedDiscreteVariety_K700-14_T40.csv..."
       ]
      },
      {
       "output_type": "stream",
       "stream": "stdout",
       "text": [
        "\n",
        "Processing ConceptLevel_AfterDistanceAndControlsAndDiversityAndCorrectedDiscreteVariety_K700-14_T50.csv..."
       ]
      },
      {
       "output_type": "stream",
       "stream": "stdout",
       "text": [
        "\n",
        "Processing ConceptLevel_AfterDistanceAndControlsAndDiversityAndCorrectedDiscreteVariety_K700-14_T60.csv..."
       ]
      },
      {
       "output_type": "stream",
       "stream": "stdout",
       "text": [
        "\n",
        "Processing ConceptLevel_AfterDistanceAndControlsAndDiversityAndCorrectedDiscreteVariety_K700-14_T70.csv..."
       ]
      },
      {
       "output_type": "stream",
       "stream": "stdout",
       "text": [
        "\n",
        "Processing ConceptLevel_AfterDistanceAndControlsAndDiversityAndCorrectedDiscreteVariety_K700-14_T80.csv..."
       ]
      },
      {
       "output_type": "stream",
       "stream": "stdout",
       "text": [
        "\n",
        "Processing ConceptLevel_AfterDistanceAndControlsAndDiversityAndCorrectedDiscreteVariety_K700-14_T90.csv..."
       ]
      },
      {
       "output_type": "stream",
       "stream": "stdout",
       "text": [
        "\n",
        "Processing ConceptLevel_AfterDistanceAndControlsAndDiversityAndCorrectedDiscreteVariety_K700-22_T20.csv..."
       ]
      },
      {
       "output_type": "stream",
       "stream": "stdout",
       "text": [
        "\n",
        "Processing ConceptLevel_AfterDistanceAndControlsAndDiversityAndCorrectedDiscreteVariety_K700-22_T30.csv..."
       ]
      },
      {
       "output_type": "stream",
       "stream": "stdout",
       "text": [
        "\n",
        "Processing ConceptLevel_AfterDistanceAndControlsAndDiversityAndCorrectedDiscreteVariety_K700-22_T40.csv..."
       ]
      },
      {
       "output_type": "stream",
       "stream": "stdout",
       "text": [
        "\n",
        "Processing ConceptLevel_AfterDistanceAndControlsAndDiversityAndCorrectedDiscreteVariety_K700-22_T50.csv..."
       ]
      },
      {
       "output_type": "stream",
       "stream": "stdout",
       "text": [
        "\n",
        "Processing ConceptLevel_AfterDistanceAndControlsAndDiversityAndCorrectedDiscreteVariety_K700-22_T60.csv..."
       ]
      },
      {
       "output_type": "stream",
       "stream": "stdout",
       "text": [
        "\n",
        "Processing ConceptLevel_AfterDistanceAndControlsAndDiversityAndCorrectedDiscreteVariety_K700-22_T70.csv..."
       ]
      },
      {
       "output_type": "stream",
       "stream": "stdout",
       "text": [
        "\n",
        "Processing ConceptLevel_AfterDistanceAndControlsAndDiversityAndCorrectedDiscreteVariety_K700-22_T80.csv..."
       ]
      },
      {
       "output_type": "stream",
       "stream": "stdout",
       "text": [
        "\n",
        "Processing ConceptLevel_AfterDistanceAndControlsAndDiversityAndCorrectedDiscreteVariety_K700-22_T90.csv..."
       ]
      },
      {
       "output_type": "stream",
       "stream": "stdout",
       "text": [
        "\n",
        "Processing ConceptLevel_AfterDistanceAndControlsAndDiversityAndCorrectedDiscreteVariety_K700-23_T20.csv..."
       ]
      },
      {
       "output_type": "stream",
       "stream": "stdout",
       "text": [
        "\n",
        "Processing ConceptLevel_AfterDistanceAndControlsAndDiversityAndCorrectedDiscreteVariety_K700-23_T30.csv..."
       ]
      },
      {
       "output_type": "stream",
       "stream": "stdout",
       "text": [
        "\n",
        "Processing ConceptLevel_AfterDistanceAndControlsAndDiversityAndCorrectedDiscreteVariety_K700-23_T40.csv..."
       ]
      },
      {
       "output_type": "stream",
       "stream": "stdout",
       "text": [
        "\n",
        "Processing ConceptLevel_AfterDistanceAndControlsAndDiversityAndCorrectedDiscreteVariety_K700-23_T50.csv..."
       ]
      },
      {
       "output_type": "stream",
       "stream": "stdout",
       "text": [
        "\n",
        "Processing ConceptLevel_AfterDistanceAndControlsAndDiversityAndCorrectedDiscreteVariety_K700-23_T60.csv..."
       ]
      },
      {
       "output_type": "stream",
       "stream": "stdout",
       "text": [
        "\n",
        "Processing ConceptLevel_AfterDistanceAndControlsAndDiversityAndCorrectedDiscreteVariety_K700-23_T70.csv..."
       ]
      },
      {
       "output_type": "stream",
       "stream": "stdout",
       "text": [
        "\n",
        "Processing ConceptLevel_AfterDistanceAndControlsAndDiversityAndCorrectedDiscreteVariety_K700-23_T80.csv..."
       ]
      },
      {
       "output_type": "stream",
       "stream": "stdout",
       "text": [
        "\n",
        "Processing ConceptLevel_AfterDistanceAndControlsAndDiversityAndCorrectedDiscreteVariety_K700-23_T90.csv..."
       ]
      },
      {
       "output_type": "stream",
       "stream": "stdout",
       "text": [
        "\n",
        "Processing ConceptLevel_AfterDistanceAndControlsAndDiversityAndCorrectedDiscreteVariety_K700-24_T20.csv..."
       ]
      },
      {
       "output_type": "stream",
       "stream": "stdout",
       "text": [
        "\n",
        "Processing ConceptLevel_AfterDistanceAndControlsAndDiversityAndCorrectedDiscreteVariety_K700-24_T30.csv..."
       ]
      },
      {
       "output_type": "stream",
       "stream": "stdout",
       "text": [
        "\n",
        "Processing ConceptLevel_AfterDistanceAndControlsAndDiversityAndCorrectedDiscreteVariety_K700-24_T40.csv..."
       ]
      },
      {
       "output_type": "stream",
       "stream": "stdout",
       "text": [
        "\n",
        "Processing ConceptLevel_AfterDistanceAndControlsAndDiversityAndCorrectedDiscreteVariety_K700-24_T50.csv..."
       ]
      },
      {
       "output_type": "stream",
       "stream": "stdout",
       "text": [
        "\n",
        "Processing ConceptLevel_AfterDistanceAndControlsAndDiversityAndCorrectedDiscreteVariety_K700-24_T60.csv..."
       ]
      },
      {
       "output_type": "stream",
       "stream": "stdout",
       "text": [
        "\n",
        "Processing ConceptLevel_AfterDistanceAndControlsAndDiversityAndCorrectedDiscreteVariety_K700-24_T70.csv..."
       ]
      },
      {
       "output_type": "stream",
       "stream": "stdout",
       "text": [
        "\n",
        "Processing ConceptLevel_AfterDistanceAndControlsAndDiversityAndCorrectedDiscreteVariety_K700-24_T80.csv..."
       ]
      },
      {
       "output_type": "stream",
       "stream": "stdout",
       "text": [
        "\n",
        "Processing ConceptLevel_AfterDistanceAndControlsAndDiversityAndCorrectedDiscreteVariety_K700-24_T90.csv..."
       ]
      },
      {
       "output_type": "stream",
       "stream": "stdout",
       "text": [
        "\n",
        "Processing ConceptLevel_AfterDistanceAndControlsAndDiversityAndCorrectedDiscreteVariety_K700-25_T20.csv..."
       ]
      },
      {
       "output_type": "stream",
       "stream": "stdout",
       "text": [
        "\n",
        "Processing ConceptLevel_AfterDistanceAndControlsAndDiversityAndCorrectedDiscreteVariety_K700-25_T30.csv..."
       ]
      },
      {
       "output_type": "stream",
       "stream": "stdout",
       "text": [
        "\n",
        "Processing ConceptLevel_AfterDistanceAndControlsAndDiversityAndCorrectedDiscreteVariety_K700-25_T40.csv..."
       ]
      },
      {
       "output_type": "stream",
       "stream": "stdout",
       "text": [
        "\n",
        "Processing ConceptLevel_AfterDistanceAndControlsAndDiversityAndCorrectedDiscreteVariety_K700-25_T50.csv..."
       ]
      },
      {
       "output_type": "stream",
       "stream": "stdout",
       "text": [
        "\n",
        "Processing ConceptLevel_AfterDistanceAndControlsAndDiversityAndCorrectedDiscreteVariety_K700-25_T60.csv..."
       ]
      },
      {
       "output_type": "stream",
       "stream": "stdout",
       "text": [
        "\n",
        "Processing ConceptLevel_AfterDistanceAndControlsAndDiversityAndCorrectedDiscreteVariety_K700-25_T70.csv..."
       ]
      },
      {
       "output_type": "stream",
       "stream": "stdout",
       "text": [
        "\n",
        "Processing ConceptLevel_AfterDistanceAndControlsAndDiversityAndCorrectedDiscreteVariety_K700-25_T80.csv..."
       ]
      },
      {
       "output_type": "stream",
       "stream": "stdout",
       "text": [
        "\n",
        "Processing ConceptLevel_AfterDistanceAndControlsAndDiversityAndCorrectedDiscreteVariety_K700-25_T90.csv..."
       ]
      },
      {
       "output_type": "stream",
       "stream": "stdout",
       "text": [
        "\n",
        "Processing ConceptLevel_AfterDistanceAndControlsAndDiversityAndCorrectedDiscreteVariety_K700-26_T20.csv..."
       ]
      },
      {
       "output_type": "stream",
       "stream": "stdout",
       "text": [
        "\n",
        "Processing ConceptLevel_AfterDistanceAndControlsAndDiversityAndCorrectedDiscreteVariety_K700-26_T30.csv..."
       ]
      },
      {
       "output_type": "stream",
       "stream": "stdout",
       "text": [
        "\n",
        "Processing ConceptLevel_AfterDistanceAndControlsAndDiversityAndCorrectedDiscreteVariety_K700-26_T40.csv..."
       ]
      },
      {
       "output_type": "stream",
       "stream": "stdout",
       "text": [
        "\n",
        "Processing ConceptLevel_AfterDistanceAndControlsAndDiversityAndCorrectedDiscreteVariety_K700-26_T50.csv..."
       ]
      },
      {
       "output_type": "stream",
       "stream": "stdout",
       "text": [
        "\n",
        "Processing ConceptLevel_AfterDistanceAndControlsAndDiversityAndCorrectedDiscreteVariety_K700-26_T60.csv..."
       ]
      },
      {
       "output_type": "stream",
       "stream": "stdout",
       "text": [
        "\n",
        "Processing ConceptLevel_AfterDistanceAndControlsAndDiversityAndCorrectedDiscreteVariety_K700-26_T70.csv..."
       ]
      },
      {
       "output_type": "stream",
       "stream": "stdout",
       "text": [
        "\n",
        "Processing ConceptLevel_AfterDistanceAndControlsAndDiversityAndCorrectedDiscreteVariety_K700-26_T80.csv..."
       ]
      },
      {
       "output_type": "stream",
       "stream": "stdout",
       "text": [
        "\n",
        "Processing ConceptLevel_AfterDistanceAndControlsAndDiversityAndCorrectedDiscreteVariety_K700-26_T90.csv..."
       ]
      },
      {
       "output_type": "stream",
       "stream": "stdout",
       "text": [
        "\n",
        "Processing ConceptLevel_AfterDistanceAndControlsAndDiversityAndCorrectedDiscreteVariety_K700-27_T20.csv..."
       ]
      },
      {
       "output_type": "stream",
       "stream": "stdout",
       "text": [
        "\n",
        "Processing ConceptLevel_AfterDistanceAndControlsAndDiversityAndCorrectedDiscreteVariety_K700-27_T30.csv..."
       ]
      },
      {
       "output_type": "stream",
       "stream": "stdout",
       "text": [
        "\n",
        "Processing ConceptLevel_AfterDistanceAndControlsAndDiversityAndCorrectedDiscreteVariety_K700-27_T40.csv..."
       ]
      },
      {
       "output_type": "stream",
       "stream": "stdout",
       "text": [
        "\n",
        "Processing ConceptLevel_AfterDistanceAndControlsAndDiversityAndCorrectedDiscreteVariety_K700-27_T50.csv..."
       ]
      },
      {
       "output_type": "stream",
       "stream": "stdout",
       "text": [
        "\n",
        "Processing ConceptLevel_AfterDistanceAndControlsAndDiversityAndCorrectedDiscreteVariety_K700-27_T60.csv..."
       ]
      },
      {
       "output_type": "stream",
       "stream": "stdout",
       "text": [
        "\n",
        "Processing ConceptLevel_AfterDistanceAndControlsAndDiversityAndCorrectedDiscreteVariety_K700-27_T70.csv..."
       ]
      },
      {
       "output_type": "stream",
       "stream": "stdout",
       "text": [
        "\n",
        "Processing ConceptLevel_AfterDistanceAndControlsAndDiversityAndCorrectedDiscreteVariety_K700-27_T80.csv..."
       ]
      },
      {
       "output_type": "stream",
       "stream": "stdout",
       "text": [
        "\n",
        "Processing ConceptLevel_AfterDistanceAndControlsAndDiversityAndCorrectedDiscreteVariety_K700-27_T90.csv..."
       ]
      },
      {
       "output_type": "stream",
       "stream": "stdout",
       "text": [
        "\n",
        "Processing ConceptLevel_AfterDistanceAndControlsAndDiversityAndCorrectedDiscreteVariety_K700-2_T20.csv..."
       ]
      },
      {
       "output_type": "stream",
       "stream": "stdout",
       "text": [
        "\n",
        "Processing ConceptLevel_AfterDistanceAndControlsAndDiversityAndCorrectedDiscreteVariety_K700-2_T30.csv..."
       ]
      },
      {
       "output_type": "stream",
       "stream": "stdout",
       "text": [
        "\n",
        "Processing ConceptLevel_AfterDistanceAndControlsAndDiversityAndCorrectedDiscreteVariety_K700-2_T40.csv..."
       ]
      },
      {
       "output_type": "stream",
       "stream": "stdout",
       "text": [
        "\n",
        "Processing ConceptLevel_AfterDistanceAndControlsAndDiversityAndCorrectedDiscreteVariety_K700-2_T50.csv..."
       ]
      },
      {
       "output_type": "stream",
       "stream": "stdout",
       "text": [
        "\n",
        "Processing ConceptLevel_AfterDistanceAndControlsAndDiversityAndCorrectedDiscreteVariety_K700-2_T60.csv..."
       ]
      },
      {
       "output_type": "stream",
       "stream": "stdout",
       "text": [
        "\n",
        "Processing ConceptLevel_AfterDistanceAndControlsAndDiversityAndCorrectedDiscreteVariety_K700-2_T70.csv..."
       ]
      },
      {
       "output_type": "stream",
       "stream": "stdout",
       "text": [
        "\n",
        "Processing ConceptLevel_AfterDistanceAndControlsAndDiversityAndCorrectedDiscreteVariety_K700-2_T80.csv..."
       ]
      },
      {
       "output_type": "stream",
       "stream": "stdout",
       "text": [
        "\n",
        "Processing ConceptLevel_AfterDistanceAndControlsAndDiversityAndCorrectedDiscreteVariety_K700-2_T90.csv..."
       ]
      },
      {
       "output_type": "stream",
       "stream": "stdout",
       "text": [
        "\n",
        "Processing ConceptLevel_AfterDistanceAndControlsAndDiversityAndCorrectedDiscreteVariety_K700-34_T20.csv..."
       ]
      },
      {
       "output_type": "stream",
       "stream": "stdout",
       "text": [
        "\n",
        "Processing ConceptLevel_AfterDistanceAndControlsAndDiversityAndCorrectedDiscreteVariety_K700-34_T30.csv..."
       ]
      },
      {
       "output_type": "stream",
       "stream": "stdout",
       "text": [
        "\n",
        "Processing ConceptLevel_AfterDistanceAndControlsAndDiversityAndCorrectedDiscreteVariety_K700-34_T40.csv..."
       ]
      },
      {
       "output_type": "stream",
       "stream": "stdout",
       "text": [
        "\n",
        "Processing ConceptLevel_AfterDistanceAndControlsAndDiversityAndCorrectedDiscreteVariety_K700-34_T50.csv..."
       ]
      },
      {
       "output_type": "stream",
       "stream": "stdout",
       "text": [
        "\n",
        "Processing ConceptLevel_AfterDistanceAndControlsAndDiversityAndCorrectedDiscreteVariety_K700-34_T60.csv..."
       ]
      },
      {
       "output_type": "stream",
       "stream": "stdout",
       "text": [
        "\n",
        "Processing ConceptLevel_AfterDistanceAndControlsAndDiversityAndCorrectedDiscreteVariety_K700-34_T70.csv..."
       ]
      },
      {
       "output_type": "stream",
       "stream": "stdout",
       "text": [
        "\n",
        "Processing ConceptLevel_AfterDistanceAndControlsAndDiversityAndCorrectedDiscreteVariety_K700-34_T80.csv..."
       ]
      },
      {
       "output_type": "stream",
       "stream": "stdout",
       "text": [
        "\n",
        "Processing ConceptLevel_AfterDistanceAndControlsAndDiversityAndCorrectedDiscreteVariety_K700-34_T90.csv..."
       ]
      },
      {
       "output_type": "stream",
       "stream": "stdout",
       "text": [
        "\n",
        "Processing ConceptLevel_AfterDistanceAndControlsAndDiversityAndCorrectedDiscreteVariety_K700-37_T20.csv..."
       ]
      },
      {
       "output_type": "stream",
       "stream": "stdout",
       "text": [
        "\n",
        "Processing ConceptLevel_AfterDistanceAndControlsAndDiversityAndCorrectedDiscreteVariety_K700-37_T30.csv..."
       ]
      },
      {
       "output_type": "stream",
       "stream": "stdout",
       "text": [
        "\n",
        "Processing ConceptLevel_AfterDistanceAndControlsAndDiversityAndCorrectedDiscreteVariety_K700-37_T40.csv..."
       ]
      },
      {
       "output_type": "stream",
       "stream": "stdout",
       "text": [
        "\n",
        "Processing ConceptLevel_AfterDistanceAndControlsAndDiversityAndCorrectedDiscreteVariety_K700-37_T50.csv..."
       ]
      },
      {
       "output_type": "stream",
       "stream": "stdout",
       "text": [
        "\n",
        "Processing ConceptLevel_AfterDistanceAndControlsAndDiversityAndCorrectedDiscreteVariety_K700-37_T60.csv..."
       ]
      },
      {
       "output_type": "stream",
       "stream": "stdout",
       "text": [
        "\n",
        "Processing ConceptLevel_AfterDistanceAndControlsAndDiversityAndCorrectedDiscreteVariety_K700-37_T70.csv..."
       ]
      },
      {
       "output_type": "stream",
       "stream": "stdout",
       "text": [
        "\n",
        "Processing ConceptLevel_AfterDistanceAndControlsAndDiversityAndCorrectedDiscreteVariety_K700-37_T80.csv..."
       ]
      },
      {
       "output_type": "stream",
       "stream": "stdout",
       "text": [
        "\n",
        "Processing ConceptLevel_AfterDistanceAndControlsAndDiversityAndCorrectedDiscreteVariety_K700-37_T90.csv..."
       ]
      },
      {
       "output_type": "stream",
       "stream": "stdout",
       "text": [
        "\n",
        "Processing ConceptLevel_AfterDistanceAndControlsAndDiversityAndCorrectedDiscreteVariety_K700-3_T20.csv..."
       ]
      },
      {
       "output_type": "stream",
       "stream": "stdout",
       "text": [
        "\n",
        "Processing ConceptLevel_AfterDistanceAndControlsAndDiversityAndCorrectedDiscreteVariety_K700-3_T30.csv..."
       ]
      },
      {
       "output_type": "stream",
       "stream": "stdout",
       "text": [
        "\n",
        "Processing ConceptLevel_AfterDistanceAndControlsAndDiversityAndCorrectedDiscreteVariety_K700-3_T40.csv..."
       ]
      },
      {
       "output_type": "stream",
       "stream": "stdout",
       "text": [
        "\n",
        "Processing ConceptLevel_AfterDistanceAndControlsAndDiversityAndCorrectedDiscreteVariety_K700-3_T50.csv..."
       ]
      },
      {
       "output_type": "stream",
       "stream": "stdout",
       "text": [
        "\n",
        "Processing ConceptLevel_AfterDistanceAndControlsAndDiversityAndCorrectedDiscreteVariety_K700-3_T60.csv..."
       ]
      },
      {
       "output_type": "stream",
       "stream": "stdout",
       "text": [
        "\n",
        "Processing ConceptLevel_AfterDistanceAndControlsAndDiversityAndCorrectedDiscreteVariety_K700-3_T70.csv..."
       ]
      },
      {
       "output_type": "stream",
       "stream": "stdout",
       "text": [
        "\n",
        "Processing ConceptLevel_AfterDistanceAndControlsAndDiversityAndCorrectedDiscreteVariety_K700-3_T80.csv..."
       ]
      },
      {
       "output_type": "stream",
       "stream": "stdout",
       "text": [
        "\n",
        "Processing ConceptLevel_AfterDistanceAndControlsAndDiversityAndCorrectedDiscreteVariety_K700-3_T90.csv..."
       ]
      },
      {
       "output_type": "stream",
       "stream": "stdout",
       "text": [
        "\n",
        "Processing ConceptLevel_AfterDistanceAndControlsAndDiversityAndCorrectedDiscreteVariety_K700-40_T20.csv..."
       ]
      },
      {
       "output_type": "stream",
       "stream": "stdout",
       "text": [
        "\n",
        "Processing ConceptLevel_AfterDistanceAndControlsAndDiversityAndCorrectedDiscreteVariety_K700-40_T30.csv..."
       ]
      },
      {
       "output_type": "stream",
       "stream": "stdout",
       "text": [
        "\n",
        "Processing ConceptLevel_AfterDistanceAndControlsAndDiversityAndCorrectedDiscreteVariety_K700-40_T40.csv..."
       ]
      },
      {
       "output_type": "stream",
       "stream": "stdout",
       "text": [
        "\n",
        "Processing ConceptLevel_AfterDistanceAndControlsAndDiversityAndCorrectedDiscreteVariety_K700-40_T50.csv..."
       ]
      },
      {
       "output_type": "stream",
       "stream": "stdout",
       "text": [
        "\n",
        "Processing ConceptLevel_AfterDistanceAndControlsAndDiversityAndCorrectedDiscreteVariety_K700-40_T60.csv..."
       ]
      },
      {
       "output_type": "stream",
       "stream": "stdout",
       "text": [
        "\n",
        "Processing ConceptLevel_AfterDistanceAndControlsAndDiversityAndCorrectedDiscreteVariety_K700-40_T70.csv..."
       ]
      },
      {
       "output_type": "stream",
       "stream": "stdout",
       "text": [
        "\n",
        "Processing ConceptLevel_AfterDistanceAndControlsAndDiversityAndCorrectedDiscreteVariety_K700-40_T80.csv..."
       ]
      },
      {
       "output_type": "stream",
       "stream": "stdout",
       "text": [
        "\n",
        "Processing ConceptLevel_AfterDistanceAndControlsAndDiversityAndCorrectedDiscreteVariety_K700-40_T90.csv..."
       ]
      },
      {
       "output_type": "stream",
       "stream": "stdout",
       "text": [
        "\n",
        "Processing ConceptLevel_AfterDistanceAndControlsAndDiversityAndCorrectedDiscreteVariety_K700-41_T20.csv..."
       ]
      },
      {
       "output_type": "stream",
       "stream": "stdout",
       "text": [
        "\n",
        "Processing ConceptLevel_AfterDistanceAndControlsAndDiversityAndCorrectedDiscreteVariety_K700-41_T30.csv..."
       ]
      },
      {
       "output_type": "stream",
       "stream": "stdout",
       "text": [
        "\n",
        "Processing ConceptLevel_AfterDistanceAndControlsAndDiversityAndCorrectedDiscreteVariety_K700-41_T40.csv..."
       ]
      },
      {
       "output_type": "stream",
       "stream": "stdout",
       "text": [
        "\n",
        "Processing ConceptLevel_AfterDistanceAndControlsAndDiversityAndCorrectedDiscreteVariety_K700-41_T50.csv..."
       ]
      },
      {
       "output_type": "stream",
       "stream": "stdout",
       "text": [
        "\n",
        "Processing ConceptLevel_AfterDistanceAndControlsAndDiversityAndCorrectedDiscreteVariety_K700-41_T60.csv..."
       ]
      },
      {
       "output_type": "stream",
       "stream": "stdout",
       "text": [
        "\n",
        "Processing ConceptLevel_AfterDistanceAndControlsAndDiversityAndCorrectedDiscreteVariety_K700-41_T70.csv..."
       ]
      },
      {
       "output_type": "stream",
       "stream": "stdout",
       "text": [
        "\n",
        "Processing ConceptLevel_AfterDistanceAndControlsAndDiversityAndCorrectedDiscreteVariety_K700-41_T80.csv..."
       ]
      },
      {
       "output_type": "stream",
       "stream": "stdout",
       "text": [
        "\n",
        "Processing ConceptLevel_AfterDistanceAndControlsAndDiversityAndCorrectedDiscreteVariety_K700-41_T90.csv..."
       ]
      },
      {
       "output_type": "stream",
       "stream": "stdout",
       "text": [
        "\n",
        "Processing ConceptLevel_AfterDistanceAndControlsAndDiversityAndCorrectedDiscreteVariety_K700-42_T20.csv..."
       ]
      },
      {
       "output_type": "stream",
       "stream": "stdout",
       "text": [
        "\n",
        "Processing ConceptLevel_AfterDistanceAndControlsAndDiversityAndCorrectedDiscreteVariety_K700-42_T30.csv..."
       ]
      },
      {
       "output_type": "stream",
       "stream": "stdout",
       "text": [
        "\n",
        "Processing ConceptLevel_AfterDistanceAndControlsAndDiversityAndCorrectedDiscreteVariety_K700-42_T40.csv..."
       ]
      },
      {
       "output_type": "stream",
       "stream": "stdout",
       "text": [
        "\n",
        "Processing ConceptLevel_AfterDistanceAndControlsAndDiversityAndCorrectedDiscreteVariety_K700-42_T50.csv..."
       ]
      },
      {
       "output_type": "stream",
       "stream": "stdout",
       "text": [
        "\n",
        "Processing ConceptLevel_AfterDistanceAndControlsAndDiversityAndCorrectedDiscreteVariety_K700-42_T60.csv..."
       ]
      },
      {
       "output_type": "stream",
       "stream": "stdout",
       "text": [
        "\n",
        "Processing ConceptLevel_AfterDistanceAndControlsAndDiversityAndCorrectedDiscreteVariety_K700-42_T70.csv..."
       ]
      },
      {
       "output_type": "stream",
       "stream": "stdout",
       "text": [
        "\n",
        "Processing ConceptLevel_AfterDistanceAndControlsAndDiversityAndCorrectedDiscreteVariety_K700-42_T80.csv..."
       ]
      },
      {
       "output_type": "stream",
       "stream": "stdout",
       "text": [
        "\n",
        "Processing ConceptLevel_AfterDistanceAndControlsAndDiversityAndCorrectedDiscreteVariety_K700-42_T90.csv..."
       ]
      },
      {
       "output_type": "stream",
       "stream": "stdout",
       "text": [
        "\n",
        "Processing ConceptLevel_AfterDistanceAndControlsAndDiversityAndCorrectedDiscreteVariety_K700-43_T20.csv..."
       ]
      },
      {
       "output_type": "stream",
       "stream": "stdout",
       "text": [
        "\n",
        "Processing ConceptLevel_AfterDistanceAndControlsAndDiversityAndCorrectedDiscreteVariety_K700-43_T30.csv..."
       ]
      },
      {
       "output_type": "stream",
       "stream": "stdout",
       "text": [
        "\n",
        "Processing ConceptLevel_AfterDistanceAndControlsAndDiversityAndCorrectedDiscreteVariety_K700-43_T40.csv..."
       ]
      },
      {
       "output_type": "stream",
       "stream": "stdout",
       "text": [
        "\n",
        "Processing ConceptLevel_AfterDistanceAndControlsAndDiversityAndCorrectedDiscreteVariety_K700-43_T50.csv..."
       ]
      },
      {
       "output_type": "stream",
       "stream": "stdout",
       "text": [
        "\n",
        "Processing ConceptLevel_AfterDistanceAndControlsAndDiversityAndCorrectedDiscreteVariety_K700-43_T60.csv..."
       ]
      },
      {
       "output_type": "stream",
       "stream": "stdout",
       "text": [
        "\n",
        "Processing ConceptLevel_AfterDistanceAndControlsAndDiversityAndCorrectedDiscreteVariety_K700-43_T70.csv..."
       ]
      },
      {
       "output_type": "stream",
       "stream": "stdout",
       "text": [
        "\n",
        "Processing ConceptLevel_AfterDistanceAndControlsAndDiversityAndCorrectedDiscreteVariety_K700-43_T80.csv..."
       ]
      },
      {
       "output_type": "stream",
       "stream": "stdout",
       "text": [
        "\n",
        "Processing ConceptLevel_AfterDistanceAndControlsAndDiversityAndCorrectedDiscreteVariety_K700-43_T90.csv..."
       ]
      },
      {
       "output_type": "stream",
       "stream": "stdout",
       "text": [
        "\n",
        "Processing ConceptLevel_AfterDistanceAndControlsAndDiversityAndCorrectedDiscreteVariety_K700-49_T20.csv..."
       ]
      },
      {
       "output_type": "stream",
       "stream": "stdout",
       "text": [
        "\n",
        "Processing ConceptLevel_AfterDistanceAndControlsAndDiversityAndCorrectedDiscreteVariety_K700-49_T30.csv..."
       ]
      },
      {
       "output_type": "stream",
       "stream": "stdout",
       "text": [
        "\n",
        "Processing ConceptLevel_AfterDistanceAndControlsAndDiversityAndCorrectedDiscreteVariety_K700-49_T40.csv..."
       ]
      },
      {
       "output_type": "stream",
       "stream": "stdout",
       "text": [
        "\n",
        "Processing ConceptLevel_AfterDistanceAndControlsAndDiversityAndCorrectedDiscreteVariety_K700-49_T50.csv..."
       ]
      },
      {
       "output_type": "stream",
       "stream": "stdout",
       "text": [
        "\n",
        "Processing ConceptLevel_AfterDistanceAndControlsAndDiversityAndCorrectedDiscreteVariety_K700-49_T60.csv..."
       ]
      },
      {
       "output_type": "stream",
       "stream": "stdout",
       "text": [
        "\n",
        "Processing ConceptLevel_AfterDistanceAndControlsAndDiversityAndCorrectedDiscreteVariety_K700-49_T70.csv..."
       ]
      },
      {
       "output_type": "stream",
       "stream": "stdout",
       "text": [
        "\n",
        "Processing ConceptLevel_AfterDistanceAndControlsAndDiversityAndCorrectedDiscreteVariety_K700-49_T80.csv..."
       ]
      },
      {
       "output_type": "stream",
       "stream": "stdout",
       "text": [
        "\n",
        "Processing ConceptLevel_AfterDistanceAndControlsAndDiversityAndCorrectedDiscreteVariety_K700-49_T90.csv..."
       ]
      },
      {
       "output_type": "stream",
       "stream": "stdout",
       "text": [
        "\n",
        "Processing ConceptLevel_AfterDistanceAndControlsAndDiversityAndCorrectedDiscreteVariety_K700-50_T20.csv..."
       ]
      },
      {
       "output_type": "stream",
       "stream": "stdout",
       "text": [
        "\n",
        "Processing ConceptLevel_AfterDistanceAndControlsAndDiversityAndCorrectedDiscreteVariety_K700-50_T30.csv..."
       ]
      },
      {
       "output_type": "stream",
       "stream": "stdout",
       "text": [
        "\n",
        "Processing ConceptLevel_AfterDistanceAndControlsAndDiversityAndCorrectedDiscreteVariety_K700-50_T40.csv..."
       ]
      },
      {
       "output_type": "stream",
       "stream": "stdout",
       "text": [
        "\n",
        "Processing ConceptLevel_AfterDistanceAndControlsAndDiversityAndCorrectedDiscreteVariety_K700-50_T50.csv..."
       ]
      },
      {
       "output_type": "stream",
       "stream": "stdout",
       "text": [
        "\n",
        "Processing ConceptLevel_AfterDistanceAndControlsAndDiversityAndCorrectedDiscreteVariety_K700-50_T60.csv..."
       ]
      },
      {
       "output_type": "stream",
       "stream": "stdout",
       "text": [
        "\n",
        "Processing ConceptLevel_AfterDistanceAndControlsAndDiversityAndCorrectedDiscreteVariety_K700-50_T70.csv..."
       ]
      },
      {
       "output_type": "stream",
       "stream": "stdout",
       "text": [
        "\n",
        "Processing ConceptLevel_AfterDistanceAndControlsAndDiversityAndCorrectedDiscreteVariety_K700-50_T80.csv..."
       ]
      },
      {
       "output_type": "stream",
       "stream": "stdout",
       "text": [
        "\n",
        "Processing ConceptLevel_AfterDistanceAndControlsAndDiversityAndCorrectedDiscreteVariety_K700-50_T90.csv..."
       ]
      },
      {
       "output_type": "stream",
       "stream": "stdout",
       "text": [
        "\n",
        "Processing ConceptLevel_AfterDistanceAndControlsAndDiversityAndCorrectedDiscreteVariety_K700-5_T20.csv..."
       ]
      },
      {
       "output_type": "stream",
       "stream": "stdout",
       "text": [
        "\n",
        "Processing ConceptLevel_AfterDistanceAndControlsAndDiversityAndCorrectedDiscreteVariety_K700-5_T30.csv..."
       ]
      },
      {
       "output_type": "stream",
       "stream": "stdout",
       "text": [
        "\n",
        "Processing ConceptLevel_AfterDistanceAndControlsAndDiversityAndCorrectedDiscreteVariety_K700-5_T40.csv..."
       ]
      },
      {
       "output_type": "stream",
       "stream": "stdout",
       "text": [
        "\n",
        "Processing ConceptLevel_AfterDistanceAndControlsAndDiversityAndCorrectedDiscreteVariety_K700-5_T50.csv..."
       ]
      },
      {
       "output_type": "stream",
       "stream": "stdout",
       "text": [
        "\n",
        "Processing ConceptLevel_AfterDistanceAndControlsAndDiversityAndCorrectedDiscreteVariety_K700-5_T60.csv..."
       ]
      },
      {
       "output_type": "stream",
       "stream": "stdout",
       "text": [
        "\n",
        "Processing ConceptLevel_AfterDistanceAndControlsAndDiversityAndCorrectedDiscreteVariety_K700-5_T70.csv..."
       ]
      },
      {
       "output_type": "stream",
       "stream": "stdout",
       "text": [
        "\n",
        "Processing ConceptLevel_AfterDistanceAndControlsAndDiversityAndCorrectedDiscreteVariety_K700-5_T80.csv..."
       ]
      },
      {
       "output_type": "stream",
       "stream": "stdout",
       "text": [
        "\n",
        "Processing ConceptLevel_AfterDistanceAndControlsAndDiversityAndCorrectedDiscreteVariety_K700-5_T90.csv..."
       ]
      },
      {
       "output_type": "stream",
       "stream": "stdout",
       "text": [
        "\n",
        "Processing ConceptLevel_AfterDistanceAndControlsAndDiversityAndCorrectedDiscreteVariety_K700-6_T20.csv..."
       ]
      },
      {
       "output_type": "stream",
       "stream": "stdout",
       "text": [
        "\n",
        "Processing ConceptLevel_AfterDistanceAndControlsAndDiversityAndCorrectedDiscreteVariety_K700-6_T30.csv..."
       ]
      },
      {
       "output_type": "stream",
       "stream": "stdout",
       "text": [
        "\n",
        "Processing ConceptLevel_AfterDistanceAndControlsAndDiversityAndCorrectedDiscreteVariety_K700-6_T40.csv..."
       ]
      },
      {
       "output_type": "stream",
       "stream": "stdout",
       "text": [
        "\n",
        "Processing ConceptLevel_AfterDistanceAndControlsAndDiversityAndCorrectedDiscreteVariety_K700-6_T50.csv..."
       ]
      },
      {
       "output_type": "stream",
       "stream": "stdout",
       "text": [
        "\n",
        "Processing ConceptLevel_AfterDistanceAndControlsAndDiversityAndCorrectedDiscreteVariety_K700-6_T60.csv..."
       ]
      },
      {
       "output_type": "stream",
       "stream": "stdout",
       "text": [
        "\n",
        "Processing ConceptLevel_AfterDistanceAndControlsAndDiversityAndCorrectedDiscreteVariety_K700-6_T70.csv..."
       ]
      },
      {
       "output_type": "stream",
       "stream": "stdout",
       "text": [
        "\n",
        "Processing ConceptLevel_AfterDistanceAndControlsAndDiversityAndCorrectedDiscreteVariety_K700-6_T80.csv..."
       ]
      },
      {
       "output_type": "stream",
       "stream": "stdout",
       "text": [
        "\n",
        "Processing ConceptLevel_AfterDistanceAndControlsAndDiversityAndCorrectedDiscreteVariety_K700-6_T90.csv..."
       ]
      },
      {
       "output_type": "stream",
       "stream": "stdout",
       "text": [
        "\n",
        "Processing ConceptLevel_AfterDistanceAndControlsAndDiversityAndCorrectedDiscreteVariety_K700-7_T20.csv..."
       ]
      },
      {
       "output_type": "stream",
       "stream": "stdout",
       "text": [
        "\n",
        "Processing ConceptLevel_AfterDistanceAndControlsAndDiversityAndCorrectedDiscreteVariety_K700-7_T30.csv..."
       ]
      },
      {
       "output_type": "stream",
       "stream": "stdout",
       "text": [
        "\n",
        "Processing ConceptLevel_AfterDistanceAndControlsAndDiversityAndCorrectedDiscreteVariety_K700-7_T40.csv..."
       ]
      },
      {
       "output_type": "stream",
       "stream": "stdout",
       "text": [
        "\n",
        "Processing ConceptLevel_AfterDistanceAndControlsAndDiversityAndCorrectedDiscreteVariety_K700-7_T50.csv..."
       ]
      },
      {
       "output_type": "stream",
       "stream": "stdout",
       "text": [
        "\n",
        "Processing ConceptLevel_AfterDistanceAndControlsAndDiversityAndCorrectedDiscreteVariety_K700-7_T60.csv..."
       ]
      },
      {
       "output_type": "stream",
       "stream": "stdout",
       "text": [
        "\n",
        "Processing ConceptLevel_AfterDistanceAndControlsAndDiversityAndCorrectedDiscreteVariety_K700-7_T70.csv..."
       ]
      },
      {
       "output_type": "stream",
       "stream": "stdout",
       "text": [
        "\n",
        "Processing ConceptLevel_AfterDistanceAndControlsAndDiversityAndCorrectedDiscreteVariety_K700-7_T80.csv..."
       ]
      },
      {
       "output_type": "stream",
       "stream": "stdout",
       "text": [
        "\n",
        "Processing ConceptLevel_AfterDistanceAndControlsAndDiversityAndCorrectedDiscreteVariety_K700-7_T90.csv..."
       ]
      },
      {
       "output_type": "stream",
       "stream": "stdout",
       "text": [
        "\n"
       ]
      }
     ],
     "prompt_number": 2
    },
    {
     "cell_type": "code",
     "collapsed": false,
     "input": [
      "srcFile = \"/Users/joelc/Dropbox/Research/dissertation/OpenIDEO/Pipeline/Challenge_and_High-level_Data/smaller/ConceptLevel_AfterDistanceAndControlsAndDiversityAndVariety_K50-4_T50.csv\"\n",
      "df = pd.read_csv(srcFile)\n",
      "%Rpush df\n",
      "%R df$both_sourceVariety_sq = df$both_sourceVariety^2\n",
      "%R fit = glmer(shortlist ~ 1 + (1|challenge_x) + (1|authorURL) + both_sourceVariety + both_sourceVariety_sq + num_shortlisted_sources + comments_preshortlist + both_numSources, data=df, family=binomial)\n",
      "%R print(fixef(fit))\n",
      "%R print(fixef(fit)[2])\n",
      "%R print(fixef(fit)[3])\n",
      "%R print(confint.merMod(fit,method='Wald'))\n",
      "%R print(confint.merMod(fit,method='Wald')[2])\n",
      "%R print(confint.merMod(fit,method='Wald')[9])\n",
      "%R print(fixef(fit)[3])\n",
      "%R print(confint.merMod(fit,method='Wald')[3])\n",
      "%R print(confint.merMod(fit,method='Wald')[10])\n",
      "\n",
      "#deviances = %R getME(fit,'devcomp')$cmp\n",
      "%R print(deviance(fit))\n",
      "#coef = %R fixef(fit)[5]\n",
      "#lower = %R confint.merMod(fit,method='Wald')[5]\n",
      "#upper = %R confint.merMod(fit,method='Wald')[11]\n",
      "#coefSq = %R fixef(fit)[6]\n",
      "#lowerSq = %R confint.merMod(fit,method='Wald')[6]\n",
      "#upperSq = %R confint.merMod(fit,method='Wald')[12]"
     ],
     "language": "python",
     "metadata": {},
     "outputs": [
      {
       "metadata": {},
       "output_type": "display_data",
       "text": [
        "            (Intercept)      both_sourceVariety   both_sourceVariety_sq \n",
        "           -2.919315437             0.137144274            -0.079426337 \n",
        "num_shortlisted_sources   comments_preshortlist         both_numSources \n",
        "            0.236355478             0.107395814             0.001621686 \n"
       ]
      },
      {
       "metadata": {},
       "output_type": "display_data",
       "text": [
        "both_sourceVariety \n",
        "         0.1371443 \n"
       ]
      },
      {
       "metadata": {},
       "output_type": "display_data",
       "text": [
        "both_sourceVariety_sq \n",
        "          -0.07942634 \n"
       ]
      },
      {
       "metadata": {},
       "output_type": "display_data",
       "text": [
        "                              2.5 %      97.5 %\n",
        "(Intercept)             -4.02205203 -1.81657885\n",
        "both_sourceVariety      -1.18540247  1.45969102\n",
        "both_sourceVariety_sq   -0.50979284  0.35094017\n",
        "num_shortlisted_sources  0.05851416  0.41419679\n",
        "comments_preshortlist    0.08489167  0.12989996\n",
        "both_numSources         -0.01147407  0.01471744\n"
       ]
      },
      {
       "metadata": {},
       "output_type": "display_data",
       "text": [
        "[1] -1.185402\n"
       ]
      },
      {
       "metadata": {},
       "output_type": "display_data",
       "text": [
        "[1] 0.3509402\n"
       ]
      },
      {
       "metadata": {},
       "output_type": "display_data",
       "text": [
        "both_sourceVariety_sq \n",
        "          -0.07942634 \n"
       ]
      },
      {
       "metadata": {},
       "output_type": "display_data",
       "text": [
        "[1] -0.5097928\n"
       ]
      },
      {
       "metadata": {},
       "output_type": "display_data",
       "text": [
        "[1] 0.4141968\n"
       ]
      },
      {
       "metadata": {},
       "output_type": "display_data",
       "text": [
        "[1] 757.5212\n"
       ]
      }
     ],
     "prompt_number": 3
    },
    {
     "cell_type": "code",
     "collapsed": false,
     "input": [],
     "language": "python",
     "metadata": {},
     "outputs": []
    }
   ],
   "metadata": {}
  }
 ]
}