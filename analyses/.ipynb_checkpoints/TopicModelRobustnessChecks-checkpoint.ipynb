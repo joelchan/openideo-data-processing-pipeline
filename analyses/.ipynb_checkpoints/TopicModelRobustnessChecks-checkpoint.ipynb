{
 "metadata": {
  "name": ""
 },
 "nbformat": 3,
 "nbformat_minor": 0,
 "worksheets": [
  {
   "cells": [
    {
     "cell_type": "code",
     "collapsed": false,
     "input": [
      "%matplotlib inline\n",
      "\n",
      "import numpy as np\n",
      "import matplotlib.pyplot as plt\n",
      "import pandas as pd\n",
      "import os, csv\n",
      "\n",
      "#tell pandas to display wide tables as pretty HTML tables\n",
      "pd.set_option('display.width',500)\n",
      "pd.set_option('display.max_columns',100)\n",
      "\n",
      "%load_ext rmagic\n",
      "%R library(lme4)\n",
      "%R library(arm)"
     ],
     "language": "python",
     "metadata": {},
     "outputs": [
      {
       "metadata": {},
       "output_type": "display_data",
       "text": [
        "Loading required package: lattice\n",
        "Loading required package: Matrix\n"
       ]
      },
      {
       "metadata": {},
       "output_type": "display_data",
       "text": [
        "Loading required package: MASS\n",
        "\n",
        "arm (Version 1.6-10, built: 2013-11-15)\n",
        "\n",
        "Working directory is /Users/joelc/Dropbox/Research/dissertation/openideo/Pipeline/openideo-data-processing-pipeline/analyses\n",
        "\n"
       ]
      }
     ],
     "prompt_number": 1
    },
    {
     "cell_type": "code",
     "collapsed": false,
     "input": [
      "srcDir = \"/Users/joelc/Desktop/Desktop from Joel's old iMac/LDA_CF0_DF0_ASP_opt0/DataFilesForAnalyses/\"\n",
      "outfile = open(\"/Users/joelc/Desktop/Desktop from Joel's old iMac/LDA_CF0_DF0_ASP_opt0/CoefficientsByModels2.csv\",'wb')\n",
      "writer = csv.writer(outfile, delimiter=',')\n",
      "writer.writerow(['TopicModel','K','Coef','Lower','Upper'])\n",
      "for dataFilename in os.listdir(srcDir):\n",
      "    if dataFilename.endswith(\".csv\"):\n",
      "        k = dataFilename.split('_')[4]\n",
      "        path = srcDir + dataFilename\n",
      "        df = pd.read_csv(path)\n",
      "        %Rpush df\n",
      "        %R fit = glmer(shortlist ~ 1 + (1|challenge) + (1|authorURL) + insp_dist_z_insp_mean + num_shortlisted_sources + comments_preshortlist, data=df, family=binomial)\n",
      "        coef = %R fixef(fit)[2]\n",
      "        lower = %R confint.merMod(fit,method='Wald')[2]\n",
      "        upper = %R confint.merMod(fit,method='Wald')[6]\n",
      "        #print coef[0]\n",
      "        writer.writerow([dataFilename,k,coef[0],lower[0],upper[0]])\n",
      "outfile.close()"
     ],
     "language": "python",
     "metadata": {},
     "outputs": [],
     "prompt_number": 7
    },
    {
     "cell_type": "code",
     "collapsed": false,
     "input": [
      "srcFile = \"/Users/joelc/Desktop/Desktop from Joel's old iMac/LDA_CF0_DF0_ASP_opt0/DataFilesForAnalyses/ConceptLevelData_sorted_CF0_DF0_200_ASP_optim_composition-6.csv\"\n",
      "df = pd.read_csv(srcFile)\n",
      "%Rpush df\n",
      "%R fit = glmer(shortlist ~ 1 + (1|challenge) + (1|authorURL) + insp_dist_z_insp_mean + num_shortlisted_sources + comments_preshortlist, data=df, family=binomial)\n",
      "coef = %R fixef(fit)[2]\n",
      "%R print(confint.merMod(fit,method='Wald'))\n",
      "%R print(confint.merMod(fit,method='Wald')[2])\n",
      "%R print(confint.merMod(fit,method='Wald')[6])\n",
      "#upper = %R confint.merMod(fit,method='Wald')[6]"
     ],
     "language": "python",
     "metadata": {},
     "outputs": [
      {
       "metadata": {},
       "output_type": "display_data",
       "text": [
        "                              2.5 %      97.5 %\n",
        "(Intercept)             -3.37316788 -2.13695308\n",
        "insp_dist_z_insp_mean   -0.69128299 -0.08721595\n",
        "num_shortlisted_sources -0.09252599  0.35118050\n",
        "comments_preshortlist    0.07464338  0.12362635\n"
       ]
      },
      {
       "metadata": {},
       "output_type": "display_data",
       "text": [
        "[1] -0.691283\n"
       ]
      },
      {
       "metadata": {},
       "output_type": "display_data",
       "text": [
        "[1] -0.08721595\n"
       ]
      }
     ],
     "prompt_number": 6
    },
    {
     "cell_type": "code",
     "collapsed": false,
     "input": [],
     "language": "python",
     "metadata": {},
     "outputs": []
    }
   ],
   "metadata": {}
  }
 ]
}