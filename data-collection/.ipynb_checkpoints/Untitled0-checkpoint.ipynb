{
 "metadata": {
  "name": ""
 },
 "nbformat": 3,
 "nbformat_minor": 0,
 "worksheets": [
  {
   "cells": [
    {
     "cell_type": "code",
     "collapsed": false,
     "input": [
      "import numpy as np\n",
      "import pandas as pd\n",
      "import itertools as it\n",
      "import csv"
     ],
     "language": "python",
     "metadata": {},
     "outputs": [],
     "prompt_number": 1
    },
    {
     "cell_type": "code",
     "collapsed": false,
     "input": [
      "datafilename = \"/Users/joelc/Dropbox/Research/dissertation/OpenIDEO/Pipeline/Challenge_and_High-level_Data/iPython intermediate inputs and outputs/ConceptLevel_AfterDistanceAndControls.xlsx\"\n",
      "pathfilename = \"/Users/joelc/Dropbox/Research/Dissertation/OpenIDEO/Pipeline/Paths/_CSVversions/paths_all.csv\"\n",
      "weightsfilename = \"/Users/joelc/Dropbox/Research/Dissertation/OpenIDEO/Pipeline/Validation/FINAL_malletLDA/sorted_CF0_DF0_400_ASP_optim_composition-6.csv\""
     ],
     "language": "python",
     "metadata": {},
     "outputs": [],
     "prompt_number": 4
    },
    {
     "cell_type": "code",
     "collapsed": false,
     "input": [
      "# read in the doc-topic weights\n",
      "print \"Reading in weights...\"\n",
      "doc_topic_weights = {}\n",
      "with open(weightsfilename, 'rU') as csvfile:\n",
      "    filereader = csv.reader(csvfile, delimiter=',', quotechar='|')\n",
      "    for row in filereader:\n",
      "        if 'doc' not in row[0]: #skip the header\n",
      "            docname = row[0].replace(\"tokenized_\",\"\").replace(\".txt\",\"\")\n",
      "            weightsList = []\n",
      "            for i in xrange(1,len(row)):\n",
      "                weightsList.append((float(row[i]),i-1)) #append tuple: weight, topic (-1 for topic so that it aligns with index in real topics)\n",
      "            doc_topic_weights[docname] = weightsList\n",
      "            #doc_topic_weights[docname] = [float(i) for i in row[1:]]\n",
      "csvfile.close"
     ],
     "language": "python",
     "metadata": {},
     "outputs": [
      {
       "output_type": "stream",
       "stream": "stdout",
       "text": [
        "Reading in weights...\n"
       ]
      },
      {
       "metadata": {},
       "output_type": "pyout",
       "prompt_number": 18,
       "text": [
        "<function close>"
       ]
      }
     ],
     "prompt_number": 18
    },
    {
     "cell_type": "code",
     "collapsed": false,
     "input": [
      "# read in the paths, create data for seed type so we can select later (for the set); may want to add source type later if we want to grab diversity only for inspirations\n",
      "print \"Reading in paths...\"\n",
      "pathlevel_df = pd.read_csv(pathfilename)\n",
      "pathlevel_df = pathlevel_df[pathlevel_df['level'] == 1] # trim to only immediate paths for now to reduce computation time and memory usage - this will change later when we want to compute last N sources, for example\n",
      "pathlevel_df['seedtype'] = [n.split('_')[1] for n in pathlevel_df.seed_ID] #create seed type\n",
      "pathlevel_df['seedtype'] = [n[0] for n in pathlevel_df.seedtype]\n",
      "pathlevel_df['challenge'] = [n.split('_')[0] for n in pathlevel_df.seed_ID]\n",
      "pathlevel_df.head()"
     ],
     "language": "python",
     "metadata": {},
     "outputs": [
      {
       "output_type": "stream",
       "stream": "stdout",
       "text": [
        "Reading in paths...\n"
       ]
      },
      {
       "html": [
        "<div style=\"max-height:1000px;max-width:1500px;overflow:auto;\">\n",
        "<table border=\"1\" class=\"dataframe\">\n",
        "  <thead>\n",
        "    <tr style=\"text-align: right;\">\n",
        "      <th></th>\n",
        "      <th>seed_ID</th>\n",
        "      <th>source_ID</th>\n",
        "      <th>target_ID</th>\n",
        "      <th>level</th>\n",
        "      <th>seedtype</th>\n",
        "      <th>challenge</th>\n",
        "    </tr>\n",
        "  </thead>\n",
        "  <tbody>\n",
        "    <tr>\n",
        "      <th>0</th>\n",
        "      <td> bone-marrow_C-001</td>\n",
        "      <td> bone-marrow_C-208</td>\n",
        "      <td> bone-marrow_C-001</td>\n",
        "      <td> 1</td>\n",
        "      <td> C</td>\n",
        "      <td> bone-marrow</td>\n",
        "    </tr>\n",
        "    <tr>\n",
        "      <th>3</th>\n",
        "      <td> bone-marrow_C-003</td>\n",
        "      <td> bone-marrow_C-087</td>\n",
        "      <td> bone-marrow_C-003</td>\n",
        "      <td> 1</td>\n",
        "      <td> C</td>\n",
        "      <td> bone-marrow</td>\n",
        "    </tr>\n",
        "    <tr>\n",
        "      <th>4</th>\n",
        "      <td> bone-marrow_C-003</td>\n",
        "      <td> bone-marrow_C-145</td>\n",
        "      <td> bone-marrow_C-003</td>\n",
        "      <td> 1</td>\n",
        "      <td> C</td>\n",
        "      <td> bone-marrow</td>\n",
        "    </tr>\n",
        "    <tr>\n",
        "      <th>5</th>\n",
        "      <td> bone-marrow_C-003</td>\n",
        "      <td> bone-marrow_C-282</td>\n",
        "      <td> bone-marrow_C-003</td>\n",
        "      <td> 1</td>\n",
        "      <td> C</td>\n",
        "      <td> bone-marrow</td>\n",
        "    </tr>\n",
        "    <tr>\n",
        "      <th>6</th>\n",
        "      <td> bone-marrow_C-003</td>\n",
        "      <td> bone-marrow_I-090</td>\n",
        "      <td> bone-marrow_C-003</td>\n",
        "      <td> 1</td>\n",
        "      <td> C</td>\n",
        "      <td> bone-marrow</td>\n",
        "    </tr>\n",
        "  </tbody>\n",
        "</table>\n",
        "</div>"
       ],
       "metadata": {},
       "output_type": "pyout",
       "prompt_number": 7,
       "text": [
        "             seed_ID          source_ID          target_ID  level seedtype  \\\n",
        "0  bone-marrow_C-001  bone-marrow_C-208  bone-marrow_C-001      1        C   \n",
        "3  bone-marrow_C-003  bone-marrow_C-087  bone-marrow_C-003      1        C   \n",
        "4  bone-marrow_C-003  bone-marrow_C-145  bone-marrow_C-003      1        C   \n",
        "5  bone-marrow_C-003  bone-marrow_C-282  bone-marrow_C-003      1        C   \n",
        "6  bone-marrow_C-003  bone-marrow_I-090  bone-marrow_C-003      1        C   \n",
        "\n",
        "     challenge  \n",
        "0  bone-marrow  \n",
        "3  bone-marrow  \n",
        "4  bone-marrow  \n",
        "5  bone-marrow  \n",
        "6  bone-marrow  "
       ]
      }
     ],
     "prompt_number": 7
    },
    {
     "cell_type": "code",
     "collapsed": false,
     "input": [
      "def get_top_topics(sourceList,docTopicWeights,nTopics):\n",
      "    topTopics = set()\n",
      "    for source in sourceList:\n",
      "        weights = docTopicWeights[source]\n",
      "        # get the largest weighted topics\n",
      "        weights.sort(key=lambda tup: tup[0], reverse=True) #sort in place in descending order by the weights (first element in tuples)\n",
      "        for i in xrange(nTopics):\n",
      "            topTopics.add(weights[i][1])\n",
      "    return sorted(list(topTopics)) # return it as a list so it's a bit easier to work with\n",
      "\n",
      "sourceList = ['bone-marrow_C-001','bone-marrow_C-002','bone-marrow_C-003']\n",
      "sourceTopTopics = get_top_topics(sourceList,doc_topic_weights,5)\n",
      "print sourceTopTopics\n",
      "print len(sourceTopTopics)\n",
      "\n",
      "#for challengeName, challengeDF in pathlevel_df.groupby('challenge'):\n",
      "#    concepts = set()\n",
      "#    concepts.update(challengeDF[challengeDF['seedtype'] == 'C']['seed_ID'])\n",
      "#    topTopics = set()\n",
      "#    for source in challengeDF['source_ID']:\n",
      "#        #get its top topics"
     ],
     "language": "python",
     "metadata": {},
     "outputs": [
      {
       "output_type": "stream",
       "stream": "stdout",
       "text": [
        "[41, 89, 125, 138, 163, 173, 201, 202, 205, 246, 326, 353]\n",
        "12\n"
       ]
      }
     ],
     "prompt_number": 24
    },
    {
     "cell_type": "code",
     "collapsed": false,
     "input": [],
     "language": "python",
     "metadata": {},
     "outputs": []
    }
   ],
   "metadata": {}
  }
 ]
}