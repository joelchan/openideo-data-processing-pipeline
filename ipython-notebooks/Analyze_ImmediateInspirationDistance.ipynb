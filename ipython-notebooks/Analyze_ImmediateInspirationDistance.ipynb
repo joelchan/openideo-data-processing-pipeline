{
 "metadata": {
  "name": ""
 },
 "nbformat": 3,
 "nbformat_minor": 0,
 "worksheets": [
  {
   "cells": [
    {
     "cell_type": "markdown",
     "metadata": {},
     "source": [
      "# what this notebook is about\n",
      "\n",
      "here i'm going to do some EDA and preliminary model-fitting to explore the relationship between the **maximum** distance of the things you cite and your odds of being shortlisted (you = concept).\n",
      "\n",
      "a driving rationale for using this formulation of the IV is the consideration that ideas are complex and multifaceted, and of course one would expect near sources to outnumber far sources, and that nobody would really hypothesize that building your complex idea from more far than near sources is likely to give the idea a big creativity boost.\n",
      "\n",
      "a max source distance measure recognizes that people can build on many sources, but the relevant question might be \"how far did you go?\""
     ]
    },
    {
     "cell_type": "markdown",
     "metadata": {},
     "source": [
      "# preliminaries: importing packages/modules, the data, etc."
     ]
    },
    {
     "cell_type": "markdown",
     "metadata": {},
     "source": [
      "import packages and modules and define their behaviors"
     ]
    },
    {
     "cell_type": "code",
     "collapsed": false,
     "input": [
      "%matplotlib inline\n",
      "import numpy as np\n",
      "import matplotlib.pyplot as plt\n",
      "import pandas as pd\n",
      "import os, csv, collections\n",
      "\n",
      "#tell pandas to display wide tables as pretty HTML tables\n",
      "pd.set_option('display.width',500)\n",
      "pd.set_option('display.max_columns',100)\n",
      "\n",
      "#making plots more pretty\n",
      "def remove_border(axes=None, top=False, right=False, left=True, bottom=True):\n",
      "    \"\"\"\n",
      "    Minimize chart junk by stripping out unncessary plot borders and axis ticks\n",
      "    \n",
      "    THe top/right/left/bottom keywords toggle whether the corresponding plot border is drawn\n",
      "    \"\"\"\n",
      "    \n",
      "    ax = axes or plt.gca()\n",
      "    ax.spines['top'].set_visible(top)\n",
      "    ax.spines['right'].set_visible(right)\n",
      "    ax.spines['left'].set_visible(left)\n",
      "    ax.spines['bottom'].set_visible(bottom)\n",
      "    \n",
      "    #turn of all ticks\n",
      "    ax.yaxis.set_ticks_position('none')\n",
      "    ax.xaxis.set_ticks_position('none')\n",
      "    \n",
      "    #now re-enable visibles\n",
      "    if top:\n",
      "        ax.xaxis.tick_top()\n",
      "    if bottom:\n",
      "        ax.xaxis.tick_bottom()\n",
      "    if left:\n",
      "        ax.yaxis.tick_left()\n",
      "    if right:\n",
      "        ax.yaxis.tick_right()"
     ],
     "language": "python",
     "metadata": {},
     "outputs": [],
     "prompt_number": 1
    },
    {
     "cell_type": "markdown",
     "metadata": {},
     "source": [
      "get the data"
     ]
    },
    {
     "cell_type": "code",
     "collapsed": false,
     "input": [
      "# note: i manually merged in metadata via vlookup - still can't quite figure out the pandas merge/join stuff\n",
      "datafile = \"/Users/joelc/Dropbox/Research/Dissertation/OpenIDEO/Pipeline/Challenge_and_High-level_Data/AllConceptData_immediatesourcesonly_2013-11-26.csv\"\n",
      "data = pd.read_csv(datafile)\n",
      "data"
     ],
     "language": "python",
     "metadata": {},
     "outputs": [
      {
       "html": [
        "<pre>\n",
        "&lt;class 'pandas.core.frame.DataFrame'&gt;\n",
        "Int64Index: 1182 entries, 0 to 1181\n",
        "Data columns (total 29 columns):\n",
        "conceptname              1182  non-null values\n",
        "challenge                1182  non-null values\n",
        "both_dist_count          1182  non-null values\n",
        "both_dist_raw_max        1182  non-null values\n",
        "both_dist_raw_mean       1182  non-null values\n",
        "both_dist_raw_std        813  non-null values\n",
        "both_dist_z_max          1182  non-null values\n",
        "both_dist_z_mean         1182  non-null values\n",
        "both_dist_z_std          813  non-null values\n",
        "concept_dist_count       1182  non-null values\n",
        "concept_dist_raw_max     916  non-null values\n",
        "concept_dist_raw_mean    916  non-null values\n",
        "concept_dist_raw_std     515  non-null values\n",
        "concept_dist_z_max       916  non-null values\n",
        "concept_dist_z_mean      916  non-null values\n",
        "concept_dist_z_std       515  non-null values\n",
        "insp_dist_count          1182  non-null values\n",
        "insp_dist_raw_max        707  non-null values\n",
        "insp_dist_raw_mean       707  non-null values\n",
        "insp_dist_raw_std        456  non-null values\n",
        "insp_dist_z_max          707  non-null values\n",
        "insp_dist_z_mean         707  non-null values\n",
        "insp_dist_z_std          456  non-null values\n",
        "author                   1182  non-null values\n",
        "submittedon              1182  non-null values\n",
        "comments                 1182  non-null values\n",
        "votes                    1182  non-null values\n",
        "shortlist                1182  non-null values\n",
        "win                      1182  non-null values\n",
        "dtypes: float64(18), int64(7), object(4)\n",
        "</pre>"
       ],
       "metadata": {},
       "output_type": "pyout",
       "prompt_number": 2,
       "text": [
        "<class 'pandas.core.frame.DataFrame'>\n",
        "Int64Index: 1182 entries, 0 to 1181\n",
        "Data columns (total 29 columns):\n",
        "conceptname              1182  non-null values\n",
        "challenge                1182  non-null values\n",
        "both_dist_count          1182  non-null values\n",
        "both_dist_raw_max        1182  non-null values\n",
        "both_dist_raw_mean       1182  non-null values\n",
        "both_dist_raw_std        813  non-null values\n",
        "both_dist_z_max          1182  non-null values\n",
        "both_dist_z_mean         1182  non-null values\n",
        "both_dist_z_std          813  non-null values\n",
        "concept_dist_count       1182  non-null values\n",
        "concept_dist_raw_max     916  non-null values\n",
        "concept_dist_raw_mean    916  non-null values\n",
        "concept_dist_raw_std     515  non-null values\n",
        "concept_dist_z_max       916  non-null values\n",
        "concept_dist_z_mean      916  non-null values\n",
        "concept_dist_z_std       515  non-null values\n",
        "insp_dist_count          1182  non-null values\n",
        "insp_dist_raw_max        707  non-null values\n",
        "insp_dist_raw_mean       707  non-null values\n",
        "insp_dist_raw_std        456  non-null values\n",
        "insp_dist_z_max          707  non-null values\n",
        "insp_dist_z_mean         707  non-null values\n",
        "insp_dist_z_std          456  non-null values\n",
        "author                   1182  non-null values\n",
        "submittedon              1182  non-null values\n",
        "comments                 1182  non-null values\n",
        "votes                    1182  non-null values\n",
        "shortlist                1182  non-null values\n",
        "win                      1182  non-null values\n",
        "dtypes: float64(18), int64(7), object(4)"
       ]
      }
     ],
     "prompt_number": 2
    },
    {
     "cell_type": "markdown",
     "metadata": {},
     "source": [
      "# univariate EDA"
     ]
    },
    {
     "cell_type": "markdown",
     "metadata": {},
     "source": [
      "let's first look at the frequency distribution for max inspiration distance"
     ]
    },
    {
     "cell_type": "code",
     "collapsed": false,
     "input": [
      "bins = np.arange(-5,2,.25)\n",
      "plt.hist(data.insp_dist_z_max.dropna(),histtype='stepfilled',color='r',alpha=.5,bins=bins)\n",
      "plt.xlabel(\"max cited inspiration distance (z)\")\n",
      "plt.ylabel(\"number of concepts\")\n",
      "remove_border()"
     ],
     "language": "python",
     "metadata": {},
     "outputs": [
      {
       "metadata": {},
       "output_type": "display_data",
       "png": "[encoded data removed]",
       "text": [
        "<matplotlib.figure.Figure at 0x107b16890>"
       ]
      }
     ],
     "prompt_number": 3
    },
    {
     "cell_type": "markdown",
     "metadata": {},
     "source": [
      "the distribution looks very similar to mean source distance. let's see them together."
     ]
    },
    {
     "cell_type": "code",
     "collapsed": false,
     "input": [
      "bins = np.arange(-5,2,.25)\n",
      "plt.hist(data.insp_dist_z_max.dropna(),histtype='stepfilled',color='r',alpha=.7,bins=bins)\n",
      "plt.hist(data.insp_dist_z_mean.dropna(),histtype='stepfilled',color='r',alpha=.25,bins=bins)\n",
      "plt.xlabel(\"mean/max cited inspiration distance (z)\")\n",
      "plt.ylabel(\"number of concepts\")\n",
      "remove_border()"
     ],
     "language": "python",
     "metadata": {},
     "outputs": [
      {
       "metadata": {},
       "output_type": "display_data",
       "png": "[encoded data removed]",
       "text": [
        "<matplotlib.figure.Figure at 0x107b3be90>"
       ]
      }
     ],
     "prompt_number": 4
    },
    {
     "cell_type": "markdown",
     "metadata": {},
     "source": [
      "the more solid red is max. so it looks like the distribution is even more skewed to the right (i.e., towards more distant)"
     ]
    },
    {
     "cell_type": "markdown",
     "metadata": {},
     "source": [
      "# bivariate EDA\n",
      "\n",
      "now it's time to visually inspect bivariate relationships between max insp distance and shortlist"
     ]
    },
    {
     "cell_type": "code",
     "collapsed": false,
     "input": [
      "# add a jittered variable\n",
      "jitter = .05\n",
      "data['shortlist_jit'] = [s + np.random.uniform(-jitter, jitter) for s in data.shortlist]\n",
      "data.shortlist_jit"
     ],
     "language": "python",
     "metadata": {},
     "outputs": [
      {
       "metadata": {},
       "output_type": "pyout",
       "prompt_number": 5,
       "text": [
        "0     0.006297\n",
        "1     0.982284\n",
        "2     0.034399\n",
        "3    -0.000389\n",
        "4     0.002049\n",
        "5     0.040447\n",
        "6     0.044939\n",
        "7    -0.010311\n",
        "8    -0.014755\n",
        "9     0.996275\n",
        "10    0.036626\n",
        "11   -0.007738\n",
        "12   -0.038086\n",
        "13    0.014150\n",
        "14    0.982097\n",
        "...\n",
        "1167    1.008391\n",
        "1168    0.012429\n",
        "1169    0.961706\n",
        "1170   -0.001660\n",
        "1171    1.043790\n",
        "1172   -0.037504\n",
        "1173    0.015613\n",
        "1174    0.026881\n",
        "1175    0.015178\n",
        "1176    0.005206\n",
        "1177    0.020235\n",
        "1178   -0.011523\n",
        "1179    0.976890\n",
        "1180    0.035711\n",
        "1181    0.967803\n",
        "Name: shortlist_jit, Length: 1182, dtype: float64"
       ]
      }
     ],
     "prompt_number": 5
    },
    {
     "cell_type": "code",
     "collapsed": false,
     "input": [
      "# scatterplot\n",
      "plt.scatter(data.insp_dist_z_max.dropna(), data[data.insp_dist_count > 0].shortlist_jit, color='blue', alpha=.2)\n",
      "# add regression line\n",
      "m, b = np.polyfit(data.insp_dist_z_max.dropna(), data[data.insp_dist_count > 0].shortlist, 1)\n",
      "print \"intercept = %.3f, slope = %.3f\" %(b, m) \n",
      "yhat = np.polyval([m, b], data.insp_dist_z_max.dropna())\n",
      "plt.plot(data.insp_dist_z_max.dropna(), yhat, color='blue')\n",
      "remove_border() \n",
      "plt.ylim(-.5, 1.5)\n",
      "plt.xlabel('Max inspiration distance (z)')\n",
      "plt.ylabel('Shortlist')"
     ],
     "language": "python",
     "metadata": {},
     "outputs": [
      {
       "output_type": "stream",
       "stream": "stdout",
       "text": [
        "intercept = 0.160, slope = -0.008\n"
       ]
      },
      {
       "metadata": {},
       "output_type": "pyout",
       "prompt_number": 6,
       "text": [
        "<matplotlib.text.Text at 0x107b5df50>"
       ]
      },
      {
       "metadata": {},
       "output_type": "display_data",
       "png": "[encoded data removed]",
       "text": [
        "<matplotlib.figure.Figure at 0x107b64450>"
       ]
      }
     ],
     "prompt_number": 6
    },
    {
     "cell_type": "markdown",
     "metadata": {},
     "source": [
      "hmm, so a quick and dirty look tells us that it doesn't matter how far out you go. but i notice that other than the one guy on the far left in the shortlist group, most of the action seems to be on the right end of the distance scale, compared with the non-shortlisted folks.\n",
      "this is standardized. what about raw?"
     ]
    },
    {
     "cell_type": "code",
     "collapsed": false,
     "input": [
      "# scatterplot\n",
      "plt.scatter(data.insp_dist_raw_max.dropna(), data[data.insp_dist_count > 0].shortlist_jit, color='blue', alpha=.2)\n",
      "# add regression line\n",
      "m, b = np.polyfit(data.insp_dist_raw_max.dropna(), data[data.insp_dist_count > 0].shortlist, 1)\n",
      "print \"intercept = %.3f, slope = %.3f\" %(b, m) \n",
      "yhat = np.polyval([m, b], data.insp_dist_raw_max.dropna())\n",
      "plt.plot(data.insp_dist_raw_max.dropna(), yhat, color='blue')\n",
      "remove_border() \n",
      "plt.ylim(-.5, 1.5)\n",
      "plt.xlabel('Max inspiration distance (raw)')\n",
      "plt.ylabel('Shortlist')"
     ],
     "language": "python",
     "metadata": {},
     "outputs": [
      {
       "output_type": "stream",
       "stream": "stdout",
       "text": [
        "intercept = 0.150, slope = -0.574\n"
       ]
      },
      {
       "metadata": {},
       "output_type": "pyout",
       "prompt_number": 7,
       "text": [
        "<matplotlib.text.Text at 0x107b80750>"
       ]
      },
      {
       "metadata": {},
       "output_type": "display_data",
       "png": "[encoded data removed]",
       "text": [
        "<matplotlib.figure.Figure at 0x107b7a410>"
       ]
      }
     ],
     "prompt_number": 7
    },
    {
     "cell_type": "markdown",
     "metadata": {},
     "source": [
      "the slope looks steeper now, but i think it's driven by that one outlier. if you take that guy away, it looks like there are more guys in the non-shortlist group who never venture past ~.05.\n",
      "\n",
      "now i'd like to see how things look at the challenge level. first, enumerate the challenges"
     ]
    },
    {
     "cell_type": "code",
     "collapsed": false,
     "input": [
      "challenges = set()\n",
      "challenges.update(data.challenge)\n",
      "challenges = sorted(challenges)\n",
      "challenges"
     ],
     "language": "python",
     "metadata": {},
     "outputs": [
      {
       "metadata": {},
       "output_type": "pyout",
       "prompt_number": 8,
       "text": [
        "['bone-marrow',\n",
        " 'community-initiative',\n",
        " 'e-waste',\n",
        " 'food-production-consumption',\n",
        " 'human-rights',\n",
        " 'identify-celebrate',\n",
        " 'social-business',\n",
        " 'social-impact',\n",
        " 'vibrant-cities',\n",
        " 'voting',\n",
        " 'web-entrepreneurs',\n",
        " 'youth-employment']"
       ]
      }
     ],
     "prompt_number": 8
    },
    {
     "cell_type": "code",
     "collapsed": false,
     "input": [
      "fig, axes = plt.subplots(nrows=3, ncols=4, figsize=(12,8), tight_layout=True)\n",
      "\n",
      "for ax, challenge in zip(axes.ravel(), challenges):\n",
      "    ax.scatter(data[data.challenge == challenge].insp_dist_raw_max.dropna(), data[(data.challenge == challenge) & (data.insp_dist_count > 0)].shortlist_jit, color='blue',alpha=.2)\n",
      "    \n",
      "    # add regression lines\n",
      "    x = data[data.challenge == challenge].insp_dist_raw_max.dropna()\n",
      "    y = data[(data.challenge == challenge) & (data.insp_dist_count > 0)].shortlist\n",
      "    m1, b1 = np.polyfit(x, y, 1)\n",
      "    shortlistp1 = np.polyval([m1, b1], x)\n",
      "    ax.plot(x, shortlistp1, color='blue')\n",
      "    \n",
      "    ax.annotate(challenge, xy=(-.1, 1.6), ha='center', fontsize=10)\n",
      "    ax.set_xticks(np.arange(-0.20, 0.05, 0.05))\n",
      "    ax.set_yticks([])\n",
      "    remove_border(ax)\n",
      "    ax.set_ylim(-.5, 2)\n",
      "    ax.set_xlabel('max inspiration distance (raw)')"
     ],
     "language": "python",
     "metadata": {},
     "outputs": [
      {
       "output_type": "stream",
       "stream": "stderr",
       "text": [
        "/Users/joelc/anaconda/lib/python2.7/site-packages/matplotlib/figure.py:1595: UserWarning: This figure includes Axes that are not compatible with tight_layout, so its results might be incorrect.\n",
        "  warnings.warn(\"This figure includes Axes that are not \"\n"
       ]
      },
      {
       "metadata": {},
       "output_type": "display_data",
       "png": "[encoded data removed]",
       "text": [
        "<matplotlib.figure.Figure at 0x107b45d50>"
       ]
      }
     ],
     "prompt_number": 9
    },
    {
     "cell_type": "code",
     "collapsed": false,
     "input": [
      "fig, axes = plt.subplots(nrows=3, ncols=4, figsize=(12,8), tight_layout=True)\n",
      "\n",
      "for ax, challenge in zip(axes.ravel(), challenges):\n",
      "    ax.scatter(data[data.challenge == challenge].insp_dist_z_max.dropna(), \n",
      "               data[(data.challenge == challenge) & (data.insp_dist_count > 0)].shortlist_jit, \n",
      "               color='blue',alpha=.2)\n",
      "    \n",
      "    # add regression lines\n",
      "    x = data[data.challenge == challenge].insp_dist_z_max.dropna()\n",
      "    y = data[(data.challenge == challenge) & (data.insp_dist_count > 0)].shortlist\n",
      "    m1, b1 = np.polyfit(x, y, 1)\n",
      "    shortlistp1 = np.polyval([m1, b1], x)\n",
      "    ax.plot(x, shortlistp1, color='blue')\n",
      "    \n",
      "    ax.annotate(challenge, xy=(-.1, 1.6), ha='center', fontsize=10)\n",
      "    ax.set_xticks(np.arange(-5, 2, 1))\n",
      "    ax.set_yticks([])\n",
      "    remove_border(ax)\n",
      "    ax.set_ylim(-.5, 2)\n",
      "    ax.set_xlabel('max inspiration distance (z)')"
     ],
     "language": "python",
     "metadata": {},
     "outputs": [
      {
       "metadata": {},
       "output_type": "display_data",
       "png": "[encoded data removed]",
       "text": [
        "<matplotlib.figure.Figure at 0x107b887d0>"
       ]
      }
     ],
     "prompt_number": 10
    },
    {
     "cell_type": "markdown",
     "metadata": {},
     "source": [
      "# exploratory model-fitting\n",
      "\n",
      "now it's time to do some exploratory model-fitting. i'm going to use R for this. thank god for rmagic!!"
     ]
    },
    {
     "cell_type": "code",
     "collapsed": false,
     "input": [
      "%load_ext rmagic"
     ],
     "language": "python",
     "metadata": {},
     "outputs": [],
     "prompt_number": 12
    },
    {
     "cell_type": "markdown",
     "metadata": {},
     "source": [
      "## max inspiration distance (z)"
     ]
    },
    {
     "cell_type": "code",
     "collapsed": false,
     "input": [
      "X = np.array(data.insp_dist_z_max.dropna())\n",
      "Y = np.array(data[data.insp_dist_count > 0].shortlist)\n",
      "%Rpush X Y\n",
      "%R model = glm(Y ~X, family=binomial(logit))\n",
      "summary = %R summary(model)\n",
      "confidenceintervals = %R confint.default(model)\n",
      "coefficients = %R model$coef\n",
      "\n",
      "%R print(summary(model))\n",
      "print confidenceintervals\n",
      "print coefficients\n",
      "#print \"intercept: %.3f\" %np.exp(coefficients[0])\n",
      "#print \"raw max : %.3f\" %np.exp(coefficients[1])"
     ],
     "language": "python",
     "metadata": {},
     "outputs": [
      {
       "metadata": {},
       "output_type": "display_data",
       "text": [
        "\n",
        "Call:\n",
        "glm(formula = Y ~ X, family = binomial(logit))\n",
        "\n",
        "Deviance Residuals: \n",
        "    Min       1Q   Median       3Q      Max  \n",
        "-0.6656  -0.5824  -0.5761  -0.5699   1.9553  \n",
        "\n",
        "Coefficients:\n",
        "            Estimate Std. Error z value Pr(>|z|)    \n",
        "(Intercept)  -1.6584     0.1213 -13.668   <2e-16 ***\n",
        "X            -0.0619     0.1212  -0.511     0.61    \n",
        "---\n",
        "Signif. codes:  0 \u2018***\u2019 0.001 \u2018**\u2019 0.01 \u2018*\u2019 0.05 \u2018.\u2019 0.1 \u2018 \u2019 1\n",
        "\n",
        "(Dispersion parameter for binomial family taken to be 1)\n",
        "\n",
        "    Null deviance: 611.24  on 706  degrees of freedom\n",
        "Residual deviance: 610.99  on 705  degrees of freedom\n",
        "AIC: 614.99\n",
        "\n",
        "Number of Fisher Scoring iterations: 3\n",
        "\n"
       ]
      },
      {
       "output_type": "stream",
       "stream": "stdout",
       "text": [
        "[[-1.89623066 -1.42060957]\n",
        " [-0.29955024  0.17574107]]\n",
        "[-1.65842011 -0.06190459]\n"
       ]
      }
     ],
     "prompt_number": 38
    },
    {
     "cell_type": "code",
     "collapsed": false,
     "input": [
      "print \"logistic regressions of shortlist on insp_dist_z_max by challenge...\\n\"\n",
      "logreg_raw = []\n",
      "for name, group in data.groupby(['challenge']):\n",
      "    X = np.array(group.insp_dist_z_max.dropna())\n",
      "    Y = group[group.insp_dist_count > 0].shortlist\n",
      "    %Rpush X Y\n",
      "    %R model = glm(Y ~X, family=binomial(logit))\n",
      "    coefficients = %R model$coef\n",
      "    confint = %R confint.default(model)\n",
      "    oddsconfint = %R exp(confint.default(model))\n",
      "    print \"--------------------------------------------\"\n",
      "    print \"%s challenge\" %name.upper()\n",
      "    print \"--------------------------------------------\"\n",
      "    %R print(summary(model))\n",
      "    rowdict = {'challenge':name,\n",
      "               'intercept':coefficients[0],\n",
      "               'intercept 95% LL': confint[0][0],\n",
      "               'intercept 95% UL': confint[0][1],\n",
      "               'coefficient':coefficients[1],\n",
      "               'coefficient 95% LL': confint[1][0],\n",
      "               'coefficient 95% UL': confint[1][1],\n",
      "               'odds_ratio':np.exp(coefficients[1]),\n",
      "               'odds_ratio 95% LL': oddsconfint[1][0],\n",
      "               'odds_ratio 95% UL': oddsconfint[1][1],\n",
      "               'mean_max_insp_dist': group.insp_dist_z_max.mean(),\n",
      "               'number of concepts': group.insp_dist_z_max.count(),\n",
      "               'number of shortlisted concepts': group[group.shortlist == 1].insp_dist_z_max.count()}\n",
      "    logreg_raw.append(rowdict)\n",
      "logreg_raw_df = pd.DataFrame(logreg_raw)\n",
      "logreg_raw_df.to_csv(\"logistic regressions by challenge.csv\")"
     ],
     "language": "python",
     "metadata": {},
     "outputs": [
      {
       "output_type": "stream",
       "stream": "stdout",
       "text": [
        "logistic regressions of shortlist on insp_dist_z_max by challenge...\n",
        "\n",
        "--------------------------------------------\n",
        "BONE-MARROW challenge\n",
        "--------------------------------------------\n"
       ]
      },
      {
       "metadata": {},
       "output_type": "display_data",
       "text": [
        "\n",
        "Call:\n",
        "glm(formula = Y ~ X, family = binomial(logit))\n",
        "\n",
        "Deviance Residuals: \n",
        "    Min       1Q   Median       3Q      Max  \n",
        "-0.6034  -0.4731  -0.4317  -0.4089   2.2462  \n",
        "\n",
        "Coefficients:\n",
        "            Estimate Std. Error z value Pr(>|z|)    \n",
        "(Intercept)  -2.1934     0.3992  -5.494 3.93e-08 ***\n",
        "X            -0.1846     0.2972  -0.621    0.535    \n",
        "---\n",
        "Signif. codes:  0 \u2018***\u2019 0.001 \u2018**\u2019 0.01 \u2018*\u2019 0.05 \u2018.\u2019 0.1 \u2018 \u2019 1\n",
        "\n",
        "(Dispersion parameter for binomial family taken to be 1)\n",
        "\n",
        "    Null deviance: 45.721  on 70  degrees of freedom\n",
        "Residual deviance: 45.359  on 69  degrees of freedom\n",
        "AIC: 49.359\n",
        "\n",
        "Number of Fisher Scoring iterations: 5\n",
        "\n"
       ]
      },
      {
       "output_type": "stream",
       "stream": "stdout",
       "text": [
        "--------------------------------------------\n",
        "COMMUNITY-INITIATIVE challenge\n",
        "--------------------------------------------\n"
       ]
      },
      {
       "metadata": {},
       "output_type": "display_data",
       "text": [
        "\n",
        "Call:\n",
        "glm(formula = Y ~ X, family = binomial(logit))\n",
        "\n",
        "Deviance Residuals: \n",
        "    Min       1Q   Median       3Q      Max  \n",
        "-0.7709  -0.7594  -0.7557  -0.1519   1.6692  \n",
        "\n",
        "Coefficients:\n",
        "            Estimate Std. Error z value Pr(>|z|)\n",
        "(Intercept) -1.06588    0.96435  -1.105    0.269\n",
        "X           -0.03469    0.95420  -0.036    0.971\n",
        "\n",
        "(Dispersion parameter for binomial family taken to be 1)\n",
        "\n",
        "    Null deviance: 49.485  on 43  degrees of freedom\n",
        "Residual deviance: 49.484  on 42  degrees of freedom\n",
        "AIC: 53.484\n",
        "\n",
        "Number of Fisher Scoring iterations: 4\n",
        "\n"
       ]
      },
      {
       "output_type": "stream",
       "stream": "stdout",
       "text": [
        "--------------------------------------------\n",
        "E-WASTE challenge\n",
        "--------------------------------------------\n"
       ]
      },
      {
       "metadata": {},
       "output_type": "display_data",
       "text": [
        "\n",
        "Call:\n",
        "glm(formula = Y ~ X, family = binomial(logit))\n",
        "\n",
        "Deviance Residuals: \n",
        "    Min       1Q   Median       3Q      Max  \n",
        "-0.9829  -0.9004  -0.8005   1.4481   1.6722  \n",
        "\n",
        "Coefficients:\n",
        "            Estimate Std. Error z value Pr(>|z|)\n",
        "(Intercept)  -1.0402     0.6365  -1.634    0.102\n",
        "X             0.3239     0.6383   0.507    0.612\n",
        "\n",
        "(Dispersion parameter for binomial family taken to be 1)\n",
        "\n",
        "    Null deviance: 32.097  on 25  degrees of freedom\n",
        "Residual deviance: 31.830  on 24  degrees of freedom\n",
        "AIC: 35.83\n",
        "\n",
        "Number of Fisher Scoring iterations: 4\n",
        "\n"
       ]
      },
      {
       "output_type": "stream",
       "stream": "stdout",
       "text": [
        "--------------------------------------------\n",
        "FOOD-PRODUCTION-CONSUMPTION challenge\n",
        "--------------------------------------------\n"
       ]
      },
      {
       "metadata": {},
       "output_type": "display_data",
       "text": [
        "\n",
        "Call:\n",
        "glm(formula = Y ~ X, family = binomial(logit))\n",
        "\n",
        "Deviance Residuals: \n",
        "    Min       1Q   Median       3Q      Max  \n",
        "-0.5548  -0.3774  -0.3629  -0.3552   2.3704  \n",
        "\n",
        "Coefficients:\n",
        "            Estimate Std. Error z value Pr(>|z|)    \n",
        "(Intercept)  -2.5622     0.3377  -7.587 3.27e-14 ***\n",
        "X            -0.1803     0.3347  -0.539     0.59    \n",
        "---\n",
        "Signif. codes:  0 \u2018***\u2019 0.001 \u2018**\u2019 0.01 \u2018*\u2019 0.05 \u2018.\u2019 0.1 \u2018 \u2019 1\n",
        "\n",
        "(Dispersion parameter for binomial family taken to be 1)\n",
        "\n",
        "    Null deviance: 73.061  on 146  degrees of freedom\n",
        "Residual deviance: 72.796  on 145  degrees of freedom\n",
        "AIC: 76.796\n",
        "\n",
        "Number of Fisher Scoring iterations: 5\n",
        "\n"
       ]
      },
      {
       "output_type": "stream",
       "stream": "stdout",
       "text": [
        "--------------------------------------------\n",
        "HUMAN-RIGHTS challenge\n",
        "--------------------------------------------\n"
       ]
      },
      {
       "metadata": {},
       "output_type": "display_data",
       "text": [
        "\n",
        "Call:\n",
        "glm(formula = Y ~ X, family = binomial(logit))\n",
        "\n",
        "Deviance Residuals: \n",
        "    Min       1Q   Median       3Q      Max  \n",
        "-0.5455  -0.5325  -0.5130  -0.4126   2.1465  \n",
        "\n",
        "Coefficients:\n",
        "            Estimate Std. Error z value Pr(>|z|)  \n",
        "(Intercept)  -2.6502     1.0382  -2.553   0.0107 *\n",
        "X             0.6329     0.9489   0.667   0.5048  \n",
        "---\n",
        "Signif. codes:  0 \u2018***\u2019 0.001 \u2018**\u2019 0.01 \u2018*\u2019 0.05 \u2018.\u2019 0.1 \u2018 \u2019 1\n",
        "\n",
        "(Dispersion parameter for binomial family taken to be 1)\n",
        "\n",
        "    Null deviance: 43.715  on 61  degrees of freedom\n",
        "Residual deviance: 43.014  on 60  degrees of freedom\n",
        "AIC: 47.014\n",
        "\n",
        "Number of Fisher Scoring iterations: 6\n",
        "\n"
       ]
      },
      {
       "output_type": "stream",
       "stream": "stdout",
       "text": [
        "--------------------------------------------\n",
        "IDENTIFY-CELEBRATE challenge\n",
        "--------------------------------------------\n"
       ]
      },
      {
       "metadata": {},
       "output_type": "display_data",
       "text": [
        "\n",
        "Call:\n",
        "glm(formula = Y ~ X, family = binomial(logit))\n",
        "\n",
        "Deviance Residuals: \n",
        "    Min       1Q   Median       3Q      Max  \n",
        "-1.3334  -1.2516   0.8458   1.1475   1.2387  \n",
        "\n",
        "Coefficients:\n",
        "            Estimate Std. Error z value Pr(>|z|)\n",
        "(Intercept)   0.5152     0.7122   0.723    0.469\n",
        "X            -0.6865     1.1105  -0.618    0.536\n",
        "\n",
        "(Dispersion parameter for binomial family taken to be 1)\n",
        "\n",
        "    Null deviance: 33.104  on 23  degrees of freedom\n",
        "Residual deviance: 32.672  on 22  degrees of freedom\n",
        "AIC: 36.672\n",
        "\n",
        "Number of Fisher Scoring iterations: 4\n",
        "\n"
       ]
      },
      {
       "output_type": "stream",
       "stream": "stdout",
       "text": [
        "--------------------------------------------\n",
        "SOCIAL-BUSINESS challenge\n",
        "--------------------------------------------\n"
       ]
      },
      {
       "metadata": {},
       "output_type": "display_data",
       "text": [
        "\n",
        "Call:\n",
        "glm(formula = Y ~ X, family = binomial(logit))\n",
        "\n",
        "Deviance Residuals: \n",
        "    Min       1Q   Median       3Q      Max  \n",
        "-0.7846  -0.7733  -0.7562  -0.4859   1.9096  \n",
        "\n",
        "Coefficients:\n",
        "            Estimate Std. Error z value Pr(>|z|)  \n",
        "(Intercept)  -1.3880     0.5466  -2.539   0.0111 *\n",
        "X             0.3462     0.5954   0.582   0.5609  \n",
        "---\n",
        "Signif. codes:  0 \u2018***\u2019 0.001 \u2018**\u2019 0.01 \u2018*\u2019 0.05 \u2018.\u2019 0.1 \u2018 \u2019 1\n",
        "\n",
        "(Dispersion parameter for binomial family taken to be 1)\n",
        "\n",
        "    Null deviance: 50.607  on 45  degrees of freedom\n",
        "Residual deviance: 50.214  on 44  degrees of freedom\n",
        "AIC: 54.214\n",
        "\n",
        "Number of Fisher Scoring iterations: 4\n",
        "\n"
       ]
      },
      {
       "output_type": "stream",
       "stream": "stdout",
       "text": [
        "--------------------------------------------\n",
        "SOCIAL-IMPACT challenge\n",
        "--------------------------------------------\n"
       ]
      },
      {
       "metadata": {},
       "output_type": "display_data",
       "text": [
        "\n",
        "Call:\n",
        "glm(formula = Y ~ X, family = binomial(logit))\n",
        "\n",
        "Deviance Residuals: \n",
        "    Min       1Q   Median       3Q      Max  \n",
        "-1.4017  -0.8081  -0.6883   1.3347   1.7468  \n",
        "\n",
        "Coefficients:\n",
        "            Estimate Std. Error z value Pr(>|z|)\n",
        "(Intercept)  -0.1878     0.5842  -0.322    0.748\n",
        "X            -0.9091     0.6772  -1.343    0.179\n",
        "\n",
        "(Dispersion parameter for binomial family taken to be 1)\n",
        "\n",
        "    Null deviance: 48.869  on 39  degrees of freedom\n",
        "Residual deviance: 46.992  on 38  degrees of freedom\n",
        "AIC: 50.992\n",
        "\n",
        "Number of Fisher Scoring iterations: 4\n",
        "\n"
       ]
      },
      {
       "output_type": "stream",
       "stream": "stdout",
       "text": [
        "--------------------------------------------\n",
        "VIBRANT-CITIES challenge\n",
        "--------------------------------------------\n"
       ]
      },
      {
       "metadata": {},
       "output_type": "display_data",
       "text": [
        "\n",
        "Call:\n",
        "glm(formula = Y ~ X, family = binomial(logit))\n",
        "\n",
        "Deviance Residuals: \n",
        "    Min       1Q   Median       3Q      Max  \n",
        "-0.6570  -0.4733  -0.4607  -0.4564   2.1570  \n",
        "\n",
        "Coefficients:\n",
        "            Estimate Std. Error z value Pr(>|z|)    \n",
        "(Intercept)  -1.9998     0.3185  -6.279 3.42e-10 ***\n",
        "X            -0.2441     0.3490  -0.699    0.484    \n",
        "---\n",
        "Signif. codes:  0 \u2018***\u2019 0.001 \u2018**\u2019 0.01 \u2018*\u2019 0.05 \u2018.\u2019 0.1 \u2018 \u2019 1\n",
        "\n",
        "(Dispersion parameter for binomial family taken to be 1)\n",
        "\n",
        "    Null deviance: 82.094  on 118  degrees of freedom\n",
        "Residual deviance: 81.646  on 117  degrees of freedom\n",
        "AIC: 85.646\n",
        "\n",
        "Number of Fisher Scoring iterations: 4\n",
        "\n"
       ]
      },
      {
       "output_type": "stream",
       "stream": "stdout",
       "text": [
        "--------------------------------------------\n",
        "VOTING challenge\n",
        "--------------------------------------------\n"
       ]
      },
      {
       "metadata": {},
       "output_type": "display_data",
       "text": [
        "\n",
        "Call:\n",
        "glm(formula = Y ~ X, family = binomial(logit))\n",
        "\n",
        "Deviance Residuals: \n",
        "    Min       1Q   Median       3Q      Max  \n",
        "-1.2147  -0.5906  -0.5252  -0.4941   2.0567  \n",
        "\n",
        "Coefficients:\n",
        "            Estimate Std. Error z value Pr(>|z|)    \n",
        "(Intercept)  -1.4202     0.4045  -3.510 0.000447 ***\n",
        "X            -0.4253     0.3152  -1.349 0.177212    \n",
        "---\n",
        "Signif. codes:  0 \u2018***\u2019 0.001 \u2018**\u2019 0.01 \u2018*\u2019 0.05 \u2018.\u2019 0.1 \u2018 \u2019 1\n",
        "\n",
        "(Dispersion parameter for binomial family taken to be 1)\n",
        "\n",
        "    Null deviance: 42.885  on 46  degrees of freedom\n",
        "Residual deviance: 41.138  on 45  degrees of freedom\n",
        "AIC: 45.138\n",
        "\n",
        "Number of Fisher Scoring iterations: 4\n",
        "\n"
       ]
      },
      {
       "output_type": "stream",
       "stream": "stdout",
       "text": [
        "--------------------------------------------\n",
        "WEB-ENTREPRENEURS challenge\n",
        "--------------------------------------------\n"
       ]
      },
      {
       "metadata": {},
       "output_type": "display_data",
       "text": [
        "\n",
        "Call:\n",
        "glm(formula = Y ~ X, family = binomial(logit))\n",
        "\n",
        "Deviance Residuals: \n",
        "    Min       1Q   Median       3Q      Max  \n",
        "-0.6539  -0.5675  -0.5316  -0.5040   2.0791  \n",
        "\n",
        "Coefficients:\n",
        "            Estimate Std. Error z value Pr(>|z|)    \n",
        "(Intercept)  -1.6604     0.4874  -3.407 0.000658 ***\n",
        "X            -0.2511     0.5553  -0.452 0.651073    \n",
        "---\n",
        "Signif. codes:  0 \u2018***\u2019 0.001 \u2018**\u2019 0.01 \u2018*\u2019 0.05 \u2018.\u2019 0.1 \u2018 \u2019 1\n",
        "\n",
        "(Dispersion parameter for binomial family taken to be 1)\n",
        "\n",
        "    Null deviance: 40.191  on 48  degrees of freedom\n",
        "Residual deviance: 39.992  on 47  degrees of freedom\n",
        "AIC: 43.992\n",
        "\n",
        "Number of Fisher Scoring iterations: 4\n",
        "\n"
       ]
      },
      {
       "output_type": "stream",
       "stream": "stdout",
       "text": [
        "--------------------------------------------\n",
        "YOUTH-EMPLOYMENT challenge\n",
        "--------------------------------------------\n"
       ]
      },
      {
       "metadata": {},
       "output_type": "display_data",
       "text": [
        "\n",
        "Call:\n",
        "glm(formula = Y ~ X, family = binomial(logit))\n",
        "\n",
        "Deviance Residuals: \n",
        "    Min       1Q   Median       3Q      Max  \n",
        "-0.9000  -0.4348  -0.3264  -0.2365   2.3475  \n",
        "\n",
        "Coefficients:\n",
        "            Estimate Std. Error z value Pr(>|z|)\n",
        "(Intercept)  -0.2344     1.2944  -0.181    0.856\n",
        "X            -2.6308     1.7466  -1.506    0.132\n",
        "\n",
        "(Dispersion parameter for binomial family taken to be 1)\n",
        "\n",
        "    Null deviance: 19.912  on 31  degrees of freedom\n",
        "Residual deviance: 17.437  on 30  degrees of freedom\n",
        "AIC: 21.437\n",
        "\n",
        "Number of Fisher Scoring iterations: 6\n",
        "\n"
       ]
      }
     ],
     "prompt_number": 36
    },
    {
     "cell_type": "markdown",
     "metadata": {},
     "source": [
      "## mean inspiration distance (z)"
     ]
    },
    {
     "cell_type": "code",
     "collapsed": false,
     "input": [
      "X = np.array(data.insp_dist_z_mean.dropna())\n",
      "Y = np.array(data[data.insp_dist_count > 0].shortlist)\n",
      "X2 = np.square(X)\n",
      "%Rpush X X2 Y\n",
      "%R model = glm(Y ~X + X2, family=binomial(logit))\n",
      "summary = %R summary(model)\n",
      "confidenceintervals = %R confint.default(model)\n",
      "coefficients = %R model$coef\n",
      "\n",
      "%R print(summary(model))\n",
      "print confidenceintervals\n",
      "print coefficients\n",
      "\n",
      "%%R\n",
      "\n",
      "\n",
      "#print \"intercept: %.3f\" %np.exp(coefficients[0])\n",
      "#print \"raw max : %.3f\" %np.exp(coefficients[1])"
     ],
     "language": "python",
     "metadata": {},
     "outputs": [
      {
       "metadata": {},
       "output_type": "display_data",
       "text": [
        "\n",
        "Call:\n",
        "glm(formula = Y ~ X + X2, family = binomial(logit))\n",
        "\n",
        "Deviance Residuals: \n",
        "    Min       1Q   Median       3Q      Max  \n",
        "-0.6762  -0.5931  -0.5703  -0.5429   2.0413  \n",
        "\n",
        "Coefficients:\n",
        "            Estimate Std. Error z value Pr(>|z|)    \n",
        "(Intercept) -1.67473    0.11648 -14.377   <2e-16 ***\n",
        "X           -0.17819    0.16737  -1.065    0.287    \n",
        "X2          -0.02515    0.08249  -0.305    0.760    \n",
        "---\n",
        "Signif. codes:  0 \u2018***\u2019 0.001 \u2018**\u2019 0.01 \u2018*\u2019 0.05 \u2018.\u2019 0.1 \u2018 \u2019 1\n",
        "\n",
        "(Dispersion parameter for binomial family taken to be 1)\n",
        "\n",
        "    Null deviance: 611.24  on 706  degrees of freedom\n",
        "Residual deviance: 609.85  on 704  degrees of freedom\n",
        "AIC: 615.85\n",
        "\n",
        "Number of Fisher Scoring iterations: 4\n",
        "\n"
       ]
      },
      {
       "output_type": "stream",
       "stream": "stdout",
       "text": [
        "[[-1.90303367 -1.44642681]\n",
        " [-0.50621967  0.14984759]\n",
        " [-0.18682478  0.13652009]]\n",
        "[-1.67473024 -0.17818604 -0.02515234]\n"
       ]
      }
     ],
     "prompt_number": 41
    },
    {
     "cell_type": "code",
     "collapsed": false,
     "input": [
      "print \"logistic regressions of shortlist on insp_dist_z_mean by challenge...\\n\"\n",
      "logreg_raw = []\n",
      "for name, group in data.groupby(['challenge']):\n",
      "    X = np.array(group.insp_dist_z_mean.dropna())\n",
      "    Y = group[group.insp_dist_count > 0].shortlist\n",
      "    %Rpush X Y\n",
      "    %R model = glm(Y ~X, family=binomial(logit))\n",
      "    coefficients = %R model$coef\n",
      "    confint = %R confint.default(model)\n",
      "    oddsconfint = %R exp(confint.default(model))\n",
      "    print \"--------------------------------------------\"\n",
      "    print \"%s challenge\" %name.upper()\n",
      "    print \"--------------------------------------------\"\n",
      "    %R print(summary(model))\n",
      "    rowdict = {'challenge':name,\n",
      "               'intercept':coefficients[0],\n",
      "               'intercept 95% LL': confint[0][0],\n",
      "               'intercept 95% UL': confint[0][1],\n",
      "               'coefficient':coefficients[1],\n",
      "               'coefficient 95% LL': confint[1][0],\n",
      "               'coefficient 95% UL': confint[1][1],\n",
      "               'odds_ratio':np.exp(coefficients[1]),\n",
      "               'odds_ratio 95% LL': oddsconfint[1][0],\n",
      "               'odds_ratio 95% UL': oddsconfint[1][1],\n",
      "               'mean_max_insp_dist': group.insp_dist_z_mean.mean(),\n",
      "               'number of concepts': group.insp_dist_z_mean.count(),\n",
      "               'number of shortlisted concepts': group[group.shortlist == 1].insp_dist_z_mean.count()}\n",
      "    logreg_raw.append(rowdict)\n",
      "logreg_raw_df = pd.DataFrame(logreg_raw)\n",
      "logreg_raw_df.to_csv(\"logistic regressions by challenge (mean normalized insp distance.csv\")"
     ],
     "language": "python",
     "metadata": {},
     "outputs": [
      {
       "output_type": "stream",
       "stream": "stdout",
       "text": [
        "logistic regressions of shortlist on insp_dist_z_mean by challenge...\n",
        "\n",
        "--------------------------------------------"
       ]
      },
      {
       "output_type": "stream",
       "stream": "stdout",
       "text": [
        "\n",
        "BONE-MARROW challenge\n",
        "--------------------------------------------\n"
       ]
      },
      {
       "metadata": {},
       "output_type": "display_data",
       "text": [
        "\n",
        "Call:\n",
        "glm(formula = Y ~ X, family = binomial(logit))\n",
        "\n",
        "Deviance Residuals: \n",
        "    Min       1Q   Median       3Q      Max  \n",
        "-0.6131  -0.4638  -0.4321  -0.4067   2.2578  \n",
        "\n",
        "Coefficients:\n",
        "            Estimate Std. Error z value Pr(>|z|)    \n",
        "(Intercept)  -2.2652     0.4157  -5.449 5.06e-08 ***\n",
        "X            -0.2185     0.3227  -0.677    0.498    \n",
        "---\n",
        "Signif. codes:  0 \u2018***\u2019 0.001 \u2018**\u2019 0.01 \u2018*\u2019 0.05 \u2018.\u2019 0.1 \u2018 \u2019 1\n",
        "\n",
        "(Dispersion parameter for binomial family taken to be 1)\n",
        "\n",
        "    Null deviance: 45.721  on 70  degrees of freedom\n",
        "Residual deviance: 45.291  on 69  degrees of freedom\n",
        "AIC: 49.291\n",
        "\n",
        "Number of Fisher Scoring iterations: 5\n",
        "\n"
       ]
      },
      {
       "output_type": "stream",
       "stream": "stdout",
       "text": [
        "--------------------------------------------\n",
        "COMMUNITY-INITIATIVE challenge\n",
        "--------------------------------------------\n"
       ]
      },
      {
       "metadata": {},
       "output_type": "display_data",
       "text": [
        "\n",
        "Call:\n",
        "glm(formula = Y ~ X, family = binomial(logit))\n",
        "\n",
        "Deviance Residuals: \n",
        "    Min       1Q   Median       3Q      Max  \n",
        "-0.8300  -0.7687  -0.7376  -0.1155   1.7704  \n",
        "\n",
        "Coefficients:\n",
        "            Estimate Std. Error z value Pr(>|z|)   \n",
        "(Intercept)  -1.0794     0.3514  -3.072  0.00213 **\n",
        "X            -0.2392     0.6802  -0.352  0.72511   \n",
        "---\n",
        "Signif. codes:  0 \u2018***\u2019 0.001 \u2018**\u2019 0.01 \u2018*\u2019 0.05 \u2018.\u2019 0.1 \u2018 \u2019 1\n",
        "\n",
        "(Dispersion parameter for binomial family taken to be 1)\n",
        "\n",
        "    Null deviance: 49.485  on 43  degrees of freedom\n",
        "Residual deviance: 49.361  on 42  degrees of freedom\n",
        "AIC: 53.361\n",
        "\n",
        "Number of Fisher Scoring iterations: 4\n",
        "\n"
       ]
      },
      {
       "output_type": "stream",
       "stream": "stdout",
       "text": [
        "--------------------------------------------\n",
        "E-WASTE challenge\n",
        "--------------------------------------------\n"
       ]
      },
      {
       "metadata": {},
       "output_type": "display_data",
       "text": [
        "\n",
        "Call:\n",
        "glm(formula = Y ~ X, family = binomial(logit))\n",
        "\n",
        "Deviance Residuals: \n",
        "    Min       1Q   Median       3Q      Max  \n",
        "-1.2202  -0.8708  -0.7326   1.1833   1.8099  \n",
        "\n",
        "Coefficients:\n",
        "            Estimate Std. Error z value Pr(>|z|)  \n",
        "(Intercept)  -0.8861     0.4457  -1.988   0.0468 *\n",
        "X             0.7827     0.7923   0.988   0.3232  \n",
        "---\n",
        "Signif. codes:  0 \u2018***\u2019 0.001 \u2018**\u2019 0.01 \u2018*\u2019 0.05 \u2018.\u2019 0.1 \u2018 \u2019 1\n",
        "\n",
        "(Dispersion parameter for binomial family taken to be 1)\n",
        "\n",
        "    Null deviance: 32.097  on 25  degrees of freedom\n",
        "Residual deviance: 31.088  on 24  degrees of freedom\n",
        "AIC: 35.088\n",
        "\n",
        "Number of Fisher Scoring iterations: 4\n",
        "\n"
       ]
      },
      {
       "output_type": "stream",
       "stream": "stdout",
       "text": [
        "--------------------------------------------\n",
        "FOOD-PRODUCTION-CONSUMPTION challenge\n",
        "--------------------------------------------\n"
       ]
      },
      {
       "metadata": {},
       "output_type": "display_data",
       "text": [
        "\n",
        "Call:\n",
        "glm(formula = Y ~ X, family = binomial(logit))\n",
        "\n",
        "Deviance Residuals: \n",
        "    Min       1Q   Median       3Q      Max  \n",
        "-0.7886  -0.3909  -0.3488  -0.3206   2.5060  \n",
        "\n",
        "Coefficients:\n",
        "            Estimate Std. Error z value Pr(>|z|)    \n",
        "(Intercept)  -2.7002     0.3484  -7.750 9.17e-15 ***\n",
        "X            -0.3968     0.3236  -1.226     0.22    \n",
        "---\n",
        "Signif. codes:  0 \u2018***\u2019 0.001 \u2018**\u2019 0.01 \u2018*\u2019 0.05 \u2018.\u2019 0.1 \u2018 \u2019 1\n",
        "\n",
        "(Dispersion parameter for binomial family taken to be 1)\n",
        "\n",
        "    Null deviance: 73.061  on 146  degrees of freedom\n",
        "Residual deviance: 71.715  on 145  degrees of freedom\n",
        "AIC: 75.715\n",
        "\n",
        "Number of Fisher Scoring iterations: 5\n",
        "\n"
       ]
      },
      {
       "output_type": "stream",
       "stream": "stdout",
       "text": [
        "--------------------------------------------\n",
        "HUMAN-RIGHTS challenge\n",
        "--------------------------------------------\n"
       ]
      },
      {
       "metadata": {},
       "output_type": "display_data",
       "text": [
        "\n",
        "Call:\n",
        "glm(formula = Y ~ X, family = binomial(logit))\n",
        "\n",
        "Deviance Residuals: \n",
        "    Min       1Q   Median       3Q      Max  \n",
        "-0.5024  -0.4945  -0.4900  -0.4848   2.1041  \n",
        "\n",
        "Coefficients:\n",
        "            Estimate Std. Error z value Pr(>|z|)    \n",
        "(Intercept) -2.07636    0.42909  -4.839 1.31e-06 ***\n",
        "X            0.05726    0.55674   0.103    0.918    \n",
        "---\n",
        "Signif. codes:  0 \u2018***\u2019 0.001 \u2018**\u2019 0.01 \u2018*\u2019 0.05 \u2018.\u2019 0.1 \u2018 \u2019 1\n",
        "\n",
        "(Dispersion parameter for binomial family taken to be 1)\n",
        "\n",
        "    Null deviance: 43.715  on 61  degrees of freedom\n",
        "Residual deviance: 43.704  on 60  degrees of freedom\n",
        "AIC: 47.704\n",
        "\n",
        "Number of Fisher Scoring iterations: 4\n",
        "\n"
       ]
      },
      {
       "output_type": "stream",
       "stream": "stdout",
       "text": [
        "--------------------------------------------\n",
        "IDENTIFY-CELEBRATE challenge\n",
        "--------------------------------------------\n"
       ]
      },
      {
       "metadata": {},
       "output_type": "display_data",
       "text": [
        "\n",
        "Call:\n",
        "glm(formula = Y ~ X, family = binomial(logit))\n",
        "\n",
        "Deviance Residuals: \n",
        "     Min        1Q    Median        3Q       Max  \n",
        "-1.43907  -0.98257   0.04767   0.84645   2.00722  \n",
        "\n",
        "Coefficients:\n",
        "            Estimate Std. Error z value Pr(>|z|)  \n",
        "(Intercept)    1.922      1.150   1.671   0.0947 .\n",
        "X             -5.842      3.169  -1.843   0.0653 .\n",
        "---\n",
        "Signif. codes:  0 \u2018***\u2019 0.001 \u2018**\u2019 0.01 \u2018*\u2019 0.05 \u2018.\u2019 0.1 \u2018 \u2019 1\n",
        "\n",
        "(Dispersion parameter for binomial family taken to be 1)\n",
        "\n",
        "    Null deviance: 33.104  on 23  degrees of freedom\n",
        "Residual deviance: 25.635  on 22  degrees of freedom\n",
        "AIC: 29.635\n",
        "\n",
        "Number of Fisher Scoring iterations: 6\n",
        "\n"
       ]
      },
      {
       "output_type": "stream",
       "stream": "stdout",
       "text": [
        "--------------------------------------------\n",
        "SOCIAL-BUSINESS challenge\n",
        "--------------------------------------------\n"
       ]
      },
      {
       "metadata": {},
       "output_type": "display_data",
       "text": [
        "\n",
        "Call:\n",
        "glm(formula = Y ~ X, family = binomial(logit))\n",
        "\n",
        "Deviance Residuals: \n",
        "    Min       1Q   Median       3Q      Max  \n",
        "-0.7961  -0.7566  -0.7308  -0.6117   1.7858  \n",
        "\n",
        "Coefficients:\n",
        "            Estimate Std. Error z value Pr(>|z|)   \n",
        "(Intercept)  -1.1339     0.3504  -3.236  0.00121 **\n",
        "X             0.1478     0.4173   0.354  0.72329   \n",
        "---\n",
        "Signif. codes:  0 \u2018***\u2019 0.001 \u2018**\u2019 0.01 \u2018*\u2019 0.05 \u2018.\u2019 0.1 \u2018 \u2019 1\n",
        "\n",
        "(Dispersion parameter for binomial family taken to be 1)\n",
        "\n",
        "    Null deviance: 50.607  on 45  degrees of freedom\n",
        "Residual deviance: 50.477  on 44  degrees of freedom\n",
        "AIC: 54.477\n",
        "\n",
        "Number of Fisher Scoring iterations: 4\n",
        "\n"
       ]
      },
      {
       "output_type": "stream",
       "stream": "stdout",
       "text": [
        "--------------------------------------------\n",
        "SOCIAL-IMPACT challenge\n",
        "--------------------------------------------\n"
       ]
      },
      {
       "metadata": {},
       "output_type": "display_data",
       "text": [
        "\n",
        "Call:\n",
        "glm(formula = Y ~ X, family = binomial(logit))\n",
        "\n",
        "Deviance Residuals: \n",
        "    Min       1Q   Median       3Q      Max  \n",
        "-1.3055  -0.8926  -0.7100   1.3011   1.8773  \n",
        "\n",
        "Coefficients:\n",
        "            Estimate Std. Error z value Pr(>|z|)\n",
        "(Intercept)  -0.4912     0.4242  -1.158    0.247\n",
        "X            -1.0210     0.7680  -1.329    0.184\n",
        "\n",
        "(Dispersion parameter for binomial family taken to be 1)\n",
        "\n",
        "    Null deviance: 48.869  on 39  degrees of freedom\n",
        "Residual deviance: 46.949  on 38  degrees of freedom\n",
        "AIC: 50.949\n",
        "\n",
        "Number of Fisher Scoring iterations: 4\n",
        "\n"
       ]
      },
      {
       "output_type": "stream",
       "stream": "stdout",
       "text": [
        "--------------------------------------------\n",
        "VIBRANT-CITIES challenge\n",
        "--------------------------------------------\n"
       ]
      },
      {
       "metadata": {},
       "output_type": "display_data",
       "text": [
        "\n",
        "Call:\n",
        "glm(formula = Y ~ X, family = binomial(logit))\n",
        "\n",
        "Deviance Residuals: \n",
        "    Min       1Q   Median       3Q      Max  \n",
        "-0.7601  -0.4779  -0.4483  -0.4068   2.2384  \n",
        "\n",
        "Coefficients:\n",
        "            Estimate Std. Error z value Pr(>|z|)    \n",
        "(Intercept)  -2.1541     0.3064  -7.030 2.06e-12 ***\n",
        "X            -0.4433     0.3256  -1.361    0.173    \n",
        "---\n",
        "Signif. codes:  0 \u2018***\u2019 0.001 \u2018**\u2019 0.01 \u2018*\u2019 0.05 \u2018.\u2019 0.1 \u2018 \u2019 1\n",
        "\n",
        "(Dispersion parameter for binomial family taken to be 1)\n",
        "\n",
        "    Null deviance: 82.094  on 118  degrees of freedom\n",
        "Residual deviance: 80.398  on 117  degrees of freedom\n",
        "AIC: 84.398\n",
        "\n",
        "Number of Fisher Scoring iterations: 5\n",
        "\n"
       ]
      },
      {
       "output_type": "stream",
       "stream": "stdout",
       "text": [
        "--------------------------------------------\n",
        "VOTING challenge\n",
        "--------------------------------------------\n"
       ]
      },
      {
       "metadata": {},
       "output_type": "display_data",
       "text": [
        "\n",
        "Call:\n",
        "glm(formula = Y ~ X, family = binomial(logit))\n",
        "\n",
        "Deviance Residuals: \n",
        "    Min       1Q   Median       3Q      Max  \n",
        "-1.3668  -0.6189  -0.5361  -0.4727   2.0699  \n",
        "\n",
        "Coefficients:\n",
        "            Estimate Std. Error z value Pr(>|z|)    \n",
        "(Intercept)  -1.7964     0.4410  -4.074 4.63e-05 ***\n",
        "X            -0.6296     0.4349  -1.448    0.148    \n",
        "---\n",
        "Signif. codes:  0 \u2018***\u2019 0.001 \u2018**\u2019 0.01 \u2018*\u2019 0.05 \u2018.\u2019 0.1 \u2018 \u2019 1\n",
        "\n",
        "(Dispersion parameter for binomial family taken to be 1)\n",
        "\n",
        "    Null deviance: 42.885  on 46  degrees of freedom\n",
        "Residual deviance: 40.788  on 45  degrees of freedom\n",
        "AIC: 44.788\n",
        "\n",
        "Number of Fisher Scoring iterations: 4\n",
        "\n"
       ]
      },
      {
       "output_type": "stream",
       "stream": "stdout",
       "text": [
        "--------------------------------------------\n",
        "WEB-ENTREPRENEURS challenge\n",
        "--------------------------------------------\n"
       ]
      },
      {
       "metadata": {},
       "output_type": "display_data",
       "text": [
        "\n",
        "Call:\n",
        "glm(formula = Y ~ X, family = binomial(logit))\n",
        "\n",
        "Deviance Residuals: \n",
        "    Min       1Q   Median       3Q      Max  \n",
        "-0.6745  -0.5822  -0.5486  -0.4535   2.3438  \n",
        "\n",
        "Coefficients:\n",
        "            Estimate Std. Error z value Pr(>|z|)    \n",
        "(Intercept)  -1.9199     0.4654  -4.125 3.71e-05 ***\n",
        "X             0.5114     0.6757   0.757    0.449    \n",
        "---\n",
        "Signif. codes:  0 \u2018***\u2019 0.001 \u2018**\u2019 0.01 \u2018*\u2019 0.05 \u2018.\u2019 0.1 \u2018 \u2019 1\n",
        "\n",
        "(Dispersion parameter for binomial family taken to be 1)\n",
        "\n",
        "    Null deviance: 40.191  on 48  degrees of freedom\n",
        "Residual deviance: 39.579  on 47  degrees of freedom\n",
        "AIC: 43.579\n",
        "\n",
        "Number of Fisher Scoring iterations: 4\n",
        "\n"
       ]
      },
      {
       "output_type": "stream",
       "stream": "stdout",
       "text": [
        "--------------------------------------------\n",
        "YOUTH-EMPLOYMENT challenge\n",
        "--------------------------------------------\n"
       ]
      },
      {
       "metadata": {},
       "output_type": "display_data",
       "text": [
        "\n",
        "Call:\n",
        "glm(formula = Y ~ X, family = binomial(logit))\n",
        "\n",
        "Deviance Residuals: \n",
        "    Min       1Q   Median       3Q      Max  \n",
        "-0.4476  -0.4444  -0.4437  -0.4416   2.1785  \n",
        "\n",
        "Coefficients:\n",
        "            Estimate Std. Error z value Pr(>|z|)  \n",
        "(Intercept) -2.27890    0.93900  -2.427   0.0152 *\n",
        "X            0.02295    1.60651   0.014   0.9886  \n",
        "---\n",
        "Signif. codes:  0 \u2018***\u2019 0.001 \u2018**\u2019 0.01 \u2018*\u2019 0.05 \u2018.\u2019 0.1 \u2018 \u2019 1\n",
        "\n",
        "(Dispersion parameter for binomial family taken to be 1)\n",
        "\n",
        "    Null deviance: 19.912  on 31  degrees of freedom\n",
        "Residual deviance: 19.912  on 30  degrees of freedom\n",
        "AIC: 23.912\n",
        "\n",
        "Number of Fisher Scoring iterations: 5\n",
        "\n"
       ]
      }
     ],
     "prompt_number": 40
    },
    {
     "cell_type": "code",
     "collapsed": false,
     "input": [
      "# scatterplot\n",
      "plt.scatter(data.insp_dist_z_mean.dropna(), data[data.insp_dist_count > 0].shortlist_jit, color='blue', alpha=.2)\n",
      "# add regression line\n",
      "m, b = np.polyfit(data.insp_dist_z_mean.dropna(), data[data.insp_dist_count > 0].shortlist, 1)\n",
      "print \"intercept = %.3f, slope = %.3f\" %(b, m) \n",
      "yhat = np.polyval([m, b], data.insp_dist_z_mean.dropna())\n",
      "plt.plot(data.insp_dist_z_mean.dropna(), yhat, color='blue')\n",
      "remove_border() \n",
      "plt.ylim(-.5, 1.5)\n",
      "plt.xlabel('Mean inspiration distance (z)')\n",
      "plt.ylabel('Shortlist')"
     ],
     "language": "python",
     "metadata": {},
     "outputs": [
      {
       "output_type": "stream",
       "stream": "stdout",
       "text": [
        "intercept = 0.156, slope = -0.020\n"
       ]
      },
      {
       "metadata": {},
       "output_type": "pyout",
       "prompt_number": 19,
       "text": [
        "<matplotlib.text.Text at 0x10761b350>"
       ]
      },
      {
       "metadata": {},
       "output_type": "display_data",
       "png": "[encoded data removed]",
       "text": [
        "<matplotlib.figure.Figure at 0x107a5d4d0>"
       ]
      }
     ],
     "prompt_number": 19
    },
    {
     "cell_type": "code",
     "collapsed": false,
     "input": [
      "fig, axes = plt.subplots(nrows=3, ncols=4, figsize=(12,8), tight_layout=True)\n",
      "\n",
      "for ax, challenge in zip(axes.ravel(), challenges):\n",
      "    ax.scatter(data[data.challenge == challenge].insp_dist_z_mean.dropna(), data[(data.challenge == challenge) & (data.insp_dist_count > 0)].shortlist_jit, color='blue',alpha=.2)\n",
      "    \n",
      "    # add regression lines\n",
      "    x = data[data.challenge == challenge].insp_dist_z_mean.dropna()\n",
      "    y = data[(data.challenge == challenge) & (data.insp_dist_count > 0)].shortlist\n",
      "    m1, b1 = np.polyfit(x, y, 1)\n",
      "    shortlistp1 = np.polyval([m1, b1], x)\n",
      "    ax.plot(x, shortlistp1, color='blue')\n",
      "    \n",
      "    ax.annotate(challenge, xy=(-.1, 1.6), ha='center', fontsize=10)\n",
      "    ax.set_xticks(np.arange(-5, 2, 1))\n",
      "    ax.set_yticks([])\n",
      "    remove_border(ax)\n",
      "    ax.set_ylim(-.5, 2)\n",
      "    ax.set_xlabel('mean inspiration distance (z)')"
     ],
     "language": "python",
     "metadata": {},
     "outputs": [
      {
       "metadata": {},
       "output_type": "display_data",
       "png": "[encoded data removed]",
       "text": [
        "<matplotlib.figure.Figure at 0x107af3f90>"
       ]
      }
     ],
     "prompt_number": 22
    },
    {
     "cell_type": "code",
     "collapsed": false,
     "input": [],
     "language": "python",
     "metadata": {},
     "outputs": []
    }
   ],
   "metadata": {}
  }
 ]
}