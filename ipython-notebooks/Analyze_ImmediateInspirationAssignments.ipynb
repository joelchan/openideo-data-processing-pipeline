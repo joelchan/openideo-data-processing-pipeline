{
 "metadata": {
  "name": ""
 },
 "nbformat": 3,
 "nbformat_minor": 0,
 "worksheets": [
  {
   "cells": [
    {
     "cell_type": "markdown",
     "metadata": {},
     "source": [
      "In this notebook I will analyze the relationship between the \"kind\" of inspirations a concept builds on and the concept's probability of being shortlisted."
     ]
    },
    {
     "cell_type": "code",
     "collapsed": false,
     "input": [
      "%matplotlib inline\n",
      "import numpy as np\n",
      "import matplotlib.pyplot as plt\n",
      "import pandas as pd\n",
      "import os, csv, collections\n",
      "\n",
      "#tell pandas to display wide tables as pretty HTML tables\n",
      "pd.set_option('display.width',500)\n",
      "pd.set_option('display.max_columns',100)\n",
      "\n",
      "#making plots more pretty\n",
      "def remove_border(axes=None, top=False, right=False, left=True, bottom=True):\n",
      "    \"\"\"\n",
      "    Minimize chart junk by stripping out unncessary plot borders and axis ticks\n",
      "    \n",
      "    THe top/right/left/bottom keywords toggle whether the corresponding plot border is drawn\n",
      "    \"\"\"\n",
      "    \n",
      "    ax = axes or plt.gca()\n",
      "    ax.spines['top'].set_visible(top)\n",
      "    ax.spines['right'].set_visible(right)\n",
      "    ax.spines['left'].set_visible(left)\n",
      "    ax.spines['bottom'].set_visible(bottom)\n",
      "    \n",
      "    #turn of all ticks\n",
      "    ax.yaxis.set_ticks_position('none')\n",
      "    ax.xaxis.set_ticks_position('none')\n",
      "    \n",
      "    #now re-enable visibles\n",
      "    if top:\n",
      "        ax.xaxis.tick_top()\n",
      "    if bottom:\n",
      "        ax.xaxis.tick_bottom()\n",
      "    if left:\n",
      "        ax.yaxis.tick_left()\n",
      "    if right:\n",
      "        ax.yaxis.tick_right()"
     ],
     "language": "python",
     "metadata": {},
     "outputs": [],
     "prompt_number": 1
    },
    {
     "cell_type": "markdown",
     "metadata": {},
     "source": [
      "First we need to do a card sort. So let's get the inspiration assignment descriptions."
     ]
    },
    {
     "cell_type": "code",
     "collapsed": false,
     "input": [
      "\"\"\"\n",
      "Read in inspiration assignment descriptions and spit out each assignment as its own text file\n",
      "\"\"\"\n",
      "with open(\"/Users/joelc/Desktop/insp_assign_descr.csv\",'rU') as csvfile:\n",
      "    csvreader = csv.reader(csvfile)\n",
      "    for row in csvreader:\n",
      "        if row[0] != \"challenge\": # skip the header row\n",
      "            filename = \"%s-%s.txt\" %(row[0], row[1].replace(' ',''))\n",
      "            outfile = open(filename,'w')\n",
      "            towrite = \"%s (%s)\\n%s\" %(row[1].upper(), row[0], row[2])\n",
      "            outfile.write(towrite)\n",
      "            outfile.close()"
     ],
     "language": "python",
     "metadata": {},
     "outputs": [],
     "prompt_number": 6
    },
    {
     "cell_type": "markdown",
     "metadata": {},
     "source": [
      "Now we need to assign types for each inspiration assignment."
     ]
    },
    {
     "cell_type": "code",
     "collapsed": false,
     "input": [
      "path = \"/Users/jchan/Desktop/Dropbox/Research/dissertation/OpenIDEO/Pipeline/Challenge_and_High-level_Data/InspirationAssignmentTypeMappings.csv\"\n",
      "assignment_type_mappings = {}\n",
      "with open(path,'rU') as csvfile:\n",
      "    csvreader = csv.reader(csvfile)\n",
      "    for row in csvreader:\n",
      "        assignment_type_mappings[row[0]] = row[1]\n",
      "assignment_type_mappings"
     ],
     "language": "python",
     "metadata": {},
     "outputs": [
      {
       "metadata": {},
       "output_type": "pyout",
       "prompt_number": 2,
       "text": [
        "{'bone-marrow-Innovations in Donation': 'Analogies',\n",
        " 'bone-marrow-Inspire Us': 'Random',\n",
        " 'bone-marrow-Personal Experiences': 'Empathy',\n",
        " 'bone-marrow-Ripple Effects': 'Analogies',\n",
        " 'community-initiative-Get Active': 'Prototyping',\n",
        " 'community-initiative-Host an Interview': 'Empathy',\n",
        " 'community-initiative-Learn from Analogies': 'Analogies',\n",
        " 'community-initiative-Share Success Stories': 'Analogies',\n",
        " 'community-initiative-Surprise Us': 'Random',\n",
        " 'e-waste-Get Active': 'Prototyping',\n",
        " 'e-waste-Host an Interview': 'Empathy',\n",
        " 'e-waste-Learn from Analogies': 'Analogies',\n",
        " 'e-waste-Surprise Us': 'Random',\n",
        " 'e-waste-Understand E-Waste': 'ProblemUnderstanding',\n",
        " 'food-production-consumption-Connecting Communities': 'Analogies',\n",
        " 'food-production-consumption-Growing Your Own': 'Empathy',\n",
        " 'food-production-consumption-Innovations in Food': 'Analogies',\n",
        " 'food-production-consumption-Inspire Us': 'Random',\n",
        " 'human-rights-Exploring Powerlessness': 'Empathy',\n",
        " 'human-rights-Inspire Us': 'Random',\n",
        " 'human-rights-Spread the Word': 'Prototyping',\n",
        " 'human-rights-Tools of Support': 'Analogies',\n",
        " 'identify-celebrate-Celebrating Sustainable Value Businesses': 'ProblemUnderstanding',\n",
        " 'identify-celebrate-Exploring World Benefit': 'ProblemUnderstanding',\n",
        " 'identify-celebrate-Recognising the Best': 'Analogies',\n",
        " 'identify-celebrate-Surprise Us': 'Random',\n",
        " 'identify-celebrate-Understanding Social Movements': 'Analogies',\n",
        " 'social-business-Exploring Social Business': 'ProblemUnderstanding',\n",
        " 'social-business-Health Landscape': 'Analogies',\n",
        " 'social-business-Life in South America': 'Empathy',\n",
        " 'social-business-Surprise Us': 'Random',\n",
        " 'social-impact-Connections for Impact': 'Analogies',\n",
        " 'social-impact-Exploring Impact': 'ProblemUnderstanding',\n",
        " 'social-impact-Surprise Us': 'Random',\n",
        " 'social-impact-Try It Out': 'Prototyping',\n",
        " 'social-impact-Your Favorite Highlights': 'ProblemUnderstanding',\n",
        " 'vibrant-cities-Collect Insights': 'Empathy',\n",
        " 'vibrant-cities-Explore Vibrancy': 'ProblemUnderstanding',\n",
        " 'vibrant-cities-Get Active': 'Prototyping',\n",
        " 'vibrant-cities-Share Stories': 'Analogies',\n",
        " 'vibrant-cities-Surprise Us': 'Random',\n",
        " 'voting-Explore Through Empathy': 'Empathy',\n",
        " 'voting-Learn from Analogies': 'Analogies',\n",
        " 'voting-Share Your Election Story': 'Empathy',\n",
        " 'voting-Surprise Us': 'Random',\n",
        " 'voting-Understand the Democratic Process': 'ProblemUnderstanding',\n",
        " 'web-entrepreneurs-Day In the Life of a Start-up': 'Empathy',\n",
        " 'web-entrepreneurs-Learn from Analogies': 'Analogies',\n",
        " 'web-entrepreneurs-Positive Impact and Celebration of Entrepreneu...': 'ProblemUnderstanding',\n",
        " 'web-entrepreneurs-Stories of Support': 'Analogies',\n",
        " 'web-entrepreneurs-Surprise Us': 'Random',\n",
        " 'youth-employment-Collaborative Partnerships': 'Analogies',\n",
        " 'youth-employment-Hurdles & Success Stories': 'Empathy',\n",
        " 'youth-employment-Skills & Training': 'Analogies',\n",
        " 'youth-employment-Surprise Us': 'Random',\n",
        " \"youth-employment-The Employer's Perspective\": 'Empathy'}"
       ]
      }
     ],
     "prompt_number": 2
    },
    {
     "cell_type": "code",
     "collapsed": false,
     "input": [
      "path = \"/Users/jchan/Desktop/Dropbox/Research/dissertation/OpenIDEO/Pipeline/Challenge_and_High-level_Data/iPython intermediate inputs and outputs/document-level distance data.csv\"\n",
      "doclevel_df = pd.read_csv(path, sep=',')\n",
      "doclevel_df.head()"
     ],
     "language": "python",
     "metadata": {},
     "outputs": [
      {
       "html": [
        "<div style=\"max-height:1000px;max-width:1500px;overflow:auto;\">\n",
        "<table border=\"1\" class=\"dataframe\">\n",
        "  <thead>\n",
        "    <tr style=\"text-align: right;\">\n",
        "      <th></th>\n",
        "      <th>Unnamed: 0</th>\n",
        "      <th>docname</th>\n",
        "      <th>challenge</th>\n",
        "      <th>reversecosine</th>\n",
        "      <th>reversecosine_z</th>\n",
        "      <th>doctype</th>\n",
        "      <th>insp_A</th>\n",
        "      <th>insp_type</th>\n",
        "    </tr>\n",
        "  </thead>\n",
        "  <tbody>\n",
        "    <tr>\n",
        "      <th>0</th>\n",
        "      <td> 0</td>\n",
        "      <td> bone-marrow_A_challengebrief</td>\n",
        "      <td> bone-marrow</td>\n",
        "      <td>      NaN</td>\n",
        "      <td>      NaN</td>\n",
        "      <td> A</td>\n",
        "      <td> NaN</td>\n",
        "      <td> NaN</td>\n",
        "    </tr>\n",
        "    <tr>\n",
        "      <th>1</th>\n",
        "      <td> 1</td>\n",
        "      <td>            bone-marrow_C-001</td>\n",
        "      <td> bone-marrow</td>\n",
        "      <td>-0.046084</td>\n",
        "      <td>-0.171221</td>\n",
        "      <td> C</td>\n",
        "      <td> NaN</td>\n",
        "      <td> NaN</td>\n",
        "    </tr>\n",
        "    <tr>\n",
        "      <th>2</th>\n",
        "      <td> 2</td>\n",
        "      <td>            bone-marrow_C-002</td>\n",
        "      <td> bone-marrow</td>\n",
        "      <td>-0.030099</td>\n",
        "      <td> 0.374096</td>\n",
        "      <td> C</td>\n",
        "      <td> NaN</td>\n",
        "      <td> NaN</td>\n",
        "    </tr>\n",
        "    <tr>\n",
        "      <th>3</th>\n",
        "      <td> 3</td>\n",
        "      <td>            bone-marrow_C-003</td>\n",
        "      <td> bone-marrow</td>\n",
        "      <td>-0.028968</td>\n",
        "      <td> 0.412708</td>\n",
        "      <td> C</td>\n",
        "      <td> NaN</td>\n",
        "      <td> NaN</td>\n",
        "    </tr>\n",
        "    <tr>\n",
        "      <th>4</th>\n",
        "      <td> 4</td>\n",
        "      <td>            bone-marrow_C-004</td>\n",
        "      <td> bone-marrow</td>\n",
        "      <td>-0.028662</td>\n",
        "      <td> 0.423140</td>\n",
        "      <td> C</td>\n",
        "      <td> NaN</td>\n",
        "      <td> NaN</td>\n",
        "    </tr>\n",
        "  </tbody>\n",
        "</table>\n",
        "</div>"
       ],
       "metadata": {},
       "output_type": "pyout",
       "prompt_number": 4,
       "text": [
        "   Unnamed: 0                       docname    challenge  reversecosine  reversecosine_z doctype insp_A insp_type\n",
        "0           0  bone-marrow_A_challengebrief  bone-marrow            NaN              NaN       A    NaN       NaN\n",
        "1           1             bone-marrow_C-001  bone-marrow      -0.046084        -0.171221       C    NaN       NaN\n",
        "2           2             bone-marrow_C-002  bone-marrow      -0.030099         0.374096       C    NaN       NaN\n",
        "3           3             bone-marrow_C-003  bone-marrow      -0.028968         0.412708       C    NaN       NaN\n",
        "4           4             bone-marrow_C-004  bone-marrow      -0.028662         0.423140       C    NaN       NaN"
       ]
      }
     ],
     "prompt_number": 4
    },
    {
     "cell_type": "markdown",
     "metadata": {},
     "source": [
      "Now let's convert insp_A (inspiration assignments) into inspiration types."
     ]
    },
    {
     "cell_type": "code",
     "collapsed": false,
     "input": [
      "doclevel_df['insp_type'] = \"\"\n",
      "for row_index, row in doclevel_df.iterrows():\n",
      "    if pd.notnull(row['insp_A']):\n",
      "        probe = \"%s-%s\" %(row['challenge'], row['insp_A'])\n",
      "        doclevel_df.ix[row_index,'insp_type'] = assignment_type_mappings[probe]\n",
      "    else:\n",
      "        doclevel_df.ix[row_index,'insp_type'] = 'NaN'\n",
      "print doclevel_df.head()\n",
      "assignments = set()\n",
      "assignments.update(doclevel_df['insp_type'])\n",
      "assignments = sorted(assignments)\n",
      "print assignments\n",
      "doclevel_df.to_csv(\"document-level distance data.csv\")"
     ],
     "language": "python",
     "metadata": {},
     "outputs": [
      {
       "output_type": "stream",
       "stream": "stdout",
       "text": [
        "   Unnamed: 0                       docname    challenge  reversecosine  reversecosine_z doctype insp_A insp_type\n",
        "0           0  bone-marrow_A_challengebrief  bone-marrow            NaN              NaN       A    NaN       NaN\n",
        "1           1             bone-marrow_C-001  bone-marrow      -0.046084        -0.171221       C    NaN       NaN\n",
        "2           2             bone-marrow_C-002  bone-marrow      -0.030099         0.374096       C    NaN       NaN\n",
        "3           3             bone-marrow_C-003  bone-marrow      -0.028968         0.412708       C    NaN       NaN\n",
        "4           4             bone-marrow_C-004  bone-marrow      -0.028662         0.423140       C    NaN       NaN\n",
        "['Analogies', 'Empathy', 'NaN', 'ProblemUnderstanding', 'Prototyping', 'Random']\n"
       ]
      }
     ],
     "prompt_number": 6
    },
    {
     "cell_type": "code",
     "collapsed": false,
     "input": [
      "import math\n",
      "for name, group in doclevel_df.groupby(['insp_type']):\n",
      "    print \"%s,%.3f,%.3f\" %(name, group['reversecosine'].mean(), group['reversecosine'].std()/math.sqrt(group['reversecosine'].count()))\n",
      "for name, group in doclevel_df.groupby(['insp_type']):\n",
      "    print \"%s,%.3f,%.3f\" %(name, group['reversecosine_z'].mean(), group['reversecosine_z'].std()/math.sqrt(group['reversecosine_z'].count()))"
     ],
     "language": "python",
     "metadata": {},
     "outputs": [
      {
       "output_type": "stream",
       "stream": "stdout",
       "text": [
        "Analogies,-0.014,0.000\n",
        "Empathy,-0.018,0.001\n",
        "NaN,-0.020,0.000\n",
        "ProblemUnderstanding,-0.013,0.000\n",
        "Prototyping,-0.011,0.001\n",
        "Random,-0.015,0.001\n",
        "Analogies,0.163,0.021\n",
        "Empathy,0.197,0.045\n",
        "NaN,-0.282,0.020\n",
        "ProblemUnderstanding,0.125,0.031\n",
        "Prototyping,0.094,0.086\n",
        "Random,0.124,0.034\n"
       ]
      }
     ],
     "prompt_number": 8
    },
    {
     "cell_type": "markdown",
     "metadata": {},
     "source": [
      "Now read in the path file. I manually did vlookups in Excel to get the inspiration type data into the path file."
     ]
    },
    {
     "cell_type": "code",
     "collapsed": false,
     "input": [
      "path = \"/Users/jchan/Desktop/Dropbox/Research/Dissertation/OpenIDEO/Pipeline/Challenge_and_High-level_Data/iPython intermediate inputs and outputs/path level dist data.csv\"\n",
      "pathlevel_df = pd.read_csv(path, sep=',')\n",
      "del pathlevel_df['Unnamed: 0'] # delete the junk column\n",
      "pathlevel_df.head()"
     ],
     "language": "python",
     "metadata": {},
     "outputs": [
      {
       "html": [
        "<div style=\"max-height:1000px;max-width:1500px;overflow:auto;\">\n",
        "<table border=\"1\" class=\"dataframe\">\n",
        "  <thead>\n",
        "    <tr style=\"text-align: right;\">\n",
        "      <th></th>\n",
        "      <th>seed_ID</th>\n",
        "      <th>source_ID</th>\n",
        "      <th>target_ID</th>\n",
        "      <th>level</th>\n",
        "      <th>challenge</th>\n",
        "      <th>sourcetype</th>\n",
        "      <th>source_dist_raw</th>\n",
        "      <th>source_dist_z</th>\n",
        "      <th>source_insp_type</th>\n",
        "    </tr>\n",
        "  </thead>\n",
        "  <tbody>\n",
        "    <tr>\n",
        "      <th>0</th>\n",
        "      <td> bone-marrow_C-001</td>\n",
        "      <td> bone-marrow_C-208</td>\n",
        "      <td> bone-marrow_C-001</td>\n",
        "      <td> 1</td>\n",
        "      <td> bone-marrow</td>\n",
        "      <td> C</td>\n",
        "      <td>-0.057299</td>\n",
        "      <td>-0.553797</td>\n",
        "      <td>       NaN</td>\n",
        "    </tr>\n",
        "    <tr>\n",
        "      <th>1</th>\n",
        "      <td> bone-marrow_C-001</td>\n",
        "      <td> bone-marrow_I-170</td>\n",
        "      <td> bone-marrow_C-208</td>\n",
        "      <td> 2</td>\n",
        "      <td> bone-marrow</td>\n",
        "      <td> I</td>\n",
        "      <td>-0.086550</td>\n",
        "      <td>-1.551674</td>\n",
        "      <td> Analogies</td>\n",
        "    </tr>\n",
        "    <tr>\n",
        "      <th>2</th>\n",
        "      <td> bone-marrow_C-001</td>\n",
        "      <td> bone-marrow_I-237</td>\n",
        "      <td> bone-marrow_C-208</td>\n",
        "      <td> 2</td>\n",
        "      <td> bone-marrow</td>\n",
        "      <td> I</td>\n",
        "      <td>-0.079461</td>\n",
        "      <td>-1.309835</td>\n",
        "      <td> Analogies</td>\n",
        "    </tr>\n",
        "    <tr>\n",
        "      <th>3</th>\n",
        "      <td> bone-marrow_C-003</td>\n",
        "      <td> bone-marrow_C-087</td>\n",
        "      <td> bone-marrow_C-003</td>\n",
        "      <td> 1</td>\n",
        "      <td> bone-marrow</td>\n",
        "      <td> C</td>\n",
        "      <td>-0.052944</td>\n",
        "      <td>-0.405234</td>\n",
        "      <td>       NaN</td>\n",
        "    </tr>\n",
        "    <tr>\n",
        "      <th>4</th>\n",
        "      <td> bone-marrow_C-003</td>\n",
        "      <td> bone-marrow_C-145</td>\n",
        "      <td> bone-marrow_C-003</td>\n",
        "      <td> 1</td>\n",
        "      <td> bone-marrow</td>\n",
        "      <td> C</td>\n",
        "      <td>-0.036988</td>\n",
        "      <td> 0.139108</td>\n",
        "      <td>       NaN</td>\n",
        "    </tr>\n",
        "  </tbody>\n",
        "</table>\n",
        "</div>"
       ],
       "metadata": {},
       "output_type": "pyout",
       "prompt_number": 10,
       "text": [
        "             seed_ID          source_ID          target_ID  level    challenge sourcetype  source_dist_raw  source_dist_z source_insp_type\n",
        "0  bone-marrow_C-001  bone-marrow_C-208  bone-marrow_C-001      1  bone-marrow          C        -0.057299      -0.553797              NaN\n",
        "1  bone-marrow_C-001  bone-marrow_I-170  bone-marrow_C-208      2  bone-marrow          I        -0.086550      -1.551674        Analogies\n",
        "2  bone-marrow_C-001  bone-marrow_I-237  bone-marrow_C-208      2  bone-marrow          I        -0.079461      -1.309835        Analogies\n",
        "3  bone-marrow_C-003  bone-marrow_C-087  bone-marrow_C-003      1  bone-marrow          C        -0.052944      -0.405234              NaN\n",
        "4  bone-marrow_C-003  bone-marrow_C-145  bone-marrow_C-003      1  bone-marrow          C        -0.036988       0.139108              NaN"
       ]
      }
     ],
     "prompt_number": 10
    },
    {
     "cell_type": "markdown",
     "metadata": {},
     "source": [
      "I'm curious to see how things look if we only look at inspirations."
     ]
    },
    {
     "cell_type": "code",
     "collapsed": false,
     "input": [
      "conceptdata = []\n",
      "for name, group in pathlevel_df.groupby(['seed_ID']):\n",
      "    # inspiration sources\n",
      "    if len(group[(group['source_insp_type'] == 'Analogies') & (group.level == 1)].source_dist_raw) > 0:\n",
      "        rowdict = {'0_conceptname':name}\n",
      "        rowdict['insp_dist_raw_mean'] = group[(group['source_insp_type'] == 'Analogies') & (group.level == 1)].source_dist_raw.mean()\n",
      "        rowdict['insp_dist_raw_max'] = np.nanmax(group[(group['source_insp_type'] == 'Analogies') & (group.level == 1)].source_dist_raw)\n",
      "        rowdict['insp_dist_z_mean'] = group[(group['source_insp_type'] == 'Analogies') & (group.level == 1)].source_dist_z.mean()\n",
      "        rowdict['insp_dist_z_max'] = np.nanmax(group[(group['source_insp_type'] == 'Analogies') & (group.level == 1)].source_dist_z)\n",
      "        rowdict['insp_dist_count'] = group[(group['source_insp_type'] == 'Analogies') & (group.level == 1)].source_dist_z.count()\n",
      "    #else:\n",
      "    #    rowdict['insp_dist_raw_mean'] = \"NaN\"\n",
      "    #    rowdict['insp_dist_raw_max'] = \"NaN\"\n",
      "    #    rowdict['insp_dist_z_mean'] = \"NaN\"\n",
      "    #    rowdict['insp_dist_z_max'] = \"NaN\"\n",
      "    #    rowdict['insp_dist_count'] = 0\n",
      "        conceptdata.append(rowdict)\n",
      "conceptdata_df = pd.DataFrame(conceptdata)\n",
      "conceptdata_df.head()"
     ],
     "language": "python",
     "metadata": {},
     "outputs": [
      {
       "html": [
        "<div style=\"max-height:1000px;max-width:1500px;overflow:auto;\">\n",
        "<table border=\"1\" class=\"dataframe\">\n",
        "  <thead>\n",
        "    <tr style=\"text-align: right;\">\n",
        "      <th></th>\n",
        "      <th>0_conceptname</th>\n",
        "      <th>insp_dist_count</th>\n",
        "      <th>insp_dist_raw_max</th>\n",
        "      <th>insp_dist_raw_mean</th>\n",
        "      <th>insp_dist_z_max</th>\n",
        "      <th>insp_dist_z_mean</th>\n",
        "    </tr>\n",
        "  </thead>\n",
        "  <tbody>\n",
        "    <tr>\n",
        "      <th>0</th>\n",
        "      <td> bone-marrow_C-003</td>\n",
        "      <td>  2</td>\n",
        "      <td>-0.043366</td>\n",
        "      <td>-0.046384</td>\n",
        "      <td>-0.078495</td>\n",
        "      <td>-0.181450</td>\n",
        "    </tr>\n",
        "    <tr>\n",
        "      <th>1</th>\n",
        "      <td> bone-marrow_C-008</td>\n",
        "      <td>  3</td>\n",
        "      <td>-0.008794</td>\n",
        "      <td>-0.043814</td>\n",
        "      <td> 1.100923</td>\n",
        "      <td>-0.093753</td>\n",
        "    </tr>\n",
        "    <tr>\n",
        "      <th>2</th>\n",
        "      <td> bone-marrow_C-010</td>\n",
        "      <td> 16</td>\n",
        "      <td>-0.001657</td>\n",
        "      <td>-0.034029</td>\n",
        "      <td> 1.344393</td>\n",
        "      <td> 0.240028</td>\n",
        "    </tr>\n",
        "    <tr>\n",
        "      <th>3</th>\n",
        "      <td> bone-marrow_C-015</td>\n",
        "      <td>  1</td>\n",
        "      <td>-0.032565</td>\n",
        "      <td>-0.032565</td>\n",
        "      <td> 0.290002</td>\n",
        "      <td> 0.290002</td>\n",
        "    </tr>\n",
        "    <tr>\n",
        "      <th>4</th>\n",
        "      <td> bone-marrow_C-016</td>\n",
        "      <td>  1</td>\n",
        "      <td>-0.003151</td>\n",
        "      <td>-0.003151</td>\n",
        "      <td> 1.293422</td>\n",
        "      <td> 1.293422</td>\n",
        "    </tr>\n",
        "  </tbody>\n",
        "</table>\n",
        "</div>"
       ],
       "metadata": {},
       "output_type": "pyout",
       "prompt_number": 14,
       "text": [
        "       0_conceptname  insp_dist_count  insp_dist_raw_max  insp_dist_raw_mean  insp_dist_z_max  insp_dist_z_mean\n",
        "0  bone-marrow_C-003                2          -0.043366           -0.046384        -0.078495         -0.181450\n",
        "1  bone-marrow_C-008                3          -0.008794           -0.043814         1.100923         -0.093753\n",
        "2  bone-marrow_C-010               16          -0.001657           -0.034029         1.344393          0.240028\n",
        "3  bone-marrow_C-015                1          -0.032565           -0.032565         0.290002          0.290002\n",
        "4  bone-marrow_C-016                1          -0.003151           -0.003151         1.293422          1.293422"
       ]
      }
     ],
     "prompt_number": 14
    },
    {
     "cell_type": "code",
     "collapsed": false,
     "input": [
      "conceptdata_df"
     ],
     "language": "python",
     "metadata": {},
     "outputs": [
      {
       "html": [
        "<pre>\n",
        "&lt;class 'pandas.core.frame.DataFrame'&gt;\n",
        "Int64Index: 535 entries, 0 to 534\n",
        "Data columns (total 6 columns):\n",
        "0_conceptname         535  non-null values\n",
        "insp_dist_count       535  non-null values\n",
        "insp_dist_raw_max     535  non-null values\n",
        "insp_dist_raw_mean    535  non-null values\n",
        "insp_dist_z_max       535  non-null values\n",
        "insp_dist_z_mean      535  non-null values\n",
        "dtypes: float64(4), int64(1), object(1)\n",
        "</pre>"
       ],
       "metadata": {},
       "output_type": "pyout",
       "prompt_number": 15,
       "text": [
        "<class 'pandas.core.frame.DataFrame'>\n",
        "Int64Index: 535 entries, 0 to 534\n",
        "Data columns (total 6 columns):\n",
        "0_conceptname         535  non-null values\n",
        "insp_dist_count       535  non-null values\n",
        "insp_dist_raw_max     535  non-null values\n",
        "insp_dist_raw_mean    535  non-null values\n",
        "insp_dist_z_max       535  non-null values\n",
        "insp_dist_z_mean      535  non-null values\n",
        "dtypes: float64(4), int64(1), object(1)"
       ]
      }
     ],
     "prompt_number": 15
    },
    {
     "cell_type": "markdown",
     "metadata": {},
     "source": [
      "Sweet! That only reduced our dataset to 535 concepts. Let's spit it out for inspection in Excel."
     ]
    },
    {
     "cell_type": "code",
     "collapsed": false,
     "input": [
      "outpath = \"/Users/jchan/Desktop/Dropbox/Research/Dissertation/OpenIDEO/Pipeline/Challenge_and_High-level_Data/iPython intermediate inputs and outputs/\"\n",
      "outname = \"concept level dataframe (immediate analogies only).csv\"\n",
      "outpathname = outpath + outname\n",
      "conceptdata_df.to_csv(outpathname)"
     ],
     "language": "python",
     "metadata": {},
     "outputs": [],
     "prompt_number": 16
    },
    {
     "cell_type": "markdown",
     "metadata": {},
     "source": [
      "Now let's read it back in"
     ]
    },
    {
     "cell_type": "code",
     "collapsed": false,
     "input": [
      "conceptdata_df = pd.read_csv(\"/Users/jchan/Desktop/Dropbox/Research/Dissertation/OpenIDEO/Pipeline/Challenge_and_High-level_Data/iPython intermediate inputs and outputs/concept level dataframe (immediate analogies only).csv\",sep=',')\n",
      "del conceptdata_df['Unnamed: 0'] # delete the junk column\n",
      "conceptdata_df"
     ],
     "language": "python",
     "metadata": {},
     "outputs": [
      {
       "html": [
        "<pre>\n",
        "&lt;class 'pandas.core.frame.DataFrame'&gt;\n",
        "Int64Index: 535 entries, 0 to 534\n",
        "Data columns (total 7 columns):\n",
        "0_conceptname         535  non-null values\n",
        "insp_dist_count       535  non-null values\n",
        "insp_dist_raw_max     535  non-null values\n",
        "insp_dist_raw_mean    535  non-null values\n",
        "insp_dist_z_max       535  non-null values\n",
        "insp_dist_z_mean      535  non-null values\n",
        "shortlist             535  non-null values\n",
        "dtypes: float64(4), int64(2), object(1)\n",
        "</pre>"
       ],
       "metadata": {},
       "output_type": "pyout",
       "prompt_number": 19,
       "text": [
        "<class 'pandas.core.frame.DataFrame'>\n",
        "Int64Index: 535 entries, 0 to 534\n",
        "Data columns (total 7 columns):\n",
        "0_conceptname         535  non-null values\n",
        "insp_dist_count       535  non-null values\n",
        "insp_dist_raw_max     535  non-null values\n",
        "insp_dist_raw_mean    535  non-null values\n",
        "insp_dist_z_max       535  non-null values\n",
        "insp_dist_z_mean      535  non-null values\n",
        "shortlist             535  non-null values\n",
        "dtypes: float64(4), int64(2), object(1)"
       ]
      }
     ],
     "prompt_number": 19
    },
    {
     "cell_type": "code",
     "collapsed": false,
     "input": [
      "# add a jittered variable\n",
      "jitter = .05\n",
      "conceptdata_df['shortlist_jit'] = [s + np.random.uniform(-jitter, jitter) for s in conceptdata_df.shortlist]\n",
      "conceptdata_df.shortlist_jit"
     ],
     "language": "python",
     "metadata": {},
     "outputs": [
      {
       "metadata": {},
       "output_type": "pyout",
       "prompt_number": 21,
       "text": [
        "0     1.011269\n",
        "1    -0.035535\n",
        "2    -0.030862\n",
        "3     0.015422\n",
        "4     0.016193\n",
        "5    -0.007229\n",
        "6     0.011396\n",
        "7    -0.037604\n",
        "8    -0.037348\n",
        "9     0.010535\n",
        "10    1.028497\n",
        "11    0.000271\n",
        "12    0.041084\n",
        "13    0.035235\n",
        "14    0.009842\n",
        "...\n",
        "520   -0.026517\n",
        "521    0.034661\n",
        "522    0.031276\n",
        "523    0.031211\n",
        "524   -0.017085\n",
        "525    0.011928\n",
        "526    0.984153\n",
        "527   -0.011456\n",
        "528    0.026056\n",
        "529    1.036515\n",
        "530    0.022523\n",
        "531   -0.044308\n",
        "532    0.038540\n",
        "533   -0.030355\n",
        "534    1.038014\n",
        "Name: shortlist_jit, Length: 535, dtype: float64"
       ]
      }
     ],
     "prompt_number": 21
    },
    {
     "cell_type": "code",
     "collapsed": false,
     "input": [
      "# scatterplot\n",
      "plt.scatter(conceptdata_df.insp_dist_z_max.dropna(), conceptdata_df[conceptdata_df.insp_dist_count > 0].shortlist_jit, color='blue', alpha=.2)\n",
      "# add regression line\n",
      "m, b = np.polyfit(conceptdata_df.insp_dist_z_max.dropna(), conceptdata_df[conceptdata_df.insp_dist_count > 0].shortlist, 1)\n",
      "print \"intercept = %.3f, slope = %.3f\" %(b, m) \n",
      "yhat = np.polyval([m, b], conceptdata_df.insp_dist_z_max.dropna())\n",
      "plt.plot(conceptdata_df.insp_dist_z_max.dropna(), yhat, color='blue')\n",
      "remove_border() \n",
      "plt.ylim(-.5, 1.5)\n",
      "plt.xlabel('Max analogy distance (z)')\n",
      "plt.ylabel('Shortlist')"
     ],
     "language": "python",
     "metadata": {},
     "outputs": [
      {
       "output_type": "stream",
       "stream": "stdout",
       "text": [
        "intercept = 0.166, slope = -0.013\n"
       ]
      },
      {
       "metadata": {},
       "output_type": "pyout",
       "prompt_number": 22,
       "text": [
        "<matplotlib.text.Text at 0x106b6ad90>"
       ]
      },
      {
       "metadata": {},
       "output_type": "display_data",
       "png": "[encoded data removed]",
       "text": [
        "<matplotlib.figure.Figure at 0x106b53610>"
       ]
      }
     ],
     "prompt_number": 22
    },
    {
     "cell_type": "code",
     "collapsed": false,
     "input": [
      "conceptdata_df['challenge'] = [s.split('_')[0] for s in conceptdata_df['0_conceptname']]\n",
      "conceptdata_df.head()"
     ],
     "language": "python",
     "metadata": {},
     "outputs": [
      {
       "html": [
        "<div style=\"max-height:1000px;max-width:1500px;overflow:auto;\">\n",
        "<table border=\"1\" class=\"dataframe\">\n",
        "  <thead>\n",
        "    <tr style=\"text-align: right;\">\n",
        "      <th></th>\n",
        "      <th>0_conceptname</th>\n",
        "      <th>insp_dist_count</th>\n",
        "      <th>insp_dist_raw_max</th>\n",
        "      <th>insp_dist_raw_mean</th>\n",
        "      <th>insp_dist_z_max</th>\n",
        "      <th>insp_dist_z_mean</th>\n",
        "      <th>shortlist</th>\n",
        "      <th>shortlist_jit</th>\n",
        "      <th>challenge</th>\n",
        "    </tr>\n",
        "  </thead>\n",
        "  <tbody>\n",
        "    <tr>\n",
        "      <th>0</th>\n",
        "      <td> bone-marrow_C-003</td>\n",
        "      <td>  2</td>\n",
        "      <td>-0.043366</td>\n",
        "      <td>-0.046384</td>\n",
        "      <td>-0.078495</td>\n",
        "      <td>-0.181450</td>\n",
        "      <td> 1</td>\n",
        "      <td> 1.011269</td>\n",
        "      <td> bone-marrow</td>\n",
        "    </tr>\n",
        "    <tr>\n",
        "      <th>1</th>\n",
        "      <td> bone-marrow_C-008</td>\n",
        "      <td>  3</td>\n",
        "      <td>-0.008794</td>\n",
        "      <td>-0.043814</td>\n",
        "      <td> 1.100923</td>\n",
        "      <td>-0.093753</td>\n",
        "      <td> 0</td>\n",
        "      <td>-0.035535</td>\n",
        "      <td> bone-marrow</td>\n",
        "    </tr>\n",
        "    <tr>\n",
        "      <th>2</th>\n",
        "      <td> bone-marrow_C-010</td>\n",
        "      <td> 16</td>\n",
        "      <td>-0.001657</td>\n",
        "      <td>-0.034029</td>\n",
        "      <td> 1.344393</td>\n",
        "      <td> 0.240028</td>\n",
        "      <td> 0</td>\n",
        "      <td>-0.030862</td>\n",
        "      <td> bone-marrow</td>\n",
        "    </tr>\n",
        "    <tr>\n",
        "      <th>3</th>\n",
        "      <td> bone-marrow_C-015</td>\n",
        "      <td>  1</td>\n",
        "      <td>-0.032565</td>\n",
        "      <td>-0.032565</td>\n",
        "      <td> 0.290002</td>\n",
        "      <td> 0.290002</td>\n",
        "      <td> 0</td>\n",
        "      <td> 0.015422</td>\n",
        "      <td> bone-marrow</td>\n",
        "    </tr>\n",
        "    <tr>\n",
        "      <th>4</th>\n",
        "      <td> bone-marrow_C-016</td>\n",
        "      <td>  1</td>\n",
        "      <td>-0.003151</td>\n",
        "      <td>-0.003151</td>\n",
        "      <td> 1.293422</td>\n",
        "      <td> 1.293422</td>\n",
        "      <td> 0</td>\n",
        "      <td> 0.016193</td>\n",
        "      <td> bone-marrow</td>\n",
        "    </tr>\n",
        "  </tbody>\n",
        "</table>\n",
        "</div>"
       ],
       "metadata": {},
       "output_type": "pyout",
       "prompt_number": 23,
       "text": [
        "       0_conceptname  insp_dist_count  insp_dist_raw_max  insp_dist_raw_mean  insp_dist_z_max  insp_dist_z_mean  shortlist  shortlist_jit    challenge\n",
        "0  bone-marrow_C-003                2          -0.043366           -0.046384        -0.078495         -0.181450          1       1.011269  bone-marrow\n",
        "1  bone-marrow_C-008                3          -0.008794           -0.043814         1.100923         -0.093753          0      -0.035535  bone-marrow\n",
        "2  bone-marrow_C-010               16          -0.001657           -0.034029         1.344393          0.240028          0      -0.030862  bone-marrow\n",
        "3  bone-marrow_C-015                1          -0.032565           -0.032565         0.290002          0.290002          0       0.015422  bone-marrow\n",
        "4  bone-marrow_C-016                1          -0.003151           -0.003151         1.293422          1.293422          0       0.016193  bone-marrow"
       ]
      }
     ],
     "prompt_number": 23
    },
    {
     "cell_type": "code",
     "collapsed": false,
     "input": [
      "challenges = set()\n",
      "challenges.update(conceptdata_df.challenge)\n",
      "challenges = sorted(challenges)\n",
      "challenges"
     ],
     "language": "python",
     "metadata": {},
     "outputs": [
      {
       "metadata": {},
       "output_type": "pyout",
       "prompt_number": 24,
       "text": [
        "['bone-marrow',\n",
        " 'community-initiative',\n",
        " 'e-waste',\n",
        " 'food-production-consumption',\n",
        " 'human-rights',\n",
        " 'identify-celebrate',\n",
        " 'social-business',\n",
        " 'social-impact',\n",
        " 'vibrant-cities',\n",
        " 'voting',\n",
        " 'web-entrepreneurs',\n",
        " 'youth-employment']"
       ]
      }
     ],
     "prompt_number": 24
    },
    {
     "cell_type": "code",
     "collapsed": false,
     "input": [
      "fig, axes = plt.subplots(nrows=3, ncols=4, figsize=(12,8), tight_layout=True)\n",
      "\n",
      "for ax, challenge in zip(axes.ravel(), challenges):\n",
      "    ax.scatter(conceptdata_df[conceptdata_df.challenge == challenge].insp_dist_z_max.dropna(), \n",
      "               conceptdata_df[(conceptdata_df.challenge == challenge) & (conceptdata_df.insp_dist_count > 0)].shortlist_jit, \n",
      "               color='blue',alpha=.2)\n",
      "    \n",
      "    # add regression lines\n",
      "    x = conceptdata_df[conceptdata_df.challenge == challenge].insp_dist_z_max.dropna()\n",
      "    y = conceptdata_df[(conceptdata_df.challenge == challenge) & (conceptdata_df.insp_dist_count > 0)].shortlist\n",
      "    m1, b1 = np.polyfit(x, y, 1)\n",
      "    shortlistp1 = np.polyval([m1, b1], x)\n",
      "    ax.plot(x, shortlistp1, color='blue')\n",
      "    \n",
      "    ax.annotate(challenge, xy=(-.1, 1.6), ha='center', fontsize=10)\n",
      "    ax.set_xticks(np.arange(-5, 2, 1))\n",
      "    ax.set_yticks([])\n",
      "    remove_border(ax)\n",
      "    ax.set_ylim(-.5, 2)\n",
      "    ax.set_xlabel('max analogy distance (z)')"
     ],
     "language": "python",
     "metadata": {},
     "outputs": [
      {
       "metadata": {},
       "output_type": "display_data",
       "png": "[encoded data removed]",
       "text": [
        "<matplotlib.figure.Figure at 0x10636cb90>"
       ]
      }
     ],
     "prompt_number": 26
    },
    {
     "cell_type": "code",
     "collapsed": false,
     "input": [],
     "language": "python",
     "metadata": {},
     "outputs": []
    }
   ],
   "metadata": {}
  }
 ]
}